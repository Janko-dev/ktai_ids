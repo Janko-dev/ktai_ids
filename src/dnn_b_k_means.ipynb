{
 "cells": [
  {
   "attachments": {},
   "cell_type": "markdown",
   "metadata": {},
   "source": [
    "## Deep Neural Network model with OHE-PCA\n",
    "*Summary:* In this notebook, we use a DNN model using PCA analysis. We use one-hot encoding for the categorical variables and reduce the dimensionality from a total of 196 features to 18 features, that retain the explanation of 95% of the variance."
   ]
  },
  {
   "cell_type": "code",
   "execution_count": 2,
   "metadata": {},
   "outputs": [],
   "source": [
    "import numpy as np\n",
    "import pandas as pd\n",
    "import matplotlib.pyplot as plt\n",
    "\n",
    "train = pd.read_csv(\"../dataset/UNSW_NB15_training-set.csv\")\n",
    "test = pd.read_csv(\"../dataset/UNSW_NB15_testing-set.csv\")"
   ]
  },
  {
   "cell_type": "code",
   "execution_count": 3,
   "metadata": {},
   "outputs": [
    {
     "name": "stdout",
     "output_type": "stream",
     "text": [
      "Numerical features: 39\n",
      "Categorical features: 3\n"
     ]
    }
   ],
   "source": [
    "df = pd.concat([train, test]).reset_index(drop=True)\n",
    "labels = df['label']\n",
    "df = df.drop(columns=['id', 'attack_cat', 'label'], axis=1)\n",
    "\n",
    "# get numeric column names without label column\n",
    "num_cols = df._get_numeric_data().columns\n",
    "\n",
    "# subract numeric columns from all columns to get categorical columns \n",
    "cat_cols = list(set(df.columns) - set(num_cols))\n",
    "\n",
    "print(f\"Numerical features: {len(num_cols)}\\nCategorical features: {len(cat_cols)}\")"
   ]
  },
  {
   "cell_type": "code",
   "execution_count": 5,
   "metadata": {},
   "outputs": [
    {
     "data": {
      "text/html": [
       "<div>\n",
       "<style scoped>\n",
       "    .dataframe tbody tr th:only-of-type {\n",
       "        vertical-align: middle;\n",
       "    }\n",
       "\n",
       "    .dataframe tbody tr th {\n",
       "        vertical-align: top;\n",
       "    }\n",
       "\n",
       "    .dataframe thead th {\n",
       "        text-align: right;\n",
       "    }\n",
       "</style>\n",
       "<table border=\"1\" class=\"dataframe\">\n",
       "  <thead>\n",
       "    <tr style=\"text-align: right;\">\n",
       "      <th></th>\n",
       "      <th>service</th>\n",
       "      <th>proto</th>\n",
       "      <th>state</th>\n",
       "    </tr>\n",
       "  </thead>\n",
       "  <tbody>\n",
       "    <tr>\n",
       "      <th>0</th>\n",
       "      <td>0</td>\n",
       "      <td>119</td>\n",
       "      <td>5</td>\n",
       "    </tr>\n",
       "    <tr>\n",
       "      <th>1</th>\n",
       "      <td>0</td>\n",
       "      <td>119</td>\n",
       "      <td>5</td>\n",
       "    </tr>\n",
       "    <tr>\n",
       "      <th>2</th>\n",
       "      <td>0</td>\n",
       "      <td>119</td>\n",
       "      <td>5</td>\n",
       "    </tr>\n",
       "    <tr>\n",
       "      <th>3</th>\n",
       "      <td>0</td>\n",
       "      <td>119</td>\n",
       "      <td>5</td>\n",
       "    </tr>\n",
       "    <tr>\n",
       "      <th>4</th>\n",
       "      <td>0</td>\n",
       "      <td>119</td>\n",
       "      <td>5</td>\n",
       "    </tr>\n",
       "    <tr>\n",
       "      <th>...</th>\n",
       "      <td>...</td>\n",
       "      <td>...</td>\n",
       "      <td>...</td>\n",
       "    </tr>\n",
       "    <tr>\n",
       "      <th>257668</th>\n",
       "      <td>2</td>\n",
       "      <td>119</td>\n",
       "      <td>5</td>\n",
       "    </tr>\n",
       "    <tr>\n",
       "      <th>257669</th>\n",
       "      <td>0</td>\n",
       "      <td>113</td>\n",
       "      <td>4</td>\n",
       "    </tr>\n",
       "    <tr>\n",
       "      <th>257670</th>\n",
       "      <td>2</td>\n",
       "      <td>119</td>\n",
       "      <td>5</td>\n",
       "    </tr>\n",
       "    <tr>\n",
       "      <th>257671</th>\n",
       "      <td>2</td>\n",
       "      <td>119</td>\n",
       "      <td>5</td>\n",
       "    </tr>\n",
       "    <tr>\n",
       "      <th>257672</th>\n",
       "      <td>2</td>\n",
       "      <td>119</td>\n",
       "      <td>5</td>\n",
       "    </tr>\n",
       "  </tbody>\n",
       "</table>\n",
       "<p>257673 rows × 3 columns</p>\n",
       "</div>"
      ],
      "text/plain": [
       "        service  proto  state\n",
       "0             0    119      5\n",
       "1             0    119      5\n",
       "2             0    119      5\n",
       "3             0    119      5\n",
       "4             0    119      5\n",
       "...         ...    ...    ...\n",
       "257668        2    119      5\n",
       "257669        0    113      4\n",
       "257670        2    119      5\n",
       "257671        2    119      5\n",
       "257672        2    119      5\n",
       "\n",
       "[257673 rows x 3 columns]"
      ]
     },
     "execution_count": 5,
     "metadata": {},
     "output_type": "execute_result"
    }
   ],
   "source": [
    "# label encoding for categorical features\n",
    "df[cat_cols] = df[cat_cols].astype('category')\n",
    "for cat in cat_cols:\n",
    "    df[cat] = df[cat].cat.codes\n",
    "\n",
    "df[cat_cols]"
   ]
  },
  {
   "cell_type": "code",
   "execution_count": 6,
   "metadata": {},
   "outputs": [
    {
     "data": {
      "text/plain": [
       "((257673, 42), (257673,))"
      ]
     },
     "execution_count": 6,
     "metadata": {},
     "output_type": "execute_result"
    }
   ],
   "source": [
    "from sklearn.preprocessing import MinMaxScaler\n",
    "\n",
    "# standard scale numerical features\n",
    "scl = MinMaxScaler()\n",
    "df = pd.DataFrame(scl.fit_transform(df), columns=df.columns)\n",
    "\n",
    "(df.shape, labels.shape)"
   ]
  },
  {
   "cell_type": "code",
   "execution_count": 7,
   "metadata": {},
   "outputs": [],
   "source": [
    "from sklearn.cluster import KMeans\n",
    "from sklearn import metrics\n",
    "\n",
    "X_df = df\n",
    "true_labels = labels.tolist()\n",
    "\n",
    "n = len(X_df.columns)\n",
    "HS = []\n",
    "\n",
    "for i in range(n):\n",
    "    c = KMeans(init='k-means++', n_init=2, n_clusters=2, random_state=42).fit_predict(X=X_df.iloc[:, i].to_frame())\n",
    "    HS.append((i, metrics.homogeneity_score(true_labels, c)))"
   ]
  },
  {
   "cell_type": "code",
   "execution_count": 8,
   "metadata": {},
   "outputs": [
    {
     "data": {
      "text/plain": [
       "[(9, 0.27081339129609183),\n",
       " (3, 0.20315394153774333),\n",
       " (31, 0.18077481690144054),\n",
       " (34, 0.12724618944869617),\n",
       " (19, 0.10433352549445511),\n",
       " (33, 0.10007383802996503),\n",
       " (22, 0.08953863263442809),\n",
       " (35, 0.08731017485893738),\n",
       " (32, 0.08555843047147933),\n",
       " (39, 0.08490454778243431),\n",
       " (40, 0.07631074051369509),\n",
       " (30, 0.07474917810770333),\n",
       " (12, 0.06553483721251299),\n",
       " (27, 0.05640037096181579),\n",
       " (8, 0.04943473480220102),\n",
       " (20, 0.042004327041065034),\n",
       " (21, 0.040182050970366825),\n",
       " (2, 0.033855079536718534),\n",
       " (41, 0.022524926003373393),\n",
       " (15, 0.019114131401228085),\n",
       " (10, 0.00624719012932368),\n",
       " (25, 0.0032625411332699193),\n",
       " (26, 0.001522207932326416),\n",
       " (0, 0.0010836545686128583),\n",
       " (1, 0.0009351417827060433),\n",
       " (38, 0.0007340868718277337),\n",
       " (16, 0.0005555648151862274),\n",
       " (11, 0.0003505320386845993),\n",
       " (4, 0.0003056499986170159),\n",
       " (6, 0.0003056499986170159),\n",
       " (13, 0.0003056499986170159),\n",
       " (18, 0.0002565152456023987),\n",
       " (5, 0.0001700796286120169),\n",
       " (7, 0.0001700796286120169),\n",
       " (14, 0.0001700796286120169),\n",
       " (17, 0.00013085353498227975),\n",
       " (24, 0.000114138776599874),\n",
       " (37, 8.42573450268739e-05),\n",
       " (36, 8.28495507191151e-05),\n",
       " (29, 3.4543111608936405e-05),\n",
       " (28, 1.3285552001286869e-05),\n",
       " (23, 1.0564718360703647e-07)]"
      ]
     },
     "execution_count": 8,
     "metadata": {},
     "output_type": "execute_result"
    }
   ],
   "source": [
    "HS.sort(key=lambda x: x[1], reverse=True)\n",
    "HS"
   ]
  },
  {
   "cell_type": "code",
   "execution_count": 9,
   "metadata": {},
   "outputs": [
    {
     "data": {
      "text/html": [
       "<div>\n",
       "<style scoped>\n",
       "    .dataframe tbody tr th:only-of-type {\n",
       "        vertical-align: middle;\n",
       "    }\n",
       "\n",
       "    .dataframe tbody tr th {\n",
       "        vertical-align: top;\n",
       "    }\n",
       "\n",
       "    .dataframe thead th {\n",
       "        text-align: right;\n",
       "    }\n",
       "</style>\n",
       "<table border=\"1\" class=\"dataframe\">\n",
       "  <thead>\n",
       "    <tr style=\"text-align: right;\">\n",
       "      <th></th>\n",
       "      <th>sttl</th>\n",
       "      <th>state</th>\n",
       "      <th>ct_state_ttl</th>\n",
       "      <th>ct_dst_sport_ltm</th>\n",
       "      <th>swin</th>\n",
       "      <th>ct_src_dport_ltm</th>\n",
       "    </tr>\n",
       "  </thead>\n",
       "  <tbody>\n",
       "    <tr>\n",
       "      <th>0</th>\n",
       "      <td>0.996078</td>\n",
       "      <td>0.5</td>\n",
       "      <td>0.333333</td>\n",
       "      <td>0.000000</td>\n",
       "      <td>0.0</td>\n",
       "      <td>0.000000</td>\n",
       "    </tr>\n",
       "    <tr>\n",
       "      <th>1</th>\n",
       "      <td>0.996078</td>\n",
       "      <td>0.5</td>\n",
       "      <td>0.333333</td>\n",
       "      <td>0.000000</td>\n",
       "      <td>0.0</td>\n",
       "      <td>0.000000</td>\n",
       "    </tr>\n",
       "    <tr>\n",
       "      <th>2</th>\n",
       "      <td>0.996078</td>\n",
       "      <td>0.5</td>\n",
       "      <td>0.333333</td>\n",
       "      <td>0.000000</td>\n",
       "      <td>0.0</td>\n",
       "      <td>0.000000</td>\n",
       "    </tr>\n",
       "    <tr>\n",
       "      <th>3</th>\n",
       "      <td>0.996078</td>\n",
       "      <td>0.5</td>\n",
       "      <td>0.333333</td>\n",
       "      <td>0.000000</td>\n",
       "      <td>0.0</td>\n",
       "      <td>0.017241</td>\n",
       "    </tr>\n",
       "    <tr>\n",
       "      <th>4</th>\n",
       "      <td>0.996078</td>\n",
       "      <td>0.5</td>\n",
       "      <td>0.333333</td>\n",
       "      <td>0.000000</td>\n",
       "      <td>0.0</td>\n",
       "      <td>0.017241</td>\n",
       "    </tr>\n",
       "    <tr>\n",
       "      <th>...</th>\n",
       "      <td>...</td>\n",
       "      <td>...</td>\n",
       "      <td>...</td>\n",
       "      <td>...</td>\n",
       "      <td>...</td>\n",
       "      <td>...</td>\n",
       "    </tr>\n",
       "    <tr>\n",
       "      <th>257668</th>\n",
       "      <td>0.996078</td>\n",
       "      <td>0.5</td>\n",
       "      <td>0.333333</td>\n",
       "      <td>0.266667</td>\n",
       "      <td>0.0</td>\n",
       "      <td>0.396552</td>\n",
       "    </tr>\n",
       "    <tr>\n",
       "      <th>257669</th>\n",
       "      <td>0.996078</td>\n",
       "      <td>0.4</td>\n",
       "      <td>0.166667</td>\n",
       "      <td>0.000000</td>\n",
       "      <td>1.0</td>\n",
       "      <td>0.000000</td>\n",
       "    </tr>\n",
       "    <tr>\n",
       "      <th>257670</th>\n",
       "      <td>0.996078</td>\n",
       "      <td>0.5</td>\n",
       "      <td>0.333333</td>\n",
       "      <td>0.044444</td>\n",
       "      <td>0.0</td>\n",
       "      <td>0.034483</td>\n",
       "    </tr>\n",
       "    <tr>\n",
       "      <th>257671</th>\n",
       "      <td>0.996078</td>\n",
       "      <td>0.5</td>\n",
       "      <td>0.333333</td>\n",
       "      <td>0.288889</td>\n",
       "      <td>0.0</td>\n",
       "      <td>0.500000</td>\n",
       "    </tr>\n",
       "    <tr>\n",
       "      <th>257672</th>\n",
       "      <td>0.996078</td>\n",
       "      <td>0.5</td>\n",
       "      <td>0.333333</td>\n",
       "      <td>0.333333</td>\n",
       "      <td>0.0</td>\n",
       "      <td>0.500000</td>\n",
       "    </tr>\n",
       "  </tbody>\n",
       "</table>\n",
       "<p>257673 rows × 6 columns</p>\n",
       "</div>"
      ],
      "text/plain": [
       "            sttl  state  ct_state_ttl  ct_dst_sport_ltm  swin  \\\n",
       "0       0.996078    0.5      0.333333          0.000000   0.0   \n",
       "1       0.996078    0.5      0.333333          0.000000   0.0   \n",
       "2       0.996078    0.5      0.333333          0.000000   0.0   \n",
       "3       0.996078    0.5      0.333333          0.000000   0.0   \n",
       "4       0.996078    0.5      0.333333          0.000000   0.0   \n",
       "...          ...    ...           ...               ...   ...   \n",
       "257668  0.996078    0.5      0.333333          0.266667   0.0   \n",
       "257669  0.996078    0.4      0.166667          0.000000   1.0   \n",
       "257670  0.996078    0.5      0.333333          0.044444   0.0   \n",
       "257671  0.996078    0.5      0.333333          0.288889   0.0   \n",
       "257672  0.996078    0.5      0.333333          0.333333   0.0   \n",
       "\n",
       "        ct_src_dport_ltm  \n",
       "0               0.000000  \n",
       "1               0.000000  \n",
       "2               0.000000  \n",
       "3               0.017241  \n",
       "4               0.017241  \n",
       "...                  ...  \n",
       "257668          0.396552  \n",
       "257669          0.000000  \n",
       "257670          0.034483  \n",
       "257671          0.500000  \n",
       "257672          0.500000  \n",
       "\n",
       "[257673 rows x 6 columns]"
      ]
     },
     "execution_count": 9,
     "metadata": {},
     "output_type": "execute_result"
    }
   ],
   "source": [
    "# filter by selecting all features with a HS-score of > 0.1, then map to get feature index\n",
    "feature_indices = list(map(lambda x: x[0], filter(lambda x: x[1] > 0.1, HS)))\n",
    "\n",
    "# select only the selected features by index\n",
    "df = df.iloc[:, feature_indices]\n",
    "df"
   ]
  },
  {
   "cell_type": "code",
   "execution_count": 10,
   "metadata": {},
   "outputs": [
    {
     "data": {
      "text/plain": [
       "((162640, 6), (85033, 6), (10000, 6), (162640,), (85033,), (10000,))"
      ]
     },
     "execution_count": 10,
     "metadata": {},
     "output_type": "execute_result"
    }
   ],
   "source": [
    "from sklearn.model_selection import train_test_split\n",
    "\n",
    "y = labels\n",
    "X = df\n",
    "\n",
    "X_train, X_test, y_train, y_test = train_test_split(X, y, test_size=.33, random_state=42)\n",
    "\n",
    "X_val = X_train.iloc[-10000:]\n",
    "y_val = y_train.iloc[-10000:]\n",
    "\n",
    "X_train = X_train.iloc[:-10000]\n",
    "y_train = y_train.iloc[:-10000]\n",
    "\n",
    "(X_train.shape, X_test.shape, X_val.shape, y_train.shape, y_test.shape, y_val.shape)"
   ]
  },
  {
   "attachments": {},
   "cell_type": "markdown",
   "metadata": {},
   "source": [
    "### Tensorflow model"
   ]
  },
  {
   "cell_type": "code",
   "execution_count": 11,
   "metadata": {},
   "outputs": [
    {
     "name": "stdout",
     "output_type": "stream",
     "text": [
      "Requirement already satisfied: livelossplot in c:\\users\\janba\\anaconda3\\envs\\ktai\\lib\\site-packages (0.5.5)\n",
      "Requirement already satisfied: matplotlib in c:\\users\\janba\\anaconda3\\envs\\ktai\\lib\\site-packages (from livelossplot) (3.6.2)\n",
      "Requirement already satisfied: bokeh in c:\\users\\janba\\anaconda3\\envs\\ktai\\lib\\site-packages (from livelossplot) (2.4.3)\n",
      "Requirement already satisfied: typing-extensions>=3.10.0 in c:\\users\\janba\\anaconda3\\envs\\ktai\\lib\\site-packages (from bokeh->livelossplot) (4.4.0)\n",
      "Requirement already satisfied: pillow>=7.1.0 in c:\\users\\janba\\anaconda3\\envs\\ktai\\lib\\site-packages (from bokeh->livelossplot) (9.3.0)\n",
      "Requirement already satisfied: Jinja2>=2.9 in c:\\users\\janba\\anaconda3\\envs\\ktai\\lib\\site-packages (from bokeh->livelossplot) (3.1.2)\n",
      "Requirement already satisfied: PyYAML>=3.10 in c:\\users\\janba\\anaconda3\\envs\\ktai\\lib\\site-packages (from bokeh->livelossplot) (6.0)\n",
      "Requirement already satisfied: numpy>=1.11.3 in c:\\users\\janba\\anaconda3\\envs\\ktai\\lib\\site-packages (from bokeh->livelossplot) (1.23.5)\n",
      "Requirement already satisfied: tornado>=5.1 in c:\\users\\janba\\anaconda3\\envs\\ktai\\lib\\site-packages (from bokeh->livelossplot) (6.2)\n",
      "Requirement already satisfied: packaging>=16.8 in c:\\users\\janba\\anaconda3\\envs\\ktai\\lib\\site-packages (from bokeh->livelossplot) (22.0)\n",
      "Requirement already satisfied: contourpy>=1.0.1 in c:\\users\\janba\\anaconda3\\envs\\ktai\\lib\\site-packages (from matplotlib->livelossplot) (1.0.5)\n",
      "Requirement already satisfied: kiwisolver>=1.0.1 in c:\\users\\janba\\anaconda3\\envs\\ktai\\lib\\site-packages (from matplotlib->livelossplot) (1.4.4)\n",
      "Requirement already satisfied: fonttools>=4.22.0 in c:\\users\\janba\\anaconda3\\envs\\ktai\\lib\\site-packages (from matplotlib->livelossplot) (4.25.0)\n",
      "Requirement already satisfied: pyparsing>=2.2.1 in c:\\users\\janba\\anaconda3\\envs\\ktai\\lib\\site-packages (from matplotlib->livelossplot) (3.0.9)\n",
      "Requirement already satisfied: cycler>=0.10 in c:\\users\\janba\\anaconda3\\envs\\ktai\\lib\\site-packages (from matplotlib->livelossplot) (0.11.0)\n",
      "Requirement already satisfied: python-dateutil>=2.7 in c:\\users\\janba\\anaconda3\\envs\\ktai\\lib\\site-packages (from matplotlib->livelossplot) (2.8.2)\n",
      "Requirement already satisfied: MarkupSafe>=2.0 in c:\\users\\janba\\anaconda3\\envs\\ktai\\lib\\site-packages (from Jinja2>=2.9->bokeh->livelossplot) (2.1.1)\n",
      "Requirement already satisfied: six>=1.5 in c:\\users\\janba\\anaconda3\\envs\\ktai\\lib\\site-packages (from python-dateutil>=2.7->matplotlib->livelossplot) (1.16.0)\n"
     ]
    }
   ],
   "source": [
    "import tensorflow as tf\n",
    "from tensorflow import keras\n",
    "from tensorflow.keras import layers\n",
    "from keras.callbacks import EarlyStopping\n",
    "import matplotlib.pyplot as plt\n",
    "plt.style.use('ggplot')\n",
    "!pip install livelossplot\n",
    "from livelossplot import PlotLossesKeras"
   ]
  },
  {
   "cell_type": "code",
   "execution_count": 7,
   "metadata": {},
   "outputs": [
    {
     "name": "stdout",
     "output_type": "stream",
     "text": [
      "Model: \"sequential\"\n",
      "_________________________________________________________________\n",
      " Layer (type)                Output Shape              Param #   \n",
      "=================================================================\n",
      " dense (Dense)               (None, 256)               4864      \n",
      "                                                                 \n",
      " dense_1 (Dense)             (None, 128)               32896     \n",
      "                                                                 \n",
      " dense_2 (Dense)             (None, 128)               16512     \n",
      "                                                                 \n",
      " dense_3 (Dense)             (None, 128)               16512     \n",
      "                                                                 \n",
      " dense_4 (Dense)             (None, 128)               16512     \n",
      "                                                                 \n",
      " dense_5 (Dense)             (None, 1)                 129       \n",
      "                                                                 \n",
      "=================================================================\n",
      "Total params: 87,425\n",
      "Trainable params: 87,425\n",
      "Non-trainable params: 0\n",
      "_________________________________________________________________\n"
     ]
    }
   ],
   "source": [
    "model = keras.Sequential(\n",
    "    [\n",
    "        layers.Dense(256, activation='relu', input_dim=X_train.shape[1]),\n",
    "        layers.Dense(128, activation='relu', use_bias=True),\n",
    "        layers.Dense(128, activation='relu', use_bias=True),\n",
    "        layers.Dense(128, activation='relu', use_bias=True),\n",
    "        layers.Dense(128, activation='relu', use_bias=True),\n",
    "        layers.Dense(1, activation='sigmoid', use_bias=True)\n",
    "    ]\n",
    ")\n",
    "model.summary()"
   ]
  },
  {
   "cell_type": "code",
   "execution_count": 8,
   "metadata": {},
   "outputs": [],
   "source": [
    "model.compile('adam', loss='binary_crossentropy', metrics='accuracy')\n",
    "\n",
    "monitor_val_acc = EarlyStopping(monitor='loss', patience=10)\n",
    "callbacks=[PlotLossesKeras()]"
   ]
  },
  {
   "cell_type": "code",
   "execution_count": 10,
   "metadata": {},
   "outputs": [
    {
     "data": {
      "image/png": "[encoded data removed]",
      "text/plain": [
       "<Figure size 1200x800 with 2 Axes>"
      ]
     },
     "metadata": {},
     "output_type": "display_data"
    },
    {
     "name": "stdout",
     "output_type": "stream",
     "text": [
      "accuracy\n",
      "\taccuracy         \t (min:    0.899, max:    0.943, cur:    0.943)\n",
      "Loss\n",
      "\tloss             \t (min:    0.113, max:    0.185, cur:    0.113)\n"
     ]
    },
    {
     "data": {
      "text/plain": [
       "<keras.callbacks.History at 0x1f80ace0f70>"
      ]
     },
     "execution_count": 10,
     "metadata": {},
     "output_type": "execute_result"
    }
   ],
   "source": [
    "model.fit(X_train, y_train, epochs=1000, batch_size=128, callbacks=[PlotLossesKeras(), monitor_val_acc], shuffle=1000, verbose=0)"
   ]
  },
  {
   "cell_type": "code",
   "execution_count": 11,
   "metadata": {},
   "outputs": [
    {
     "name": "stdout",
     "output_type": "stream",
     "text": [
      "2658/2658 [==============================] - 3s 1ms/step - loss: 0.1694 - accuracy: 0.9078\n"
     ]
    },
    {
     "data": {
      "text/plain": [
       "[0.1694270521402359, 0.9077887535095215]"
      ]
     },
     "execution_count": 11,
     "metadata": {},
     "output_type": "execute_result"
    }
   ],
   "source": [
    "model.evaluate(X_test, y_test)"
   ]
  },
  {
   "cell_type": "code",
   "execution_count": 12,
   "metadata": {},
   "outputs": [
    {
     "name": "stdout",
     "output_type": "stream",
     "text": [
      "Model: \"sequential\"\n",
      "_________________________________________________________________\n",
      " Layer (type)                Output Shape              Param #   \n",
      "=================================================================\n",
      " dense (Dense)               (None, 256)               1792      \n",
      "                                                                 \n",
      " dense_1 (Dense)             (None, 128)               32896     \n",
      "                                                                 \n",
      " dense_2 (Dense)             (None, 128)               16512     \n",
      "                                                                 \n",
      " dense_3 (Dense)             (None, 128)               16512     \n",
      "                                                                 \n",
      " dense_4 (Dense)             (None, 128)               16512     \n",
      "                                                                 \n",
      " dense_5 (Dense)             (None, 1)                 129       \n",
      "                                                                 \n",
      "=================================================================\n",
      "Total params: 84,353\n",
      "Trainable params: 84,353\n",
      "Non-trainable params: 0\n",
      "_________________________________________________________________\n",
      "Epoch 1/50\n",
      "163/163 - 2s - loss: 0.3148 - accuracy: 0.8543 - val_loss: 0.2446 - val_accuracy: 0.8873 - 2s/epoch - 15ms/step\n",
      "Epoch 2/50\n",
      "163/163 - 2s - loss: 0.2333 - accuracy: 0.8938 - val_loss: 0.2398 - val_accuracy: 0.8881 - 2s/epoch - 13ms/step\n",
      "Epoch 3/50\n",
      "163/163 - 2s - loss: 0.2309 - accuracy: 0.8941 - val_loss: 0.2367 - val_accuracy: 0.8897 - 2s/epoch - 14ms/step\n",
      "Epoch 4/50\n",
      "163/163 - 2s - loss: 0.2291 - accuracy: 0.8944 - val_loss: 0.2389 - val_accuracy: 0.8891 - 2s/epoch - 14ms/step\n",
      "Epoch 5/50\n",
      "163/163 - 2s - loss: 0.2259 - accuracy: 0.8951 - val_loss: 0.2349 - val_accuracy: 0.8884 - 2s/epoch - 13ms/step\n",
      "Epoch 6/50\n",
      "163/163 - 2s - loss: 0.2249 - accuracy: 0.8956 - val_loss: 0.2351 - val_accuracy: 0.8914 - 2s/epoch - 14ms/step\n",
      "Epoch 7/50\n",
      "163/163 - 2s - loss: 0.2244 - accuracy: 0.8957 - val_loss: 0.2356 - val_accuracy: 0.8884 - 2s/epoch - 15ms/step\n",
      "Epoch 8/50\n",
      "163/163 - 2s - loss: 0.2232 - accuracy: 0.8960 - val_loss: 0.2304 - val_accuracy: 0.8916 - 2s/epoch - 11ms/step\n",
      "Epoch 9/50\n",
      "163/163 - 2s - loss: 0.2234 - accuracy: 0.8959 - val_loss: 0.2305 - val_accuracy: 0.8918 - 2s/epoch - 11ms/step\n",
      "Epoch 10/50\n",
      "163/163 - 2s - loss: 0.2228 - accuracy: 0.8962 - val_loss: 0.2294 - val_accuracy: 0.8921 - 2s/epoch - 12ms/step\n",
      "Epoch 11/50\n",
      "163/163 - 2s - loss: 0.2233 - accuracy: 0.8960 - val_loss: 0.2304 - val_accuracy: 0.8914 - 2s/epoch - 15ms/step\n",
      "Epoch 12/50\n",
      "163/163 - 2s - loss: 0.2222 - accuracy: 0.8965 - val_loss: 0.2308 - val_accuracy: 0.8917 - 2s/epoch - 11ms/step\n",
      "Epoch 13/50\n",
      "163/163 - 2s - loss: 0.2219 - accuracy: 0.8968 - val_loss: 0.2312 - val_accuracy: 0.8923 - 2s/epoch - 13ms/step\n",
      "Epoch 14/50\n",
      "163/163 - 2s - loss: 0.2220 - accuracy: 0.8963 - val_loss: 0.2291 - val_accuracy: 0.8920 - 2s/epoch - 13ms/step\n",
      "Epoch 15/50\n",
      "163/163 - 2s - loss: 0.2213 - accuracy: 0.8963 - val_loss: 0.2286 - val_accuracy: 0.8925 - 2s/epoch - 12ms/step\n",
      "Epoch 16/50\n",
      "163/163 - 2s - loss: 0.2219 - accuracy: 0.8966 - val_loss: 0.2331 - val_accuracy: 0.8912 - 2s/epoch - 11ms/step\n",
      "Epoch 17/50\n",
      "163/163 - 2s - loss: 0.2212 - accuracy: 0.8966 - val_loss: 0.2284 - val_accuracy: 0.8925 - 2s/epoch - 13ms/step\n",
      "Epoch 18/50\n",
      "163/163 - 2s - loss: 0.2211 - accuracy: 0.8966 - val_loss: 0.2282 - val_accuracy: 0.8921 - 2s/epoch - 13ms/step\n",
      "Epoch 19/50\n",
      "163/163 - 2s - loss: 0.2209 - accuracy: 0.8967 - val_loss: 0.2288 - val_accuracy: 0.8926 - 2s/epoch - 10ms/step\n",
      "Epoch 20/50\n",
      "163/163 - 2s - loss: 0.2209 - accuracy: 0.8967 - val_loss: 0.2288 - val_accuracy: 0.8919 - 2s/epoch - 11ms/step\n",
      "Epoch 21/50\n",
      "163/163 - 2s - loss: 0.2208 - accuracy: 0.8968 - val_loss: 0.2288 - val_accuracy: 0.8919 - 2s/epoch - 12ms/step\n",
      "Epoch 22/50\n",
      "163/163 - 2s - loss: 0.2208 - accuracy: 0.8966 - val_loss: 0.2274 - val_accuracy: 0.8921 - 2s/epoch - 15ms/step\n",
      "Epoch 23/50\n",
      "163/163 - 2s - loss: 0.2206 - accuracy: 0.8967 - val_loss: 0.2280 - val_accuracy: 0.8926 - 2s/epoch - 14ms/step\n",
      "Epoch 24/50\n",
      "163/163 - 4s - loss: 0.2207 - accuracy: 0.8969 - val_loss: 0.2281 - val_accuracy: 0.8921 - 4s/epoch - 25ms/step\n",
      "Epoch 25/50\n",
      "163/163 - 3s - loss: 0.2206 - accuracy: 0.8966 - val_loss: 0.2289 - val_accuracy: 0.8924 - 3s/epoch - 17ms/step\n",
      "Epoch 26/50\n",
      "163/163 - 2s - loss: 0.2208 - accuracy: 0.8967 - val_loss: 0.2277 - val_accuracy: 0.8919 - 2s/epoch - 13ms/step\n",
      "Epoch 27/50\n",
      "163/163 - 2s - loss: 0.2207 - accuracy: 0.8969 - val_loss: 0.2277 - val_accuracy: 0.8926 - 2s/epoch - 13ms/step\n",
      "Epoch 28/50\n",
      "163/163 - 2s - loss: 0.2204 - accuracy: 0.8970 - val_loss: 0.2275 - val_accuracy: 0.8927 - 2s/epoch - 14ms/step\n",
      "Epoch 29/50\n",
      "163/163 - 2s - loss: 0.2233 - accuracy: 0.8959 - val_loss: 0.2286 - val_accuracy: 0.8926 - 2s/epoch - 14ms/step\n",
      "Epoch 30/50\n",
      "163/163 - 2s - loss: 0.2205 - accuracy: 0.8969 - val_loss: 0.2275 - val_accuracy: 0.8924 - 2s/epoch - 13ms/step\n",
      "Epoch 31/50\n",
      "163/163 - 3s - loss: 0.2202 - accuracy: 0.8968 - val_loss: 0.2283 - val_accuracy: 0.8925 - 3s/epoch - 16ms/step\n",
      "Epoch 32/50\n",
      "163/163 - 2s - loss: 0.2203 - accuracy: 0.8970 - val_loss: 0.2284 - val_accuracy: 0.8927 - 2s/epoch - 11ms/step\n",
      "Epoch 33/50\n",
      "163/163 - 2s - loss: 0.2205 - accuracy: 0.8966 - val_loss: 0.2282 - val_accuracy: 0.8927 - 2s/epoch - 14ms/step\n",
      "Epoch 34/50\n",
      "163/163 - 2s - loss: 0.2205 - accuracy: 0.8969 - val_loss: 0.2294 - val_accuracy: 0.8925 - 2s/epoch - 13ms/step\n",
      "Epoch 35/50\n",
      "163/163 - 2s - loss: 0.2206 - accuracy: 0.8968 - val_loss: 0.2289 - val_accuracy: 0.8921 - 2s/epoch - 13ms/step\n",
      "Epoch 36/50\n",
      "163/163 - 2s - loss: 0.2204 - accuracy: 0.8968 - val_loss: 0.2276 - val_accuracy: 0.8927 - 2s/epoch - 13ms/step\n",
      "Epoch 37/50\n",
      "163/163 - 2s - loss: 0.2201 - accuracy: 0.8971 - val_loss: 0.2272 - val_accuracy: 0.8924 - 2s/epoch - 12ms/step\n",
      "Epoch 38/50\n",
      "163/163 - 2s - loss: 0.2202 - accuracy: 0.8972 - val_loss: 0.2272 - val_accuracy: 0.8927 - 2s/epoch - 15ms/step\n",
      "Epoch 39/50\n",
      "163/163 - 2s - loss: 0.2204 - accuracy: 0.8971 - val_loss: 0.2271 - val_accuracy: 0.8924 - 2s/epoch - 11ms/step\n",
      "Epoch 40/50\n",
      "163/163 - 2s - loss: 0.2202 - accuracy: 0.8968 - val_loss: 0.2285 - val_accuracy: 0.8925 - 2s/epoch - 11ms/step\n",
      "Epoch 41/50\n",
      "163/163 - 2s - loss: 0.2202 - accuracy: 0.8971 - val_loss: 0.2274 - val_accuracy: 0.8927 - 2s/epoch - 11ms/step\n",
      "Epoch 42/50\n",
      "163/163 - 2s - loss: 0.2201 - accuracy: 0.8968 - val_loss: 0.2277 - val_accuracy: 0.8927 - 2s/epoch - 12ms/step\n",
      "Epoch 43/50\n",
      "163/163 - 2s - loss: 0.2201 - accuracy: 0.8970 - val_loss: 0.2276 - val_accuracy: 0.8925 - 2s/epoch - 13ms/step\n",
      "Epoch 44/50\n",
      "163/163 - 1s - loss: 0.2200 - accuracy: 0.8970 - val_loss: 0.2277 - val_accuracy: 0.8926 - 1s/epoch - 9ms/step\n",
      "Epoch 45/50\n",
      "163/163 - 2s - loss: 0.2201 - accuracy: 0.8967 - val_loss: 0.2295 - val_accuracy: 0.8926 - 2s/epoch - 13ms/step\n",
      "Epoch 46/50\n",
      "163/163 - 2s - loss: 0.2201 - accuracy: 0.8970 - val_loss: 0.2282 - val_accuracy: 0.8929 - 2s/epoch - 14ms/step\n",
      "Epoch 47/50\n",
      "163/163 - 2s - loss: 0.2200 - accuracy: 0.8968 - val_loss: 0.2281 - val_accuracy: 0.8927 - 2s/epoch - 14ms/step\n",
      "Epoch 48/50\n",
      "163/163 - 2s - loss: 0.2201 - accuracy: 0.8970 - val_loss: 0.2273 - val_accuracy: 0.8926 - 2s/epoch - 11ms/step\n",
      "Epoch 49/50\n",
      "163/163 - 1s - loss: 0.2204 - accuracy: 0.8971 - val_loss: 0.2274 - val_accuracy: 0.8926 - 1s/epoch - 9ms/step\n",
      "Epoch 50/50\n",
      "163/163 - 5s - loss: 0.2201 - accuracy: 0.8969 - val_loss: 0.2276 - val_accuracy: 0.8932 - 5s/epoch - 28ms/step\n"
     ]
    }
   ],
   "source": [
    "model = keras.Sequential(\n",
    "    [\n",
    "        layers.Dense(256, activation='relu', input_dim=X_train.shape[1]),\n",
    "        layers.Dense(128, activation='relu', use_bias=True),\n",
    "        layers.Dense(128, activation='relu', use_bias=True),\n",
    "        layers.Dense(128, activation='relu', use_bias=True),\n",
    "        layers.Dense(128, activation='relu', use_bias=True),\n",
    "        layers.Dense(1, activation='sigmoid', use_bias=True)\n",
    "    ]\n",
    ")\n",
    "model.summary()\n",
    "\n",
    "model.compile('adam', loss='binary_crossentropy', metrics='accuracy')\n",
    "history = model.fit(X_train, y_train, validation_data=(X_val, y_val), epochs=50, batch_size=1000, shuffle=1000, verbose=2)"
   ]
  },
  {
   "cell_type": "code",
   "execution_count": 13,
   "metadata": {},
   "outputs": [
    {
     "name": "stdout",
     "output_type": "stream",
     "text": [
      "2658/2658 [==============================] - 3s 1ms/step - loss: 0.2185 - accuracy: 0.8982\n"
     ]
    },
    {
     "data": {
      "text/plain": [
       "[0.218463733792305, 0.8981807231903076]"
      ]
     },
     "execution_count": 13,
     "metadata": {},
     "output_type": "execute_result"
    }
   ],
   "source": [
    "model.evaluate(X_test, y_test)"
   ]
  },
  {
   "cell_type": "code",
   "execution_count": 14,
   "metadata": {},
   "outputs": [
    {
     "data": {
      "image/png": "[encoded data removed]",
      "text/plain": [
       "<Figure size 640x480 with 1 Axes>"
      ]
     },
     "metadata": {},
     "output_type": "display_data"
    }
   ],
   "source": [
    "plt.plot(history.history['accuracy'])\n",
    "plt.plot(history.history['val_accuracy'])\n",
    "plt.title('model accuracy')\n",
    "plt.ylabel('accuracy')\n",
    "plt.xlabel('epoch')\n",
    "plt.legend(['train', 'val'], loc='upper left')\n",
    "plt.show()"
   ]
  },
  {
   "cell_type": "code",
   "execution_count": 15,
   "metadata": {},
   "outputs": [
    {
     "data": {
      "image/png": "[encoded data removed]",
      "text/plain": [
       "<Figure size 640x480 with 1 Axes>"
      ]
     },
     "metadata": {},
     "output_type": "display_data"
    }
   ],
   "source": [
    "plt.plot(history.history['loss'])\n",
    "plt.plot(history.history['val_loss'])\n",
    "plt.title('model loss')\n",
    "plt.ylabel('loss')\n",
    "plt.xlabel('epoch')\n",
    "plt.legend(['train', 'val'], loc='upper left')\n",
    "plt.show()"
   ]
  }
 ],
 "metadata": {
  "kernelspec": {
   "display_name": "ktai",
   "language": "python",
   "name": "python3"
  },
  "language_info": {
   "codemirror_mode": {
    "name": "ipython",
    "version": 3
   },
   "file_extension": ".py",
   "mimetype": "text/x-python",
   "name": "python",
   "nbconvert_exporter": "python",
   "pygments_lexer": "ipython3",
   "version": "3.8.16"
  },
  "orig_nbformat": 4
 },
 "nbformat": 4,
 "nbformat_minor": 2
}
