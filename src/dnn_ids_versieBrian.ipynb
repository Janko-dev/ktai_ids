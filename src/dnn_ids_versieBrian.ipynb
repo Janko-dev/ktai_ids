{
  "cells": [
    {
      "cell_type": "markdown",
      "metadata": {
        "id": "iCp4euQ1T9rc"
      },
      "source": [
        "## Deep Neural Network model\n",
        "*Summary:* We model an IDS with a deep neural network model using feature selection from PCA analysis. "
      ]
    },
    {
      "cell_type": "code",
      "execution_count": 2,
      "metadata": {
        "colab": {
          "base_uri": "https://localhost:8080/"
        },
        "id": "lzaQygXWUeh1",
        "outputId": "333d2174-1dc3-4b2e-9802-2ac79049e5b1"
      },
      "outputs": [
        {
          "name": "stdout",
          "output_type": "stream",
          "text": [
            "Mounted at /content/drive\n"
          ]
        }
      ],
      "source": [
        "# from google.colab import drive\n",
        "# drive.mount('/content/drive')"
      ]
    },
    {
      "cell_type": "code",
      "execution_count": 22,
      "metadata": {
        "id": "c-Ydmz1dT9rg"
      },
      "outputs": [],
      "source": [
        "import numpy as np\n",
        "import pandas as pd\n",
        "import matplotlib.pyplot as plt\n",
        "\n",
        "# train = pd.read_csv(\"/content/drive/MyDrive/UNSWNB15/UNSW_NB15_training-set.csv\")\n",
        "# test = pd.read_csv(\"/content/drive/MyDrive/UNSWNB15/UNSW_NB15_testing-set.csv\")\n",
        "\n",
        "train = pd.read_csv(\"../dataset/UNSW_NB15_training-set.csv\")\n",
        "test = pd.read_csv(\"../dataset/UNSW_NB15_testing-set.csv\")"
      ]
    },
    {
      "cell_type": "code",
      "execution_count": 24,
      "metadata": {
        "colab": {
          "base_uri": "https://localhost:8080/"
        },
        "id": "sCZZmgqFT9rh",
        "outputId": "859828ad-d544-43e2-a5a7-f2a7ee4f5d93"
      },
      "outputs": [
        {
          "name": "stdout",
          "output_type": "stream",
          "text": [
            "Numerical features: 39\n",
            "Categorical features: 4\n"
          ]
        }
      ],
      "source": [
        "data = pd.concat([train, test]).reset_index(drop=True)\n",
        "data = data.drop(columns=[\"id\"], axis=1)\n",
        "\n",
        "# get numeric column names without label column\n",
        "num_cols = data._get_numeric_data().columns[:-1]\n",
        "\n",
        "# subract numeric columns and 'attack_cat' column from all columns to get categorical columns \n",
        "cat_cols = list(set(data.columns) - set(num_cols) - {'attack_cat'})\n",
        "\n",
        "print(f\"Numerical features: {len(num_cols)}\\nCategorical features: {len(cat_cols)}\")"
      ]
    },
    {
      "cell_type": "code",
      "execution_count": 25,
      "metadata": {
        "colab": {
          "base_uri": "https://localhost:8080/",
          "height": 505
        },
        "id": "dTyZ0cPUT9ri",
        "outputId": "61ccef44-514e-4b73-e774-2eb0bd9457c6"
      },
      "outputs": [
        {
          "data": {
            "text/html": [
              "<div>\n",
              "<style scoped>\n",
              "    .dataframe tbody tr th:only-of-type {\n",
              "        vertical-align: middle;\n",
              "    }\n",
              "\n",
              "    .dataframe tbody tr th {\n",
              "        vertical-align: top;\n",
              "    }\n",
              "\n",
              "    .dataframe thead th {\n",
              "        text-align: right;\n",
              "    }\n",
              "</style>\n",
              "<table border=\"1\" class=\"dataframe\">\n",
              "  <thead>\n",
              "    <tr style=\"text-align: right;\">\n",
              "      <th></th>\n",
              "      <th>dur</th>\n",
              "      <th>spkts</th>\n",
              "      <th>dpkts</th>\n",
              "      <th>sbytes</th>\n",
              "      <th>dbytes</th>\n",
              "      <th>rate</th>\n",
              "      <th>sttl</th>\n",
              "      <th>dttl</th>\n",
              "      <th>sload</th>\n",
              "      <th>dload</th>\n",
              "      <th>...</th>\n",
              "      <th>visa</th>\n",
              "      <th>vmtp</th>\n",
              "      <th>vrrp</th>\n",
              "      <th>wb-expak</th>\n",
              "      <th>wb-mon</th>\n",
              "      <th>wsn</th>\n",
              "      <th>xnet</th>\n",
              "      <th>xns-idp</th>\n",
              "      <th>xtp</th>\n",
              "      <th>zero</th>\n",
              "    </tr>\n",
              "  </thead>\n",
              "  <tbody>\n",
              "    <tr>\n",
              "      <th>0</th>\n",
              "      <td>0.000011</td>\n",
              "      <td>2</td>\n",
              "      <td>0</td>\n",
              "      <td>496</td>\n",
              "      <td>0</td>\n",
              "      <td>90909.090200</td>\n",
              "      <td>254</td>\n",
              "      <td>0</td>\n",
              "      <td>1.803636e+08</td>\n",
              "      <td>0.000000</td>\n",
              "      <td>...</td>\n",
              "      <td>0</td>\n",
              "      <td>0</td>\n",
              "      <td>0</td>\n",
              "      <td>0</td>\n",
              "      <td>0</td>\n",
              "      <td>0</td>\n",
              "      <td>0</td>\n",
              "      <td>0</td>\n",
              "      <td>0</td>\n",
              "      <td>0</td>\n",
              "    </tr>\n",
              "    <tr>\n",
              "      <th>1</th>\n",
              "      <td>0.000008</td>\n",
              "      <td>2</td>\n",
              "      <td>0</td>\n",
              "      <td>1762</td>\n",
              "      <td>0</td>\n",
              "      <td>125000.000300</td>\n",
              "      <td>254</td>\n",
              "      <td>0</td>\n",
              "      <td>8.810000e+08</td>\n",
              "      <td>0.000000</td>\n",
              "      <td>...</td>\n",
              "      <td>0</td>\n",
              "      <td>0</td>\n",
              "      <td>0</td>\n",
              "      <td>0</td>\n",
              "      <td>0</td>\n",
              "      <td>0</td>\n",
              "      <td>0</td>\n",
              "      <td>0</td>\n",
              "      <td>0</td>\n",
              "      <td>0</td>\n",
              "    </tr>\n",
              "    <tr>\n",
              "      <th>2</th>\n",
              "      <td>0.000005</td>\n",
              "      <td>2</td>\n",
              "      <td>0</td>\n",
              "      <td>1068</td>\n",
              "      <td>0</td>\n",
              "      <td>200000.005100</td>\n",
              "      <td>254</td>\n",
              "      <td>0</td>\n",
              "      <td>8.544000e+08</td>\n",
              "      <td>0.000000</td>\n",
              "      <td>...</td>\n",
              "      <td>0</td>\n",
              "      <td>0</td>\n",
              "      <td>0</td>\n",
              "      <td>0</td>\n",
              "      <td>0</td>\n",
              "      <td>0</td>\n",
              "      <td>0</td>\n",
              "      <td>0</td>\n",
              "      <td>0</td>\n",
              "      <td>0</td>\n",
              "    </tr>\n",
              "    <tr>\n",
              "      <th>3</th>\n",
              "      <td>0.000006</td>\n",
              "      <td>2</td>\n",
              "      <td>0</td>\n",
              "      <td>900</td>\n",
              "      <td>0</td>\n",
              "      <td>166666.660800</td>\n",
              "      <td>254</td>\n",
              "      <td>0</td>\n",
              "      <td>6.000000e+08</td>\n",
              "      <td>0.000000</td>\n",
              "      <td>...</td>\n",
              "      <td>0</td>\n",
              "      <td>0</td>\n",
              "      <td>0</td>\n",
              "      <td>0</td>\n",
              "      <td>0</td>\n",
              "      <td>0</td>\n",
              "      <td>0</td>\n",
              "      <td>0</td>\n",
              "      <td>0</td>\n",
              "      <td>0</td>\n",
              "    </tr>\n",
              "    <tr>\n",
              "      <th>4</th>\n",
              "      <td>0.000010</td>\n",
              "      <td>2</td>\n",
              "      <td>0</td>\n",
              "      <td>2126</td>\n",
              "      <td>0</td>\n",
              "      <td>100000.002500</td>\n",
              "      <td>254</td>\n",
              "      <td>0</td>\n",
              "      <td>8.504000e+08</td>\n",
              "      <td>0.000000</td>\n",
              "      <td>...</td>\n",
              "      <td>0</td>\n",
              "      <td>0</td>\n",
              "      <td>0</td>\n",
              "      <td>0</td>\n",
              "      <td>0</td>\n",
              "      <td>0</td>\n",
              "      <td>0</td>\n",
              "      <td>0</td>\n",
              "      <td>0</td>\n",
              "      <td>0</td>\n",
              "    </tr>\n",
              "    <tr>\n",
              "      <th>...</th>\n",
              "      <td>...</td>\n",
              "      <td>...</td>\n",
              "      <td>...</td>\n",
              "      <td>...</td>\n",
              "      <td>...</td>\n",
              "      <td>...</td>\n",
              "      <td>...</td>\n",
              "      <td>...</td>\n",
              "      <td>...</td>\n",
              "      <td>...</td>\n",
              "      <td>...</td>\n",
              "      <td>...</td>\n",
              "      <td>...</td>\n",
              "      <td>...</td>\n",
              "      <td>...</td>\n",
              "      <td>...</td>\n",
              "      <td>...</td>\n",
              "      <td>...</td>\n",
              "      <td>...</td>\n",
              "      <td>...</td>\n",
              "      <td>...</td>\n",
              "    </tr>\n",
              "    <tr>\n",
              "      <th>257668</th>\n",
              "      <td>0.000009</td>\n",
              "      <td>2</td>\n",
              "      <td>0</td>\n",
              "      <td>114</td>\n",
              "      <td>0</td>\n",
              "      <td>111111.107200</td>\n",
              "      <td>254</td>\n",
              "      <td>0</td>\n",
              "      <td>5.066666e+07</td>\n",
              "      <td>0.000000</td>\n",
              "      <td>...</td>\n",
              "      <td>0</td>\n",
              "      <td>0</td>\n",
              "      <td>0</td>\n",
              "      <td>0</td>\n",
              "      <td>0</td>\n",
              "      <td>0</td>\n",
              "      <td>0</td>\n",
              "      <td>0</td>\n",
              "      <td>0</td>\n",
              "      <td>0</td>\n",
              "    </tr>\n",
              "    <tr>\n",
              "      <th>257669</th>\n",
              "      <td>0.505762</td>\n",
              "      <td>10</td>\n",
              "      <td>8</td>\n",
              "      <td>620</td>\n",
              "      <td>354</td>\n",
              "      <td>33.612649</td>\n",
              "      <td>254</td>\n",
              "      <td>252</td>\n",
              "      <td>8.826286e+03</td>\n",
              "      <td>4903.492188</td>\n",
              "      <td>...</td>\n",
              "      <td>0</td>\n",
              "      <td>0</td>\n",
              "      <td>0</td>\n",
              "      <td>0</td>\n",
              "      <td>0</td>\n",
              "      <td>0</td>\n",
              "      <td>0</td>\n",
              "      <td>0</td>\n",
              "      <td>0</td>\n",
              "      <td>0</td>\n",
              "    </tr>\n",
              "    <tr>\n",
              "      <th>257670</th>\n",
              "      <td>0.000009</td>\n",
              "      <td>2</td>\n",
              "      <td>0</td>\n",
              "      <td>114</td>\n",
              "      <td>0</td>\n",
              "      <td>111111.107200</td>\n",
              "      <td>254</td>\n",
              "      <td>0</td>\n",
              "      <td>5.066666e+07</td>\n",
              "      <td>0.000000</td>\n",
              "      <td>...</td>\n",
              "      <td>0</td>\n",
              "      <td>0</td>\n",
              "      <td>0</td>\n",
              "      <td>0</td>\n",
              "      <td>0</td>\n",
              "      <td>0</td>\n",
              "      <td>0</td>\n",
              "      <td>0</td>\n",
              "      <td>0</td>\n",
              "      <td>0</td>\n",
              "    </tr>\n",
              "    <tr>\n",
              "      <th>257671</th>\n",
              "      <td>0.000009</td>\n",
              "      <td>2</td>\n",
              "      <td>0</td>\n",
              "      <td>114</td>\n",
              "      <td>0</td>\n",
              "      <td>111111.107200</td>\n",
              "      <td>254</td>\n",
              "      <td>0</td>\n",
              "      <td>5.066666e+07</td>\n",
              "      <td>0.000000</td>\n",
              "      <td>...</td>\n",
              "      <td>0</td>\n",
              "      <td>0</td>\n",
              "      <td>0</td>\n",
              "      <td>0</td>\n",
              "      <td>0</td>\n",
              "      <td>0</td>\n",
              "      <td>0</td>\n",
              "      <td>0</td>\n",
              "      <td>0</td>\n",
              "      <td>0</td>\n",
              "    </tr>\n",
              "    <tr>\n",
              "      <th>257672</th>\n",
              "      <td>0.000009</td>\n",
              "      <td>2</td>\n",
              "      <td>0</td>\n",
              "      <td>114</td>\n",
              "      <td>0</td>\n",
              "      <td>111111.107200</td>\n",
              "      <td>254</td>\n",
              "      <td>0</td>\n",
              "      <td>5.066666e+07</td>\n",
              "      <td>0.000000</td>\n",
              "      <td>...</td>\n",
              "      <td>0</td>\n",
              "      <td>0</td>\n",
              "      <td>0</td>\n",
              "      <td>0</td>\n",
              "      <td>0</td>\n",
              "      <td>0</td>\n",
              "      <td>0</td>\n",
              "      <td>0</td>\n",
              "      <td>0</td>\n",
              "      <td>0</td>\n",
              "    </tr>\n",
              "  </tbody>\n",
              "</table>\n",
              "<p>257673 rows × 196 columns</p>\n",
              "</div>"
            ],
            "text/plain": [
              "             dur  spkts  dpkts  sbytes  dbytes           rate  sttl  dttl  \\\n",
              "0       0.000011      2      0     496       0   90909.090200   254     0   \n",
              "1       0.000008      2      0    1762       0  125000.000300   254     0   \n",
              "2       0.000005      2      0    1068       0  200000.005100   254     0   \n",
              "3       0.000006      2      0     900       0  166666.660800   254     0   \n",
              "4       0.000010      2      0    2126       0  100000.002500   254     0   \n",
              "...          ...    ...    ...     ...     ...            ...   ...   ...   \n",
              "257668  0.000009      2      0     114       0  111111.107200   254     0   \n",
              "257669  0.505762     10      8     620     354      33.612649   254   252   \n",
              "257670  0.000009      2      0     114       0  111111.107200   254     0   \n",
              "257671  0.000009      2      0     114       0  111111.107200   254     0   \n",
              "257672  0.000009      2      0     114       0  111111.107200   254     0   \n",
              "\n",
              "               sload        dload  ...  visa  vmtp  vrrp  wb-expak  wb-mon  \\\n",
              "0       1.803636e+08     0.000000  ...     0     0     0         0       0   \n",
              "1       8.810000e+08     0.000000  ...     0     0     0         0       0   \n",
              "2       8.544000e+08     0.000000  ...     0     0     0         0       0   \n",
              "3       6.000000e+08     0.000000  ...     0     0     0         0       0   \n",
              "4       8.504000e+08     0.000000  ...     0     0     0         0       0   \n",
              "...              ...          ...  ...   ...   ...   ...       ...     ...   \n",
              "257668  5.066666e+07     0.000000  ...     0     0     0         0       0   \n",
              "257669  8.826286e+03  4903.492188  ...     0     0     0         0       0   \n",
              "257670  5.066666e+07     0.000000  ...     0     0     0         0       0   \n",
              "257671  5.066666e+07     0.000000  ...     0     0     0         0       0   \n",
              "257672  5.066666e+07     0.000000  ...     0     0     0         0       0   \n",
              "\n",
              "        wsn  xnet  xns-idp  xtp  zero  \n",
              "0         0     0        0    0     0  \n",
              "1         0     0        0    0     0  \n",
              "2         0     0        0    0     0  \n",
              "3         0     0        0    0     0  \n",
              "4         0     0        0    0     0  \n",
              "...     ...   ...      ...  ...   ...  \n",
              "257668    0     0        0    0     0  \n",
              "257669    0     0        0    0     0  \n",
              "257670    0     0        0    0     0  \n",
              "257671    0     0        0    0     0  \n",
              "257672    0     0        0    0     0  \n",
              "\n",
              "[257673 rows x 196 columns]"
            ]
          },
          "execution_count": 25,
          "metadata": {},
          "output_type": "execute_result"
        }
      ],
      "source": [
        "# one hot encode categorical variables and concatenate them with the numerical variables\n",
        "dummies_df = pd.concat([\n",
        "    data[num_cols],\n",
        "    pd.get_dummies(data['state']), \n",
        "    pd.get_dummies(data['service']), \n",
        "    pd.get_dummies(data['proto'])], \n",
        "    axis=1)\n",
        "\n",
        "dummies_df"
      ]
    },
    {
      "cell_type": "code",
      "execution_count": 26,
      "metadata": {
        "colab": {
          "base_uri": "https://localhost:8080/",
          "height": 487
        },
        "id": "BxnK-EIHT9rj",
        "outputId": "c1393a39-58e7-4f75-96fd-5e66400e2f79"
      },
      "outputs": [
        {
          "data": {
            "text/html": [
              "<div>\n",
              "<style scoped>\n",
              "    .dataframe tbody tr th:only-of-type {\n",
              "        vertical-align: middle;\n",
              "    }\n",
              "\n",
              "    .dataframe tbody tr th {\n",
              "        vertical-align: top;\n",
              "    }\n",
              "\n",
              "    .dataframe thead th {\n",
              "        text-align: right;\n",
              "    }\n",
              "</style>\n",
              "<table border=\"1\" class=\"dataframe\">\n",
              "  <thead>\n",
              "    <tr style=\"text-align: right;\">\n",
              "      <th></th>\n",
              "      <th>0</th>\n",
              "      <th>1</th>\n",
              "      <th>2</th>\n",
              "      <th>3</th>\n",
              "      <th>4</th>\n",
              "      <th>5</th>\n",
              "      <th>6</th>\n",
              "      <th>7</th>\n",
              "      <th>8</th>\n",
              "      <th>9</th>\n",
              "      <th>10</th>\n",
              "      <th>11</th>\n",
              "      <th>12</th>\n",
              "      <th>13</th>\n",
              "      <th>14</th>\n",
              "      <th>15</th>\n",
              "      <th>16</th>\n",
              "      <th>17</th>\n",
              "    </tr>\n",
              "  </thead>\n",
              "  <tbody>\n",
              "    <tr>\n",
              "      <th>0</th>\n",
              "      <td>1.139665</td>\n",
              "      <td>0.691133</td>\n",
              "      <td>0.033781</td>\n",
              "      <td>-0.123732</td>\n",
              "      <td>0.159891</td>\n",
              "      <td>-0.523700</td>\n",
              "      <td>-0.322463</td>\n",
              "      <td>-0.037430</td>\n",
              "      <td>0.125500</td>\n",
              "      <td>0.001090</td>\n",
              "      <td>0.038912</td>\n",
              "      <td>0.111895</td>\n",
              "      <td>0.081098</td>\n",
              "      <td>-0.141533</td>\n",
              "      <td>-0.013122</td>\n",
              "      <td>-0.061079</td>\n",
              "      <td>0.092185</td>\n",
              "      <td>-0.099478</td>\n",
              "    </tr>\n",
              "    <tr>\n",
              "      <th>1</th>\n",
              "      <td>1.134885</td>\n",
              "      <td>0.697829</td>\n",
              "      <td>0.023619</td>\n",
              "      <td>-0.127989</td>\n",
              "      <td>0.178153</td>\n",
              "      <td>-0.522009</td>\n",
              "      <td>-0.409717</td>\n",
              "      <td>-0.014354</td>\n",
              "      <td>0.170584</td>\n",
              "      <td>0.007360</td>\n",
              "      <td>0.134525</td>\n",
              "      <td>0.286903</td>\n",
              "      <td>0.003883</td>\n",
              "      <td>-0.126337</td>\n",
              "      <td>0.003497</td>\n",
              "      <td>-0.106215</td>\n",
              "      <td>0.080168</td>\n",
              "      <td>-0.062628</td>\n",
              "    </tr>\n",
              "    <tr>\n",
              "      <th>2</th>\n",
              "      <td>1.148204</td>\n",
              "      <td>0.691567</td>\n",
              "      <td>0.016223</td>\n",
              "      <td>-0.125080</td>\n",
              "      <td>0.154072</td>\n",
              "      <td>-0.525683</td>\n",
              "      <td>-0.354547</td>\n",
              "      <td>-0.032282</td>\n",
              "      <td>0.147059</td>\n",
              "      <td>0.004373</td>\n",
              "      <td>0.088459</td>\n",
              "      <td>0.203503</td>\n",
              "      <td>0.058159</td>\n",
              "      <td>-0.152448</td>\n",
              "      <td>0.003864</td>\n",
              "      <td>-0.038568</td>\n",
              "      <td>0.046168</td>\n",
              "      <td>-0.013226</td>\n",
              "    </tr>\n",
              "    <tr>\n",
              "      <th>3</th>\n",
              "      <td>1.149644</td>\n",
              "      <td>0.685189</td>\n",
              "      <td>0.015876</td>\n",
              "      <td>-0.127804</td>\n",
              "      <td>0.145047</td>\n",
              "      <td>-0.521827</td>\n",
              "      <td>-0.332389</td>\n",
              "      <td>-0.030487</td>\n",
              "      <td>0.133900</td>\n",
              "      <td>0.003557</td>\n",
              "      <td>0.076222</td>\n",
              "      <td>0.186266</td>\n",
              "      <td>0.069142</td>\n",
              "      <td>-0.143479</td>\n",
              "      <td>-0.002248</td>\n",
              "      <td>-0.047803</td>\n",
              "      <td>0.062347</td>\n",
              "      <td>-0.035391</td>\n",
              "    </tr>\n",
              "    <tr>\n",
              "      <th>4</th>\n",
              "      <td>1.137643</td>\n",
              "      <td>0.689183</td>\n",
              "      <td>0.014163</td>\n",
              "      <td>-0.136374</td>\n",
              "      <td>0.167205</td>\n",
              "      <td>-0.515563</td>\n",
              "      <td>-0.412557</td>\n",
              "      <td>0.000424</td>\n",
              "      <td>0.171118</td>\n",
              "      <td>0.009367</td>\n",
              "      <td>0.164773</td>\n",
              "      <td>0.351305</td>\n",
              "      <td>-0.014860</td>\n",
              "      <td>-0.108051</td>\n",
              "      <td>0.003248</td>\n",
              "      <td>-0.138290</td>\n",
              "      <td>0.095059</td>\n",
              "      <td>-0.076184</td>\n",
              "    </tr>\n",
              "    <tr>\n",
              "      <th>...</th>\n",
              "      <td>...</td>\n",
              "      <td>...</td>\n",
              "      <td>...</td>\n",
              "      <td>...</td>\n",
              "      <td>...</td>\n",
              "      <td>...</td>\n",
              "      <td>...</td>\n",
              "      <td>...</td>\n",
              "      <td>...</td>\n",
              "      <td>...</td>\n",
              "      <td>...</td>\n",
              "      <td>...</td>\n",
              "      <td>...</td>\n",
              "      <td>...</td>\n",
              "      <td>...</td>\n",
              "      <td>...</td>\n",
              "      <td>...</td>\n",
              "      <td>...</td>\n",
              "    </tr>\n",
              "    <tr>\n",
              "      <th>257668</th>\n",
              "      <td>1.625976</td>\n",
              "      <td>-0.681540</td>\n",
              "      <td>-0.287382</td>\n",
              "      <td>-0.071370</td>\n",
              "      <td>-0.202190</td>\n",
              "      <td>0.038976</td>\n",
              "      <td>0.055435</td>\n",
              "      <td>0.029347</td>\n",
              "      <td>-0.052598</td>\n",
              "      <td>-0.001430</td>\n",
              "      <td>-0.014590</td>\n",
              "      <td>0.004202</td>\n",
              "      <td>-0.014239</td>\n",
              "      <td>0.039169</td>\n",
              "      <td>-0.009705</td>\n",
              "      <td>-0.044267</td>\n",
              "      <td>0.049091</td>\n",
              "      <td>-0.045421</td>\n",
              "    </tr>\n",
              "    <tr>\n",
              "      <th>257669</th>\n",
              "      <td>-1.524051</td>\n",
              "      <td>0.238075</td>\n",
              "      <td>-0.484932</td>\n",
              "      <td>-0.461644</td>\n",
              "      <td>0.070493</td>\n",
              "      <td>-0.006903</td>\n",
              "      <td>-0.131525</td>\n",
              "      <td>-0.155011</td>\n",
              "      <td>-0.253907</td>\n",
              "      <td>0.035962</td>\n",
              "      <td>0.178556</td>\n",
              "      <td>-0.217753</td>\n",
              "      <td>-0.037990</td>\n",
              "      <td>-0.010673</td>\n",
              "      <td>-0.001146</td>\n",
              "      <td>-0.053777</td>\n",
              "      <td>-0.016547</td>\n",
              "      <td>0.027020</td>\n",
              "    </tr>\n",
              "    <tr>\n",
              "      <th>257670</th>\n",
              "      <td>1.505197</td>\n",
              "      <td>-0.506249</td>\n",
              "      <td>-0.119243</td>\n",
              "      <td>0.017648</td>\n",
              "      <td>0.105110</td>\n",
              "      <td>-0.042891</td>\n",
              "      <td>-0.293114</td>\n",
              "      <td>-0.058227</td>\n",
              "      <td>0.133216</td>\n",
              "      <td>-0.005714</td>\n",
              "      <td>-0.080026</td>\n",
              "      <td>-0.265888</td>\n",
              "      <td>-0.128814</td>\n",
              "      <td>-0.093194</td>\n",
              "      <td>0.010285</td>\n",
              "      <td>-0.008992</td>\n",
              "      <td>0.003542</td>\n",
              "      <td>-0.148684</td>\n",
              "    </tr>\n",
              "    <tr>\n",
              "      <th>257671</th>\n",
              "      <td>1.668222</td>\n",
              "      <td>-0.740886</td>\n",
              "      <td>-0.346176</td>\n",
              "      <td>-0.105249</td>\n",
              "      <td>-0.311411</td>\n",
              "      <td>0.064058</td>\n",
              "      <td>0.180714</td>\n",
              "      <td>0.060177</td>\n",
              "      <td>-0.114695</td>\n",
              "      <td>0.000400</td>\n",
              "      <td>0.011547</td>\n",
              "      <td>0.102086</td>\n",
              "      <td>0.027500</td>\n",
              "      <td>0.078313</td>\n",
              "      <td>-0.016644</td>\n",
              "      <td>-0.057298</td>\n",
              "      <td>0.063623</td>\n",
              "      <td>-0.022723</td>\n",
              "    </tr>\n",
              "    <tr>\n",
              "      <th>257672</th>\n",
              "      <td>1.670882</td>\n",
              "      <td>-0.744843</td>\n",
              "      <td>-0.350097</td>\n",
              "      <td>-0.106337</td>\n",
              "      <td>-0.316550</td>\n",
              "      <td>0.066371</td>\n",
              "      <td>0.185369</td>\n",
              "      <td>0.061741</td>\n",
              "      <td>-0.118691</td>\n",
              "      <td>0.000360</td>\n",
              "      <td>0.011253</td>\n",
              "      <td>0.104531</td>\n",
              "      <td>0.027734</td>\n",
              "      <td>0.081123</td>\n",
              "      <td>-0.016424</td>\n",
              "      <td>-0.056376</td>\n",
              "      <td>0.064366</td>\n",
              "      <td>-0.020270</td>\n",
              "    </tr>\n",
              "  </tbody>\n",
              "</table>\n",
              "<p>257673 rows × 18 columns</p>\n",
              "</div>"
            ],
            "text/plain": [
              "              0         1         2         3         4         5         6   \\\n",
              "0       1.139665  0.691133  0.033781 -0.123732  0.159891 -0.523700 -0.322463   \n",
              "1       1.134885  0.697829  0.023619 -0.127989  0.178153 -0.522009 -0.409717   \n",
              "2       1.148204  0.691567  0.016223 -0.125080  0.154072 -0.525683 -0.354547   \n",
              "3       1.149644  0.685189  0.015876 -0.127804  0.145047 -0.521827 -0.332389   \n",
              "4       1.137643  0.689183  0.014163 -0.136374  0.167205 -0.515563 -0.412557   \n",
              "...          ...       ...       ...       ...       ...       ...       ...   \n",
              "257668  1.625976 -0.681540 -0.287382 -0.071370 -0.202190  0.038976  0.055435   \n",
              "257669 -1.524051  0.238075 -0.484932 -0.461644  0.070493 -0.006903 -0.131525   \n",
              "257670  1.505197 -0.506249 -0.119243  0.017648  0.105110 -0.042891 -0.293114   \n",
              "257671  1.668222 -0.740886 -0.346176 -0.105249 -0.311411  0.064058  0.180714   \n",
              "257672  1.670882 -0.744843 -0.350097 -0.106337 -0.316550  0.066371  0.185369   \n",
              "\n",
              "              7         8         9         10        11        12        13  \\\n",
              "0      -0.037430  0.125500  0.001090  0.038912  0.111895  0.081098 -0.141533   \n",
              "1      -0.014354  0.170584  0.007360  0.134525  0.286903  0.003883 -0.126337   \n",
              "2      -0.032282  0.147059  0.004373  0.088459  0.203503  0.058159 -0.152448   \n",
              "3      -0.030487  0.133900  0.003557  0.076222  0.186266  0.069142 -0.143479   \n",
              "4       0.000424  0.171118  0.009367  0.164773  0.351305 -0.014860 -0.108051   \n",
              "...          ...       ...       ...       ...       ...       ...       ...   \n",
              "257668  0.029347 -0.052598 -0.001430 -0.014590  0.004202 -0.014239  0.039169   \n",
              "257669 -0.155011 -0.253907  0.035962  0.178556 -0.217753 -0.037990 -0.010673   \n",
              "257670 -0.058227  0.133216 -0.005714 -0.080026 -0.265888 -0.128814 -0.093194   \n",
              "257671  0.060177 -0.114695  0.000400  0.011547  0.102086  0.027500  0.078313   \n",
              "257672  0.061741 -0.118691  0.000360  0.011253  0.104531  0.027734  0.081123   \n",
              "\n",
              "              14        15        16        17  \n",
              "0      -0.013122 -0.061079  0.092185 -0.099478  \n",
              "1       0.003497 -0.106215  0.080168 -0.062628  \n",
              "2       0.003864 -0.038568  0.046168 -0.013226  \n",
              "3      -0.002248 -0.047803  0.062347 -0.035391  \n",
              "4       0.003248 -0.138290  0.095059 -0.076184  \n",
              "...          ...       ...       ...       ...  \n",
              "257668 -0.009705 -0.044267  0.049091 -0.045421  \n",
              "257669 -0.001146 -0.053777 -0.016547  0.027020  \n",
              "257670  0.010285 -0.008992  0.003542 -0.148684  \n",
              "257671 -0.016644 -0.057298  0.063623 -0.022723  \n",
              "257672 -0.016424 -0.056376  0.064366 -0.020270  \n",
              "\n",
              "[257673 rows x 18 columns]"
            ]
          },
          "execution_count": 26,
          "metadata": {},
          "output_type": "execute_result"
        }
      ],
      "source": [
        "from sklearn.decomposition import PCA\n",
        "from sklearn.preprocessing import MinMaxScaler\n",
        "\n",
        "# apply min-max scaler that scales the variables in the range [0-1]\n",
        "scl = MinMaxScaler()\n",
        "df = scl.fit_transform(dummies_df)\n",
        "\n",
        "# apply principal component analysis\n",
        "pca = PCA(n_components=0.95)\n",
        "pca_df = pca.fit_transform(df)\n",
        "\n",
        "pca_df = pd.DataFrame(pca_df)\n",
        "pca_df"
      ]
    },
    {
      "cell_type": "code",
      "execution_count": 27,
      "metadata": {
        "colab": {
          "base_uri": "https://localhost:8080/"
        },
        "id": "WBgBWmNxT9rk",
        "outputId": "14a8aaa8-9244-4aa6-861c-c67f397a81e3"
      },
      "outputs": [
        {
          "data": {
            "text/plain": [
              "((172640, 18), (85033, 18), (172640, 10), (85033, 10))"
            ]
          },
          "execution_count": 27,
          "metadata": {},
          "output_type": "execute_result"
        }
      ],
      "source": [
        "from sklearn.model_selection import train_test_split\n",
        "\n",
        "y = pd.get_dummies(data['attack_cat'])\n",
        "X = pca_df\n",
        "\n",
        "X_train, X_test, y_train, y_test = train_test_split(X, y, test_size=.33, random_state=42)\n",
        "(X_train.shape, X_test.shape, y_train.shape, y_test.shape)"
      ]
    },
    {
      "cell_type": "markdown",
      "metadata": {
        "id": "9QmMnlmwT9rl"
      },
      "source": [
        "# Sklearn MLP model"
      ]
    },
    {
      "cell_type": "code",
      "execution_count": 9,
      "metadata": {
        "colab": {
          "base_uri": "https://localhost:8080/"
        },
        "id": "ZsHYTQ7VT9rm",
        "outputId": "e883eeed-549c-40cd-e5e9-46823cc9aa47"
      },
      "outputs": [
        {
          "name": "stderr",
          "output_type": "stream",
          "text": [
            "/usr/local/lib/python3.9/dist-packages/sklearn/neural_network/_multilayer_perceptron.py:693: UserWarning: Training interrupted by user.\n",
            "  warnings.warn(\"Training interrupted by user.\")\n"
          ]
        }
      ],
      "source": [
        "from sklearn.neural_network import MLPClassifier\n",
        "\n",
        "mlp = MLPClassifier(\n",
        "    activation='relu',\n",
        "    solver='adam', \n",
        "    hidden_layer_sizes=(100, 100)\n",
        ")\n",
        "\n",
        "model = mlp.fit(X_train, y_train)"
      ]
    },
    {
      "cell_type": "code",
      "execution_count": 10,
      "metadata": {
        "colab": {
          "base_uri": "https://localhost:8080/"
        },
        "id": "F_GES0sST9rn",
        "outputId": "e9316304-d32b-40f0-8699-9ac14314ebf8"
      },
      "outputs": [
        {
          "data": {
            "text/plain": [
              "0.6943539566991639"
            ]
          },
          "execution_count": 10,
          "metadata": {},
          "output_type": "execute_result"
        }
      ],
      "source": [
        "model.score(X_test, y_test)"
      ]
    },
    {
      "cell_type": "markdown",
      "metadata": {
        "id": "V2OXIw1eT9rn"
      },
      "source": [
        "# Tensorflow model"
      ]
    },
    {
      "cell_type": "code",
      "execution_count": 28,
      "metadata": {
        "colab": {
          "base_uri": "https://localhost:8080/"
        },
        "id": "pL6arLNAT9rn",
        "outputId": "5e1af8e0-3244-45ba-db0a-246a1fb4a7d9"
      },
      "outputs": [
        {
          "name": "stdout",
          "output_type": "stream",
          "text": [
            "Requirement already satisfied: livelossplot in c:\\users\\baljanj\\anaconda3\\lib\\site-packages (0.5.5)\n",
            "Requirement already satisfied: bokeh in c:\\users\\baljanj\\anaconda3\\lib\\site-packages (from livelossplot) (2.4.3)\n",
            "Requirement already satisfied: matplotlib in c:\\users\\baljanj\\anaconda3\\lib\\site-packages (from livelossplot) (3.5.2)\n",
            "Requirement already satisfied: PyYAML>=3.10 in c:\\users\\baljanj\\anaconda3\\lib\\site-packages (from bokeh->livelossplot) (6.0)\n",
            "Requirement already satisfied: tornado>=5.1 in c:\\users\\baljanj\\anaconda3\\lib\\site-packages (from bokeh->livelossplot) (6.1)\n",
            "Requirement already satisfied: typing-extensions>=3.10.0 in c:\\users\\baljanj\\anaconda3\\lib\\site-packages (from bokeh->livelossplot) (4.3.0)\n",
            "Requirement already satisfied: Jinja2>=2.9 in c:\\users\\baljanj\\anaconda3\\lib\\site-packages (from bokeh->livelossplot) (2.11.3)\n",
            "Requirement already satisfied: pillow>=7.1.0 in c:\\users\\baljanj\\anaconda3\\lib\\site-packages (from bokeh->livelossplot) (9.2.0)\n",
            "Requirement already satisfied: packaging>=16.8 in c:\\users\\baljanj\\anaconda3\\lib\\site-packages (from bokeh->livelossplot) (21.3)\n",
            "Requirement already satisfied: numpy>=1.11.3 in c:\\users\\baljanj\\anaconda3\\lib\\site-packages (from bokeh->livelossplot) (1.21.5)\n",
            "Requirement already satisfied: fonttools>=4.22.0 in c:\\users\\baljanj\\anaconda3\\lib\\site-packages (from matplotlib->livelossplot) (4.25.0)\n",
            "Requirement already satisfied: python-dateutil>=2.7 in c:\\users\\baljanj\\anaconda3\\lib\\site-packages (from matplotlib->livelossplot) (2.8.2)\n",
            "Requirement already satisfied: pyparsing>=2.2.1 in c:\\users\\baljanj\\anaconda3\\lib\\site-packages (from matplotlib->livelossplot) (3.0.9)\n",
            "Requirement already satisfied: cycler>=0.10 in c:\\users\\baljanj\\anaconda3\\lib\\site-packages (from matplotlib->livelossplot) (0.11.0)\n",
            "Requirement already satisfied: kiwisolver>=1.0.1 in c:\\users\\baljanj\\anaconda3\\lib\\site-packages (from matplotlib->livelossplot) (1.4.2)\n",
            "Requirement already satisfied: MarkupSafe>=0.23 in c:\\users\\baljanj\\anaconda3\\lib\\site-packages (from Jinja2>=2.9->bokeh->livelossplot) (2.0.1)\n",
            "Requirement already satisfied: six>=1.5 in c:\\users\\baljanj\\anaconda3\\lib\\site-packages (from python-dateutil>=2.7->matplotlib->livelossplot) (1.16.0)\n"
          ]
        }
      ],
      "source": [
        "import tensorflow as tf\n",
        "from tensorflow import keras\n",
        "from tensorflow.keras import layers\n",
        "from keras.callbacks import EarlyStopping\n",
        "import matplotlib.pyplot as plt\n",
        "plt.style.use('ggplot')\n",
        "!pip install livelossplot\n",
        "from livelossplot import PlotLossesKeras"
      ]
    },
    {
      "cell_type": "code",
      "execution_count": 59,
      "metadata": {
        "id": "EQ1jeH0LT9ro"
      },
      "outputs": [],
      "source": [
        "train_ds = tf.data.Dataset.from_tensor_slices(\n",
        "    (X_train, y_train)).shuffle(10000).batch(8)\n",
        "\n",
        "test_ds = tf.data.Dataset.from_tensor_slices((X_test, y_test)).batch(8)"
      ]
    },
    {
      "cell_type": "code",
      "execution_count": 60,
      "metadata": {
        "colab": {
          "base_uri": "https://localhost:8080/"
        },
        "id": "YRf3h8dVYZ13",
        "outputId": "bac5fc95-bd95-4c4a-b774-01488b461ad6"
      },
      "outputs": [
        {
          "name": "stdout",
          "output_type": "stream",
          "text": [
            "Model: \"sequential_7\"\n",
            "_________________________________________________________________\n",
            " Layer (type)                Output Shape              Param #   \n",
            "=================================================================\n",
            " dense_34 (Dense)            (None, 256)               4864      \n",
            "                                                                 \n",
            " dense_35 (Dense)            (None, 128)               32896     \n",
            "                                                                 \n",
            " dense_36 (Dense)            (None, 128)               16512     \n",
            "                                                                 \n",
            " dense_37 (Dense)            (None, 128)               16512     \n",
            "                                                                 \n",
            " dense_38 (Dense)            (None, 10)                1290      \n",
            "                                                                 \n",
            "=================================================================\n",
            "Total params: 72,074\n",
            "Trainable params: 72,074\n",
            "Non-trainable params: 0\n",
            "_________________________________________________________________\n"
          ]
        }
      ],
      "source": [
        "model = keras.Sequential(\n",
        "    [\n",
        "        layers.Dense(256, activation='relu', input_dim=18),\n",
        "        layers.Dense(128, activation='relu', input_dim=256),\n",
        "        layers.Dense(128, activation='relu', input_dim=128),\n",
        "        layers.Dense(128, activation='relu', input_dim=128),\n",
        "        layers.Dense(10, activation='softmax')\n",
        "    ]\n",
        ")\n",
        "model.summary()"
      ]
    },
    {
      "cell_type": "code",
      "execution_count": 61,
      "metadata": {
        "id": "ZXUlYZ68T9ro"
      },
      "outputs": [],
      "source": [
        "#model.fit(X_train, y_train, epochs=10, batch_size=32, shuffle=1000)"
      ]
    },
    {
      "cell_type": "code",
      "execution_count": 62,
      "metadata": {
        "id": "bLFgu1-BclBF"
      },
      "outputs": [],
      "source": [
        "model.compile('adam', loss='categorical_crossentropy', metrics='accuracy')"
      ]
    },
    {
      "cell_type": "code",
      "execution_count": 63,
      "metadata": {
        "id": "fuTOFvrPjpVC"
      },
      "outputs": [],
      "source": [
        "monitor_val_acc = EarlyStopping(monitor='loss', patience=5)\n",
        "callbacks=[PlotLossesKeras()]"
      ]
    },
    {
      "cell_type": "code",
      "execution_count": 64,
      "metadata": {
        "colab": {
          "base_uri": "https://localhost:8080/",
          "height": 676
        },
        "id": "xXxTybBUc3Uz",
        "outputId": "13d25724-d140-4939-b3e5-a22929dae7de"
      },
      "outputs": [
        {
          "data": {
            "image/png": "[encoded data removed]",
            "text/plain": [
              "<Figure size 1200x800 with 2 Axes>"
            ]
          },
          "metadata": {},
          "output_type": "display_data"
        },
        {
          "name": "stdout",
          "output_type": "stream",
          "text": [
            "accuracy\n",
            "\taccuracy         \t (min:    0.745, max:    0.807, cur:    0.807)\n",
            "Loss\n",
            "\tloss             \t (min:    0.470, max:    0.629, cur:    0.470)\n"
          ]
        },
        {
          "ename": "KeyboardInterrupt",
          "evalue": "",
          "output_type": "error",
          "traceback": [
            "\u001b[1;31m---------------------------------------------------------------------------\u001b[0m",
            "\u001b[1;31mKeyboardInterrupt\u001b[0m                         Traceback (most recent call last)",
            "\u001b[1;32m~\\AppData\\Local\\Temp\\ipykernel_25756\\2980263311.py\u001b[0m in \u001b[0;36m<module>\u001b[1;34m\u001b[0m\n\u001b[1;32m----> 1\u001b[1;33m \u001b[0mmodel\u001b[0m\u001b[1;33m.\u001b[0m\u001b[0mfit\u001b[0m\u001b[1;33m(\u001b[0m\u001b[0mX_train\u001b[0m\u001b[1;33m,\u001b[0m \u001b[0my_train\u001b[0m\u001b[1;33m,\u001b[0m \u001b[0mepochs\u001b[0m\u001b[1;33m=\u001b[0m\u001b[1;36m1000\u001b[0m\u001b[1;33m,\u001b[0m \u001b[0mbatch_size\u001b[0m\u001b[1;33m=\u001b[0m\u001b[1;36m32\u001b[0m\u001b[1;33m,\u001b[0m \u001b[0mcallbacks\u001b[0m\u001b[1;33m=\u001b[0m\u001b[1;33m[\u001b[0m\u001b[0mPlotLossesKeras\u001b[0m\u001b[1;33m(\u001b[0m\u001b[1;33m)\u001b[0m\u001b[1;33m,\u001b[0m \u001b[0mmonitor_val_acc\u001b[0m\u001b[1;33m]\u001b[0m\u001b[1;33m,\u001b[0m \u001b[0mshuffle\u001b[0m\u001b[1;33m=\u001b[0m\u001b[1;36m1000\u001b[0m\u001b[1;33m,\u001b[0m \u001b[0mverbose\u001b[0m\u001b[1;33m=\u001b[0m\u001b[1;36m0\u001b[0m\u001b[1;33m)\u001b[0m\u001b[1;33m\u001b[0m\u001b[1;33m\u001b[0m\u001b[0m\n\u001b[0m",
            "\u001b[1;32mc:\\Users\\baljanj\\Anaconda3\\lib\\site-packages\\keras\\utils\\traceback_utils.py\u001b[0m in \u001b[0;36merror_handler\u001b[1;34m(*args, **kwargs)\u001b[0m\n\u001b[0;32m     63\u001b[0m         \u001b[0mfiltered_tb\u001b[0m \u001b[1;33m=\u001b[0m \u001b[1;32mNone\u001b[0m\u001b[1;33m\u001b[0m\u001b[1;33m\u001b[0m\u001b[0m\n\u001b[0;32m     64\u001b[0m         \u001b[1;32mtry\u001b[0m\u001b[1;33m:\u001b[0m\u001b[1;33m\u001b[0m\u001b[1;33m\u001b[0m\u001b[0m\n\u001b[1;32m---> 65\u001b[1;33m             \u001b[1;32mreturn\u001b[0m \u001b[0mfn\u001b[0m\u001b[1;33m(\u001b[0m\u001b[1;33m*\u001b[0m\u001b[0margs\u001b[0m\u001b[1;33m,\u001b[0m \u001b[1;33m**\u001b[0m\u001b[0mkwargs\u001b[0m\u001b[1;33m)\u001b[0m\u001b[1;33m\u001b[0m\u001b[1;33m\u001b[0m\u001b[0m\n\u001b[0m\u001b[0;32m     66\u001b[0m         \u001b[1;32mexcept\u001b[0m \u001b[0mException\u001b[0m \u001b[1;32mas\u001b[0m \u001b[0me\u001b[0m\u001b[1;33m:\u001b[0m\u001b[1;33m\u001b[0m\u001b[1;33m\u001b[0m\u001b[0m\n\u001b[0;32m     67\u001b[0m             \u001b[0mfiltered_tb\u001b[0m \u001b[1;33m=\u001b[0m \u001b[0m_process_traceback_frames\u001b[0m\u001b[1;33m(\u001b[0m\u001b[0me\u001b[0m\u001b[1;33m.\u001b[0m\u001b[0m__traceback__\u001b[0m\u001b[1;33m)\u001b[0m\u001b[1;33m\u001b[0m\u001b[1;33m\u001b[0m\u001b[0m\n",
            "\u001b[1;32mc:\\Users\\baljanj\\Anaconda3\\lib\\site-packages\\keras\\engine\\training.py\u001b[0m in \u001b[0;36mfit\u001b[1;34m(self, x, y, batch_size, epochs, verbose, callbacks, validation_split, validation_data, shuffle, class_weight, sample_weight, initial_epoch, steps_per_epoch, validation_steps, validation_batch_size, validation_freq, max_queue_size, workers, use_multiprocessing)\u001b[0m\n\u001b[0;32m   1648\u001b[0m                         ):\n\u001b[0;32m   1649\u001b[0m                             \u001b[0mcallbacks\u001b[0m\u001b[1;33m.\u001b[0m\u001b[0mon_train_batch_begin\u001b[0m\u001b[1;33m(\u001b[0m\u001b[0mstep\u001b[0m\u001b[1;33m)\u001b[0m\u001b[1;33m\u001b[0m\u001b[1;33m\u001b[0m\u001b[0m\n\u001b[1;32m-> 1650\u001b[1;33m                             \u001b[0mtmp_logs\u001b[0m \u001b[1;33m=\u001b[0m \u001b[0mself\u001b[0m\u001b[1;33m.\u001b[0m\u001b[0mtrain_function\u001b[0m\u001b[1;33m(\u001b[0m\u001b[0miterator\u001b[0m\u001b[1;33m)\u001b[0m\u001b[1;33m\u001b[0m\u001b[1;33m\u001b[0m\u001b[0m\n\u001b[0m\u001b[0;32m   1651\u001b[0m                             \u001b[1;32mif\u001b[0m \u001b[0mdata_handler\u001b[0m\u001b[1;33m.\u001b[0m\u001b[0mshould_sync\u001b[0m\u001b[1;33m:\u001b[0m\u001b[1;33m\u001b[0m\u001b[1;33m\u001b[0m\u001b[0m\n\u001b[0;32m   1652\u001b[0m                                 \u001b[0mcontext\u001b[0m\u001b[1;33m.\u001b[0m\u001b[0masync_wait\u001b[0m\u001b[1;33m(\u001b[0m\u001b[1;33m)\u001b[0m\u001b[1;33m\u001b[0m\u001b[1;33m\u001b[0m\u001b[0m\n",
            "\u001b[1;32mc:\\Users\\baljanj\\Anaconda3\\lib\\site-packages\\tensorflow\\python\\util\\traceback_utils.py\u001b[0m in \u001b[0;36merror_handler\u001b[1;34m(*args, **kwargs)\u001b[0m\n\u001b[0;32m    148\u001b[0m     \u001b[0mfiltered_tb\u001b[0m \u001b[1;33m=\u001b[0m \u001b[1;32mNone\u001b[0m\u001b[1;33m\u001b[0m\u001b[1;33m\u001b[0m\u001b[0m\n\u001b[0;32m    149\u001b[0m     \u001b[1;32mtry\u001b[0m\u001b[1;33m:\u001b[0m\u001b[1;33m\u001b[0m\u001b[1;33m\u001b[0m\u001b[0m\n\u001b[1;32m--> 150\u001b[1;33m       \u001b[1;32mreturn\u001b[0m \u001b[0mfn\u001b[0m\u001b[1;33m(\u001b[0m\u001b[1;33m*\u001b[0m\u001b[0margs\u001b[0m\u001b[1;33m,\u001b[0m \u001b[1;33m**\u001b[0m\u001b[0mkwargs\u001b[0m\u001b[1;33m)\u001b[0m\u001b[1;33m\u001b[0m\u001b[1;33m\u001b[0m\u001b[0m\n\u001b[0m\u001b[0;32m    151\u001b[0m     \u001b[1;32mexcept\u001b[0m \u001b[0mException\u001b[0m \u001b[1;32mas\u001b[0m \u001b[0me\u001b[0m\u001b[1;33m:\u001b[0m\u001b[1;33m\u001b[0m\u001b[1;33m\u001b[0m\u001b[0m\n\u001b[0;32m    152\u001b[0m       \u001b[0mfiltered_tb\u001b[0m \u001b[1;33m=\u001b[0m \u001b[0m_process_traceback_frames\u001b[0m\u001b[1;33m(\u001b[0m\u001b[0me\u001b[0m\u001b[1;33m.\u001b[0m\u001b[0m__traceback__\u001b[0m\u001b[1;33m)\u001b[0m\u001b[1;33m\u001b[0m\u001b[1;33m\u001b[0m\u001b[0m\n",
            "\u001b[1;32mc:\\Users\\baljanj\\Anaconda3\\lib\\site-packages\\tensorflow\\python\\eager\\polymorphic_function\\polymorphic_function.py\u001b[0m in \u001b[0;36m__call__\u001b[1;34m(self, *args, **kwds)\u001b[0m\n\u001b[0;32m    878\u001b[0m \u001b[1;33m\u001b[0m\u001b[0m\n\u001b[0;32m    879\u001b[0m       \u001b[1;32mwith\u001b[0m \u001b[0mOptionalXlaContext\u001b[0m\u001b[1;33m(\u001b[0m\u001b[0mself\u001b[0m\u001b[1;33m.\u001b[0m\u001b[0m_jit_compile\u001b[0m\u001b[1;33m)\u001b[0m\u001b[1;33m:\u001b[0m\u001b[1;33m\u001b[0m\u001b[1;33m\u001b[0m\u001b[0m\n\u001b[1;32m--> 880\u001b[1;33m         \u001b[0mresult\u001b[0m \u001b[1;33m=\u001b[0m \u001b[0mself\u001b[0m\u001b[1;33m.\u001b[0m\u001b[0m_call\u001b[0m\u001b[1;33m(\u001b[0m\u001b[1;33m*\u001b[0m\u001b[0margs\u001b[0m\u001b[1;33m,\u001b[0m \u001b[1;33m**\u001b[0m\u001b[0mkwds\u001b[0m\u001b[1;33m)\u001b[0m\u001b[1;33m\u001b[0m\u001b[1;33m\u001b[0m\u001b[0m\n\u001b[0m\u001b[0;32m    881\u001b[0m \u001b[1;33m\u001b[0m\u001b[0m\n\u001b[0;32m    882\u001b[0m       \u001b[0mnew_tracing_count\u001b[0m \u001b[1;33m=\u001b[0m \u001b[0mself\u001b[0m\u001b[1;33m.\u001b[0m\u001b[0mexperimental_get_tracing_count\u001b[0m\u001b[1;33m(\u001b[0m\u001b[1;33m)\u001b[0m\u001b[1;33m\u001b[0m\u001b[1;33m\u001b[0m\u001b[0m\n",
            "\u001b[1;32mc:\\Users\\baljanj\\Anaconda3\\lib\\site-packages\\tensorflow\\python\\eager\\polymorphic_function\\polymorphic_function.py\u001b[0m in \u001b[0;36m_call\u001b[1;34m(self, *args, **kwds)\u001b[0m\n\u001b[0;32m    910\u001b[0m       \u001b[1;31m# In this case we have created variables on the first call, so we run the\u001b[0m\u001b[1;33m\u001b[0m\u001b[1;33m\u001b[0m\u001b[0m\n\u001b[0;32m    911\u001b[0m       \u001b[1;31m# defunned version which is guaranteed to never create variables.\u001b[0m\u001b[1;33m\u001b[0m\u001b[1;33m\u001b[0m\u001b[0m\n\u001b[1;32m--> 912\u001b[1;33m       \u001b[1;32mreturn\u001b[0m \u001b[0mself\u001b[0m\u001b[1;33m.\u001b[0m\u001b[0m_no_variable_creation_fn\u001b[0m\u001b[1;33m(\u001b[0m\u001b[1;33m*\u001b[0m\u001b[0margs\u001b[0m\u001b[1;33m,\u001b[0m \u001b[1;33m**\u001b[0m\u001b[0mkwds\u001b[0m\u001b[1;33m)\u001b[0m  \u001b[1;31m# pylint: disable=not-callable\u001b[0m\u001b[1;33m\u001b[0m\u001b[1;33m\u001b[0m\u001b[0m\n\u001b[0m\u001b[0;32m    913\u001b[0m     \u001b[1;32melif\u001b[0m \u001b[0mself\u001b[0m\u001b[1;33m.\u001b[0m\u001b[0m_variable_creation_fn\u001b[0m \u001b[1;32mis\u001b[0m \u001b[1;32mnot\u001b[0m \u001b[1;32mNone\u001b[0m\u001b[1;33m:\u001b[0m\u001b[1;33m\u001b[0m\u001b[1;33m\u001b[0m\u001b[0m\n\u001b[0;32m    914\u001b[0m       \u001b[1;31m# Release the lock early so that multiple threads can perform the call\u001b[0m\u001b[1;33m\u001b[0m\u001b[1;33m\u001b[0m\u001b[0m\n",
            "\u001b[1;32mc:\\Users\\baljanj\\Anaconda3\\lib\\site-packages\\tensorflow\\python\\eager\\polymorphic_function\\tracing_compiler.py\u001b[0m in \u001b[0;36m__call__\u001b[1;34m(self, *args, **kwargs)\u001b[0m\n\u001b[0;32m    132\u001b[0m       (concrete_function,\n\u001b[0;32m    133\u001b[0m        filtered_flat_args) = self._maybe_define_function(args, kwargs)\n\u001b[1;32m--> 134\u001b[1;33m     return concrete_function._call_flat(\n\u001b[0m\u001b[0;32m    135\u001b[0m         filtered_flat_args, captured_inputs=concrete_function.captured_inputs)  # pylint: disable=protected-access\n\u001b[0;32m    136\u001b[0m \u001b[1;33m\u001b[0m\u001b[0m\n",
            "\u001b[1;32mc:\\Users\\baljanj\\Anaconda3\\lib\\site-packages\\tensorflow\\python\\eager\\polymorphic_function\\monomorphic_function.py\u001b[0m in \u001b[0;36m_call_flat\u001b[1;34m(self, args, captured_inputs, cancellation_manager)\u001b[0m\n\u001b[0;32m   1743\u001b[0m         and executing_eagerly):\n\u001b[0;32m   1744\u001b[0m       \u001b[1;31m# No tape is watching; skip to running the function.\u001b[0m\u001b[1;33m\u001b[0m\u001b[1;33m\u001b[0m\u001b[0m\n\u001b[1;32m-> 1745\u001b[1;33m       return self._build_call_outputs(self._inference_function.call(\n\u001b[0m\u001b[0;32m   1746\u001b[0m           ctx, args, cancellation_manager=cancellation_manager))\n\u001b[0;32m   1747\u001b[0m     forward_backward = self._select_forward_and_backward_functions(\n",
            "\u001b[1;32mc:\\Users\\baljanj\\Anaconda3\\lib\\site-packages\\tensorflow\\python\\eager\\polymorphic_function\\monomorphic_function.py\u001b[0m in \u001b[0;36mcall\u001b[1;34m(self, ctx, args, cancellation_manager)\u001b[0m\n\u001b[0;32m    376\u001b[0m       \u001b[1;32mwith\u001b[0m \u001b[0m_InterpolateFunctionError\u001b[0m\u001b[1;33m(\u001b[0m\u001b[0mself\u001b[0m\u001b[1;33m)\u001b[0m\u001b[1;33m:\u001b[0m\u001b[1;33m\u001b[0m\u001b[1;33m\u001b[0m\u001b[0m\n\u001b[0;32m    377\u001b[0m         \u001b[1;32mif\u001b[0m \u001b[0mcancellation_manager\u001b[0m \u001b[1;32mis\u001b[0m \u001b[1;32mNone\u001b[0m\u001b[1;33m:\u001b[0m\u001b[1;33m\u001b[0m\u001b[1;33m\u001b[0m\u001b[0m\n\u001b[1;32m--> 378\u001b[1;33m           outputs = execute.execute(\n\u001b[0m\u001b[0;32m    379\u001b[0m               \u001b[0mstr\u001b[0m\u001b[1;33m(\u001b[0m\u001b[0mself\u001b[0m\u001b[1;33m.\u001b[0m\u001b[0msignature\u001b[0m\u001b[1;33m.\u001b[0m\u001b[0mname\u001b[0m\u001b[1;33m)\u001b[0m\u001b[1;33m,\u001b[0m\u001b[1;33m\u001b[0m\u001b[1;33m\u001b[0m\u001b[0m\n\u001b[0;32m    380\u001b[0m               \u001b[0mnum_outputs\u001b[0m\u001b[1;33m=\u001b[0m\u001b[0mself\u001b[0m\u001b[1;33m.\u001b[0m\u001b[0m_num_outputs\u001b[0m\u001b[1;33m,\u001b[0m\u001b[1;33m\u001b[0m\u001b[1;33m\u001b[0m\u001b[0m\n",
            "\u001b[1;32mc:\\Users\\baljanj\\Anaconda3\\lib\\site-packages\\tensorflow\\python\\eager\\execute.py\u001b[0m in \u001b[0;36mquick_execute\u001b[1;34m(op_name, num_outputs, inputs, attrs, ctx, name)\u001b[0m\n\u001b[0;32m     50\u001b[0m   \u001b[1;32mtry\u001b[0m\u001b[1;33m:\u001b[0m\u001b[1;33m\u001b[0m\u001b[1;33m\u001b[0m\u001b[0m\n\u001b[0;32m     51\u001b[0m     \u001b[0mctx\u001b[0m\u001b[1;33m.\u001b[0m\u001b[0mensure_initialized\u001b[0m\u001b[1;33m(\u001b[0m\u001b[1;33m)\u001b[0m\u001b[1;33m\u001b[0m\u001b[1;33m\u001b[0m\u001b[0m\n\u001b[1;32m---> 52\u001b[1;33m     tensors = pywrap_tfe.TFE_Py_Execute(ctx._handle, device_name, op_name,\n\u001b[0m\u001b[0;32m     53\u001b[0m                                         inputs, attrs, num_outputs)\n\u001b[0;32m     54\u001b[0m   \u001b[1;32mexcept\u001b[0m \u001b[0mcore\u001b[0m\u001b[1;33m.\u001b[0m\u001b[0m_NotOkStatusException\u001b[0m \u001b[1;32mas\u001b[0m \u001b[0me\u001b[0m\u001b[1;33m:\u001b[0m\u001b[1;33m\u001b[0m\u001b[1;33m\u001b[0m\u001b[0m\n",
            "\u001b[1;31mKeyboardInterrupt\u001b[0m: "
          ]
        }
      ],
      "source": [
        "model.fit(X_train, y_train, epochs=1000, batch_size=32, callbacks=[PlotLossesKeras(), monitor_val_acc], shuffle=1000, verbose=0)"
      ]
    },
    {
      "cell_type": "code",
      "execution_count": null,
      "metadata": {
        "colab": {
          "base_uri": "https://localhost:8080/"
        },
        "id": "3imTyXMMT9ro",
        "outputId": "893e542b-d735-4890-a1c3-ad053b04b2b1"
      },
      "outputs": [
        {
          "name": "stdout",
          "output_type": "stream",
          "text": [
            "2658/2658 [==============================] - 2s 777us/step - loss: 0.5289 - accuracy: 0.8029\n"
          ]
        },
        {
          "data": {
            "text/plain": [
              "[0.5288932919502258, 0.8028882741928101]"
            ]
          },
          "execution_count": 19,
          "metadata": {},
          "output_type": "execute_result"
        }
      ],
      "source": [
        "model.evaluate(X_test, y_test)"
      ]
    }
  ],
  "metadata": {
    "colab": {
      "provenance": []
    },
    "kernelspec": {
      "display_name": "ktai",
      "language": "python",
      "name": "python3"
    },
    "language_info": {
      "codemirror_mode": {
        "name": "ipython",
        "version": 3
      },
      "file_extension": ".py",
      "mimetype": "text/x-python",
      "name": "python",
      "nbconvert_exporter": "python",
      "pygments_lexer": "ipython3",
      "version": "3.9.13"
    },
    "orig_nbformat": 4
  },
  "nbformat": 4,
  "nbformat_minor": 0
}
