{
  "cells": [
    {
      "attachments": {},
      "cell_type": "markdown",
      "metadata": {
        "id": "iCp4euQ1T9rc"
      },
      "source": [
        "## DNN model using k-means and Homogeneity score \n",
        "*Summary:* In this notebook, we train a DNN model using the Homogeneity score to rank the features, and then select the features that score above 0.1."
      ]
    },
    {
      "cell_type": "code",
      "execution_count": 65,
      "metadata": {
        "id": "c-Ydmz1dT9rg"
      },
      "outputs": [],
      "source": [
        "import numpy as np\n",
        "import pandas as pd\n",
        "import matplotlib.pyplot as plt\n",
        "\n",
        "train = pd.read_csv(\"../dataset/UNSW_NB15_training-set.csv\")\n",
        "test = pd.read_csv(\"../dataset/UNSW_NB15_testing-set.csv\")"
      ]
    },
    {
      "cell_type": "code",
      "execution_count": 74,
      "metadata": {},
      "outputs": [
        {
          "name": "stdout",
          "output_type": "stream",
          "text": [
            "Numerical features: 39\n",
            "Categorical features: 3\n"
          ]
        }
      ],
      "source": [
        "from sklearn.preprocessing import MinMaxScaler\n",
        "\n",
        "df = pd.concat([train, test]).reset_index(drop=True)\n",
        "y_df = df['attack_cat']\n",
        "y_df_dummies = pd.get_dummies(y_df)\n",
        "df = df.drop(columns=['id', 'label', 'attack_cat'], axis=1)\n",
        "\n",
        "# get numeric column names without label column\n",
        "num_cols = df._get_numeric_data().columns\n",
        "\n",
        "# subract numeric columns and 'attack_cat' column from all columns to get categorical columns \n",
        "cat_cols = list(set(df.columns) - set(num_cols))\n",
        "\n",
        "print(f\"Numerical features: {len(num_cols)}\\nCategorical features: {len(cat_cols)}\")"
      ]
    },
    {
      "cell_type": "code",
      "execution_count": 75,
      "metadata": {},
      "outputs": [
        {
          "data": {
            "text/html": [
              "<div>\n",
              "<style scoped>\n",
              "    .dataframe tbody tr th:only-of-type {\n",
              "        vertical-align: middle;\n",
              "    }\n",
              "\n",
              "    .dataframe tbody tr th {\n",
              "        vertical-align: top;\n",
              "    }\n",
              "\n",
              "    .dataframe thead th {\n",
              "        text-align: right;\n",
              "    }\n",
              "</style>\n",
              "<table border=\"1\" class=\"dataframe\">\n",
              "  <thead>\n",
              "    <tr style=\"text-align: right;\">\n",
              "      <th></th>\n",
              "      <th>service</th>\n",
              "      <th>state</th>\n",
              "      <th>proto</th>\n",
              "    </tr>\n",
              "  </thead>\n",
              "  <tbody>\n",
              "    <tr>\n",
              "      <th>0</th>\n",
              "      <td>0</td>\n",
              "      <td>5</td>\n",
              "      <td>119</td>\n",
              "    </tr>\n",
              "    <tr>\n",
              "      <th>1</th>\n",
              "      <td>0</td>\n",
              "      <td>5</td>\n",
              "      <td>119</td>\n",
              "    </tr>\n",
              "    <tr>\n",
              "      <th>2</th>\n",
              "      <td>0</td>\n",
              "      <td>5</td>\n",
              "      <td>119</td>\n",
              "    </tr>\n",
              "    <tr>\n",
              "      <th>3</th>\n",
              "      <td>0</td>\n",
              "      <td>5</td>\n",
              "      <td>119</td>\n",
              "    </tr>\n",
              "    <tr>\n",
              "      <th>4</th>\n",
              "      <td>0</td>\n",
              "      <td>5</td>\n",
              "      <td>119</td>\n",
              "    </tr>\n",
              "    <tr>\n",
              "      <th>...</th>\n",
              "      <td>...</td>\n",
              "      <td>...</td>\n",
              "      <td>...</td>\n",
              "    </tr>\n",
              "    <tr>\n",
              "      <th>257668</th>\n",
              "      <td>2</td>\n",
              "      <td>5</td>\n",
              "      <td>119</td>\n",
              "    </tr>\n",
              "    <tr>\n",
              "      <th>257669</th>\n",
              "      <td>0</td>\n",
              "      <td>4</td>\n",
              "      <td>113</td>\n",
              "    </tr>\n",
              "    <tr>\n",
              "      <th>257670</th>\n",
              "      <td>2</td>\n",
              "      <td>5</td>\n",
              "      <td>119</td>\n",
              "    </tr>\n",
              "    <tr>\n",
              "      <th>257671</th>\n",
              "      <td>2</td>\n",
              "      <td>5</td>\n",
              "      <td>119</td>\n",
              "    </tr>\n",
              "    <tr>\n",
              "      <th>257672</th>\n",
              "      <td>2</td>\n",
              "      <td>5</td>\n",
              "      <td>119</td>\n",
              "    </tr>\n",
              "  </tbody>\n",
              "</table>\n",
              "<p>257673 rows × 3 columns</p>\n",
              "</div>"
            ],
            "text/plain": [
              "        service  state  proto\n",
              "0             0      5    119\n",
              "1             0      5    119\n",
              "2             0      5    119\n",
              "3             0      5    119\n",
              "4             0      5    119\n",
              "...         ...    ...    ...\n",
              "257668        2      5    119\n",
              "257669        0      4    113\n",
              "257670        2      5    119\n",
              "257671        2      5    119\n",
              "257672        2      5    119\n",
              "\n",
              "[257673 rows x 3 columns]"
            ]
          },
          "execution_count": 75,
          "metadata": {},
          "output_type": "execute_result"
        }
      ],
      "source": [
        "# label encoding for categorical features\n",
        "df[cat_cols] = df[cat_cols].astype('category')\n",
        "for cat in cat_cols:\n",
        "    df[cat] = df[cat].cat.codes\n",
        "\n",
        "y_df = y_df.astype('category').cat.codes\n",
        "df[cat_cols]"
      ]
    },
    {
      "cell_type": "code",
      "execution_count": 78,
      "metadata": {},
      "outputs": [
        {
          "data": {
            "text/plain": [
              "((257673, 42), (257673, 10))"
            ]
          },
          "execution_count": 78,
          "metadata": {},
          "output_type": "execute_result"
        }
      ],
      "source": [
        "# y_df = df.iloc[:, -2:-1]\n",
        "\n",
        "# apply min-max scaler that scales the variables in the range [0-1]\n",
        "scl = MinMaxScaler()\n",
        "df = pd.DataFrame(scl.fit_transform(df), columns=df.columns)\n",
        "\n",
        "(df.shape, y_df_dummies.shape)"
      ]
    },
    {
      "cell_type": "code",
      "execution_count": 87,
      "metadata": {},
      "outputs": [
        {
          "name": "stderr",
          "output_type": "stream",
          "text": [
            "c:\\Users\\janba\\anaconda3\\envs\\ktai\\lib\\site-packages\\sklearn\\cluster\\_kmeans.py:1255: ConvergenceWarning: Number of distinct clusters (9) found smaller than n_clusters (10). Possibly due to duplicate points in X.\n",
            "  return self.fit(X, sample_weight=sample_weight).labels_\n",
            "c:\\Users\\janba\\anaconda3\\envs\\ktai\\lib\\site-packages\\sklearn\\cluster\\_kmeans.py:1255: ConvergenceWarning: Number of distinct clusters (7) found smaller than n_clusters (10). Possibly due to duplicate points in X.\n",
            "  return self.fit(X, sample_weight=sample_weight).labels_\n",
            "c:\\Users\\janba\\anaconda3\\envs\\ktai\\lib\\site-packages\\sklearn\\cluster\\_kmeans.py:1255: ConvergenceWarning: Number of distinct clusters (4) found smaller than n_clusters (10). Possibly due to duplicate points in X.\n",
            "  return self.fit(X, sample_weight=sample_weight).labels_\n",
            "c:\\Users\\janba\\anaconda3\\envs\\ktai\\lib\\site-packages\\sklearn\\cluster\\_kmeans.py:1255: ConvergenceWarning: Number of distinct clusters (4) found smaller than n_clusters (10). Possibly due to duplicate points in X.\n",
            "  return self.fit(X, sample_weight=sample_weight).labels_\n",
            "c:\\Users\\janba\\anaconda3\\envs\\ktai\\lib\\site-packages\\sklearn\\cluster\\_kmeans.py:1255: ConvergenceWarning: Number of distinct clusters (2) found smaller than n_clusters (10). Possibly due to duplicate points in X.\n",
            "  return self.fit(X, sample_weight=sample_weight).labels_\n"
          ]
        }
      ],
      "source": [
        "from sklearn.cluster import KMeans\n",
        "from sklearn import metrics\n",
        "\n",
        "X_df = df\n",
        "true_labels = y_df.to_numpy().flatten().tolist()\n",
        "\n",
        "n = len(X_df.columns)\n",
        "HS = []\n",
        "\n",
        "for i in range(n):\n",
        "    c = KMeans(init='k-means++', n_init=10, n_clusters=10, random_state=42).fit_predict(X=X_df.iloc[:, i].to_frame())\n",
        "    HS.append((i, metrics.homogeneity_score(true_labels, c)))\n"
      ]
    },
    {
      "cell_type": "code",
      "execution_count": 93,
      "metadata": {},
      "outputs": [
        {
          "data": {
            "text/plain": [
              "[(2, 0.2768750943824372),\n",
              " (34, 0.27109539245999514),\n",
              " (31, 0.26840455032536437),\n",
              " (10, 0.25948064420829586),\n",
              " (9, 0.23642205253857246),\n",
              " (33, 0.2361395077080385),\n",
              " (40, 0.23468787043122932),\n",
              " (30, 0.22256246071963218),\n",
              " (32, 0.2167245933280385),\n",
              " (35, 0.21005535325051944),\n",
              " (27, 0.20682009783500332),\n",
              " (11, 0.19616924535142738),\n",
              " (3, 0.1861055695465157),\n",
              " (1, 0.1784242810116429),\n",
              " (39, 0.177853910870278),\n",
              " (8, 0.17603159097741836),\n",
              " (26, 0.16400777317522375),\n",
              " (19, 0.11751515173922225),\n",
              " (22, 0.11178339577672118),\n",
              " (21, 0.10269631302899102),\n",
              " (20, 0.10259214888609472),\n",
              " (12, 0.09646186521352008),\n",
              " (23, 0.09193077681201624),\n",
              " (25, 0.07887957408364173),\n",
              " (24, 0.06762818019849628),\n",
              " (0, 0.0660824717139018),\n",
              " (16, 0.04464147473832232),\n",
              " (5, 0.04216630739466409),\n",
              " (14, 0.036106324441655686),\n",
              " (17, 0.032906489455632286),\n",
              " (4, 0.03275095523667059),\n",
              " (7, 0.024101785064552243),\n",
              " (38, 0.022993945934405766),\n",
              " (18, 0.022886429789776643),\n",
              " (28, 0.02065963776468419),\n",
              " (15, 0.01366638540167971),\n",
              " (13, 0.012756954098506431),\n",
              " (6, 0.00896894488463706),\n",
              " (41, 0.008720858908669367),\n",
              " (36, 0.004743833501047486),\n",
              " (37, 0.004742782579760852),\n",
              " (29, 0.0030323231451381337)]"
            ]
          },
          "execution_count": 93,
          "metadata": {},
          "output_type": "execute_result"
        }
      ],
      "source": [
        "HS.sort(key=lambda x: x[1], reverse=True)\n",
        "HS"
      ]
    },
    {
      "cell_type": "code",
      "execution_count": 112,
      "metadata": {},
      "outputs": [
        {
          "data": {
            "text/html": [
              "<div>\n",
              "<style scoped>\n",
              "    .dataframe tbody tr th:only-of-type {\n",
              "        vertical-align: middle;\n",
              "    }\n",
              "\n",
              "    .dataframe tbody tr th {\n",
              "        vertical-align: top;\n",
              "    }\n",
              "\n",
              "    .dataframe thead th {\n",
              "        text-align: right;\n",
              "    }\n",
              "</style>\n",
              "<table border=\"1\" class=\"dataframe\">\n",
              "  <thead>\n",
              "    <tr style=\"text-align: right;\">\n",
              "      <th></th>\n",
              "      <th>service</th>\n",
              "      <th>ct_dst_sport_ltm</th>\n",
              "      <th>ct_state_ttl</th>\n",
              "      <th>dttl</th>\n",
              "      <th>sttl</th>\n",
              "      <th>ct_src_dport_ltm</th>\n",
              "      <th>ct_srv_dst</th>\n",
              "      <th>ct_srv_src</th>\n",
              "      <th>ct_dst_ltm</th>\n",
              "      <th>ct_dst_src_ltm</th>\n",
              "      <th>...</th>\n",
              "      <th>sload</th>\n",
              "      <th>state</th>\n",
              "      <th>proto</th>\n",
              "      <th>ct_src_ltm</th>\n",
              "      <th>rate</th>\n",
              "      <th>smean</th>\n",
              "      <th>swin</th>\n",
              "      <th>dwin</th>\n",
              "      <th>dtcpb</th>\n",
              "      <th>stcpb</th>\n",
              "    </tr>\n",
              "  </thead>\n",
              "  <tbody>\n",
              "    <tr>\n",
              "      <th>0</th>\n",
              "      <td>0.000000</td>\n",
              "      <td>0.000000</td>\n",
              "      <td>0.333333</td>\n",
              "      <td>0.000000</td>\n",
              "      <td>0.996078</td>\n",
              "      <td>0.000000</td>\n",
              "      <td>0.016393</td>\n",
              "      <td>0.016129</td>\n",
              "      <td>0.000000</td>\n",
              "      <td>0.015625</td>\n",
              "      <td>...</td>\n",
              "      <td>0.030121</td>\n",
              "      <td>0.5</td>\n",
              "      <td>0.901515</td>\n",
              "      <td>0.000000</td>\n",
              "      <td>0.090909</td>\n",
              "      <td>0.151351</td>\n",
              "      <td>0.0</td>\n",
              "      <td>0.0</td>\n",
              "      <td>0.000000</td>\n",
              "      <td>0.000000</td>\n",
              "    </tr>\n",
              "    <tr>\n",
              "      <th>1</th>\n",
              "      <td>0.000000</td>\n",
              "      <td>0.000000</td>\n",
              "      <td>0.333333</td>\n",
              "      <td>0.000000</td>\n",
              "      <td>0.996078</td>\n",
              "      <td>0.000000</td>\n",
              "      <td>0.016393</td>\n",
              "      <td>0.016129</td>\n",
              "      <td>0.000000</td>\n",
              "      <td>0.015625</td>\n",
              "      <td>...</td>\n",
              "      <td>0.147128</td>\n",
              "      <td>0.5</td>\n",
              "      <td>0.901515</td>\n",
              "      <td>0.000000</td>\n",
              "      <td>0.125000</td>\n",
              "      <td>0.579054</td>\n",
              "      <td>0.0</td>\n",
              "      <td>0.0</td>\n",
              "      <td>0.000000</td>\n",
              "      <td>0.000000</td>\n",
              "    </tr>\n",
              "    <tr>\n",
              "      <th>2</th>\n",
              "      <td>0.000000</td>\n",
              "      <td>0.000000</td>\n",
              "      <td>0.333333</td>\n",
              "      <td>0.000000</td>\n",
              "      <td>0.996078</td>\n",
              "      <td>0.000000</td>\n",
              "      <td>0.032787</td>\n",
              "      <td>0.032258</td>\n",
              "      <td>0.000000</td>\n",
              "      <td>0.031250</td>\n",
              "      <td>...</td>\n",
              "      <td>0.142685</td>\n",
              "      <td>0.5</td>\n",
              "      <td>0.901515</td>\n",
              "      <td>0.000000</td>\n",
              "      <td>0.200000</td>\n",
              "      <td>0.344595</td>\n",
              "      <td>0.0</td>\n",
              "      <td>0.0</td>\n",
              "      <td>0.000000</td>\n",
              "      <td>0.000000</td>\n",
              "    </tr>\n",
              "    <tr>\n",
              "      <th>3</th>\n",
              "      <td>0.000000</td>\n",
              "      <td>0.000000</td>\n",
              "      <td>0.333333</td>\n",
              "      <td>0.000000</td>\n",
              "      <td>0.996078</td>\n",
              "      <td>0.017241</td>\n",
              "      <td>0.032787</td>\n",
              "      <td>0.032258</td>\n",
              "      <td>0.017241</td>\n",
              "      <td>0.031250</td>\n",
              "      <td>...</td>\n",
              "      <td>0.100200</td>\n",
              "      <td>0.5</td>\n",
              "      <td>0.901515</td>\n",
              "      <td>0.016949</td>\n",
              "      <td>0.166667</td>\n",
              "      <td>0.287838</td>\n",
              "      <td>0.0</td>\n",
              "      <td>0.0</td>\n",
              "      <td>0.000000</td>\n",
              "      <td>0.000000</td>\n",
              "    </tr>\n",
              "    <tr>\n",
              "      <th>4</th>\n",
              "      <td>0.000000</td>\n",
              "      <td>0.000000</td>\n",
              "      <td>0.333333</td>\n",
              "      <td>0.000000</td>\n",
              "      <td>0.996078</td>\n",
              "      <td>0.017241</td>\n",
              "      <td>0.032787</td>\n",
              "      <td>0.032258</td>\n",
              "      <td>0.017241</td>\n",
              "      <td>0.031250</td>\n",
              "      <td>...</td>\n",
              "      <td>0.142017</td>\n",
              "      <td>0.5</td>\n",
              "      <td>0.901515</td>\n",
              "      <td>0.016949</td>\n",
              "      <td>0.100000</td>\n",
              "      <td>0.702027</td>\n",
              "      <td>0.0</td>\n",
              "      <td>0.0</td>\n",
              "      <td>0.000000</td>\n",
              "      <td>0.000000</td>\n",
              "    </tr>\n",
              "    <tr>\n",
              "      <th>...</th>\n",
              "      <td>...</td>\n",
              "      <td>...</td>\n",
              "      <td>...</td>\n",
              "      <td>...</td>\n",
              "      <td>...</td>\n",
              "      <td>...</td>\n",
              "      <td>...</td>\n",
              "      <td>...</td>\n",
              "      <td>...</td>\n",
              "      <td>...</td>\n",
              "      <td>...</td>\n",
              "      <td>...</td>\n",
              "      <td>...</td>\n",
              "      <td>...</td>\n",
              "      <td>...</td>\n",
              "      <td>...</td>\n",
              "      <td>...</td>\n",
              "      <td>...</td>\n",
              "      <td>...</td>\n",
              "      <td>...</td>\n",
              "      <td>...</td>\n",
              "    </tr>\n",
              "    <tr>\n",
              "      <th>257668</th>\n",
              "      <td>0.166667</td>\n",
              "      <td>0.266667</td>\n",
              "      <td>0.333333</td>\n",
              "      <td>0.000000</td>\n",
              "      <td>0.996078</td>\n",
              "      <td>0.396552</td>\n",
              "      <td>0.377049</td>\n",
              "      <td>0.370968</td>\n",
              "      <td>0.396552</td>\n",
              "      <td>0.359375</td>\n",
              "      <td>...</td>\n",
              "      <td>0.008461</td>\n",
              "      <td>0.5</td>\n",
              "      <td>0.901515</td>\n",
              "      <td>0.389831</td>\n",
              "      <td>0.111111</td>\n",
              "      <td>0.022297</td>\n",
              "      <td>0.0</td>\n",
              "      <td>0.0</td>\n",
              "      <td>0.000000</td>\n",
              "      <td>0.000000</td>\n",
              "    </tr>\n",
              "    <tr>\n",
              "      <th>257669</th>\n",
              "      <td>0.000000</td>\n",
              "      <td>0.000000</td>\n",
              "      <td>0.166667</td>\n",
              "      <td>0.992126</td>\n",
              "      <td>0.996078</td>\n",
              "      <td>0.000000</td>\n",
              "      <td>0.000000</td>\n",
              "      <td>0.000000</td>\n",
              "      <td>0.000000</td>\n",
              "      <td>0.015625</td>\n",
              "      <td>...</td>\n",
              "      <td>0.000001</td>\n",
              "      <td>0.4</td>\n",
              "      <td>0.856061</td>\n",
              "      <td>0.000000</td>\n",
              "      <td>0.000034</td>\n",
              "      <td>0.025676</td>\n",
              "      <td>1.0</td>\n",
              "      <td>1.0</td>\n",
              "      <td>0.804002</td>\n",
              "      <td>0.819281</td>\n",
              "    </tr>\n",
              "    <tr>\n",
              "      <th>257670</th>\n",
              "      <td>0.166667</td>\n",
              "      <td>0.044444</td>\n",
              "      <td>0.333333</td>\n",
              "      <td>0.000000</td>\n",
              "      <td>0.996078</td>\n",
              "      <td>0.034483</td>\n",
              "      <td>0.180328</td>\n",
              "      <td>0.177419</td>\n",
              "      <td>0.034483</td>\n",
              "      <td>0.187500</td>\n",
              "      <td>...</td>\n",
              "      <td>0.008461</td>\n",
              "      <td>0.5</td>\n",
              "      <td>0.901515</td>\n",
              "      <td>0.033898</td>\n",
              "      <td>0.111111</td>\n",
              "      <td>0.022297</td>\n",
              "      <td>0.0</td>\n",
              "      <td>0.0</td>\n",
              "      <td>0.000000</td>\n",
              "      <td>0.000000</td>\n",
              "    </tr>\n",
              "    <tr>\n",
              "      <th>257671</th>\n",
              "      <td>0.166667</td>\n",
              "      <td>0.288889</td>\n",
              "      <td>0.333333</td>\n",
              "      <td>0.000000</td>\n",
              "      <td>0.996078</td>\n",
              "      <td>0.500000</td>\n",
              "      <td>0.475410</td>\n",
              "      <td>0.467742</td>\n",
              "      <td>0.500000</td>\n",
              "      <td>0.453125</td>\n",
              "      <td>...</td>\n",
              "      <td>0.008461</td>\n",
              "      <td>0.5</td>\n",
              "      <td>0.901515</td>\n",
              "      <td>0.491525</td>\n",
              "      <td>0.111111</td>\n",
              "      <td>0.022297</td>\n",
              "      <td>0.0</td>\n",
              "      <td>0.0</td>\n",
              "      <td>0.000000</td>\n",
              "      <td>0.000000</td>\n",
              "    </tr>\n",
              "    <tr>\n",
              "      <th>257672</th>\n",
              "      <td>0.166667</td>\n",
              "      <td>0.333333</td>\n",
              "      <td>0.333333</td>\n",
              "      <td>0.000000</td>\n",
              "      <td>0.996078</td>\n",
              "      <td>0.500000</td>\n",
              "      <td>0.475410</td>\n",
              "      <td>0.467742</td>\n",
              "      <td>0.500000</td>\n",
              "      <td>0.453125</td>\n",
              "      <td>...</td>\n",
              "      <td>0.008461</td>\n",
              "      <td>0.5</td>\n",
              "      <td>0.901515</td>\n",
              "      <td>0.491525</td>\n",
              "      <td>0.111111</td>\n",
              "      <td>0.022297</td>\n",
              "      <td>0.0</td>\n",
              "      <td>0.0</td>\n",
              "      <td>0.000000</td>\n",
              "      <td>0.000000</td>\n",
              "    </tr>\n",
              "  </tbody>\n",
              "</table>\n",
              "<p>257673 rows × 21 columns</p>\n",
              "</div>"
            ],
            "text/plain": [
              "         service  ct_dst_sport_ltm  ct_state_ttl      dttl      sttl  \\\n",
              "0       0.000000          0.000000      0.333333  0.000000  0.996078   \n",
              "1       0.000000          0.000000      0.333333  0.000000  0.996078   \n",
              "2       0.000000          0.000000      0.333333  0.000000  0.996078   \n",
              "3       0.000000          0.000000      0.333333  0.000000  0.996078   \n",
              "4       0.000000          0.000000      0.333333  0.000000  0.996078   \n",
              "...          ...               ...           ...       ...       ...   \n",
              "257668  0.166667          0.266667      0.333333  0.000000  0.996078   \n",
              "257669  0.000000          0.000000      0.166667  0.992126  0.996078   \n",
              "257670  0.166667          0.044444      0.333333  0.000000  0.996078   \n",
              "257671  0.166667          0.288889      0.333333  0.000000  0.996078   \n",
              "257672  0.166667          0.333333      0.333333  0.000000  0.996078   \n",
              "\n",
              "        ct_src_dport_ltm  ct_srv_dst  ct_srv_src  ct_dst_ltm  ct_dst_src_ltm  \\\n",
              "0               0.000000    0.016393    0.016129    0.000000        0.015625   \n",
              "1               0.000000    0.016393    0.016129    0.000000        0.015625   \n",
              "2               0.000000    0.032787    0.032258    0.000000        0.031250   \n",
              "3               0.017241    0.032787    0.032258    0.017241        0.031250   \n",
              "4               0.017241    0.032787    0.032258    0.017241        0.031250   \n",
              "...                  ...         ...         ...         ...             ...   \n",
              "257668          0.396552    0.377049    0.370968    0.396552        0.359375   \n",
              "257669          0.000000    0.000000    0.000000    0.000000        0.015625   \n",
              "257670          0.034483    0.180328    0.177419    0.034483        0.187500   \n",
              "257671          0.500000    0.475410    0.467742    0.500000        0.453125   \n",
              "257672          0.500000    0.475410    0.467742    0.500000        0.453125   \n",
              "\n",
              "        ...     sload  state     proto  ct_src_ltm      rate     smean  swin  \\\n",
              "0       ...  0.030121    0.5  0.901515    0.000000  0.090909  0.151351   0.0   \n",
              "1       ...  0.147128    0.5  0.901515    0.000000  0.125000  0.579054   0.0   \n",
              "2       ...  0.142685    0.5  0.901515    0.000000  0.200000  0.344595   0.0   \n",
              "3       ...  0.100200    0.5  0.901515    0.016949  0.166667  0.287838   0.0   \n",
              "4       ...  0.142017    0.5  0.901515    0.016949  0.100000  0.702027   0.0   \n",
              "...     ...       ...    ...       ...         ...       ...       ...   ...   \n",
              "257668  ...  0.008461    0.5  0.901515    0.389831  0.111111  0.022297   0.0   \n",
              "257669  ...  0.000001    0.4  0.856061    0.000000  0.000034  0.025676   1.0   \n",
              "257670  ...  0.008461    0.5  0.901515    0.033898  0.111111  0.022297   0.0   \n",
              "257671  ...  0.008461    0.5  0.901515    0.491525  0.111111  0.022297   0.0   \n",
              "257672  ...  0.008461    0.5  0.901515    0.491525  0.111111  0.022297   0.0   \n",
              "\n",
              "        dwin     dtcpb     stcpb  \n",
              "0        0.0  0.000000  0.000000  \n",
              "1        0.0  0.000000  0.000000  \n",
              "2        0.0  0.000000  0.000000  \n",
              "3        0.0  0.000000  0.000000  \n",
              "4        0.0  0.000000  0.000000  \n",
              "...      ...       ...       ...  \n",
              "257668   0.0  0.000000  0.000000  \n",
              "257669   1.0  0.804002  0.819281  \n",
              "257670   0.0  0.000000  0.000000  \n",
              "257671   0.0  0.000000  0.000000  \n",
              "257672   0.0  0.000000  0.000000  \n",
              "\n",
              "[257673 rows x 21 columns]"
            ]
          },
          "execution_count": 112,
          "metadata": {},
          "output_type": "execute_result"
        }
      ],
      "source": [
        "# filter by selecting all features with a HS-score of > 0.1, then map to get feature index\n",
        "feature_indices = list(map(lambda x: x[0], filter(lambda x: x[1] > 0.1, HS)))\n",
        "\n",
        "# select only the selected features by index\n",
        "df = df.iloc[:, feature_indices]\n",
        "df"
      ]
    },
    {
      "cell_type": "code",
      "execution_count": 114,
      "metadata": {
        "colab": {
          "base_uri": "https://localhost:8080/"
        },
        "id": "WBgBWmNxT9rk",
        "outputId": "14a8aaa8-9244-4aa6-861c-c67f397a81e3"
      },
      "outputs": [
        {
          "data": {
            "text/plain": [
              "((172640, 21), (85033, 21), (172640, 10), (85033, 10))"
            ]
          },
          "execution_count": 114,
          "metadata": {},
          "output_type": "execute_result"
        }
      ],
      "source": [
        "from sklearn.model_selection import train_test_split\n",
        "\n",
        "y = y_df_dummies\n",
        "X = df\n",
        "\n",
        "X_train, X_test, y_train, y_test = train_test_split(X, y, test_size=.33, random_state=42)\n",
        "(X_train.shape, X_test.shape, y_train.shape, y_test.shape)"
      ]
    },
    {
      "cell_type": "markdown",
      "metadata": {
        "id": "V2OXIw1eT9rn"
      },
      "source": [
        "# Tensorflow model"
      ]
    },
    {
      "cell_type": "code",
      "execution_count": 115,
      "metadata": {
        "colab": {
          "base_uri": "https://localhost:8080/"
        },
        "id": "pL6arLNAT9rn",
        "outputId": "5e1af8e0-3244-45ba-db0a-246a1fb4a7d9"
      },
      "outputs": [
        {
          "name": "stdout",
          "output_type": "stream",
          "text": [
            "Requirement already satisfied: livelossplot in c:\\users\\janba\\anaconda3\\envs\\ktai\\lib\\site-packages (0.5.5)\n",
            "Requirement already satisfied: matplotlib in c:\\users\\janba\\anaconda3\\envs\\ktai\\lib\\site-packages (from livelossplot) (3.6.2)\n",
            "Requirement already satisfied: bokeh in c:\\users\\janba\\anaconda3\\envs\\ktai\\lib\\site-packages (from livelossplot) (2.4.3)\n",
            "Requirement already satisfied: Jinja2>=2.9 in c:\\users\\janba\\anaconda3\\envs\\ktai\\lib\\site-packages (from bokeh->livelossplot) (3.1.2)\n",
            "Requirement already satisfied: pillow>=7.1.0 in c:\\users\\janba\\anaconda3\\envs\\ktai\\lib\\site-packages (from bokeh->livelossplot) (9.3.0)\n",
            "Requirement already satisfied: numpy>=1.11.3 in c:\\users\\janba\\anaconda3\\envs\\ktai\\lib\\site-packages (from bokeh->livelossplot) (1.23.5)\n",
            "Requirement already satisfied: packaging>=16.8 in c:\\users\\janba\\anaconda3\\envs\\ktai\\lib\\site-packages (from bokeh->livelossplot) (22.0)\n",
            "Requirement already satisfied: typing-extensions>=3.10.0 in c:\\users\\janba\\anaconda3\\envs\\ktai\\lib\\site-packages (from bokeh->livelossplot) (4.4.0)\n",
            "Requirement already satisfied: tornado>=5.1 in c:\\users\\janba\\anaconda3\\envs\\ktai\\lib\\site-packages (from bokeh->livelossplot) (6.2)\n",
            "Requirement already satisfied: PyYAML>=3.10 in c:\\users\\janba\\anaconda3\\envs\\ktai\\lib\\site-packages (from bokeh->livelossplot) (6.0)\n",
            "Requirement already satisfied: kiwisolver>=1.0.1 in c:\\users\\janba\\anaconda3\\envs\\ktai\\lib\\site-packages (from matplotlib->livelossplot) (1.4.4)\n",
            "Requirement already satisfied: cycler>=0.10 in c:\\users\\janba\\anaconda3\\envs\\ktai\\lib\\site-packages (from matplotlib->livelossplot) (0.11.0)\n",
            "Requirement already satisfied: fonttools>=4.22.0 in c:\\users\\janba\\anaconda3\\envs\\ktai\\lib\\site-packages (from matplotlib->livelossplot) (4.25.0)\n",
            "Requirement already satisfied: python-dateutil>=2.7 in c:\\users\\janba\\anaconda3\\envs\\ktai\\lib\\site-packages (from matplotlib->livelossplot) (2.8.2)\n",
            "Requirement already satisfied: pyparsing>=2.2.1 in c:\\users\\janba\\anaconda3\\envs\\ktai\\lib\\site-packages (from matplotlib->livelossplot) (3.0.9)\n",
            "Requirement already satisfied: contourpy>=1.0.1 in c:\\users\\janba\\anaconda3\\envs\\ktai\\lib\\site-packages (from matplotlib->livelossplot) (1.0.5)\n",
            "Requirement already satisfied: MarkupSafe>=2.0 in c:\\users\\janba\\anaconda3\\envs\\ktai\\lib\\site-packages (from Jinja2>=2.9->bokeh->livelossplot) (2.1.1)\n",
            "Requirement already satisfied: six>=1.5 in c:\\users\\janba\\anaconda3\\envs\\ktai\\lib\\site-packages (from python-dateutil>=2.7->matplotlib->livelossplot) (1.16.0)\n"
          ]
        }
      ],
      "source": [
        "import tensorflow as tf\n",
        "from tensorflow import keras\n",
        "from tensorflow.keras import layers\n",
        "from keras.callbacks import EarlyStopping\n",
        "import matplotlib.pyplot as plt\n",
        "plt.style.use('ggplot')\n",
        "!pip install livelossplot\n",
        "from livelossplot import PlotLossesKeras"
      ]
    },
    {
      "cell_type": "code",
      "execution_count": 116,
      "metadata": {
        "colab": {
          "base_uri": "https://localhost:8080/"
        },
        "id": "YRf3h8dVYZ13",
        "outputId": "bac5fc95-bd95-4c4a-b774-01488b461ad6"
      },
      "outputs": [
        {
          "name": "stdout",
          "output_type": "stream",
          "text": [
            "Model: \"sequential\"\n",
            "_________________________________________________________________\n",
            " Layer (type)                Output Shape              Param #   \n",
            "=================================================================\n",
            " dense (Dense)               (None, 256)               5632      \n",
            "                                                                 \n",
            " dense_1 (Dense)             (None, 128)               32896     \n",
            "                                                                 \n",
            " dense_2 (Dense)             (None, 128)               16512     \n",
            "                                                                 \n",
            " dense_3 (Dense)             (None, 128)               16512     \n",
            "                                                                 \n",
            " dense_4 (Dense)             (None, 128)               16512     \n",
            "                                                                 \n",
            " dense_5 (Dense)             (None, 10)                1290      \n",
            "                                                                 \n",
            "=================================================================\n",
            "Total params: 89,354\n",
            "Trainable params: 89,354\n",
            "Non-trainable params: 0\n",
            "_________________________________________________________________\n"
          ]
        }
      ],
      "source": [
        "model = keras.Sequential(\n",
        "    [\n",
        "        layers.Dense(256, activation='relu', input_dim=X_train.shape[1]),\n",
        "        layers.Dense(128, activation='relu', use_bias=True),\n",
        "        layers.Dense(128, activation='relu', use_bias=True),\n",
        "        layers.Dense(128, activation='relu', use_bias=True),\n",
        "        layers.Dense(128, activation='relu', use_bias=True),\n",
        "        layers.Dense(10, activation='softmax', use_bias=True)\n",
        "    ]\n",
        ")\n",
        "model.summary()"
      ]
    },
    {
      "cell_type": "code",
      "execution_count": 117,
      "metadata": {
        "id": "bLFgu1-BclBF"
      },
      "outputs": [],
      "source": [
        "model.compile('adam', loss='categorical_crossentropy', metrics='accuracy')\n",
        "\n",
        "monitor_val_acc = EarlyStopping(monitor='loss', patience=10)\n",
        "callbacks=[PlotLossesKeras()]"
      ]
    },
    {
      "cell_type": "code",
      "execution_count": 118,
      "metadata": {
        "colab": {
          "base_uri": "https://localhost:8080/",
          "height": 676
        },
        "id": "xXxTybBUc3Uz",
        "outputId": "13d25724-d140-4939-b3e5-a22929dae7de"
      },
      "outputs": [
        {
          "data": {
            "image/png": "[encoded data removed]",
            "text/plain": [
              "<Figure size 1200x800 with 2 Axes>"
            ]
          },
          "metadata": {},
          "output_type": "display_data"
        },
        {
          "name": "stdout",
          "output_type": "stream",
          "text": [
            "accuracy\n",
            "\taccuracy         \t (min:    0.733, max:    0.855, cur:    0.854)\n",
            "Loss\n",
            "\tloss             \t (min:    0.347, max:    0.686, cur:    0.351)\n"
          ]
        },
        {
          "data": {
            "text/plain": [
              "<keras.callbacks.History at 0x1d21e57d3a0>"
            ]
          },
          "execution_count": 118,
          "metadata": {},
          "output_type": "execute_result"
        }
      ],
      "source": [
        "model.fit(X_train, y_train, epochs=1000, batch_size=128, callbacks=[PlotLossesKeras(), monitor_val_acc], shuffle=1000, verbose=0)"
      ]
    },
    {
      "cell_type": "code",
      "execution_count": 119,
      "metadata": {
        "colab": {
          "base_uri": "https://localhost:8080/"
        },
        "id": "3imTyXMMT9ro",
        "outputId": "893e542b-d735-4890-a1c3-ad053b04b2b1"
      },
      "outputs": [
        {
          "name": "stdout",
          "output_type": "stream",
          "text": [
            "2658/2658 [==============================] - 3s 1ms/step - loss: 0.6336 - accuracy: 0.8160\n"
          ]
        },
        {
          "data": {
            "text/plain": [
              "[0.633587658405304, 0.815989077091217]"
            ]
          },
          "execution_count": 119,
          "metadata": {},
          "output_type": "execute_result"
        }
      ],
      "source": [
        "model.evaluate(X_test, y_test)"
      ]
    }
  ],
  "metadata": {
    "colab": {
      "provenance": []
    },
    "kernelspec": {
      "display_name": "ktai",
      "language": "python",
      "name": "python3"
    },
    "language_info": {
      "codemirror_mode": {
        "name": "ipython",
        "version": 3
      },
      "file_extension": ".py",
      "mimetype": "text/x-python",
      "name": "python",
      "nbconvert_exporter": "python",
      "pygments_lexer": "ipython3",
      "version": "3.8.16"
    },
    "orig_nbformat": 4
  },
  "nbformat": 4,
  "nbformat_minor": 0
}
