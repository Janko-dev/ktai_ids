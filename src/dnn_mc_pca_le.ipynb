{
 "cells": [
  {
   "attachments": {},
   "cell_type": "markdown",
   "metadata": {},
   "source": [
    "## Deep Neural Network model with Label Encoding PCA\n",
    "*Summary:* In this notebook, we use a DNN model using PCA analysis. We use label encoding for the categorical variables and reduce the dimensionality from a total of 196 features to 18 features, that retain the explanation of 95% of the variance."
   ]
  },
  {
   "cell_type": "code",
   "execution_count": 2,
   "metadata": {},
   "outputs": [],
   "source": [
    "import numpy as np\n",
    "import pandas as pd\n",
    "import matplotlib.pyplot as plt\n",
    "\n",
    "train = pd.read_csv(\"../dataset/UNSW_NB15_training-set.csv\")\n",
    "test = pd.read_csv(\"../dataset/UNSW_NB15_testing-set.csv\")"
   ]
  },
  {
   "cell_type": "code",
   "execution_count": 16,
   "metadata": {},
   "outputs": [
    {
     "name": "stdout",
     "output_type": "stream",
     "text": [
      "Numerical features: 39\n",
      "Categorical features: 3\n"
     ]
    }
   ],
   "source": [
    "df = pd.concat([train, test]).reset_index(drop=True)\n",
    "attack_cat_df = df['attack_cat']\n",
    "df = df.drop(columns=['id', 'attack_cat', 'label'], axis=1)\n",
    "\n",
    "# get numeric column names without label column\n",
    "num_cols = df._get_numeric_data().columns\n",
    "\n",
    "# subract numeric columns from all columns to get categorical columns \n",
    "cat_cols = list(set(df.columns) - set(num_cols))\n",
    "\n",
    "print(f\"Numerical features: {len(num_cols)}\\nCategorical features: {len(cat_cols)}\")"
   ]
  },
  {
   "cell_type": "code",
   "execution_count": 17,
   "metadata": {},
   "outputs": [
    {
     "data": {
      "text/html": [
       "<div>\n",
       "<style scoped>\n",
       "    .dataframe tbody tr th:only-of-type {\n",
       "        vertical-align: middle;\n",
       "    }\n",
       "\n",
       "    .dataframe tbody tr th {\n",
       "        vertical-align: top;\n",
       "    }\n",
       "\n",
       "    .dataframe thead th {\n",
       "        text-align: right;\n",
       "    }\n",
       "</style>\n",
       "<table border=\"1\" class=\"dataframe\">\n",
       "  <thead>\n",
       "    <tr style=\"text-align: right;\">\n",
       "      <th></th>\n",
       "      <th>proto</th>\n",
       "      <th>state</th>\n",
       "      <th>service</th>\n",
       "    </tr>\n",
       "  </thead>\n",
       "  <tbody>\n",
       "    <tr>\n",
       "      <th>0</th>\n",
       "      <td>119</td>\n",
       "      <td>5</td>\n",
       "      <td>0</td>\n",
       "    </tr>\n",
       "    <tr>\n",
       "      <th>1</th>\n",
       "      <td>119</td>\n",
       "      <td>5</td>\n",
       "      <td>0</td>\n",
       "    </tr>\n",
       "    <tr>\n",
       "      <th>2</th>\n",
       "      <td>119</td>\n",
       "      <td>5</td>\n",
       "      <td>0</td>\n",
       "    </tr>\n",
       "    <tr>\n",
       "      <th>3</th>\n",
       "      <td>119</td>\n",
       "      <td>5</td>\n",
       "      <td>0</td>\n",
       "    </tr>\n",
       "    <tr>\n",
       "      <th>4</th>\n",
       "      <td>119</td>\n",
       "      <td>5</td>\n",
       "      <td>0</td>\n",
       "    </tr>\n",
       "    <tr>\n",
       "      <th>...</th>\n",
       "      <td>...</td>\n",
       "      <td>...</td>\n",
       "      <td>...</td>\n",
       "    </tr>\n",
       "    <tr>\n",
       "      <th>257668</th>\n",
       "      <td>119</td>\n",
       "      <td>5</td>\n",
       "      <td>2</td>\n",
       "    </tr>\n",
       "    <tr>\n",
       "      <th>257669</th>\n",
       "      <td>113</td>\n",
       "      <td>4</td>\n",
       "      <td>0</td>\n",
       "    </tr>\n",
       "    <tr>\n",
       "      <th>257670</th>\n",
       "      <td>119</td>\n",
       "      <td>5</td>\n",
       "      <td>2</td>\n",
       "    </tr>\n",
       "    <tr>\n",
       "      <th>257671</th>\n",
       "      <td>119</td>\n",
       "      <td>5</td>\n",
       "      <td>2</td>\n",
       "    </tr>\n",
       "    <tr>\n",
       "      <th>257672</th>\n",
       "      <td>119</td>\n",
       "      <td>5</td>\n",
       "      <td>2</td>\n",
       "    </tr>\n",
       "  </tbody>\n",
       "</table>\n",
       "<p>257673 rows × 3 columns</p>\n",
       "</div>"
      ],
      "text/plain": [
       "        proto  state  service\n",
       "0         119      5        0\n",
       "1         119      5        0\n",
       "2         119      5        0\n",
       "3         119      5        0\n",
       "4         119      5        0\n",
       "...       ...    ...      ...\n",
       "257668    119      5        2\n",
       "257669    113      4        0\n",
       "257670    119      5        2\n",
       "257671    119      5        2\n",
       "257672    119      5        2\n",
       "\n",
       "[257673 rows x 3 columns]"
      ]
     },
     "execution_count": 17,
     "metadata": {},
     "output_type": "execute_result"
    }
   ],
   "source": [
    "from sklearn.preprocessing import MinMaxScaler\n",
    "\n",
    "df[cat_cols] = df[cat_cols].astype('category')\n",
    "for cat in cat_cols:\n",
    "    df[cat] = df[cat].cat.codes\n",
    "\n",
    "df[cat_cols]"
   ]
  },
  {
   "cell_type": "code",
   "execution_count": 25,
   "metadata": {},
   "outputs": [],
   "source": [
    "# apply min-max scaler that scales the variables in the range [0-1]\n",
    "scl = MinMaxScaler()\n",
    "df = scl.fit_transform(df)"
   ]
  },
  {
   "cell_type": "code",
   "execution_count": 31,
   "metadata": {},
   "outputs": [
    {
     "data": {
      "text/html": [
       "<div>\n",
       "<style scoped>\n",
       "    .dataframe tbody tr th:only-of-type {\n",
       "        vertical-align: middle;\n",
       "    }\n",
       "\n",
       "    .dataframe tbody tr th {\n",
       "        vertical-align: top;\n",
       "    }\n",
       "\n",
       "    .dataframe thead th {\n",
       "        text-align: right;\n",
       "    }\n",
       "</style>\n",
       "<table border=\"1\" class=\"dataframe\">\n",
       "  <thead>\n",
       "    <tr style=\"text-align: right;\">\n",
       "      <th></th>\n",
       "      <th>0</th>\n",
       "      <th>1</th>\n",
       "      <th>2</th>\n",
       "      <th>3</th>\n",
       "      <th>4</th>\n",
       "      <th>5</th>\n",
       "      <th>6</th>\n",
       "      <th>7</th>\n",
       "      <th>8</th>\n",
       "      <th>9</th>\n",
       "      <th>10</th>\n",
       "    </tr>\n",
       "  </thead>\n",
       "  <tbody>\n",
       "    <tr>\n",
       "      <th>0</th>\n",
       "      <td>-0.782517</td>\n",
       "      <td>-0.019278</td>\n",
       "      <td>-0.434279</td>\n",
       "      <td>-0.143849</td>\n",
       "      <td>-0.143722</td>\n",
       "      <td>-0.033623</td>\n",
       "      <td>0.053112</td>\n",
       "      <td>-0.000026</td>\n",
       "      <td>0.068036</td>\n",
       "      <td>-0.075005</td>\n",
       "      <td>0.023751</td>\n",
       "    </tr>\n",
       "    <tr>\n",
       "      <th>1</th>\n",
       "      <td>-0.775704</td>\n",
       "      <td>-0.034400</td>\n",
       "      <td>-0.453373</td>\n",
       "      <td>-0.119990</td>\n",
       "      <td>-0.200415</td>\n",
       "      <td>-0.045221</td>\n",
       "      <td>0.130624</td>\n",
       "      <td>0.140866</td>\n",
       "      <td>0.302216</td>\n",
       "      <td>-0.057119</td>\n",
       "      <td>-0.099826</td>\n",
       "    </tr>\n",
       "    <tr>\n",
       "      <th>2</th>\n",
       "      <td>-0.794653</td>\n",
       "      <td>-0.036226</td>\n",
       "      <td>-0.421886</td>\n",
       "      <td>-0.142256</td>\n",
       "      <td>-0.174053</td>\n",
       "      <td>-0.039984</td>\n",
       "      <td>0.092364</td>\n",
       "      <td>0.078309</td>\n",
       "      <td>0.138112</td>\n",
       "      <td>0.009949</td>\n",
       "      <td>-0.038697</td>\n",
       "    </tr>\n",
       "    <tr>\n",
       "      <th>3</th>\n",
       "      <td>-0.796393</td>\n",
       "      <td>-0.035295</td>\n",
       "      <td>-0.404071</td>\n",
       "      <td>-0.137547</td>\n",
       "      <td>-0.159845</td>\n",
       "      <td>-0.036886</td>\n",
       "      <td>0.078807</td>\n",
       "      <td>0.052981</td>\n",
       "      <td>0.119915</td>\n",
       "      <td>-0.016534</td>\n",
       "      <td>-0.022682</td>\n",
       "    </tr>\n",
       "    <tr>\n",
       "      <th>4</th>\n",
       "      <td>-0.779061</td>\n",
       "      <td>-0.043580</td>\n",
       "      <td>-0.425183</td>\n",
       "      <td>-0.102118</td>\n",
       "      <td>-0.205160</td>\n",
       "      <td>-0.045878</td>\n",
       "      <td>0.145981</td>\n",
       "      <td>0.171237</td>\n",
       "      <td>0.388044</td>\n",
       "      <td>-0.082036</td>\n",
       "      <td>-0.133514</td>\n",
       "    </tr>\n",
       "    <tr>\n",
       "      <th>...</th>\n",
       "      <td>...</td>\n",
       "      <td>...</td>\n",
       "      <td>...</td>\n",
       "      <td>...</td>\n",
       "      <td>...</td>\n",
       "      <td>...</td>\n",
       "      <td>...</td>\n",
       "      <td>...</td>\n",
       "      <td>...</td>\n",
       "      <td>...</td>\n",
       "      <td>...</td>\n",
       "    </tr>\n",
       "    <tr>\n",
       "      <th>257668</th>\n",
       "      <td>-1.006850</td>\n",
       "      <td>-0.187477</td>\n",
       "      <td>0.439006</td>\n",
       "      <td>0.083193</td>\n",
       "      <td>0.021705</td>\n",
       "      <td>0.005563</td>\n",
       "      <td>0.009638</td>\n",
       "      <td>-0.014605</td>\n",
       "      <td>0.018156</td>\n",
       "      <td>-0.078166</td>\n",
       "      <td>-0.018483</td>\n",
       "    </tr>\n",
       "    <tr>\n",
       "      <th>257669</th>\n",
       "      <td>1.145673</td>\n",
       "      <td>-0.577834</td>\n",
       "      <td>-0.089745</td>\n",
       "      <td>-0.236487</td>\n",
       "      <td>0.166209</td>\n",
       "      <td>0.049098</td>\n",
       "      <td>0.256501</td>\n",
       "      <td>-0.197499</td>\n",
       "      <td>-0.016913</td>\n",
       "      <td>0.008683</td>\n",
       "      <td>0.029062</td>\n",
       "    </tr>\n",
       "    <tr>\n",
       "      <th>257670</th>\n",
       "      <td>-0.843997</td>\n",
       "      <td>-0.061730</td>\n",
       "      <td>-0.169242</td>\n",
       "      <td>-0.048666</td>\n",
       "      <td>-0.118811</td>\n",
       "      <td>-0.027163</td>\n",
       "      <td>0.062178</td>\n",
       "      <td>0.038015</td>\n",
       "      <td>-0.024258</td>\n",
       "      <td>-0.082422</td>\n",
       "      <td>0.047073</td>\n",
       "    </tr>\n",
       "    <tr>\n",
       "      <th>257671</th>\n",
       "      <td>-1.064012</td>\n",
       "      <td>-0.231827</td>\n",
       "      <td>0.651510</td>\n",
       "      <td>0.123628</td>\n",
       "      <td>0.070601</td>\n",
       "      <td>0.016876</td>\n",
       "      <td>-0.013917</td>\n",
       "      <td>-0.035156</td>\n",
       "      <td>0.040819</td>\n",
       "      <td>-0.078037</td>\n",
       "      <td>-0.029928</td>\n",
       "    </tr>\n",
       "    <tr>\n",
       "      <th>257672</th>\n",
       "      <td>-1.067531</td>\n",
       "      <td>-0.234850</td>\n",
       "      <td>0.662805</td>\n",
       "      <td>0.127248</td>\n",
       "      <td>0.073120</td>\n",
       "      <td>0.017499</td>\n",
       "      <td>-0.013432</td>\n",
       "      <td>-0.035350</td>\n",
       "      <td>0.038244</td>\n",
       "      <td>-0.077891</td>\n",
       "      <td>-0.033447</td>\n",
       "    </tr>\n",
       "  </tbody>\n",
       "</table>\n",
       "<p>257673 rows × 11 columns</p>\n",
       "</div>"
      ],
      "text/plain": [
       "              0         1         2         3         4         5         6   \\\n",
       "0      -0.782517 -0.019278 -0.434279 -0.143849 -0.143722 -0.033623  0.053112   \n",
       "1      -0.775704 -0.034400 -0.453373 -0.119990 -0.200415 -0.045221  0.130624   \n",
       "2      -0.794653 -0.036226 -0.421886 -0.142256 -0.174053 -0.039984  0.092364   \n",
       "3      -0.796393 -0.035295 -0.404071 -0.137547 -0.159845 -0.036886  0.078807   \n",
       "4      -0.779061 -0.043580 -0.425183 -0.102118 -0.205160 -0.045878  0.145981   \n",
       "...          ...       ...       ...       ...       ...       ...       ...   \n",
       "257668 -1.006850 -0.187477  0.439006  0.083193  0.021705  0.005563  0.009638   \n",
       "257669  1.145673 -0.577834 -0.089745 -0.236487  0.166209  0.049098  0.256501   \n",
       "257670 -0.843997 -0.061730 -0.169242 -0.048666 -0.118811 -0.027163  0.062178   \n",
       "257671 -1.064012 -0.231827  0.651510  0.123628  0.070601  0.016876 -0.013917   \n",
       "257672 -1.067531 -0.234850  0.662805  0.127248  0.073120  0.017499 -0.013432   \n",
       "\n",
       "              7         8         9         10  \n",
       "0      -0.000026  0.068036 -0.075005  0.023751  \n",
       "1       0.140866  0.302216 -0.057119 -0.099826  \n",
       "2       0.078309  0.138112  0.009949 -0.038697  \n",
       "3       0.052981  0.119915 -0.016534 -0.022682  \n",
       "4       0.171237  0.388044 -0.082036 -0.133514  \n",
       "...          ...       ...       ...       ...  \n",
       "257668 -0.014605  0.018156 -0.078166 -0.018483  \n",
       "257669 -0.197499 -0.016913  0.008683  0.029062  \n",
       "257670  0.038015 -0.024258 -0.082422  0.047073  \n",
       "257671 -0.035156  0.040819 -0.078037 -0.029928  \n",
       "257672 -0.035350  0.038244 -0.077891 -0.033447  \n",
       "\n",
       "[257673 rows x 11 columns]"
      ]
     },
     "execution_count": 31,
     "metadata": {},
     "output_type": "execute_result"
    }
   ],
   "source": [
    "from sklearn.decomposition import PCA\n",
    "\n",
    "# apply principal component analysis\n",
    "pca = PCA(n_components=0.95)\n",
    "pca_df = pca.fit_transform(df)\n",
    "pca_df = pd.DataFrame(pca_df)\n",
    "\n",
    "pca_df"
   ]
  },
  {
   "cell_type": "code",
   "execution_count": 35,
   "metadata": {},
   "outputs": [
    {
     "data": {
      "text/plain": [
       "((172640, 11), (85033, 11), (172640, 10), (85033, 10))"
      ]
     },
     "execution_count": 35,
     "metadata": {},
     "output_type": "execute_result"
    }
   ],
   "source": [
    "from sklearn.model_selection import train_test_split\n",
    "\n",
    "y = pd.get_dummies(attack_cat_df)\n",
    "X = pca_df\n",
    "\n",
    "X_train, X_test, y_train, y_test = train_test_split(X, y, test_size=.33, random_state=42)\n",
    "(X_train.shape, X_test.shape, y_train.shape, y_test.shape)"
   ]
  },
  {
   "attachments": {},
   "cell_type": "markdown",
   "metadata": {},
   "source": [
    "### Tensorflow model"
   ]
  },
  {
   "cell_type": "code",
   "execution_count": 36,
   "metadata": {},
   "outputs": [
    {
     "name": "stdout",
     "output_type": "stream",
     "text": [
      "Requirement already satisfied: livelossplot in c:\\users\\baljanj\\anaconda3\\envs\\ktai\\lib\\site-packages (0.5.5)\n",
      "Requirement already satisfied: matplotlib in c:\\users\\baljanj\\anaconda3\\envs\\ktai\\lib\\site-packages (from livelossplot) (3.7.0)\n",
      "Requirement already satisfied: bokeh in c:\\users\\baljanj\\anaconda3\\envs\\ktai\\lib\\site-packages (from livelossplot) (2.4.3)\n",
      "Requirement already satisfied: numpy>=1.11.3 in c:\\users\\baljanj\\anaconda3\\envs\\ktai\\lib\\site-packages (from bokeh->livelossplot) (1.23.5)\n",
      "Requirement already satisfied: pillow>=7.1.0 in c:\\users\\baljanj\\anaconda3\\envs\\ktai\\lib\\site-packages (from bokeh->livelossplot) (9.4.0)\n",
      "Requirement already satisfied: PyYAML>=3.10 in c:\\users\\baljanj\\anaconda3\\envs\\ktai\\lib\\site-packages (from bokeh->livelossplot) (6.0)\n",
      "Requirement already satisfied: tornado>=5.1 in c:\\users\\baljanj\\anaconda3\\envs\\ktai\\lib\\site-packages (from bokeh->livelossplot) (6.1)\n",
      "Requirement already satisfied: packaging>=16.8 in c:\\users\\baljanj\\anaconda3\\envs\\ktai\\lib\\site-packages (from bokeh->livelossplot) (22.0)\n",
      "Requirement already satisfied: Jinja2>=2.9 in c:\\users\\baljanj\\anaconda3\\envs\\ktai\\lib\\site-packages (from bokeh->livelossplot) (3.1.2)\n",
      "Requirement already satisfied: typing-extensions>=3.10.0 in c:\\users\\baljanj\\anaconda3\\envs\\ktai\\lib\\site-packages (from bokeh->livelossplot) (4.4.0)\n",
      "Requirement already satisfied: contourpy>=1.0.1 in c:\\users\\baljanj\\anaconda3\\envs\\ktai\\lib\\site-packages (from matplotlib->livelossplot) (1.0.5)\n",
      "Requirement already satisfied: fonttools>=4.22.0 in c:\\users\\baljanj\\anaconda3\\envs\\ktai\\lib\\site-packages (from matplotlib->livelossplot) (4.25.0)\n",
      "Requirement already satisfied: python-dateutil>=2.7 in c:\\users\\baljanj\\anaconda3\\envs\\ktai\\lib\\site-packages (from matplotlib->livelossplot) (2.8.2)\n",
      "Requirement already satisfied: importlib-resources>=3.2.0 in c:\\users\\baljanj\\anaconda3\\envs\\ktai\\lib\\site-packages (from matplotlib->livelossplot) (5.2.0)\n",
      "Requirement already satisfied: cycler>=0.10 in c:\\users\\baljanj\\anaconda3\\envs\\ktai\\lib\\site-packages (from matplotlib->livelossplot) (0.11.0)\n",
      "Requirement already satisfied: kiwisolver>=1.0.1 in c:\\users\\baljanj\\anaconda3\\envs\\ktai\\lib\\site-packages (from matplotlib->livelossplot) (1.4.4)\n",
      "Requirement already satisfied: pyparsing>=2.3.1 in c:\\users\\baljanj\\anaconda3\\envs\\ktai\\lib\\site-packages (from matplotlib->livelossplot) (3.0.9)\n",
      "Requirement already satisfied: zipp>=3.1.0 in c:\\users\\baljanj\\anaconda3\\envs\\ktai\\lib\\site-packages (from importlib-resources>=3.2.0->matplotlib->livelossplot) (3.11.0)\n",
      "Requirement already satisfied: MarkupSafe>=2.0 in c:\\users\\baljanj\\anaconda3\\envs\\ktai\\lib\\site-packages (from Jinja2>=2.9->bokeh->livelossplot) (2.1.1)\n",
      "Requirement already satisfied: six>=1.5 in c:\\users\\baljanj\\anaconda3\\envs\\ktai\\lib\\site-packages (from python-dateutil>=2.7->matplotlib->livelossplot) (1.16.0)\n"
     ]
    }
   ],
   "source": [
    "import tensorflow as tf\n",
    "from tensorflow import keras\n",
    "from tensorflow.keras import layers\n",
    "from keras.callbacks import EarlyStopping\n",
    "import matplotlib.pyplot as plt\n",
    "plt.style.use('ggplot')\n",
    "!pip install livelossplot\n",
    "from livelossplot import PlotLossesKeras"
   ]
  },
  {
   "cell_type": "code",
   "execution_count": 37,
   "metadata": {},
   "outputs": [
    {
     "name": "stdout",
     "output_type": "stream",
     "text": [
      "Model: \"sequential\"\n",
      "_________________________________________________________________\n",
      " Layer (type)                Output Shape              Param #   \n",
      "=================================================================\n",
      " dense (Dense)               (None, 256)               3072      \n",
      "                                                                 \n",
      " dense_1 (Dense)             (None, 128)               32896     \n",
      "                                                                 \n",
      " dense_2 (Dense)             (None, 128)               16512     \n",
      "                                                                 \n",
      " dense_3 (Dense)             (None, 128)               16512     \n",
      "                                                                 \n",
      " dense_4 (Dense)             (None, 128)               16512     \n",
      "                                                                 \n",
      " dense_5 (Dense)             (None, 10)                1290      \n",
      "                                                                 \n",
      "=================================================================\n",
      "Total params: 86,794\n",
      "Trainable params: 86,794\n",
      "Non-trainable params: 0\n",
      "_________________________________________________________________\n"
     ]
    }
   ],
   "source": [
    "model = keras.Sequential(\n",
    "    [\n",
    "        layers.Dense(256, activation='relu', input_dim=X_train.shape[1]),\n",
    "        layers.Dense(128, activation='relu', use_bias=True),\n",
    "        layers.Dense(128, activation='relu', use_bias=True),\n",
    "        layers.Dense(128, activation='relu', use_bias=True),\n",
    "        layers.Dense(128, activation='relu', use_bias=True),\n",
    "        layers.Dense(10, activation='softmax', use_bias=True)\n",
    "    ]\n",
    ")\n",
    "model.summary()"
   ]
  },
  {
   "cell_type": "code",
   "execution_count": 38,
   "metadata": {},
   "outputs": [],
   "source": [
    "model.compile('adam', loss='categorical_crossentropy', metrics='accuracy')\n",
    "\n",
    "monitor_val_acc = EarlyStopping(monitor='loss', patience=10)\n",
    "callbacks=[PlotLossesKeras()]"
   ]
  },
  {
   "cell_type": "code",
   "execution_count": 39,
   "metadata": {},
   "outputs": [
    {
     "data": {
      "image/png": "[encoded data removed]",
      "text/plain": [
       "<Figure size 1200x800 with 2 Axes>"
      ]
     },
     "metadata": {},
     "output_type": "display_data"
    },
    {
     "name": "stdout",
     "output_type": "stream",
     "text": [
      "accuracy\n",
      "\taccuracy         \t (min:    0.726, max:    0.839, cur:    0.839)\n",
      "Loss\n",
      "\tloss             \t (min:    0.381, max:    0.703, cur:    0.381)\n"
     ]
    },
    {
     "data": {
      "text/plain": [
       "<keras.callbacks.History at 0x25bcc4152b0>"
      ]
     },
     "execution_count": 39,
     "metadata": {},
     "output_type": "execute_result"
    }
   ],
   "source": [
    "model.fit(X_train, y_train, epochs=1000, batch_size=128, callbacks=[PlotLossesKeras(), monitor_val_acc], shuffle=1000, verbose=0)"
   ]
  },
  {
   "cell_type": "code",
   "execution_count": 40,
   "metadata": {},
   "outputs": [
    {
     "name": "stdout",
     "output_type": "stream",
     "text": [
      "2658/2658 [==============================] - 4s 2ms/step - loss: 0.5616 - accuracy: 0.8131\n"
     ]
    },
    {
     "data": {
      "text/plain": [
       "[0.5615522861480713, 0.8130608201026917]"
      ]
     },
     "execution_count": 40,
     "metadata": {},
     "output_type": "execute_result"
    }
   ],
   "source": [
    "model.evaluate(X_test, y_test)"
   ]
  }
 ],
 "metadata": {
  "kernelspec": {
   "display_name": "ktai",
   "language": "python",
   "name": "python3"
  },
  "language_info": {
   "codemirror_mode": {
    "name": "ipython",
    "version": 3
   },
   "file_extension": ".py",
   "mimetype": "text/x-python",
   "name": "python",
   "nbconvert_exporter": "python",
   "pygments_lexer": "ipython3",
   "version": "3.8.16"
  },
  "orig_nbformat": 4
 },
 "nbformat": 4,
 "nbformat_minor": 2
}
