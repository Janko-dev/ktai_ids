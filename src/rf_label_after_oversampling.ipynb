{
  "nbformat": 4,
  "nbformat_minor": 0,
  "metadata": {
    "colab": {
      "provenance": [],
      "include_colab_link": true
    },
    "kernelspec": {
      "name": "python3",
      "display_name": "Python 3"
    },
    "language_info": {
      "name": "python"
    },
    "accelerator": "GPU",
    "gpuClass": "standard"
  },
  "cells": [
    {
      "cell_type": "markdown",
      "metadata": {
        "id": "view-in-github",
        "colab_type": "text"
      },
      "source": [
        "<a href=\"https://colab.research.google.com/github/Janko-dev/ktai_ids/blob/main/RF_label_after_oversampling.ipynb\" target=\"_parent\"><img src=\"https://colab.research.google.com/assets/colab-badge.svg\" alt=\"Open In Colab\"/></a>"
      ]
    },
    {
      "cell_type": "markdown",
      "source": [
        "#KTAI - Project\n",
        "Jan Baljan\n",
        "\n",
        "Brian Baert"
      ],
      "metadata": {
        "id": "Db-7g1rO4aSG"
      }
    },
    {
      "cell_type": "markdown",
      "source": [
        "##Loading the dataset"
      ],
      "metadata": {
        "id": "pY8umChMy1Wi"
      }
    },
    {
      "cell_type": "code",
      "source": [
        "from google.colab import drive\n",
        "drive.mount(\"/content/drive/\")\n",
        "#Google colab first has to mount the google drive where the data is located"
      ],
      "metadata": {
        "colab": {
          "base_uri": "https://localhost:8080/"
        },
        "id": "DxDWvKRDy611",
        "outputId": "5628ef8d-3ce2-4843-fee4-d53de29e8c59"
      },
      "execution_count": 1,
      "outputs": [
        {
          "output_type": "stream",
          "name": "stdout",
          "text": [
            "Mounted at /content/drive/\n"
          ]
        }
      ]
    },
    {
      "cell_type": "code",
      "source": [
        "import pandas as pd\n",
        "import numpy as np\n",
        "\n",
        "train = pd.read_csv('/content/drive/MyDrive/UNSWNB15/UNSW_NB15_training-set.csv') \n",
        "#make an in-memory pandas dataframe of the training dataset\n",
        "test = pd.read_csv('/content/drive/MyDrive/UNSWNB15/UNSW_NB15_testing-set.csv')\n",
        "#make an in-memory pandas dataframe of the test dataset\n",
        "test.head()"
      ],
      "metadata": {
        "colab": {
          "base_uri": "https://localhost:8080/",
          "height": 279
        },
        "id": "gPIyRfBu1VwM",
        "outputId": "7b0114e5-44a0-4f6c-f05b-2cae67d412d0"
      },
      "execution_count": 2,
      "outputs": [
        {
          "output_type": "execute_result",
          "data": {
            "text/plain": [
              "   id       dur proto service state  spkts  dpkts  sbytes  dbytes       rate  \\\n",
              "0   1  0.121478   tcp       -   FIN      6      4     258     172  74.087490   \n",
              "1   2  0.649902   tcp       -   FIN     14     38     734   42014  78.473372   \n",
              "2   3  1.623129   tcp       -   FIN      8     16     364   13186  14.170161   \n",
              "3   4  1.681642   tcp     ftp   FIN     12     12     628     770  13.677108   \n",
              "4   5  0.449454   tcp       -   FIN     10      6     534     268  33.373826   \n",
              "\n",
              "   ...  ct_dst_sport_ltm  ct_dst_src_ltm  is_ftp_login  ct_ftp_cmd  \\\n",
              "0  ...                 1               1             0           0   \n",
              "1  ...                 1               2             0           0   \n",
              "2  ...                 1               3             0           0   \n",
              "3  ...                 1               3             1           1   \n",
              "4  ...                 1              40             0           0   \n",
              "\n",
              "   ct_flw_http_mthd  ct_src_ltm  ct_srv_dst  is_sm_ips_ports  attack_cat  \\\n",
              "0                 0           1           1                0      Normal   \n",
              "1                 0           1           6                0      Normal   \n",
              "2                 0           2           6                0      Normal   \n",
              "3                 0           2           1                0      Normal   \n",
              "4                 0           2          39                0      Normal   \n",
              "\n",
              "   label  \n",
              "0      0  \n",
              "1      0  \n",
              "2      0  \n",
              "3      0  \n",
              "4      0  \n",
              "\n",
              "[5 rows x 45 columns]"
            ],
            "text/html": [
              "\n",
              "  <div id=\"df-efc35264-0845-44bf-af85-a2c15c325033\">\n",
              "    <div class=\"colab-df-container\">\n",
              "      <div>\n",
              "<style scoped>\n",
              "    .dataframe tbody tr th:only-of-type {\n",
              "        vertical-align: middle;\n",
              "    }\n",
              "\n",
              "    .dataframe tbody tr th {\n",
              "        vertical-align: top;\n",
              "    }\n",
              "\n",
              "    .dataframe thead th {\n",
              "        text-align: right;\n",
              "    }\n",
              "</style>\n",
              "<table border=\"1\" class=\"dataframe\">\n",
              "  <thead>\n",
              "    <tr style=\"text-align: right;\">\n",
              "      <th></th>\n",
              "      <th>id</th>\n",
              "      <th>dur</th>\n",
              "      <th>proto</th>\n",
              "      <th>service</th>\n",
              "      <th>state</th>\n",
              "      <th>spkts</th>\n",
              "      <th>dpkts</th>\n",
              "      <th>sbytes</th>\n",
              "      <th>dbytes</th>\n",
              "      <th>rate</th>\n",
              "      <th>...</th>\n",
              "      <th>ct_dst_sport_ltm</th>\n",
              "      <th>ct_dst_src_ltm</th>\n",
              "      <th>is_ftp_login</th>\n",
              "      <th>ct_ftp_cmd</th>\n",
              "      <th>ct_flw_http_mthd</th>\n",
              "      <th>ct_src_ltm</th>\n",
              "      <th>ct_srv_dst</th>\n",
              "      <th>is_sm_ips_ports</th>\n",
              "      <th>attack_cat</th>\n",
              "      <th>label</th>\n",
              "    </tr>\n",
              "  </thead>\n",
              "  <tbody>\n",
              "    <tr>\n",
              "      <th>0</th>\n",
              "      <td>1</td>\n",
              "      <td>0.121478</td>\n",
              "      <td>tcp</td>\n",
              "      <td>-</td>\n",
              "      <td>FIN</td>\n",
              "      <td>6</td>\n",
              "      <td>4</td>\n",
              "      <td>258</td>\n",
              "      <td>172</td>\n",
              "      <td>74.087490</td>\n",
              "      <td>...</td>\n",
              "      <td>1</td>\n",
              "      <td>1</td>\n",
              "      <td>0</td>\n",
              "      <td>0</td>\n",
              "      <td>0</td>\n",
              "      <td>1</td>\n",
              "      <td>1</td>\n",
              "      <td>0</td>\n",
              "      <td>Normal</td>\n",
              "      <td>0</td>\n",
              "    </tr>\n",
              "    <tr>\n",
              "      <th>1</th>\n",
              "      <td>2</td>\n",
              "      <td>0.649902</td>\n",
              "      <td>tcp</td>\n",
              "      <td>-</td>\n",
              "      <td>FIN</td>\n",
              "      <td>14</td>\n",
              "      <td>38</td>\n",
              "      <td>734</td>\n",
              "      <td>42014</td>\n",
              "      <td>78.473372</td>\n",
              "      <td>...</td>\n",
              "      <td>1</td>\n",
              "      <td>2</td>\n",
              "      <td>0</td>\n",
              "      <td>0</td>\n",
              "      <td>0</td>\n",
              "      <td>1</td>\n",
              "      <td>6</td>\n",
              "      <td>0</td>\n",
              "      <td>Normal</td>\n",
              "      <td>0</td>\n",
              "    </tr>\n",
              "    <tr>\n",
              "      <th>2</th>\n",
              "      <td>3</td>\n",
              "      <td>1.623129</td>\n",
              "      <td>tcp</td>\n",
              "      <td>-</td>\n",
              "      <td>FIN</td>\n",
              "      <td>8</td>\n",
              "      <td>16</td>\n",
              "      <td>364</td>\n",
              "      <td>13186</td>\n",
              "      <td>14.170161</td>\n",
              "      <td>...</td>\n",
              "      <td>1</td>\n",
              "      <td>3</td>\n",
              "      <td>0</td>\n",
              "      <td>0</td>\n",
              "      <td>0</td>\n",
              "      <td>2</td>\n",
              "      <td>6</td>\n",
              "      <td>0</td>\n",
              "      <td>Normal</td>\n",
              "      <td>0</td>\n",
              "    </tr>\n",
              "    <tr>\n",
              "      <th>3</th>\n",
              "      <td>4</td>\n",
              "      <td>1.681642</td>\n",
              "      <td>tcp</td>\n",
              "      <td>ftp</td>\n",
              "      <td>FIN</td>\n",
              "      <td>12</td>\n",
              "      <td>12</td>\n",
              "      <td>628</td>\n",
              "      <td>770</td>\n",
              "      <td>13.677108</td>\n",
              "      <td>...</td>\n",
              "      <td>1</td>\n",
              "      <td>3</td>\n",
              "      <td>1</td>\n",
              "      <td>1</td>\n",
              "      <td>0</td>\n",
              "      <td>2</td>\n",
              "      <td>1</td>\n",
              "      <td>0</td>\n",
              "      <td>Normal</td>\n",
              "      <td>0</td>\n",
              "    </tr>\n",
              "    <tr>\n",
              "      <th>4</th>\n",
              "      <td>5</td>\n",
              "      <td>0.449454</td>\n",
              "      <td>tcp</td>\n",
              "      <td>-</td>\n",
              "      <td>FIN</td>\n",
              "      <td>10</td>\n",
              "      <td>6</td>\n",
              "      <td>534</td>\n",
              "      <td>268</td>\n",
              "      <td>33.373826</td>\n",
              "      <td>...</td>\n",
              "      <td>1</td>\n",
              "      <td>40</td>\n",
              "      <td>0</td>\n",
              "      <td>0</td>\n",
              "      <td>0</td>\n",
              "      <td>2</td>\n",
              "      <td>39</td>\n",
              "      <td>0</td>\n",
              "      <td>Normal</td>\n",
              "      <td>0</td>\n",
              "    </tr>\n",
              "  </tbody>\n",
              "</table>\n",
              "<p>5 rows × 45 columns</p>\n",
              "</div>\n",
              "      <button class=\"colab-df-convert\" onclick=\"convertToInteractive('df-efc35264-0845-44bf-af85-a2c15c325033')\"\n",
              "              title=\"Convert this dataframe to an interactive table.\"\n",
              "              style=\"display:none;\">\n",
              "        \n",
              "  <svg xmlns=\"http://www.w3.org/2000/svg\" height=\"24px\"viewBox=\"0 0 24 24\"\n",
              "       width=\"24px\">\n",
              "    <path d=\"M0 0h24v24H0V0z\" fill=\"none\"/>\n",
              "    <path d=\"M18.56 5.44l.94 2.06.94-2.06 2.06-.94-2.06-.94-.94-2.06-.94 2.06-2.06.94zm-11 1L8.5 8.5l.94-2.06 2.06-.94-2.06-.94L8.5 2.5l-.94 2.06-2.06.94zm10 10l.94 2.06.94-2.06 2.06-.94-2.06-.94-.94-2.06-.94 2.06-2.06.94z\"/><path d=\"M17.41 7.96l-1.37-1.37c-.4-.4-.92-.59-1.43-.59-.52 0-1.04.2-1.43.59L10.3 9.45l-7.72 7.72c-.78.78-.78 2.05 0 2.83L4 21.41c.39.39.9.59 1.41.59.51 0 1.02-.2 1.41-.59l7.78-7.78 2.81-2.81c.8-.78.8-2.07 0-2.86zM5.41 20L4 18.59l7.72-7.72 1.47 1.35L5.41 20z\"/>\n",
              "  </svg>\n",
              "      </button>\n",
              "      \n",
              "  <style>\n",
              "    .colab-df-container {\n",
              "      display:flex;\n",
              "      flex-wrap:wrap;\n",
              "      gap: 12px;\n",
              "    }\n",
              "\n",
              "    .colab-df-convert {\n",
              "      background-color: #E8F0FE;\n",
              "      border: none;\n",
              "      border-radius: 50%;\n",
              "      cursor: pointer;\n",
              "      display: none;\n",
              "      fill: #1967D2;\n",
              "      height: 32px;\n",
              "      padding: 0 0 0 0;\n",
              "      width: 32px;\n",
              "    }\n",
              "\n",
              "    .colab-df-convert:hover {\n",
              "      background-color: #E2EBFA;\n",
              "      box-shadow: 0px 1px 2px rgba(60, 64, 67, 0.3), 0px 1px 3px 1px rgba(60, 64, 67, 0.15);\n",
              "      fill: #174EA6;\n",
              "    }\n",
              "\n",
              "    [theme=dark] .colab-df-convert {\n",
              "      background-color: #3B4455;\n",
              "      fill: #D2E3FC;\n",
              "    }\n",
              "\n",
              "    [theme=dark] .colab-df-convert:hover {\n",
              "      background-color: #434B5C;\n",
              "      box-shadow: 0px 1px 3px 1px rgba(0, 0, 0, 0.15);\n",
              "      filter: drop-shadow(0px 1px 2px rgba(0, 0, 0, 0.3));\n",
              "      fill: #FFFFFF;\n",
              "    }\n",
              "  </style>\n",
              "\n",
              "      <script>\n",
              "        const buttonEl =\n",
              "          document.querySelector('#df-efc35264-0845-44bf-af85-a2c15c325033 button.colab-df-convert');\n",
              "        buttonEl.style.display =\n",
              "          google.colab.kernel.accessAllowed ? 'block' : 'none';\n",
              "\n",
              "        async function convertToInteractive(key) {\n",
              "          const element = document.querySelector('#df-efc35264-0845-44bf-af85-a2c15c325033');\n",
              "          const dataTable =\n",
              "            await google.colab.kernel.invokeFunction('convertToInteractive',\n",
              "                                                     [key], {});\n",
              "          if (!dataTable) return;\n",
              "\n",
              "          const docLinkHtml = 'Like what you see? Visit the ' +\n",
              "            '<a target=\"_blank\" href=https://colab.research.google.com/notebooks/data_table.ipynb>data table notebook</a>'\n",
              "            + ' to learn more about interactive tables.';\n",
              "          element.innerHTML = '';\n",
              "          dataTable['output_type'] = 'display_data';\n",
              "          await google.colab.output.renderOutput(dataTable, element);\n",
              "          const docLink = document.createElement('div');\n",
              "          docLink.innerHTML = docLinkHtml;\n",
              "          element.appendChild(docLink);\n",
              "        }\n",
              "      </script>\n",
              "    </div>\n",
              "  </div>\n",
              "  "
            ]
          },
          "metadata": {},
          "execution_count": 2
        }
      ]
    },
    {
      "cell_type": "code",
      "source": [
        "train.head()"
      ],
      "metadata": {
        "colab": {
          "base_uri": "https://localhost:8080/",
          "height": 279
        },
        "id": "gGYiM2YB2kok",
        "outputId": "6bde3e33-ef75-4fc8-9496-cbe8ff7e87c5"
      },
      "execution_count": 3,
      "outputs": [
        {
          "output_type": "execute_result",
          "data": {
            "text/plain": [
              "   id       dur proto service state  spkts  dpkts  sbytes  dbytes  \\\n",
              "0   1  0.000011   udp       -   INT      2      0     496       0   \n",
              "1   2  0.000008   udp       -   INT      2      0    1762       0   \n",
              "2   3  0.000005   udp       -   INT      2      0    1068       0   \n",
              "3   4  0.000006   udp       -   INT      2      0     900       0   \n",
              "4   5  0.000010   udp       -   INT      2      0    2126       0   \n",
              "\n",
              "          rate  ...  ct_dst_sport_ltm  ct_dst_src_ltm  is_ftp_login  \\\n",
              "0   90909.0902  ...                 1               2             0   \n",
              "1  125000.0003  ...                 1               2             0   \n",
              "2  200000.0051  ...                 1               3             0   \n",
              "3  166666.6608  ...                 1               3             0   \n",
              "4  100000.0025  ...                 1               3             0   \n",
              "\n",
              "   ct_ftp_cmd  ct_flw_http_mthd  ct_src_ltm  ct_srv_dst  is_sm_ips_ports  \\\n",
              "0           0                 0           1           2                0   \n",
              "1           0                 0           1           2                0   \n",
              "2           0                 0           1           3                0   \n",
              "3           0                 0           2           3                0   \n",
              "4           0                 0           2           3                0   \n",
              "\n",
              "   attack_cat  label  \n",
              "0      Normal      0  \n",
              "1      Normal      0  \n",
              "2      Normal      0  \n",
              "3      Normal      0  \n",
              "4      Normal      0  \n",
              "\n",
              "[5 rows x 45 columns]"
            ],
            "text/html": [
              "\n",
              "  <div id=\"df-e537ed3c-87a2-42ec-8e74-37698de39152\">\n",
              "    <div class=\"colab-df-container\">\n",
              "      <div>\n",
              "<style scoped>\n",
              "    .dataframe tbody tr th:only-of-type {\n",
              "        vertical-align: middle;\n",
              "    }\n",
              "\n",
              "    .dataframe tbody tr th {\n",
              "        vertical-align: top;\n",
              "    }\n",
              "\n",
              "    .dataframe thead th {\n",
              "        text-align: right;\n",
              "    }\n",
              "</style>\n",
              "<table border=\"1\" class=\"dataframe\">\n",
              "  <thead>\n",
              "    <tr style=\"text-align: right;\">\n",
              "      <th></th>\n",
              "      <th>id</th>\n",
              "      <th>dur</th>\n",
              "      <th>proto</th>\n",
              "      <th>service</th>\n",
              "      <th>state</th>\n",
              "      <th>spkts</th>\n",
              "      <th>dpkts</th>\n",
              "      <th>sbytes</th>\n",
              "      <th>dbytes</th>\n",
              "      <th>rate</th>\n",
              "      <th>...</th>\n",
              "      <th>ct_dst_sport_ltm</th>\n",
              "      <th>ct_dst_src_ltm</th>\n",
              "      <th>is_ftp_login</th>\n",
              "      <th>ct_ftp_cmd</th>\n",
              "      <th>ct_flw_http_mthd</th>\n",
              "      <th>ct_src_ltm</th>\n",
              "      <th>ct_srv_dst</th>\n",
              "      <th>is_sm_ips_ports</th>\n",
              "      <th>attack_cat</th>\n",
              "      <th>label</th>\n",
              "    </tr>\n",
              "  </thead>\n",
              "  <tbody>\n",
              "    <tr>\n",
              "      <th>0</th>\n",
              "      <td>1</td>\n",
              "      <td>0.000011</td>\n",
              "      <td>udp</td>\n",
              "      <td>-</td>\n",
              "      <td>INT</td>\n",
              "      <td>2</td>\n",
              "      <td>0</td>\n",
              "      <td>496</td>\n",
              "      <td>0</td>\n",
              "      <td>90909.0902</td>\n",
              "      <td>...</td>\n",
              "      <td>1</td>\n",
              "      <td>2</td>\n",
              "      <td>0</td>\n",
              "      <td>0</td>\n",
              "      <td>0</td>\n",
              "      <td>1</td>\n",
              "      <td>2</td>\n",
              "      <td>0</td>\n",
              "      <td>Normal</td>\n",
              "      <td>0</td>\n",
              "    </tr>\n",
              "    <tr>\n",
              "      <th>1</th>\n",
              "      <td>2</td>\n",
              "      <td>0.000008</td>\n",
              "      <td>udp</td>\n",
              "      <td>-</td>\n",
              "      <td>INT</td>\n",
              "      <td>2</td>\n",
              "      <td>0</td>\n",
              "      <td>1762</td>\n",
              "      <td>0</td>\n",
              "      <td>125000.0003</td>\n",
              "      <td>...</td>\n",
              "      <td>1</td>\n",
              "      <td>2</td>\n",
              "      <td>0</td>\n",
              "      <td>0</td>\n",
              "      <td>0</td>\n",
              "      <td>1</td>\n",
              "      <td>2</td>\n",
              "      <td>0</td>\n",
              "      <td>Normal</td>\n",
              "      <td>0</td>\n",
              "    </tr>\n",
              "    <tr>\n",
              "      <th>2</th>\n",
              "      <td>3</td>\n",
              "      <td>0.000005</td>\n",
              "      <td>udp</td>\n",
              "      <td>-</td>\n",
              "      <td>INT</td>\n",
              "      <td>2</td>\n",
              "      <td>0</td>\n",
              "      <td>1068</td>\n",
              "      <td>0</td>\n",
              "      <td>200000.0051</td>\n",
              "      <td>...</td>\n",
              "      <td>1</td>\n",
              "      <td>3</td>\n",
              "      <td>0</td>\n",
              "      <td>0</td>\n",
              "      <td>0</td>\n",
              "      <td>1</td>\n",
              "      <td>3</td>\n",
              "      <td>0</td>\n",
              "      <td>Normal</td>\n",
              "      <td>0</td>\n",
              "    </tr>\n",
              "    <tr>\n",
              "      <th>3</th>\n",
              "      <td>4</td>\n",
              "      <td>0.000006</td>\n",
              "      <td>udp</td>\n",
              "      <td>-</td>\n",
              "      <td>INT</td>\n",
              "      <td>2</td>\n",
              "      <td>0</td>\n",
              "      <td>900</td>\n",
              "      <td>0</td>\n",
              "      <td>166666.6608</td>\n",
              "      <td>...</td>\n",
              "      <td>1</td>\n",
              "      <td>3</td>\n",
              "      <td>0</td>\n",
              "      <td>0</td>\n",
              "      <td>0</td>\n",
              "      <td>2</td>\n",
              "      <td>3</td>\n",
              "      <td>0</td>\n",
              "      <td>Normal</td>\n",
              "      <td>0</td>\n",
              "    </tr>\n",
              "    <tr>\n",
              "      <th>4</th>\n",
              "      <td>5</td>\n",
              "      <td>0.000010</td>\n",
              "      <td>udp</td>\n",
              "      <td>-</td>\n",
              "      <td>INT</td>\n",
              "      <td>2</td>\n",
              "      <td>0</td>\n",
              "      <td>2126</td>\n",
              "      <td>0</td>\n",
              "      <td>100000.0025</td>\n",
              "      <td>...</td>\n",
              "      <td>1</td>\n",
              "      <td>3</td>\n",
              "      <td>0</td>\n",
              "      <td>0</td>\n",
              "      <td>0</td>\n",
              "      <td>2</td>\n",
              "      <td>3</td>\n",
              "      <td>0</td>\n",
              "      <td>Normal</td>\n",
              "      <td>0</td>\n",
              "    </tr>\n",
              "  </tbody>\n",
              "</table>\n",
              "<p>5 rows × 45 columns</p>\n",
              "</div>\n",
              "      <button class=\"colab-df-convert\" onclick=\"convertToInteractive('df-e537ed3c-87a2-42ec-8e74-37698de39152')\"\n",
              "              title=\"Convert this dataframe to an interactive table.\"\n",
              "              style=\"display:none;\">\n",
              "        \n",
              "  <svg xmlns=\"http://www.w3.org/2000/svg\" height=\"24px\"viewBox=\"0 0 24 24\"\n",
              "       width=\"24px\">\n",
              "    <path d=\"M0 0h24v24H0V0z\" fill=\"none\"/>\n",
              "    <path d=\"M18.56 5.44l.94 2.06.94-2.06 2.06-.94-2.06-.94-.94-2.06-.94 2.06-2.06.94zm-11 1L8.5 8.5l.94-2.06 2.06-.94-2.06-.94L8.5 2.5l-.94 2.06-2.06.94zm10 10l.94 2.06.94-2.06 2.06-.94-2.06-.94-.94-2.06-.94 2.06-2.06.94z\"/><path d=\"M17.41 7.96l-1.37-1.37c-.4-.4-.92-.59-1.43-.59-.52 0-1.04.2-1.43.59L10.3 9.45l-7.72 7.72c-.78.78-.78 2.05 0 2.83L4 21.41c.39.39.9.59 1.41.59.51 0 1.02-.2 1.41-.59l7.78-7.78 2.81-2.81c.8-.78.8-2.07 0-2.86zM5.41 20L4 18.59l7.72-7.72 1.47 1.35L5.41 20z\"/>\n",
              "  </svg>\n",
              "      </button>\n",
              "      \n",
              "  <style>\n",
              "    .colab-df-container {\n",
              "      display:flex;\n",
              "      flex-wrap:wrap;\n",
              "      gap: 12px;\n",
              "    }\n",
              "\n",
              "    .colab-df-convert {\n",
              "      background-color: #E8F0FE;\n",
              "      border: none;\n",
              "      border-radius: 50%;\n",
              "      cursor: pointer;\n",
              "      display: none;\n",
              "      fill: #1967D2;\n",
              "      height: 32px;\n",
              "      padding: 0 0 0 0;\n",
              "      width: 32px;\n",
              "    }\n",
              "\n",
              "    .colab-df-convert:hover {\n",
              "      background-color: #E2EBFA;\n",
              "      box-shadow: 0px 1px 2px rgba(60, 64, 67, 0.3), 0px 1px 3px 1px rgba(60, 64, 67, 0.15);\n",
              "      fill: #174EA6;\n",
              "    }\n",
              "\n",
              "    [theme=dark] .colab-df-convert {\n",
              "      background-color: #3B4455;\n",
              "      fill: #D2E3FC;\n",
              "    }\n",
              "\n",
              "    [theme=dark] .colab-df-convert:hover {\n",
              "      background-color: #434B5C;\n",
              "      box-shadow: 0px 1px 3px 1px rgba(0, 0, 0, 0.15);\n",
              "      filter: drop-shadow(0px 1px 2px rgba(0, 0, 0, 0.3));\n",
              "      fill: #FFFFFF;\n",
              "    }\n",
              "  </style>\n",
              "\n",
              "      <script>\n",
              "        const buttonEl =\n",
              "          document.querySelector('#df-e537ed3c-87a2-42ec-8e74-37698de39152 button.colab-df-convert');\n",
              "        buttonEl.style.display =\n",
              "          google.colab.kernel.accessAllowed ? 'block' : 'none';\n",
              "\n",
              "        async function convertToInteractive(key) {\n",
              "          const element = document.querySelector('#df-e537ed3c-87a2-42ec-8e74-37698de39152');\n",
              "          const dataTable =\n",
              "            await google.colab.kernel.invokeFunction('convertToInteractive',\n",
              "                                                     [key], {});\n",
              "          if (!dataTable) return;\n",
              "\n",
              "          const docLinkHtml = 'Like what you see? Visit the ' +\n",
              "            '<a target=\"_blank\" href=https://colab.research.google.com/notebooks/data_table.ipynb>data table notebook</a>'\n",
              "            + ' to learn more about interactive tables.';\n",
              "          element.innerHTML = '';\n",
              "          dataTable['output_type'] = 'display_data';\n",
              "          await google.colab.output.renderOutput(dataTable, element);\n",
              "          const docLink = document.createElement('div');\n",
              "          docLink.innerHTML = docLinkHtml;\n",
              "          element.appendChild(docLink);\n",
              "        }\n",
              "      </script>\n",
              "    </div>\n",
              "  </div>\n",
              "  "
            ]
          },
          "metadata": {},
          "execution_count": 3
        }
      ]
    },
    {
      "cell_type": "markdown",
      "source": [
        "##Preprocessing the dataset"
      ],
      "metadata": {
        "id": "a5sFNgejy7f6"
      }
    },
    {
      "cell_type": "code",
      "source": [
        "# The same preprocessing needs to be done on both the training and test dataset\n",
        "# We can base our work on https://www.kaggle.com/code/imranjamal/network-intrusion-detection-system-using-ml-2/notebook"
      ],
      "metadata": {
        "id": "8CkzOTKly01L"
      },
      "execution_count": 4,
      "outputs": []
    },
    {
      "cell_type": "code",
      "source": [
        "# first step is merging both datasets, so we do not need to do the same preprocessing twice\n",
        "data = pd.concat([train, test]).reset_index(drop=True) # the index needs to be resetted in order for the numbering to be correct\n",
        "cols_cat = data.select_dtypes('object').columns # save the categorical (non-numeric) columns\n",
        "cols_numeric = data._get_numeric_data().columns # save the numberical columns"
      ],
      "metadata": {
        "id": "emxEPM2DXIeK"
      },
      "execution_count": 4,
      "outputs": []
    },
    {
      "cell_type": "code",
      "source": [
        "data.head(10)"
      ],
      "metadata": {
        "colab": {
          "base_uri": "https://localhost:8080/",
          "height": 436
        },
        "id": "dsDcg_BlXsKu",
        "outputId": "8e44a4d0-31ee-4d5e-eb8a-6152313dbe68"
      },
      "execution_count": 6,
      "outputs": [
        {
          "output_type": "execute_result",
          "data": {
            "text/plain": [
              "   id       dur proto service state  spkts  dpkts  sbytes  dbytes  \\\n",
              "0   1  0.000011   udp       -   INT      2      0     496       0   \n",
              "1   2  0.000008   udp       -   INT      2      0    1762       0   \n",
              "2   3  0.000005   udp       -   INT      2      0    1068       0   \n",
              "3   4  0.000006   udp       -   INT      2      0     900       0   \n",
              "4   5  0.000010   udp       -   INT      2      0    2126       0   \n",
              "5   6  0.000003   udp       -   INT      2      0     784       0   \n",
              "6   7  0.000006   udp       -   INT      2      0    1960       0   \n",
              "7   8  0.000028   udp       -   INT      2      0    1384       0   \n",
              "8   9  0.000000   arp       -   INT      1      0      46       0   \n",
              "9  10  0.000000   arp       -   INT      1      0      46       0   \n",
              "\n",
              "           rate  ...  ct_dst_sport_ltm  ct_dst_src_ltm  is_ftp_login  \\\n",
              "0   90909.09020  ...                 1               2             0   \n",
              "1  125000.00030  ...                 1               2             0   \n",
              "2  200000.00510  ...                 1               3             0   \n",
              "3  166666.66080  ...                 1               3             0   \n",
              "4  100000.00250  ...                 1               3             0   \n",
              "5  333333.32150  ...                 1               2             0   \n",
              "6  166666.66080  ...                 1               2             0   \n",
              "7   35714.28522  ...                 1               3             0   \n",
              "8       0.00000  ...                 2               2             0   \n",
              "9       0.00000  ...                 2               2             0   \n",
              "\n",
              "   ct_ftp_cmd  ct_flw_http_mthd  ct_src_ltm  ct_srv_dst  is_sm_ips_ports  \\\n",
              "0           0                 0           1           2                0   \n",
              "1           0                 0           1           2                0   \n",
              "2           0                 0           1           3                0   \n",
              "3           0                 0           2           3                0   \n",
              "4           0                 0           2           3                0   \n",
              "5           0                 0           2           2                0   \n",
              "6           0                 0           2           2                0   \n",
              "7           0                 0           1           3                0   \n",
              "8           0                 0           2           2                1   \n",
              "9           0                 0           2           2                1   \n",
              "\n",
              "   attack_cat  label  \n",
              "0      Normal      0  \n",
              "1      Normal      0  \n",
              "2      Normal      0  \n",
              "3      Normal      0  \n",
              "4      Normal      0  \n",
              "5      Normal      0  \n",
              "6      Normal      0  \n",
              "7      Normal      0  \n",
              "8      Normal      0  \n",
              "9      Normal      0  \n",
              "\n",
              "[10 rows x 45 columns]"
            ],
            "text/html": [
              "\n",
              "  <div id=\"df-d4d3bbed-f727-4964-baf8-38b05d8f69f5\">\n",
              "    <div class=\"colab-df-container\">\n",
              "      <div>\n",
              "<style scoped>\n",
              "    .dataframe tbody tr th:only-of-type {\n",
              "        vertical-align: middle;\n",
              "    }\n",
              "\n",
              "    .dataframe tbody tr th {\n",
              "        vertical-align: top;\n",
              "    }\n",
              "\n",
              "    .dataframe thead th {\n",
              "        text-align: right;\n",
              "    }\n",
              "</style>\n",
              "<table border=\"1\" class=\"dataframe\">\n",
              "  <thead>\n",
              "    <tr style=\"text-align: right;\">\n",
              "      <th></th>\n",
              "      <th>id</th>\n",
              "      <th>dur</th>\n",
              "      <th>proto</th>\n",
              "      <th>service</th>\n",
              "      <th>state</th>\n",
              "      <th>spkts</th>\n",
              "      <th>dpkts</th>\n",
              "      <th>sbytes</th>\n",
              "      <th>dbytes</th>\n",
              "      <th>rate</th>\n",
              "      <th>...</th>\n",
              "      <th>ct_dst_sport_ltm</th>\n",
              "      <th>ct_dst_src_ltm</th>\n",
              "      <th>is_ftp_login</th>\n",
              "      <th>ct_ftp_cmd</th>\n",
              "      <th>ct_flw_http_mthd</th>\n",
              "      <th>ct_src_ltm</th>\n",
              "      <th>ct_srv_dst</th>\n",
              "      <th>is_sm_ips_ports</th>\n",
              "      <th>attack_cat</th>\n",
              "      <th>label</th>\n",
              "    </tr>\n",
              "  </thead>\n",
              "  <tbody>\n",
              "    <tr>\n",
              "      <th>0</th>\n",
              "      <td>1</td>\n",
              "      <td>0.000011</td>\n",
              "      <td>udp</td>\n",
              "      <td>-</td>\n",
              "      <td>INT</td>\n",
              "      <td>2</td>\n",
              "      <td>0</td>\n",
              "      <td>496</td>\n",
              "      <td>0</td>\n",
              "      <td>90909.09020</td>\n",
              "      <td>...</td>\n",
              "      <td>1</td>\n",
              "      <td>2</td>\n",
              "      <td>0</td>\n",
              "      <td>0</td>\n",
              "      <td>0</td>\n",
              "      <td>1</td>\n",
              "      <td>2</td>\n",
              "      <td>0</td>\n",
              "      <td>Normal</td>\n",
              "      <td>0</td>\n",
              "    </tr>\n",
              "    <tr>\n",
              "      <th>1</th>\n",
              "      <td>2</td>\n",
              "      <td>0.000008</td>\n",
              "      <td>udp</td>\n",
              "      <td>-</td>\n",
              "      <td>INT</td>\n",
              "      <td>2</td>\n",
              "      <td>0</td>\n",
              "      <td>1762</td>\n",
              "      <td>0</td>\n",
              "      <td>125000.00030</td>\n",
              "      <td>...</td>\n",
              "      <td>1</td>\n",
              "      <td>2</td>\n",
              "      <td>0</td>\n",
              "      <td>0</td>\n",
              "      <td>0</td>\n",
              "      <td>1</td>\n",
              "      <td>2</td>\n",
              "      <td>0</td>\n",
              "      <td>Normal</td>\n",
              "      <td>0</td>\n",
              "    </tr>\n",
              "    <tr>\n",
              "      <th>2</th>\n",
              "      <td>3</td>\n",
              "      <td>0.000005</td>\n",
              "      <td>udp</td>\n",
              "      <td>-</td>\n",
              "      <td>INT</td>\n",
              "      <td>2</td>\n",
              "      <td>0</td>\n",
              "      <td>1068</td>\n",
              "      <td>0</td>\n",
              "      <td>200000.00510</td>\n",
              "      <td>...</td>\n",
              "      <td>1</td>\n",
              "      <td>3</td>\n",
              "      <td>0</td>\n",
              "      <td>0</td>\n",
              "      <td>0</td>\n",
              "      <td>1</td>\n",
              "      <td>3</td>\n",
              "      <td>0</td>\n",
              "      <td>Normal</td>\n",
              "      <td>0</td>\n",
              "    </tr>\n",
              "    <tr>\n",
              "      <th>3</th>\n",
              "      <td>4</td>\n",
              "      <td>0.000006</td>\n",
              "      <td>udp</td>\n",
              "      <td>-</td>\n",
              "      <td>INT</td>\n",
              "      <td>2</td>\n",
              "      <td>0</td>\n",
              "      <td>900</td>\n",
              "      <td>0</td>\n",
              "      <td>166666.66080</td>\n",
              "      <td>...</td>\n",
              "      <td>1</td>\n",
              "      <td>3</td>\n",
              "      <td>0</td>\n",
              "      <td>0</td>\n",
              "      <td>0</td>\n",
              "      <td>2</td>\n",
              "      <td>3</td>\n",
              "      <td>0</td>\n",
              "      <td>Normal</td>\n",
              "      <td>0</td>\n",
              "    </tr>\n",
              "    <tr>\n",
              "      <th>4</th>\n",
              "      <td>5</td>\n",
              "      <td>0.000010</td>\n",
              "      <td>udp</td>\n",
              "      <td>-</td>\n",
              "      <td>INT</td>\n",
              "      <td>2</td>\n",
              "      <td>0</td>\n",
              "      <td>2126</td>\n",
              "      <td>0</td>\n",
              "      <td>100000.00250</td>\n",
              "      <td>...</td>\n",
              "      <td>1</td>\n",
              "      <td>3</td>\n",
              "      <td>0</td>\n",
              "      <td>0</td>\n",
              "      <td>0</td>\n",
              "      <td>2</td>\n",
              "      <td>3</td>\n",
              "      <td>0</td>\n",
              "      <td>Normal</td>\n",
              "      <td>0</td>\n",
              "    </tr>\n",
              "    <tr>\n",
              "      <th>5</th>\n",
              "      <td>6</td>\n",
              "      <td>0.000003</td>\n",
              "      <td>udp</td>\n",
              "      <td>-</td>\n",
              "      <td>INT</td>\n",
              "      <td>2</td>\n",
              "      <td>0</td>\n",
              "      <td>784</td>\n",
              "      <td>0</td>\n",
              "      <td>333333.32150</td>\n",
              "      <td>...</td>\n",
              "      <td>1</td>\n",
              "      <td>2</td>\n",
              "      <td>0</td>\n",
              "      <td>0</td>\n",
              "      <td>0</td>\n",
              "      <td>2</td>\n",
              "      <td>2</td>\n",
              "      <td>0</td>\n",
              "      <td>Normal</td>\n",
              "      <td>0</td>\n",
              "    </tr>\n",
              "    <tr>\n",
              "      <th>6</th>\n",
              "      <td>7</td>\n",
              "      <td>0.000006</td>\n",
              "      <td>udp</td>\n",
              "      <td>-</td>\n",
              "      <td>INT</td>\n",
              "      <td>2</td>\n",
              "      <td>0</td>\n",
              "      <td>1960</td>\n",
              "      <td>0</td>\n",
              "      <td>166666.66080</td>\n",
              "      <td>...</td>\n",
              "      <td>1</td>\n",
              "      <td>2</td>\n",
              "      <td>0</td>\n",
              "      <td>0</td>\n",
              "      <td>0</td>\n",
              "      <td>2</td>\n",
              "      <td>2</td>\n",
              "      <td>0</td>\n",
              "      <td>Normal</td>\n",
              "      <td>0</td>\n",
              "    </tr>\n",
              "    <tr>\n",
              "      <th>7</th>\n",
              "      <td>8</td>\n",
              "      <td>0.000028</td>\n",
              "      <td>udp</td>\n",
              "      <td>-</td>\n",
              "      <td>INT</td>\n",
              "      <td>2</td>\n",
              "      <td>0</td>\n",
              "      <td>1384</td>\n",
              "      <td>0</td>\n",
              "      <td>35714.28522</td>\n",
              "      <td>...</td>\n",
              "      <td>1</td>\n",
              "      <td>3</td>\n",
              "      <td>0</td>\n",
              "      <td>0</td>\n",
              "      <td>0</td>\n",
              "      <td>1</td>\n",
              "      <td>3</td>\n",
              "      <td>0</td>\n",
              "      <td>Normal</td>\n",
              "      <td>0</td>\n",
              "    </tr>\n",
              "    <tr>\n",
              "      <th>8</th>\n",
              "      <td>9</td>\n",
              "      <td>0.000000</td>\n",
              "      <td>arp</td>\n",
              "      <td>-</td>\n",
              "      <td>INT</td>\n",
              "      <td>1</td>\n",
              "      <td>0</td>\n",
              "      <td>46</td>\n",
              "      <td>0</td>\n",
              "      <td>0.00000</td>\n",
              "      <td>...</td>\n",
              "      <td>2</td>\n",
              "      <td>2</td>\n",
              "      <td>0</td>\n",
              "      <td>0</td>\n",
              "      <td>0</td>\n",
              "      <td>2</td>\n",
              "      <td>2</td>\n",
              "      <td>1</td>\n",
              "      <td>Normal</td>\n",
              "      <td>0</td>\n",
              "    </tr>\n",
              "    <tr>\n",
              "      <th>9</th>\n",
              "      <td>10</td>\n",
              "      <td>0.000000</td>\n",
              "      <td>arp</td>\n",
              "      <td>-</td>\n",
              "      <td>INT</td>\n",
              "      <td>1</td>\n",
              "      <td>0</td>\n",
              "      <td>46</td>\n",
              "      <td>0</td>\n",
              "      <td>0.00000</td>\n",
              "      <td>...</td>\n",
              "      <td>2</td>\n",
              "      <td>2</td>\n",
              "      <td>0</td>\n",
              "      <td>0</td>\n",
              "      <td>0</td>\n",
              "      <td>2</td>\n",
              "      <td>2</td>\n",
              "      <td>1</td>\n",
              "      <td>Normal</td>\n",
              "      <td>0</td>\n",
              "    </tr>\n",
              "  </tbody>\n",
              "</table>\n",
              "<p>10 rows × 45 columns</p>\n",
              "</div>\n",
              "      <button class=\"colab-df-convert\" onclick=\"convertToInteractive('df-d4d3bbed-f727-4964-baf8-38b05d8f69f5')\"\n",
              "              title=\"Convert this dataframe to an interactive table.\"\n",
              "              style=\"display:none;\">\n",
              "        \n",
              "  <svg xmlns=\"http://www.w3.org/2000/svg\" height=\"24px\"viewBox=\"0 0 24 24\"\n",
              "       width=\"24px\">\n",
              "    <path d=\"M0 0h24v24H0V0z\" fill=\"none\"/>\n",
              "    <path d=\"M18.56 5.44l.94 2.06.94-2.06 2.06-.94-2.06-.94-.94-2.06-.94 2.06-2.06.94zm-11 1L8.5 8.5l.94-2.06 2.06-.94-2.06-.94L8.5 2.5l-.94 2.06-2.06.94zm10 10l.94 2.06.94-2.06 2.06-.94-2.06-.94-.94-2.06-.94 2.06-2.06.94z\"/><path d=\"M17.41 7.96l-1.37-1.37c-.4-.4-.92-.59-1.43-.59-.52 0-1.04.2-1.43.59L10.3 9.45l-7.72 7.72c-.78.78-.78 2.05 0 2.83L4 21.41c.39.39.9.59 1.41.59.51 0 1.02-.2 1.41-.59l7.78-7.78 2.81-2.81c.8-.78.8-2.07 0-2.86zM5.41 20L4 18.59l7.72-7.72 1.47 1.35L5.41 20z\"/>\n",
              "  </svg>\n",
              "      </button>\n",
              "      \n",
              "  <style>\n",
              "    .colab-df-container {\n",
              "      display:flex;\n",
              "      flex-wrap:wrap;\n",
              "      gap: 12px;\n",
              "    }\n",
              "\n",
              "    .colab-df-convert {\n",
              "      background-color: #E8F0FE;\n",
              "      border: none;\n",
              "      border-radius: 50%;\n",
              "      cursor: pointer;\n",
              "      display: none;\n",
              "      fill: #1967D2;\n",
              "      height: 32px;\n",
              "      padding: 0 0 0 0;\n",
              "      width: 32px;\n",
              "    }\n",
              "\n",
              "    .colab-df-convert:hover {\n",
              "      background-color: #E2EBFA;\n",
              "      box-shadow: 0px 1px 2px rgba(60, 64, 67, 0.3), 0px 1px 3px 1px rgba(60, 64, 67, 0.15);\n",
              "      fill: #174EA6;\n",
              "    }\n",
              "\n",
              "    [theme=dark] .colab-df-convert {\n",
              "      background-color: #3B4455;\n",
              "      fill: #D2E3FC;\n",
              "    }\n",
              "\n",
              "    [theme=dark] .colab-df-convert:hover {\n",
              "      background-color: #434B5C;\n",
              "      box-shadow: 0px 1px 3px 1px rgba(0, 0, 0, 0.15);\n",
              "      filter: drop-shadow(0px 1px 2px rgba(0, 0, 0, 0.3));\n",
              "      fill: #FFFFFF;\n",
              "    }\n",
              "  </style>\n",
              "\n",
              "      <script>\n",
              "        const buttonEl =\n",
              "          document.querySelector('#df-d4d3bbed-f727-4964-baf8-38b05d8f69f5 button.colab-df-convert');\n",
              "        buttonEl.style.display =\n",
              "          google.colab.kernel.accessAllowed ? 'block' : 'none';\n",
              "\n",
              "        async function convertToInteractive(key) {\n",
              "          const element = document.querySelector('#df-d4d3bbed-f727-4964-baf8-38b05d8f69f5');\n",
              "          const dataTable =\n",
              "            await google.colab.kernel.invokeFunction('convertToInteractive',\n",
              "                                                     [key], {});\n",
              "          if (!dataTable) return;\n",
              "\n",
              "          const docLinkHtml = 'Like what you see? Visit the ' +\n",
              "            '<a target=\"_blank\" href=https://colab.research.google.com/notebooks/data_table.ipynb>data table notebook</a>'\n",
              "            + ' to learn more about interactive tables.';\n",
              "          element.innerHTML = '';\n",
              "          dataTable['output_type'] = 'display_data';\n",
              "          await google.colab.output.renderOutput(dataTable, element);\n",
              "          const docLink = document.createElement('div');\n",
              "          docLink.innerHTML = docLinkHtml;\n",
              "          element.appendChild(docLink);\n",
              "        }\n",
              "      </script>\n",
              "    </div>\n",
              "  </div>\n",
              "  "
            ]
          },
          "metadata": {},
          "execution_count": 6
        }
      ]
    },
    {
      "cell_type": "markdown",
      "source": [
        "##Exploratory data analysis"
      ],
      "metadata": {
        "id": "u0ZaxSkQy5RK"
      }
    },
    {
      "cell_type": "code",
      "source": [
        "# descriptive statistics\n",
        "data.describe()"
      ],
      "metadata": {
        "id": "1oXwoh_ly94n",
        "colab": {
          "base_uri": "https://localhost:8080/",
          "height": 393
        },
        "outputId": "f07a9eda-36be-429c-e5ca-4aba8b3c08ab"
      },
      "execution_count": 7,
      "outputs": [
        {
          "output_type": "execute_result",
          "data": {
            "text/plain": [
              "                  id            dur          spkts          dpkts  \\\n",
              "count  257673.000000  257673.000000  257673.000000  257673.000000   \n",
              "mean    72811.823858       1.246715      19.777144      18.514703   \n",
              "std     48929.917641       5.974305     135.947152     111.985965   \n",
              "min         1.000000       0.000000       1.000000       0.000000   \n",
              "25%     32210.000000       0.000008       2.000000       0.000000   \n",
              "50%     64419.000000       0.004285       4.000000       2.000000   \n",
              "75%    110923.000000       0.685777      12.000000      10.000000   \n",
              "max    175341.000000      59.999989   10646.000000   11018.000000   \n",
              "\n",
              "             sbytes        dbytes          rate           sttl           dttl  \\\n",
              "count  2.576730e+05  2.576730e+05  2.576730e+05  257673.000000  257673.000000   \n",
              "mean   8.572952e+03  1.438729e+04  9.125391e+04     180.000931      84.754957   \n",
              "std    1.737739e+05  1.461993e+05  1.603446e+05     102.488268     112.762131   \n",
              "min    2.400000e+01  0.000000e+00  0.000000e+00       0.000000       0.000000   \n",
              "25%    1.140000e+02  0.000000e+00  3.078928e+01      62.000000       0.000000   \n",
              "50%    5.280000e+02  1.780000e+02  2.955665e+03     254.000000      29.000000   \n",
              "75%    1.362000e+03  1.064000e+03  1.250000e+05     254.000000     252.000000   \n",
              "max    1.435577e+07  1.465753e+07  1.000000e+06     255.000000     254.000000   \n",
              "\n",
              "              sload  ...  ct_src_dport_ltm  ct_dst_sport_ltm  ct_dst_src_ltm  \\\n",
              "count  2.576730e+05  ...     257673.000000     257673.000000   257673.000000   \n",
              "mean   7.060869e+07  ...          5.238271          4.032677        8.322964   \n",
              "std    1.857313e+08  ...          8.160822          5.831515       11.120754   \n",
              "min    0.000000e+00  ...          1.000000          1.000000        1.000000   \n",
              "25%    1.231800e+04  ...          1.000000          1.000000        1.000000   \n",
              "50%    7.439423e+05  ...          1.000000          1.000000        3.000000   \n",
              "75%    8.000000e+07  ...          4.000000          3.000000        8.000000   \n",
              "max    5.988000e+09  ...         59.000000         46.000000       65.000000   \n",
              "\n",
              "        is_ftp_login     ct_ftp_cmd  ct_flw_http_mthd     ct_src_ltm  \\\n",
              "count  257673.000000  257673.000000     257673.000000  257673.000000   \n",
              "mean        0.012819       0.012850          0.132005       6.800045   \n",
              "std         0.116091       0.116421          0.681854       8.396266   \n",
              "min         0.000000       0.000000          0.000000       1.000000   \n",
              "25%         0.000000       0.000000          0.000000       2.000000   \n",
              "50%         0.000000       0.000000          0.000000       3.000000   \n",
              "75%         0.000000       0.000000          0.000000       8.000000   \n",
              "max         4.000000       4.000000         30.000000      60.000000   \n",
              "\n",
              "          ct_srv_dst  is_sm_ips_ports          label  \n",
              "count  257673.000000    257673.000000  257673.000000  \n",
              "mean        9.121049         0.014274       0.639077  \n",
              "std        10.874752         0.118618       0.480269  \n",
              "min         1.000000         0.000000       0.000000  \n",
              "25%         2.000000         0.000000       0.000000  \n",
              "50%         4.000000         0.000000       1.000000  \n",
              "75%        11.000000         0.000000       1.000000  \n",
              "max        62.000000         1.000000       1.000000  \n",
              "\n",
              "[8 rows x 41 columns]"
            ],
            "text/html": [
              "\n",
              "  <div id=\"df-af79e81b-a77f-4cbc-bbb9-ea0583e224cd\">\n",
              "    <div class=\"colab-df-container\">\n",
              "      <div>\n",
              "<style scoped>\n",
              "    .dataframe tbody tr th:only-of-type {\n",
              "        vertical-align: middle;\n",
              "    }\n",
              "\n",
              "    .dataframe tbody tr th {\n",
              "        vertical-align: top;\n",
              "    }\n",
              "\n",
              "    .dataframe thead th {\n",
              "        text-align: right;\n",
              "    }\n",
              "</style>\n",
              "<table border=\"1\" class=\"dataframe\">\n",
              "  <thead>\n",
              "    <tr style=\"text-align: right;\">\n",
              "      <th></th>\n",
              "      <th>id</th>\n",
              "      <th>dur</th>\n",
              "      <th>spkts</th>\n",
              "      <th>dpkts</th>\n",
              "      <th>sbytes</th>\n",
              "      <th>dbytes</th>\n",
              "      <th>rate</th>\n",
              "      <th>sttl</th>\n",
              "      <th>dttl</th>\n",
              "      <th>sload</th>\n",
              "      <th>...</th>\n",
              "      <th>ct_src_dport_ltm</th>\n",
              "      <th>ct_dst_sport_ltm</th>\n",
              "      <th>ct_dst_src_ltm</th>\n",
              "      <th>is_ftp_login</th>\n",
              "      <th>ct_ftp_cmd</th>\n",
              "      <th>ct_flw_http_mthd</th>\n",
              "      <th>ct_src_ltm</th>\n",
              "      <th>ct_srv_dst</th>\n",
              "      <th>is_sm_ips_ports</th>\n",
              "      <th>label</th>\n",
              "    </tr>\n",
              "  </thead>\n",
              "  <tbody>\n",
              "    <tr>\n",
              "      <th>count</th>\n",
              "      <td>257673.000000</td>\n",
              "      <td>257673.000000</td>\n",
              "      <td>257673.000000</td>\n",
              "      <td>257673.000000</td>\n",
              "      <td>2.576730e+05</td>\n",
              "      <td>2.576730e+05</td>\n",
              "      <td>2.576730e+05</td>\n",
              "      <td>257673.000000</td>\n",
              "      <td>257673.000000</td>\n",
              "      <td>2.576730e+05</td>\n",
              "      <td>...</td>\n",
              "      <td>257673.000000</td>\n",
              "      <td>257673.000000</td>\n",
              "      <td>257673.000000</td>\n",
              "      <td>257673.000000</td>\n",
              "      <td>257673.000000</td>\n",
              "      <td>257673.000000</td>\n",
              "      <td>257673.000000</td>\n",
              "      <td>257673.000000</td>\n",
              "      <td>257673.000000</td>\n",
              "      <td>257673.000000</td>\n",
              "    </tr>\n",
              "    <tr>\n",
              "      <th>mean</th>\n",
              "      <td>72811.823858</td>\n",
              "      <td>1.246715</td>\n",
              "      <td>19.777144</td>\n",
              "      <td>18.514703</td>\n",
              "      <td>8.572952e+03</td>\n",
              "      <td>1.438729e+04</td>\n",
              "      <td>9.125391e+04</td>\n",
              "      <td>180.000931</td>\n",
              "      <td>84.754957</td>\n",
              "      <td>7.060869e+07</td>\n",
              "      <td>...</td>\n",
              "      <td>5.238271</td>\n",
              "      <td>4.032677</td>\n",
              "      <td>8.322964</td>\n",
              "      <td>0.012819</td>\n",
              "      <td>0.012850</td>\n",
              "      <td>0.132005</td>\n",
              "      <td>6.800045</td>\n",
              "      <td>9.121049</td>\n",
              "      <td>0.014274</td>\n",
              "      <td>0.639077</td>\n",
              "    </tr>\n",
              "    <tr>\n",
              "      <th>std</th>\n",
              "      <td>48929.917641</td>\n",
              "      <td>5.974305</td>\n",
              "      <td>135.947152</td>\n",
              "      <td>111.985965</td>\n",
              "      <td>1.737739e+05</td>\n",
              "      <td>1.461993e+05</td>\n",
              "      <td>1.603446e+05</td>\n",
              "      <td>102.488268</td>\n",
              "      <td>112.762131</td>\n",
              "      <td>1.857313e+08</td>\n",
              "      <td>...</td>\n",
              "      <td>8.160822</td>\n",
              "      <td>5.831515</td>\n",
              "      <td>11.120754</td>\n",
              "      <td>0.116091</td>\n",
              "      <td>0.116421</td>\n",
              "      <td>0.681854</td>\n",
              "      <td>8.396266</td>\n",
              "      <td>10.874752</td>\n",
              "      <td>0.118618</td>\n",
              "      <td>0.480269</td>\n",
              "    </tr>\n",
              "    <tr>\n",
              "      <th>min</th>\n",
              "      <td>1.000000</td>\n",
              "      <td>0.000000</td>\n",
              "      <td>1.000000</td>\n",
              "      <td>0.000000</td>\n",
              "      <td>2.400000e+01</td>\n",
              "      <td>0.000000e+00</td>\n",
              "      <td>0.000000e+00</td>\n",
              "      <td>0.000000</td>\n",
              "      <td>0.000000</td>\n",
              "      <td>0.000000e+00</td>\n",
              "      <td>...</td>\n",
              "      <td>1.000000</td>\n",
              "      <td>1.000000</td>\n",
              "      <td>1.000000</td>\n",
              "      <td>0.000000</td>\n",
              "      <td>0.000000</td>\n",
              "      <td>0.000000</td>\n",
              "      <td>1.000000</td>\n",
              "      <td>1.000000</td>\n",
              "      <td>0.000000</td>\n",
              "      <td>0.000000</td>\n",
              "    </tr>\n",
              "    <tr>\n",
              "      <th>25%</th>\n",
              "      <td>32210.000000</td>\n",
              "      <td>0.000008</td>\n",
              "      <td>2.000000</td>\n",
              "      <td>0.000000</td>\n",
              "      <td>1.140000e+02</td>\n",
              "      <td>0.000000e+00</td>\n",
              "      <td>3.078928e+01</td>\n",
              "      <td>62.000000</td>\n",
              "      <td>0.000000</td>\n",
              "      <td>1.231800e+04</td>\n",
              "      <td>...</td>\n",
              "      <td>1.000000</td>\n",
              "      <td>1.000000</td>\n",
              "      <td>1.000000</td>\n",
              "      <td>0.000000</td>\n",
              "      <td>0.000000</td>\n",
              "      <td>0.000000</td>\n",
              "      <td>2.000000</td>\n",
              "      <td>2.000000</td>\n",
              "      <td>0.000000</td>\n",
              "      <td>0.000000</td>\n",
              "    </tr>\n",
              "    <tr>\n",
              "      <th>50%</th>\n",
              "      <td>64419.000000</td>\n",
              "      <td>0.004285</td>\n",
              "      <td>4.000000</td>\n",
              "      <td>2.000000</td>\n",
              "      <td>5.280000e+02</td>\n",
              "      <td>1.780000e+02</td>\n",
              "      <td>2.955665e+03</td>\n",
              "      <td>254.000000</td>\n",
              "      <td>29.000000</td>\n",
              "      <td>7.439423e+05</td>\n",
              "      <td>...</td>\n",
              "      <td>1.000000</td>\n",
              "      <td>1.000000</td>\n",
              "      <td>3.000000</td>\n",
              "      <td>0.000000</td>\n",
              "      <td>0.000000</td>\n",
              "      <td>0.000000</td>\n",
              "      <td>3.000000</td>\n",
              "      <td>4.000000</td>\n",
              "      <td>0.000000</td>\n",
              "      <td>1.000000</td>\n",
              "    </tr>\n",
              "    <tr>\n",
              "      <th>75%</th>\n",
              "      <td>110923.000000</td>\n",
              "      <td>0.685777</td>\n",
              "      <td>12.000000</td>\n",
              "      <td>10.000000</td>\n",
              "      <td>1.362000e+03</td>\n",
              "      <td>1.064000e+03</td>\n",
              "      <td>1.250000e+05</td>\n",
              "      <td>254.000000</td>\n",
              "      <td>252.000000</td>\n",
              "      <td>8.000000e+07</td>\n",
              "      <td>...</td>\n",
              "      <td>4.000000</td>\n",
              "      <td>3.000000</td>\n",
              "      <td>8.000000</td>\n",
              "      <td>0.000000</td>\n",
              "      <td>0.000000</td>\n",
              "      <td>0.000000</td>\n",
              "      <td>8.000000</td>\n",
              "      <td>11.000000</td>\n",
              "      <td>0.000000</td>\n",
              "      <td>1.000000</td>\n",
              "    </tr>\n",
              "    <tr>\n",
              "      <th>max</th>\n",
              "      <td>175341.000000</td>\n",
              "      <td>59.999989</td>\n",
              "      <td>10646.000000</td>\n",
              "      <td>11018.000000</td>\n",
              "      <td>1.435577e+07</td>\n",
              "      <td>1.465753e+07</td>\n",
              "      <td>1.000000e+06</td>\n",
              "      <td>255.000000</td>\n",
              "      <td>254.000000</td>\n",
              "      <td>5.988000e+09</td>\n",
              "      <td>...</td>\n",
              "      <td>59.000000</td>\n",
              "      <td>46.000000</td>\n",
              "      <td>65.000000</td>\n",
              "      <td>4.000000</td>\n",
              "      <td>4.000000</td>\n",
              "      <td>30.000000</td>\n",
              "      <td>60.000000</td>\n",
              "      <td>62.000000</td>\n",
              "      <td>1.000000</td>\n",
              "      <td>1.000000</td>\n",
              "    </tr>\n",
              "  </tbody>\n",
              "</table>\n",
              "<p>8 rows × 41 columns</p>\n",
              "</div>\n",
              "      <button class=\"colab-df-convert\" onclick=\"convertToInteractive('df-af79e81b-a77f-4cbc-bbb9-ea0583e224cd')\"\n",
              "              title=\"Convert this dataframe to an interactive table.\"\n",
              "              style=\"display:none;\">\n",
              "        \n",
              "  <svg xmlns=\"http://www.w3.org/2000/svg\" height=\"24px\"viewBox=\"0 0 24 24\"\n",
              "       width=\"24px\">\n",
              "    <path d=\"M0 0h24v24H0V0z\" fill=\"none\"/>\n",
              "    <path d=\"M18.56 5.44l.94 2.06.94-2.06 2.06-.94-2.06-.94-.94-2.06-.94 2.06-2.06.94zm-11 1L8.5 8.5l.94-2.06 2.06-.94-2.06-.94L8.5 2.5l-.94 2.06-2.06.94zm10 10l.94 2.06.94-2.06 2.06-.94-2.06-.94-.94-2.06-.94 2.06-2.06.94z\"/><path d=\"M17.41 7.96l-1.37-1.37c-.4-.4-.92-.59-1.43-.59-.52 0-1.04.2-1.43.59L10.3 9.45l-7.72 7.72c-.78.78-.78 2.05 0 2.83L4 21.41c.39.39.9.59 1.41.59.51 0 1.02-.2 1.41-.59l7.78-7.78 2.81-2.81c.8-.78.8-2.07 0-2.86zM5.41 20L4 18.59l7.72-7.72 1.47 1.35L5.41 20z\"/>\n",
              "  </svg>\n",
              "      </button>\n",
              "      \n",
              "  <style>\n",
              "    .colab-df-container {\n",
              "      display:flex;\n",
              "      flex-wrap:wrap;\n",
              "      gap: 12px;\n",
              "    }\n",
              "\n",
              "    .colab-df-convert {\n",
              "      background-color: #E8F0FE;\n",
              "      border: none;\n",
              "      border-radius: 50%;\n",
              "      cursor: pointer;\n",
              "      display: none;\n",
              "      fill: #1967D2;\n",
              "      height: 32px;\n",
              "      padding: 0 0 0 0;\n",
              "      width: 32px;\n",
              "    }\n",
              "\n",
              "    .colab-df-convert:hover {\n",
              "      background-color: #E2EBFA;\n",
              "      box-shadow: 0px 1px 2px rgba(60, 64, 67, 0.3), 0px 1px 3px 1px rgba(60, 64, 67, 0.15);\n",
              "      fill: #174EA6;\n",
              "    }\n",
              "\n",
              "    [theme=dark] .colab-df-convert {\n",
              "      background-color: #3B4455;\n",
              "      fill: #D2E3FC;\n",
              "    }\n",
              "\n",
              "    [theme=dark] .colab-df-convert:hover {\n",
              "      background-color: #434B5C;\n",
              "      box-shadow: 0px 1px 3px 1px rgba(0, 0, 0, 0.15);\n",
              "      filter: drop-shadow(0px 1px 2px rgba(0, 0, 0, 0.3));\n",
              "      fill: #FFFFFF;\n",
              "    }\n",
              "  </style>\n",
              "\n",
              "      <script>\n",
              "        const buttonEl =\n",
              "          document.querySelector('#df-af79e81b-a77f-4cbc-bbb9-ea0583e224cd button.colab-df-convert');\n",
              "        buttonEl.style.display =\n",
              "          google.colab.kernel.accessAllowed ? 'block' : 'none';\n",
              "\n",
              "        async function convertToInteractive(key) {\n",
              "          const element = document.querySelector('#df-af79e81b-a77f-4cbc-bbb9-ea0583e224cd');\n",
              "          const dataTable =\n",
              "            await google.colab.kernel.invokeFunction('convertToInteractive',\n",
              "                                                     [key], {});\n",
              "          if (!dataTable) return;\n",
              "\n",
              "          const docLinkHtml = 'Like what you see? Visit the ' +\n",
              "            '<a target=\"_blank\" href=https://colab.research.google.com/notebooks/data_table.ipynb>data table notebook</a>'\n",
              "            + ' to learn more about interactive tables.';\n",
              "          element.innerHTML = '';\n",
              "          dataTable['output_type'] = 'display_data';\n",
              "          await google.colab.output.renderOutput(dataTable, element);\n",
              "          const docLink = document.createElement('div');\n",
              "          docLink.innerHTML = docLinkHtml;\n",
              "          element.appendChild(docLink);\n",
              "        }\n",
              "      </script>\n",
              "    </div>\n",
              "  </div>\n",
              "  "
            ]
          },
          "metadata": {},
          "execution_count": 7
        }
      ]
    },
    {
      "cell_type": "code",
      "source": [],
      "metadata": {
        "id": "iSJtRJCvG_2u"
      },
      "execution_count": 7,
      "outputs": []
    },
    {
      "cell_type": "markdown",
      "source": [],
      "metadata": {
        "id": "IS9NjDF7EYJx"
      }
    },
    {
      "cell_type": "code",
      "source": [
        "# The first step would be checking for missing values, but there are no missing values here, so we can omit this step\n",
        "# However, there are some numerical features where the values have very high values, it is wise to use standardisation on these\n",
        "# in Python we can use the StandardScaler object. \n",
        "# columns worth standardizing are all numerical columns"
      ],
      "metadata": {
        "id": "bQITLn_fXztr"
      },
      "execution_count": 8,
      "outputs": []
    },
    {
      "cell_type": "code",
      "source": [
        "# what attack categories are there in the data? \n",
        "attack_types = data.attack_cat.unique()\n",
        "print(attack_types.tolist())"
      ],
      "metadata": {
        "colab": {
          "base_uri": "https://localhost:8080/"
        },
        "id": "HG84e8IJYGd3",
        "outputId": "229d8021-a193-49c5-8c3a-61dae497a2b2"
      },
      "execution_count": 5,
      "outputs": [
        {
          "output_type": "stream",
          "name": "stdout",
          "text": [
            "['Normal', 'Reconnaissance', 'Backdoor', 'DoS', 'Exploits', 'Analysis', 'Fuzzers', 'Worms', 'Shellcode', 'Generic']\n"
          ]
        }
      ]
    },
    {
      "cell_type": "code",
      "source": [
        "# Let's investigate the amount of attack types in the dataset:\n",
        "import matplotlib.pyplot as plt\n",
        "import seaborn as sns\n",
        "fig, ax = plt.subplots(figsize=(8,4))\n",
        "ax = sns.countplot(x='attack_cat', hue='label', data=data)\n",
        "ax.legend(loc=\"upper right\", labels=('normal', 'attack'))\n",
        "ax.set_title(\"Attack type distribution\")\n",
        "plt.xticks(rotation=30)\n",
        "plt.show()"
      ],
      "metadata": {
        "colab": {
          "base_uri": "https://localhost:8080/",
          "height": 464
        },
        "id": "anh4dxGIMP7a",
        "outputId": "a64a1b38-592e-4543-859b-96b793534e16"
      },
      "execution_count": 136,
      "outputs": [
        {
          "output_type": "display_data",
          "data": {
            "text/plain": [
              "<Figure size 800x400 with 1 Axes>"
            ],
            "image/png": "[encoded data removed]"
          },
          "metadata": {}
        }
      ]
    },
    {
      "cell_type": "code",
      "source": [
        "# what service types are there in the data?\n",
        "service_types = data.service.unique()\n",
        "print(service_types.tolist())"
      ],
      "metadata": {
        "colab": {
          "base_uri": "https://localhost:8080/"
        },
        "id": "VD0ElKM0Yvtk",
        "outputId": "311afa15-d748-437a-bde3-543df186593d"
      },
      "execution_count": 137,
      "outputs": [
        {
          "output_type": "stream",
          "name": "stdout",
          "text": [
            "['None', 'http', 'ftp', 'ftp-data', 'smtp', 'pop3', 'dns', 'snmp', 'ssl', 'dhcp', 'irc', 'radius', 'ssh']\n"
          ]
        }
      ]
    },
    {
      "cell_type": "code",
      "source": [
        "# Let's investigate the service type:\n",
        "fig, ax = plt.subplots(figsize=(8,4))\n",
        "ax = sns.countplot(x='service', hue='label', data=data)\n",
        "ax.legend(loc=\"upper right\", labels=('normal', 'attack'))\n",
        "ax.set_title(\"Service type distribution\")\n",
        "plt.xticks(rotation=30)\n",
        "plt.show()"
      ],
      "metadata": {
        "colab": {
          "base_uri": "https://localhost:8080/",
          "height": 436
        },
        "id": "uXecc0GPNQVp",
        "outputId": "96ce658f-1dff-4827-e1c4-8223501b716c"
      },
      "execution_count": 138,
      "outputs": [
        {
          "output_type": "display_data",
          "data": {
            "text/plain": [
              "<Figure size 800x400 with 1 Axes>"
            ],
            "image/png": "[encoded data removed]"
          },
          "metadata": {}
        }
      ]
    },
    {
      "cell_type": "code",
      "source": [
        "# in the above it is clear that the 'empty' service type is filled with a '-', it is better and more convenient to use 'None'\n",
        "data.service = np.where(data.service == '-', 'None', data.service)\n",
        "service_types = data.service.unique()\n",
        "print(service_types.tolist())"
      ],
      "metadata": {
        "colab": {
          "base_uri": "https://localhost:8080/"
        },
        "id": "xee8aamzY8xL",
        "outputId": "a578d3ef-c750-4fa2-cb60-1cfff7d6e66c"
      },
      "execution_count": 6,
      "outputs": [
        {
          "output_type": "stream",
          "name": "stdout",
          "text": [
            "['None', 'http', 'ftp', 'ftp-data', 'smtp', 'pop3', 'dns', 'snmp', 'ssl', 'dhcp', 'irc', 'radius', 'ssh']\n"
          ]
        }
      ]
    },
    {
      "cell_type": "code",
      "source": [
        "# remove the categorical columns (without any one-hot encoding or whatever)\n",
        "data_cleaned = data.drop(cols_cat, axis=1)"
      ],
      "metadata": {
        "id": "2g3OsjrEbkcv"
      },
      "execution_count": 7,
      "outputs": []
    },
    {
      "cell_type": "markdown",
      "source": [
        "## ML Models"
      ],
      "metadata": {
        "id": "AwZoZHUR4CVn"
      }
    },
    {
      "cell_type": "code",
      "source": [
        "# what models will we create? \n",
        "# will we do a grid search to find the best hyperparameter combination? "
      ],
      "metadata": {
        "id": "fTrr38mJ4B7E"
      },
      "execution_count": 15,
      "outputs": []
    },
    {
      "cell_type": "code",
      "source": [
        "# first step --> create a train and test subset, then divide the train subset in a train and validation set \n",
        "from sklearn.model_selection import train_test_split\n",
        "# (validation set is used to train the hyperparameters of the model)\n",
        "X_train, X_test, y_train, y_test = train_test_split(data_cleaned.drop('label', axis=1), data_cleaned['label'], test_size=0.20, random_state=37)\n",
        "# inliterature they propose to do a validation split as well, but for now, this is not used here\n",
        "#X_train, X_val, y_train, y_val = train_test_split(X_train, y_train, test_size=0.25, random_state=47)"
      ],
      "metadata": {
        "id": "HVdh0cOOfmtA"
      },
      "execution_count": 8,
      "outputs": []
    },
    {
      "cell_type": "code",
      "source": [
        "# standardisation of the numerical columns needs to happen AFTER the splitting in a train and test dataset\n",
        "# according to online sources https://medium.com/analytics-vidhya/why-it-makes-a-difference-how-to-standardize-training-and-test-set-e95bf350bed3\n",
        "# it is recommended to use the standard scaler from the training data to standardize the test dataset\n",
        "from sklearn.preprocessing import StandardScaler\n",
        "train_scaler = StandardScaler()\n",
        "\n",
        "scaled_X_train = train_scaler.fit_transform(X_train)\n",
        "scaled_X_test = train_scaler.transform(X_test)"
      ],
      "metadata": {
        "id": "JlbDTEMCRr0F"
      },
      "execution_count": 9,
      "outputs": []
    },
    {
      "cell_type": "code",
      "source": [
        "# starting of with a very simple RandomForest classifier, no cross_validation or anything on all numerical columns\n",
        "from sklearn.ensemble import RandomForestClassifier\n",
        "\n",
        "clf = RandomForestClassifier(n_estimators=10, criterion=\"entropy\", max_depth=4, random_state=41)\n",
        "# n_estimators = the amount of classification trees used in the forest\n",
        "# criterion = splitting criterion used (standard = Gini, but I prefer entropy)\n",
        "# max_depth = the maximum depth of the trees\n",
        "# random_state = randomizer\n",
        "\n",
        "clf.fit(scaled_X_train, y_train)"
      ],
      "metadata": {
        "id": "gM1dWKSh36vx",
        "colab": {
          "base_uri": "https://localhost:8080/",
          "height": 92
        },
        "outputId": "634fe591-ded1-4f8f-cbbd-a5fd26c749df"
      },
      "execution_count": 10,
      "outputs": [
        {
          "output_type": "execute_result",
          "data": {
            "text/plain": [
              "RandomForestClassifier(criterion='entropy', max_depth=4, n_estimators=10,\n",
              "                       random_state=41)"
            ],
            "text/html": [
              "<style>#sk-container-id-1 {color: black;background-color: white;}#sk-container-id-1 pre{padding: 0;}#sk-container-id-1 div.sk-toggleable {background-color: white;}#sk-container-id-1 label.sk-toggleable__label {cursor: pointer;display: block;width: 100%;margin-bottom: 0;padding: 0.3em;box-sizing: border-box;text-align: center;}#sk-container-id-1 label.sk-toggleable__label-arrow:before {content: \"▸\";float: left;margin-right: 0.25em;color: #696969;}#sk-container-id-1 label.sk-toggleable__label-arrow:hover:before {color: black;}#sk-container-id-1 div.sk-estimator:hover label.sk-toggleable__label-arrow:before {color: black;}#sk-container-id-1 div.sk-toggleable__content {max-height: 0;max-width: 0;overflow: hidden;text-align: left;background-color: #f0f8ff;}#sk-container-id-1 div.sk-toggleable__content pre {margin: 0.2em;color: black;border-radius: 0.25em;background-color: #f0f8ff;}#sk-container-id-1 input.sk-toggleable__control:checked~div.sk-toggleable__content {max-height: 200px;max-width: 100%;overflow: auto;}#sk-container-id-1 input.sk-toggleable__control:checked~label.sk-toggleable__label-arrow:before {content: \"▾\";}#sk-container-id-1 div.sk-estimator input.sk-toggleable__control:checked~label.sk-toggleable__label {background-color: #d4ebff;}#sk-container-id-1 div.sk-label input.sk-toggleable__control:checked~label.sk-toggleable__label {background-color: #d4ebff;}#sk-container-id-1 input.sk-hidden--visually {border: 0;clip: rect(1px 1px 1px 1px);clip: rect(1px, 1px, 1px, 1px);height: 1px;margin: -1px;overflow: hidden;padding: 0;position: absolute;width: 1px;}#sk-container-id-1 div.sk-estimator {font-family: monospace;background-color: #f0f8ff;border: 1px dotted black;border-radius: 0.25em;box-sizing: border-box;margin-bottom: 0.5em;}#sk-container-id-1 div.sk-estimator:hover {background-color: #d4ebff;}#sk-container-id-1 div.sk-parallel-item::after {content: \"\";width: 100%;border-bottom: 1px solid gray;flex-grow: 1;}#sk-container-id-1 div.sk-label:hover label.sk-toggleable__label {background-color: #d4ebff;}#sk-container-id-1 div.sk-serial::before {content: \"\";position: absolute;border-left: 1px solid gray;box-sizing: border-box;top: 0;bottom: 0;left: 50%;z-index: 0;}#sk-container-id-1 div.sk-serial {display: flex;flex-direction: column;align-items: center;background-color: white;padding-right: 0.2em;padding-left: 0.2em;position: relative;}#sk-container-id-1 div.sk-item {position: relative;z-index: 1;}#sk-container-id-1 div.sk-parallel {display: flex;align-items: stretch;justify-content: center;background-color: white;position: relative;}#sk-container-id-1 div.sk-item::before, #sk-container-id-1 div.sk-parallel-item::before {content: \"\";position: absolute;border-left: 1px solid gray;box-sizing: border-box;top: 0;bottom: 0;left: 50%;z-index: -1;}#sk-container-id-1 div.sk-parallel-item {display: flex;flex-direction: column;z-index: 1;position: relative;background-color: white;}#sk-container-id-1 div.sk-parallel-item:first-child::after {align-self: flex-end;width: 50%;}#sk-container-id-1 div.sk-parallel-item:last-child::after {align-self: flex-start;width: 50%;}#sk-container-id-1 div.sk-parallel-item:only-child::after {width: 0;}#sk-container-id-1 div.sk-dashed-wrapped {border: 1px dashed gray;margin: 0 0.4em 0.5em 0.4em;box-sizing: border-box;padding-bottom: 0.4em;background-color: white;}#sk-container-id-1 div.sk-label label {font-family: monospace;font-weight: bold;display: inline-block;line-height: 1.2em;}#sk-container-id-1 div.sk-label-container {text-align: center;}#sk-container-id-1 div.sk-container {/* jupyter's `normalize.less` sets `[hidden] { display: none; }` but bootstrap.min.css set `[hidden] { display: none !important; }` so we also need the `!important` here to be able to override the default hidden behavior on the sphinx rendered scikit-learn.org. See: https://github.com/scikit-learn/scikit-learn/issues/21755 */display: inline-block !important;position: relative;}#sk-container-id-1 div.sk-text-repr-fallback {display: none;}</style><div id=\"sk-container-id-1\" class=\"sk-top-container\"><div class=\"sk-text-repr-fallback\"><pre>RandomForestClassifier(criterion=&#x27;entropy&#x27;, max_depth=4, n_estimators=10,\n",
              "                       random_state=41)</pre><b>In a Jupyter environment, please rerun this cell to show the HTML representation or trust the notebook. <br />On GitHub, the HTML representation is unable to render, please try loading this page with nbviewer.org.</b></div><div class=\"sk-container\" hidden><div class=\"sk-item\"><div class=\"sk-estimator sk-toggleable\"><input class=\"sk-toggleable__control sk-hidden--visually\" id=\"sk-estimator-id-1\" type=\"checkbox\" checked><label for=\"sk-estimator-id-1\" class=\"sk-toggleable__label sk-toggleable__label-arrow\">RandomForestClassifier</label><div class=\"sk-toggleable__content\"><pre>RandomForestClassifier(criterion=&#x27;entropy&#x27;, max_depth=4, n_estimators=10,\n",
              "                       random_state=41)</pre></div></div></div></div></div>"
            ]
          },
          "metadata": {},
          "execution_count": 10
        }
      ]
    },
    {
      "cell_type": "code",
      "source": [
        "clf.score(scaled_X_train, y_train)"
      ],
      "metadata": {
        "colab": {
          "base_uri": "https://localhost:8080/"
        },
        "id": "zKerc2aZbf5s",
        "outputId": "22678385-7681-4bb3-8f69-2f925c50e1c3"
      },
      "execution_count": 11,
      "outputs": [
        {
          "output_type": "execute_result",
          "data": {
            "text/plain": [
              "0.904772531022907"
            ]
          },
          "metadata": {},
          "execution_count": 11
        }
      ]
    },
    {
      "cell_type": "code",
      "source": [
        "# make predictions on the test set, save the ground truth as y_true\n",
        "y_pred = clf.predict(scaled_X_test)\n",
        "y_true = y_test"
      ],
      "metadata": {
        "id": "M8JhiQxkhfRB"
      },
      "execution_count": 32,
      "outputs": []
    },
    {
      "cell_type": "code",
      "source": [
        "from sklearn.metrics import confusion_matrix\n",
        "import seaborn as sns\n",
        "import matplotlib.pyplot as plt\n",
        "cf_matrix = confusion_matrix(y_true, y_pred)\n",
        "cf_matrix = cf_matrix / cf_matrix.astype(np.float).sum(axis=1)\n",
        "print(\"\\nTest confusion matrix\")\n",
        "sns.heatmap(cf_matrix, annot=True, cmap='Blues', fmt='g') # fmt='g' to disable scientific notation\n",
        "plt.xlabel('Predicted', fontsize=12)\n",
        "plt.ylabel('True', fontsize=12)"
      ],
      "metadata": {
        "id": "duZTxki-gzOV"
      },
      "execution_count": null,
      "outputs": []
    },
    {
      "cell_type": "code",
      "source": [
        "print(cf_matrix)"
      ],
      "metadata": {
        "id": "nHJmUfUE-nef"
      },
      "execution_count": null,
      "outputs": []
    },
    {
      "cell_type": "code",
      "source": [
        "from sklearn.model_selection import GridSearchCV\n",
        "from time import time\n",
        "# Random search\n",
        "#--------------\n",
        "# record the starting time\n",
        "\n",
        "start = time()\n",
        "\n",
        "# creating a grid of parameters\n",
        "param_grid = {\n",
        "  'n_estimators': [5, 10, 15, 20],\n",
        "  'min_samples_leaf': [5, 10, 15],\n",
        "  'max_depth': [6, 8, 10, 12, 14],\n",
        "  'criterion': ['gini', 'entropy']\n",
        "}"
      ],
      "metadata": {
        "id": "Kdn33eWrhp73"
      },
      "execution_count": 12,
      "outputs": []
    },
    {
      "cell_type": "code",
      "source": [
        "# instantiate the grid search cross validation\n",
        "rf_gs = GridSearchCV(\n",
        "  estimator=clf,\n",
        "  param_grid=param_grid,\n",
        "  scoring='accuracy',\n",
        "  cv=5,\n",
        "  refit=True,\n",
        "  return_train_score=True, \n",
        "  verbose=5\n",
        ")"
      ],
      "metadata": {
        "id": "G7OHoELPmpTf"
      },
      "execution_count": 15,
      "outputs": []
    },
    {
      "cell_type": "code",
      "source": [
        "# Record the current time \n",
        "start = time()\n",
        "# Fit the selected model\n",
        "rf_gs.fit(scaled_X_train, y_train)\n",
        "# Print the time spend and number of models ran\n",
        "print(\"GridSearchCV took %.2f seconds for %d candidate parameter settings.\" % ((time() - start), len(rf_gs.cv_results_['params'])))"
      ],
      "metadata": {
        "id": "vMeh9E-Kolu-",
        "colab": {
          "base_uri": "https://localhost:8080/"
        },
        "outputId": "435264a1-8a31-46ee-8d3f-4d9c8b0356f6"
      },
      "execution_count": 156,
      "outputs": [
        {
          "output_type": "stream",
          "name": "stdout",
          "text": [
            "Fitting 5 folds for each of 120 candidates, totalling 600 fits\n",
            "[CV 1/5] END criterion=gini, max_depth=6, min_samples_leaf=5, n_estimators=5;, score=(train=0.979, test=0.979) total time=   1.0s\n",
            "[CV 2/5] END criterion=gini, max_depth=6, min_samples_leaf=5, n_estimators=5;, score=(train=0.990, test=0.990) total time=   1.0s\n",
            "[CV 3/5] END criterion=gini, max_depth=6, min_samples_leaf=5, n_estimators=5;, score=(train=0.979, test=0.980) total time=   1.5s\n",
            "[CV 4/5] END criterion=gini, max_depth=6, min_samples_leaf=5, n_estimators=5;, score=(train=0.977, test=0.976) total time=   1.5s\n",
            "[CV 5/5] END criterion=gini, max_depth=6, min_samples_leaf=5, n_estimators=5;, score=(train=0.983, test=0.983) total time=   1.2s\n",
            "[CV 1/5] END criterion=gini, max_depth=6, min_samples_leaf=5, n_estimators=10;, score=(train=0.983, test=0.983) total time=   1.8s\n",
            "[CV 2/5] END criterion=gini, max_depth=6, min_samples_leaf=5, n_estimators=10;, score=(train=0.991, test=0.990) total time=   1.8s\n",
            "[CV 3/5] END criterion=gini, max_depth=6, min_samples_leaf=5, n_estimators=10;, score=(train=0.990, test=0.990) total time=   1.9s\n",
            "[CV 4/5] END criterion=gini, max_depth=6, min_samples_leaf=5, n_estimators=10;, score=(train=0.986, test=0.986) total time=   1.9s\n",
            "[CV 5/5] END criterion=gini, max_depth=6, min_samples_leaf=5, n_estimators=10;, score=(train=0.993, test=0.993) total time=   2.1s\n",
            "[CV 1/5] END criterion=gini, max_depth=6, min_samples_leaf=5, n_estimators=15;, score=(train=0.989, test=0.989) total time=   3.7s\n",
            "[CV 2/5] END criterion=gini, max_depth=6, min_samples_leaf=5, n_estimators=15;, score=(train=0.995, test=0.995) total time=   2.7s\n",
            "[CV 3/5] END criterion=gini, max_depth=6, min_samples_leaf=5, n_estimators=15;, score=(train=0.995, test=0.995) total time=   2.8s\n",
            "[CV 4/5] END criterion=gini, max_depth=6, min_samples_leaf=5, n_estimators=15;, score=(train=0.990, test=0.989) total time=   3.4s\n",
            "[CV 5/5] END criterion=gini, max_depth=6, min_samples_leaf=5, n_estimators=15;, score=(train=0.996, test=0.996) total time=   3.9s\n",
            "[CV 1/5] END criterion=gini, max_depth=6, min_samples_leaf=5, n_estimators=20;, score=(train=0.991, test=0.991) total time=   3.7s\n",
            "[CV 2/5] END criterion=gini, max_depth=6, min_samples_leaf=5, n_estimators=20;, score=(train=0.995, test=0.995) total time=   3.5s\n",
            "[CV 3/5] END criterion=gini, max_depth=6, min_samples_leaf=5, n_estimators=20;, score=(train=0.996, test=0.996) total time=   4.5s\n",
            "[CV 4/5] END criterion=gini, max_depth=6, min_samples_leaf=5, n_estimators=20;, score=(train=0.994, test=0.994) total time=   3.9s\n",
            "[CV 5/5] END criterion=gini, max_depth=6, min_samples_leaf=5, n_estimators=20;, score=(train=0.997, test=0.997) total time=   3.6s\n",
            "[CV 1/5] END criterion=gini, max_depth=6, min_samples_leaf=10, n_estimators=5;, score=(train=0.994, test=0.994) total time=   0.9s\n",
            "[CV 2/5] END criterion=gini, max_depth=6, min_samples_leaf=10, n_estimators=5;, score=(train=0.993, test=0.992) total time=   0.9s\n",
            "[CV 3/5] END criterion=gini, max_depth=6, min_samples_leaf=10, n_estimators=5;, score=(train=0.983, test=0.984) total time=   1.2s\n",
            "[CV 4/5] END criterion=gini, max_depth=6, min_samples_leaf=10, n_estimators=5;, score=(train=0.987, test=0.985) total time=   1.5s\n",
            "[CV 5/5] END criterion=gini, max_depth=6, min_samples_leaf=10, n_estimators=5;, score=(train=0.989, test=0.989) total time=   1.4s\n",
            "[CV 1/5] END criterion=gini, max_depth=6, min_samples_leaf=10, n_estimators=10;, score=(train=0.990, test=0.990) total time=   1.9s\n",
            "[CV 2/5] END criterion=gini, max_depth=6, min_samples_leaf=10, n_estimators=10;, score=(train=0.993, test=0.993) total time=   2.8s\n",
            "[CV 3/5] END criterion=gini, max_depth=6, min_samples_leaf=10, n_estimators=10;, score=(train=0.988, test=0.988) total time=   1.8s\n",
            "[CV 4/5] END criterion=gini, max_depth=6, min_samples_leaf=10, n_estimators=10;, score=(train=0.986, test=0.985) total time=   1.9s\n",
            "[CV 5/5] END criterion=gini, max_depth=6, min_samples_leaf=10, n_estimators=10;, score=(train=0.995, test=0.995) total time=   2.1s\n",
            "[CV 1/5] END criterion=gini, max_depth=6, min_samples_leaf=10, n_estimators=15;, score=(train=0.992, test=0.992) total time=   3.7s\n",
            "[CV 2/5] END criterion=gini, max_depth=6, min_samples_leaf=10, n_estimators=15;, score=(train=0.994, test=0.994) total time=   2.9s\n",
            "[CV 3/5] END criterion=gini, max_depth=6, min_samples_leaf=10, n_estimators=15;, score=(train=0.993, test=0.993) total time=   2.8s\n",
            "[CV 4/5] END criterion=gini, max_depth=6, min_samples_leaf=10, n_estimators=15;, score=(train=0.991, test=0.990) total time=   2.9s\n",
            "[CV 5/5] END criterion=gini, max_depth=6, min_samples_leaf=10, n_estimators=15;, score=(train=0.994, test=0.994) total time=   4.0s\n",
            "[CV 1/5] END criterion=gini, max_depth=6, min_samples_leaf=10, n_estimators=20;, score=(train=0.993, test=0.993) total time=   3.7s\n",
            "[CV 2/5] END criterion=gini, max_depth=6, min_samples_leaf=10, n_estimators=20;, score=(train=0.995, test=0.995) total time=   3.7s\n",
            "[CV 3/5] END criterion=gini, max_depth=6, min_samples_leaf=10, n_estimators=20;, score=(train=0.994, test=0.994) total time=   4.7s\n",
            "[CV 4/5] END criterion=gini, max_depth=6, min_samples_leaf=10, n_estimators=20;, score=(train=0.994, test=0.993) total time=   3.9s\n",
            "[CV 5/5] END criterion=gini, max_depth=6, min_samples_leaf=10, n_estimators=20;, score=(train=0.996, test=0.996) total time=   3.7s\n",
            "[CV 1/5] END criterion=gini, max_depth=6, min_samples_leaf=15, n_estimators=5;, score=(train=0.982, test=0.982) total time=   1.0s\n",
            "[CV 2/5] END criterion=gini, max_depth=6, min_samples_leaf=15, n_estimators=5;, score=(train=0.992, test=0.991) total time=   1.0s\n",
            "[CV 3/5] END criterion=gini, max_depth=6, min_samples_leaf=15, n_estimators=5;, score=(train=0.986, test=0.987) total time=   1.3s\n",
            "[CV 4/5] END criterion=gini, max_depth=6, min_samples_leaf=15, n_estimators=5;, score=(train=0.978, test=0.977) total time=   1.6s\n",
            "[CV 5/5] END criterion=gini, max_depth=6, min_samples_leaf=15, n_estimators=5;, score=(train=0.986, test=0.985) total time=   1.4s\n",
            "[CV 1/5] END criterion=gini, max_depth=6, min_samples_leaf=15, n_estimators=10;, score=(train=0.986, test=0.986) total time=   1.9s\n",
            "[CV 2/5] END criterion=gini, max_depth=6, min_samples_leaf=15, n_estimators=10;, score=(train=0.993, test=0.993) total time=   1.9s\n",
            "[CV 3/5] END criterion=gini, max_depth=6, min_samples_leaf=15, n_estimators=10;, score=(train=0.991, test=0.992) total time=   2.9s\n",
            "[CV 4/5] END criterion=gini, max_depth=6, min_samples_leaf=15, n_estimators=10;, score=(train=0.981, test=0.981) total time=   2.8s\n",
            "[CV 5/5] END criterion=gini, max_depth=6, min_samples_leaf=15, n_estimators=10;, score=(train=0.994, test=0.993) total time=   2.7s\n",
            "[CV 1/5] END criterion=gini, max_depth=6, min_samples_leaf=15, n_estimators=15;, score=(train=0.989, test=0.990) total time=   3.0s\n",
            "[CV 2/5] END criterion=gini, max_depth=6, min_samples_leaf=15, n_estimators=15;, score=(train=0.994, test=0.994) total time=   2.8s\n",
            "[CV 3/5] END criterion=gini, max_depth=6, min_samples_leaf=15, n_estimators=15;, score=(train=0.992, test=0.993) total time=   2.8s\n",
            "[CV 4/5] END criterion=gini, max_depth=6, min_samples_leaf=15, n_estimators=15;, score=(train=0.988, test=0.988) total time=   3.8s\n",
            "[CV 5/5] END criterion=gini, max_depth=6, min_samples_leaf=15, n_estimators=15;, score=(train=0.994, test=0.993) total time=   3.4s\n",
            "[CV 1/5] END criterion=gini, max_depth=6, min_samples_leaf=15, n_estimators=20;, score=(train=0.992, test=0.992) total time=   7.5s\n",
            "[CV 2/5] END criterion=gini, max_depth=6, min_samples_leaf=15, n_estimators=20;, score=(train=0.997, test=0.997) total time=   6.1s\n",
            "[CV 3/5] END criterion=gini, max_depth=6, min_samples_leaf=15, n_estimators=20;, score=(train=0.995, test=0.996) total time=   3.6s\n",
            "[CV 4/5] END criterion=gini, max_depth=6, min_samples_leaf=15, n_estimators=20;, score=(train=0.993, test=0.992) total time=   3.8s\n",
            "[CV 5/5] END criterion=gini, max_depth=6, min_samples_leaf=15, n_estimators=20;, score=(train=0.995, test=0.995) total time=   4.9s\n",
            "[CV 1/5] END criterion=gini, max_depth=8, min_samples_leaf=5, n_estimators=5;, score=(train=0.997, test=0.996) total time=   1.2s\n",
            "[CV 2/5] END criterion=gini, max_depth=8, min_samples_leaf=5, n_estimators=5;, score=(train=0.998, test=0.998) total time=   1.1s\n",
            "[CV 3/5] END criterion=gini, max_depth=8, min_samples_leaf=5, n_estimators=5;, score=(train=0.992, test=0.992) total time=   1.2s\n",
            "[CV 4/5] END criterion=gini, max_depth=8, min_samples_leaf=5, n_estimators=5;, score=(train=0.997, test=0.997) total time=   1.2s\n",
            "[CV 5/5] END criterion=gini, max_depth=8, min_samples_leaf=5, n_estimators=5;, score=(train=0.997, test=0.997) total time=   1.1s\n",
            "[CV 1/5] END criterion=gini, max_depth=8, min_samples_leaf=5, n_estimators=10;, score=(train=0.996, test=0.995) total time=   2.3s\n",
            "[CV 2/5] END criterion=gini, max_depth=8, min_samples_leaf=5, n_estimators=10;, score=(train=0.999, test=0.999) total time=   2.9s\n",
            "[CV 3/5] END criterion=gini, max_depth=8, min_samples_leaf=5, n_estimators=10;, score=(train=0.999, test=0.999) total time=   2.3s\n",
            "[CV 4/5] END criterion=gini, max_depth=8, min_samples_leaf=5, n_estimators=10;, score=(train=0.998, test=0.998) total time=   2.2s\n",
            "[CV 5/5] END criterion=gini, max_depth=8, min_samples_leaf=5, n_estimators=10;, score=(train=0.999, test=0.998) total time=   2.2s\n",
            "[CV 1/5] END criterion=gini, max_depth=8, min_samples_leaf=5, n_estimators=15;, score=(train=0.999, test=0.998) total time=   3.2s\n",
            "[CV 2/5] END criterion=gini, max_depth=8, min_samples_leaf=5, n_estimators=15;, score=(train=0.999, test=0.999) total time=   4.3s\n",
            "[CV 3/5] END criterion=gini, max_depth=8, min_samples_leaf=5, n_estimators=15;, score=(train=0.999, test=0.999) total time=   3.2s\n",
            "[CV 4/5] END criterion=gini, max_depth=8, min_samples_leaf=5, n_estimators=15;, score=(train=0.999, test=0.999) total time=   3.2s\n",
            "[CV 5/5] END criterion=gini, max_depth=8, min_samples_leaf=5, n_estimators=15;, score=(train=0.999, test=0.999) total time=   3.4s\n",
            "[CV 1/5] END criterion=gini, max_depth=8, min_samples_leaf=5, n_estimators=20;, score=(train=1.000, test=1.000) total time=   4.9s\n",
            "[CV 2/5] END criterion=gini, max_depth=8, min_samples_leaf=5, n_estimators=20;, score=(train=0.999, test=0.999) total time=   4.1s\n",
            "[CV 3/5] END criterion=gini, max_depth=8, min_samples_leaf=5, n_estimators=20;, score=(train=0.999, test=1.000) total time=   8.0s\n",
            "[CV 4/5] END criterion=gini, max_depth=8, min_samples_leaf=5, n_estimators=20;, score=(train=0.999, test=0.998) total time=   4.1s\n",
            "[CV 5/5] END criterion=gini, max_depth=8, min_samples_leaf=5, n_estimators=20;, score=(train=0.999, test=0.999) total time=   4.1s\n",
            "[CV 1/5] END criterion=gini, max_depth=8, min_samples_leaf=10, n_estimators=5;, score=(train=0.994, test=0.994) total time=   1.4s\n",
            "[CV 2/5] END criterion=gini, max_depth=8, min_samples_leaf=10, n_estimators=5;, score=(train=0.998, test=0.998) total time=   1.4s\n",
            "[CV 3/5] END criterion=gini, max_depth=8, min_samples_leaf=10, n_estimators=5;, score=(train=0.999, test=0.999) total time=   1.5s\n",
            "[CV 4/5] END criterion=gini, max_depth=8, min_samples_leaf=10, n_estimators=5;, score=(train=0.998, test=0.998) total time=   1.2s\n",
            "[CV 5/5] END criterion=gini, max_depth=8, min_samples_leaf=10, n_estimators=5;, score=(train=0.998, test=0.998) total time=   1.2s\n",
            "[CV 1/5] END criterion=gini, max_depth=8, min_samples_leaf=10, n_estimators=10;, score=(train=0.998, test=0.998) total time=   2.1s\n",
            "[CV 2/5] END criterion=gini, max_depth=8, min_samples_leaf=10, n_estimators=10;, score=(train=0.999, test=0.999) total time=   2.0s\n",
            "[CV 3/5] END criterion=gini, max_depth=8, min_samples_leaf=10, n_estimators=10;, score=(train=1.000, test=1.000) total time=   2.1s\n",
            "[CV 4/5] END criterion=gini, max_depth=8, min_samples_leaf=10, n_estimators=10;, score=(train=0.999, test=0.999) total time=   2.8s\n",
            "[CV 5/5] END criterion=gini, max_depth=8, min_samples_leaf=10, n_estimators=10;, score=(train=0.999, test=0.999) total time=   2.7s\n",
            "[CV 1/5] END criterion=gini, max_depth=8, min_samples_leaf=10, n_estimators=15;, score=(train=0.998, test=0.997) total time=   3.2s\n",
            "[CV 2/5] END criterion=gini, max_depth=8, min_samples_leaf=10, n_estimators=15;, score=(train=0.999, test=0.999) total time=   3.1s\n",
            "[CV 3/5] END criterion=gini, max_depth=8, min_samples_leaf=10, n_estimators=15;, score=(train=0.999, test=1.000) total time=   3.7s\n",
            "[CV 4/5] END criterion=gini, max_depth=8, min_samples_leaf=10, n_estimators=15;, score=(train=0.999, test=0.999) total time=   4.0s\n",
            "[CV 5/5] END criterion=gini, max_depth=8, min_samples_leaf=10, n_estimators=15;, score=(train=0.999, test=0.999) total time=   3.3s\n",
            "[CV 1/5] END criterion=gini, max_depth=8, min_samples_leaf=10, n_estimators=20;, score=(train=1.000, test=1.000) total time=   3.9s\n",
            "[CV 2/5] END criterion=gini, max_depth=8, min_samples_leaf=10, n_estimators=20;, score=(train=1.000, test=1.000) total time=   5.1s\n",
            "[CV 3/5] END criterion=gini, max_depth=8, min_samples_leaf=10, n_estimators=20;, score=(train=0.999, test=1.000) total time=   4.1s\n",
            "[CV 4/5] END criterion=gini, max_depth=8, min_samples_leaf=10, n_estimators=20;, score=(train=0.999, test=0.999) total time=   4.2s\n",
            "[CV 5/5] END criterion=gini, max_depth=8, min_samples_leaf=10, n_estimators=20;, score=(train=0.999, test=0.999) total time=   5.5s\n",
            "[CV 1/5] END criterion=gini, max_depth=8, min_samples_leaf=15, n_estimators=5;, score=(train=0.989, test=0.989) total time=   1.2s\n",
            "[CV 2/5] END criterion=gini, max_depth=8, min_samples_leaf=15, n_estimators=5;, score=(train=0.997, test=0.996) total time=   1.1s\n",
            "[CV 3/5] END criterion=gini, max_depth=8, min_samples_leaf=15, n_estimators=5;, score=(train=0.998, test=0.998) total time=   1.1s\n",
            "[CV 4/5] END criterion=gini, max_depth=8, min_samples_leaf=15, n_estimators=5;, score=(train=0.996, test=0.995) total time=   1.1s\n",
            "[CV 5/5] END criterion=gini, max_depth=8, min_samples_leaf=15, n_estimators=5;, score=(train=0.997, test=0.996) total time=   1.1s\n",
            "[CV 1/5] END criterion=gini, max_depth=8, min_samples_leaf=15, n_estimators=10;, score=(train=0.996, test=0.996) total time=   2.3s\n",
            "[CV 2/5] END criterion=gini, max_depth=8, min_samples_leaf=15, n_estimators=10;, score=(train=0.999, test=0.999) total time=   3.0s\n",
            "[CV 3/5] END criterion=gini, max_depth=8, min_samples_leaf=15, n_estimators=10;, score=(train=0.998, test=0.999) total time=   2.3s\n",
            "[CV 4/5] END criterion=gini, max_depth=8, min_samples_leaf=15, n_estimators=10;, score=(train=0.999, test=0.998) total time=   2.1s\n",
            "[CV 5/5] END criterion=gini, max_depth=8, min_samples_leaf=15, n_estimators=10;, score=(train=0.999, test=0.999) total time=   2.0s\n",
            "[CV 1/5] END criterion=gini, max_depth=8, min_samples_leaf=15, n_estimators=15;, score=(train=0.998, test=0.998) total time=   3.2s\n",
            "[CV 2/5] END criterion=gini, max_depth=8, min_samples_leaf=15, n_estimators=15;, score=(train=0.999, test=0.998) total time=   4.4s\n",
            "[CV 3/5] END criterion=gini, max_depth=8, min_samples_leaf=15, n_estimators=15;, score=(train=0.997, test=0.998) total time=   3.3s\n",
            "[CV 4/5] END criterion=gini, max_depth=8, min_samples_leaf=15, n_estimators=15;, score=(train=0.998, test=0.998) total time=   3.2s\n",
            "[CV 5/5] END criterion=gini, max_depth=8, min_samples_leaf=15, n_estimators=15;, score=(train=0.999, test=0.998) total time=   3.3s\n",
            "[CV 1/5] END criterion=gini, max_depth=8, min_samples_leaf=15, n_estimators=20;, score=(train=0.999, test=0.999) total time=   5.1s\n",
            "[CV 2/5] END criterion=gini, max_depth=8, min_samples_leaf=15, n_estimators=20;, score=(train=0.999, test=0.999) total time=   4.1s\n",
            "[CV 3/5] END criterion=gini, max_depth=8, min_samples_leaf=15, n_estimators=20;, score=(train=0.999, test=0.999) total time=   4.5s\n",
            "[CV 4/5] END criterion=gini, max_depth=8, min_samples_leaf=15, n_estimators=20;, score=(train=0.998, test=0.998) total time=   5.0s\n",
            "[CV 5/5] END criterion=gini, max_depth=8, min_samples_leaf=15, n_estimators=20;, score=(train=0.999, test=0.999) total time=   4.0s\n",
            "[CV 1/5] END criterion=gini, max_depth=10, min_samples_leaf=5, n_estimators=5;, score=(train=0.999, test=0.999) total time=   1.2s\n",
            "[CV 2/5] END criterion=gini, max_depth=10, min_samples_leaf=5, n_estimators=5;, score=(train=0.999, test=0.999) total time=   1.3s\n",
            "[CV 3/5] END criterion=gini, max_depth=10, min_samples_leaf=5, n_estimators=5;, score=(train=0.999, test=0.999) total time=   1.4s\n",
            "[CV 4/5] END criterion=gini, max_depth=10, min_samples_leaf=5, n_estimators=5;, score=(train=0.998, test=0.998) total time=   1.8s\n",
            "[CV 5/5] END criterion=gini, max_depth=10, min_samples_leaf=5, n_estimators=5;, score=(train=0.999, test=0.999) total time=   1.5s\n",
            "[CV 1/5] END criterion=gini, max_depth=10, min_samples_leaf=5, n_estimators=10;, score=(train=0.999, test=0.999) total time=   2.4s\n",
            "[CV 2/5] END criterion=gini, max_depth=10, min_samples_leaf=5, n_estimators=10;, score=(train=1.000, test=1.000) total time=   2.3s\n",
            "[CV 3/5] END criterion=gini, max_depth=10, min_samples_leaf=5, n_estimators=10;, score=(train=1.000, test=1.000) total time=   2.1s\n",
            "[CV 4/5] END criterion=gini, max_depth=10, min_samples_leaf=5, n_estimators=10;, score=(train=1.000, test=1.000) total time=   2.3s\n",
            "[CV 5/5] END criterion=gini, max_depth=10, min_samples_leaf=5, n_estimators=10;, score=(train=0.999, test=0.999) total time=   3.4s\n",
            "[CV 1/5] END criterion=gini, max_depth=10, min_samples_leaf=5, n_estimators=15;, score=(train=0.999, test=0.999) total time=   3.5s\n",
            "[CV 2/5] END criterion=gini, max_depth=10, min_samples_leaf=5, n_estimators=15;, score=(train=1.000, test=1.000) total time=   4.2s\n",
            "[CV 3/5] END criterion=gini, max_depth=10, min_samples_leaf=5, n_estimators=15;, score=(train=1.000, test=1.000) total time=   5.0s\n",
            "[CV 4/5] END criterion=gini, max_depth=10, min_samples_leaf=5, n_estimators=15;, score=(train=0.999, test=0.999) total time=   4.1s\n",
            "[CV 5/5] END criterion=gini, max_depth=10, min_samples_leaf=5, n_estimators=15;, score=(train=0.999, test=0.999) total time=   3.4s\n",
            "[CV 1/5] END criterion=gini, max_depth=10, min_samples_leaf=5, n_estimators=20;, score=(train=0.999, test=0.999) total time=   4.8s\n",
            "[CV 2/5] END criterion=gini, max_depth=10, min_samples_leaf=5, n_estimators=20;, score=(train=1.000, test=1.000) total time=   5.4s\n",
            "[CV 3/5] END criterion=gini, max_depth=10, min_samples_leaf=5, n_estimators=20;, score=(train=1.000, test=1.000) total time=   4.2s\n",
            "[CV 4/5] END criterion=gini, max_depth=10, min_samples_leaf=5, n_estimators=20;, score=(train=1.000, test=1.000) total time=   5.4s\n",
            "[CV 5/5] END criterion=gini, max_depth=10, min_samples_leaf=5, n_estimators=20;, score=(train=1.000, test=0.999) total time=   4.8s\n",
            "[CV 1/5] END criterion=gini, max_depth=10, min_samples_leaf=10, n_estimators=5;, score=(train=0.997, test=0.996) total time=   1.3s\n",
            "[CV 2/5] END criterion=gini, max_depth=10, min_samples_leaf=10, n_estimators=5;, score=(train=0.999, test=0.999) total time=   1.1s\n",
            "[CV 3/5] END criterion=gini, max_depth=10, min_samples_leaf=10, n_estimators=5;, score=(train=0.999, test=0.999) total time=   1.1s\n",
            "[CV 4/5] END criterion=gini, max_depth=10, min_samples_leaf=10, n_estimators=5;, score=(train=0.999, test=0.999) total time=   1.2s\n",
            "[CV 5/5] END criterion=gini, max_depth=10, min_samples_leaf=10, n_estimators=5;, score=(train=0.998, test=0.998) total time=   1.4s\n",
            "[CV 1/5] END criterion=gini, max_depth=10, min_samples_leaf=10, n_estimators=10;, score=(train=0.999, test=0.999) total time=   3.4s\n",
            "[CV 2/5] END criterion=gini, max_depth=10, min_samples_leaf=10, n_estimators=10;, score=(train=0.999, test=0.999) total time=   2.1s\n",
            "[CV 3/5] END criterion=gini, max_depth=10, min_samples_leaf=10, n_estimators=10;, score=(train=1.000, test=1.000) total time=   2.1s\n",
            "[CV 4/5] END criterion=gini, max_depth=10, min_samples_leaf=10, n_estimators=10;, score=(train=0.999, test=0.999) total time=   2.2s\n",
            "[CV 5/5] END criterion=gini, max_depth=10, min_samples_leaf=10, n_estimators=10;, score=(train=0.999, test=0.999) total time=   2.2s\n",
            "[CV 1/5] END criterion=gini, max_depth=10, min_samples_leaf=10, n_estimators=15;, score=(train=1.000, test=0.999) total time=   4.6s\n",
            "[CV 2/5] END criterion=gini, max_depth=10, min_samples_leaf=10, n_estimators=15;, score=(train=0.999, test=0.999) total time=   3.2s\n",
            "[CV 3/5] END criterion=gini, max_depth=10, min_samples_leaf=10, n_estimators=15;, score=(train=1.000, test=1.000) total time=   3.2s\n",
            "[CV 4/5] END criterion=gini, max_depth=10, min_samples_leaf=10, n_estimators=15;, score=(train=1.000, test=1.000) total time=   3.7s\n",
            "[CV 5/5] END criterion=gini, max_depth=10, min_samples_leaf=10, n_estimators=15;, score=(train=1.000, test=0.999) total time=   4.2s\n",
            "[CV 1/5] END criterion=gini, max_depth=10, min_samples_leaf=10, n_estimators=20;, score=(train=1.000, test=1.000) total time=   4.4s\n",
            "[CV 2/5] END criterion=gini, max_depth=10, min_samples_leaf=10, n_estimators=20;, score=(train=1.000, test=1.000) total time=   4.4s\n",
            "[CV 3/5] END criterion=gini, max_depth=10, min_samples_leaf=10, n_estimators=20;, score=(train=1.000, test=1.000) total time=   5.1s\n",
            "[CV 4/5] END criterion=gini, max_depth=10, min_samples_leaf=10, n_estimators=20;, score=(train=1.000, test=1.000) total time=   4.5s\n",
            "[CV 5/5] END criterion=gini, max_depth=10, min_samples_leaf=10, n_estimators=20;, score=(train=1.000, test=1.000) total time=   5.1s\n",
            "[CV 1/5] END criterion=gini, max_depth=10, min_samples_leaf=15, n_estimators=5;, score=(train=0.997, test=0.996) total time=   1.7s\n",
            "[CV 2/5] END criterion=gini, max_depth=10, min_samples_leaf=15, n_estimators=5;, score=(train=0.999, test=0.999) total time=   1.3s\n",
            "[CV 3/5] END criterion=gini, max_depth=10, min_samples_leaf=15, n_estimators=5;, score=(train=0.999, test=0.999) total time=   1.1s\n",
            "[CV 4/5] END criterion=gini, max_depth=10, min_samples_leaf=15, n_estimators=5;, score=(train=0.998, test=0.997) total time=   1.2s\n",
            "[CV 5/5] END criterion=gini, max_depth=10, min_samples_leaf=15, n_estimators=5;, score=(train=0.998, test=0.998) total time=   1.2s\n",
            "[CV 1/5] END criterion=gini, max_depth=10, min_samples_leaf=15, n_estimators=10;, score=(train=0.999, test=0.998) total time=   2.5s\n",
            "[CV 2/5] END criterion=gini, max_depth=10, min_samples_leaf=15, n_estimators=10;, score=(train=1.000, test=0.999) total time=   4.5s\n",
            "[CV 3/5] END criterion=gini, max_depth=10, min_samples_leaf=15, n_estimators=10;, score=(train=0.999, test=0.999) total time=   4.5s\n",
            "[CV 4/5] END criterion=gini, max_depth=10, min_samples_leaf=15, n_estimators=10;, score=(train=0.999, test=0.999) total time=   3.5s\n",
            "[CV 5/5] END criterion=gini, max_depth=10, min_samples_leaf=15, n_estimators=10;, score=(train=0.999, test=0.999) total time=   3.9s\n",
            "[CV 1/5] END criterion=gini, max_depth=10, min_samples_leaf=15, n_estimators=15;, score=(train=0.999, test=0.999) total time=   7.5s\n",
            "[CV 2/5] END criterion=gini, max_depth=10, min_samples_leaf=15, n_estimators=15;, score=(train=0.999, test=0.999) total time=   3.3s\n",
            "[CV 3/5] END criterion=gini, max_depth=10, min_samples_leaf=15, n_estimators=15;, score=(train=0.999, test=0.999) total time=   4.0s\n",
            "[CV 4/5] END criterion=gini, max_depth=10, min_samples_leaf=15, n_estimators=15;, score=(train=0.999, test=0.999) total time=   5.0s\n",
            "[CV 5/5] END criterion=gini, max_depth=10, min_samples_leaf=15, n_estimators=15;, score=(train=0.999, test=0.999) total time=   3.9s\n",
            "[CV 1/5] END criterion=gini, max_depth=10, min_samples_leaf=15, n_estimators=20;, score=(train=1.000, test=0.999) total time=   7.1s\n",
            "[CV 2/5] END criterion=gini, max_depth=10, min_samples_leaf=15, n_estimators=20;, score=(train=1.000, test=0.999) total time=   6.1s\n",
            "[CV 3/5] END criterion=gini, max_depth=10, min_samples_leaf=15, n_estimators=20;, score=(train=0.999, test=1.000) total time=   6.4s\n",
            "[CV 4/5] END criterion=gini, max_depth=10, min_samples_leaf=15, n_estimators=20;, score=(train=0.999, test=0.999) total time=   5.9s\n",
            "[CV 5/5] END criterion=gini, max_depth=10, min_samples_leaf=15, n_estimators=20;, score=(train=1.000, test=0.999) total time=   6.2s\n",
            "[CV 1/5] END criterion=gini, max_depth=12, min_samples_leaf=5, n_estimators=5;, score=(train=0.999, test=0.999) total time=   2.2s\n",
            "[CV 2/5] END criterion=gini, max_depth=12, min_samples_leaf=5, n_estimators=5;, score=(train=1.000, test=1.000) total time=   2.0s\n",
            "[CV 3/5] END criterion=gini, max_depth=12, min_samples_leaf=5, n_estimators=5;, score=(train=0.999, test=0.999) total time=   1.7s\n",
            "[CV 4/5] END criterion=gini, max_depth=12, min_samples_leaf=5, n_estimators=5;, score=(train=0.999, test=0.999) total time=   1.4s\n",
            "[CV 5/5] END criterion=gini, max_depth=12, min_samples_leaf=5, n_estimators=5;, score=(train=1.000, test=1.000) total time=   1.6s\n",
            "[CV 1/5] END criterion=gini, max_depth=12, min_samples_leaf=5, n_estimators=10;, score=(train=1.000, test=0.999) total time=   3.9s\n",
            "[CV 2/5] END criterion=gini, max_depth=12, min_samples_leaf=5, n_estimators=10;, score=(train=1.000, test=1.000) total time=   4.6s\n",
            "[CV 3/5] END criterion=gini, max_depth=12, min_samples_leaf=5, n_estimators=10;, score=(train=1.000, test=1.000) total time=   4.8s\n",
            "[CV 4/5] END criterion=gini, max_depth=12, min_samples_leaf=5, n_estimators=10;, score=(train=1.000, test=1.000) total time=   2.3s\n",
            "[CV 5/5] END criterion=gini, max_depth=12, min_samples_leaf=5, n_estimators=10;, score=(train=1.000, test=1.000) total time=   2.8s\n",
            "[CV 1/5] END criterion=gini, max_depth=12, min_samples_leaf=5, n_estimators=15;, score=(train=1.000, test=0.999) total time=   6.0s\n",
            "[CV 2/5] END criterion=gini, max_depth=12, min_samples_leaf=5, n_estimators=15;, score=(train=1.000, test=1.000) total time=   5.8s\n",
            "[CV 3/5] END criterion=gini, max_depth=12, min_samples_leaf=5, n_estimators=15;, score=(train=1.000, test=1.000) total time=   6.1s\n",
            "[CV 4/5] END criterion=gini, max_depth=12, min_samples_leaf=5, n_estimators=15;, score=(train=1.000, test=1.000) total time=   4.5s\n",
            "[CV 5/5] END criterion=gini, max_depth=12, min_samples_leaf=5, n_estimators=15;, score=(train=1.000, test=1.000) total time=   7.2s\n",
            "[CV 1/5] END criterion=gini, max_depth=12, min_samples_leaf=5, n_estimators=20;, score=(train=1.000, test=1.000) total time=   4.5s\n",
            "[CV 2/5] END criterion=gini, max_depth=12, min_samples_leaf=5, n_estimators=20;, score=(train=1.000, test=1.000) total time=   4.3s\n",
            "[CV 3/5] END criterion=gini, max_depth=12, min_samples_leaf=5, n_estimators=20;, score=(train=1.000, test=1.000) total time=   5.8s\n",
            "[CV 4/5] END criterion=gini, max_depth=12, min_samples_leaf=5, n_estimators=20;, score=(train=1.000, test=1.000) total time=   4.6s\n",
            "[CV 5/5] END criterion=gini, max_depth=12, min_samples_leaf=5, n_estimators=20;, score=(train=1.000, test=1.000) total time=   5.1s\n",
            "[CV 1/5] END criterion=gini, max_depth=12, min_samples_leaf=10, n_estimators=5;, score=(train=0.999, test=0.998) total time=   1.6s\n",
            "[CV 2/5] END criterion=gini, max_depth=12, min_samples_leaf=10, n_estimators=5;, score=(train=1.000, test=1.000) total time=   1.2s\n",
            "[CV 3/5] END criterion=gini, max_depth=12, min_samples_leaf=10, n_estimators=5;, score=(train=0.999, test=0.999) total time=   1.9s\n",
            "[CV 4/5] END criterion=gini, max_depth=12, min_samples_leaf=10, n_estimators=5;, score=(train=0.999, test=0.999) total time=   2.5s\n",
            "[CV 5/5] END criterion=gini, max_depth=12, min_samples_leaf=10, n_estimators=5;, score=(train=0.998, test=0.998) total time=   2.9s\n",
            "[CV 1/5] END criterion=gini, max_depth=12, min_samples_leaf=10, n_estimators=10;, score=(train=1.000, test=1.000) total time=   3.5s\n",
            "[CV 2/5] END criterion=gini, max_depth=12, min_samples_leaf=10, n_estimators=10;, score=(train=1.000, test=1.000) total time=   3.6s\n",
            "[CV 3/5] END criterion=gini, max_depth=12, min_samples_leaf=10, n_estimators=10;, score=(train=1.000, test=1.000) total time=   3.2s\n",
            "[CV 4/5] END criterion=gini, max_depth=12, min_samples_leaf=10, n_estimators=10;, score=(train=0.999, test=0.999) total time=   7.5s\n",
            "[CV 5/5] END criterion=gini, max_depth=12, min_samples_leaf=10, n_estimators=10;, score=(train=1.000, test=0.999) total time=   3.1s\n",
            "[CV 1/5] END criterion=gini, max_depth=12, min_samples_leaf=10, n_estimators=15;, score=(train=1.000, test=1.000) total time=   3.3s\n",
            "[CV 2/5] END criterion=gini, max_depth=12, min_samples_leaf=10, n_estimators=15;, score=(train=1.000, test=1.000) total time=   3.3s\n",
            "[CV 3/5] END criterion=gini, max_depth=12, min_samples_leaf=10, n_estimators=15;, score=(train=1.000, test=1.000) total time=   6.6s\n",
            "[CV 4/5] END criterion=gini, max_depth=12, min_samples_leaf=10, n_estimators=15;, score=(train=1.000, test=0.999) total time=   4.6s\n",
            "[CV 5/5] END criterion=gini, max_depth=12, min_samples_leaf=10, n_estimators=15;, score=(train=1.000, test=1.000) total time=   3.5s\n",
            "[CV 1/5] END criterion=gini, max_depth=12, min_samples_leaf=10, n_estimators=20;, score=(train=1.000, test=1.000) total time=   5.5s\n",
            "[CV 2/5] END criterion=gini, max_depth=12, min_samples_leaf=10, n_estimators=20;, score=(train=1.000, test=1.000) total time=   4.3s\n",
            "[CV 3/5] END criterion=gini, max_depth=12, min_samples_leaf=10, n_estimators=20;, score=(train=1.000, test=1.000) total time=   4.8s\n",
            "[CV 4/5] END criterion=gini, max_depth=12, min_samples_leaf=10, n_estimators=20;, score=(train=1.000, test=1.000) total time=   6.2s\n",
            "[CV 5/5] END criterion=gini, max_depth=12, min_samples_leaf=10, n_estimators=20;, score=(train=1.000, test=1.000) total time=   4.6s\n",
            "[CV 1/5] END criterion=gini, max_depth=12, min_samples_leaf=15, n_estimators=5;, score=(train=0.998, test=0.998) total time=   1.3s\n",
            "[CV 2/5] END criterion=gini, max_depth=12, min_samples_leaf=15, n_estimators=5;, score=(train=1.000, test=0.999) total time=   1.6s\n",
            "[CV 3/5] END criterion=gini, max_depth=12, min_samples_leaf=15, n_estimators=5;, score=(train=1.000, test=0.999) total time=   1.6s\n",
            "[CV 4/5] END criterion=gini, max_depth=12, min_samples_leaf=15, n_estimators=5;, score=(train=0.998, test=0.998) total time=   1.3s\n",
            "[CV 5/5] END criterion=gini, max_depth=12, min_samples_leaf=15, n_estimators=5;, score=(train=0.999, test=0.999) total time=   1.1s\n",
            "[CV 1/5] END criterion=gini, max_depth=12, min_samples_leaf=15, n_estimators=10;, score=(train=1.000, test=0.999) total time=   2.3s\n",
            "[CV 2/5] END criterion=gini, max_depth=12, min_samples_leaf=15, n_estimators=10;, score=(train=1.000, test=1.000) total time=   2.1s\n",
            "[CV 3/5] END criterion=gini, max_depth=12, min_samples_leaf=15, n_estimators=10;, score=(train=1.000, test=1.000) total time=   2.0s\n",
            "[CV 4/5] END criterion=gini, max_depth=12, min_samples_leaf=15, n_estimators=10;, score=(train=0.999, test=0.999) total time=   3.2s\n",
            "[CV 5/5] END criterion=gini, max_depth=12, min_samples_leaf=15, n_estimators=10;, score=(train=0.999, test=0.999) total time=   2.6s\n",
            "[CV 1/5] END criterion=gini, max_depth=12, min_samples_leaf=15, n_estimators=15;, score=(train=1.000, test=0.999) total time=   3.5s\n",
            "[CV 2/5] END criterion=gini, max_depth=12, min_samples_leaf=15, n_estimators=15;, score=(train=1.000, test=1.000) total time=   3.3s\n",
            "[CV 3/5] END criterion=gini, max_depth=12, min_samples_leaf=15, n_estimators=15;, score=(train=1.000, test=1.000) total time=   3.9s\n",
            "[CV 4/5] END criterion=gini, max_depth=12, min_samples_leaf=15, n_estimators=15;, score=(train=1.000, test=0.999) total time=   3.8s\n",
            "[CV 5/5] END criterion=gini, max_depth=12, min_samples_leaf=15, n_estimators=15;, score=(train=0.999, test=0.999) total time=   3.4s\n",
            "[CV 1/5] END criterion=gini, max_depth=12, min_samples_leaf=15, n_estimators=20;, score=(train=1.000, test=1.000) total time=   6.6s\n",
            "[CV 2/5] END criterion=gini, max_depth=12, min_samples_leaf=15, n_estimators=20;, score=(train=1.000, test=1.000) total time=   4.4s\n",
            "[CV 3/5] END criterion=gini, max_depth=12, min_samples_leaf=15, n_estimators=20;, score=(train=1.000, test=1.000) total time=   4.0s\n",
            "[CV 4/5] END criterion=gini, max_depth=12, min_samples_leaf=15, n_estimators=20;, score=(train=1.000, test=1.000) total time=   5.8s\n",
            "[CV 5/5] END criterion=gini, max_depth=12, min_samples_leaf=15, n_estimators=20;, score=(train=1.000, test=1.000) total time=   4.4s\n",
            "[CV 1/5] END criterion=gini, max_depth=14, min_samples_leaf=5, n_estimators=5;, score=(train=1.000, test=0.999) total time=   1.3s\n",
            "[CV 2/5] END criterion=gini, max_depth=14, min_samples_leaf=5, n_estimators=5;, score=(train=1.000, test=1.000) total time=   1.1s\n",
            "[CV 3/5] END criterion=gini, max_depth=14, min_samples_leaf=5, n_estimators=5;, score=(train=1.000, test=1.000) total time=   1.1s\n",
            "[CV 4/5] END criterion=gini, max_depth=14, min_samples_leaf=5, n_estimators=5;, score=(train=0.999, test=0.999) total time=   1.4s\n",
            "[CV 5/5] END criterion=gini, max_depth=14, min_samples_leaf=5, n_estimators=5;, score=(train=0.999, test=0.998) total time=   2.0s\n",
            "[CV 1/5] END criterion=gini, max_depth=14, min_samples_leaf=5, n_estimators=10;, score=(train=1.000, test=1.000) total time=   2.9s\n",
            "[CV 2/5] END criterion=gini, max_depth=14, min_samples_leaf=5, n_estimators=10;, score=(train=1.000, test=1.000) total time=   2.1s\n",
            "[CV 3/5] END criterion=gini, max_depth=14, min_samples_leaf=5, n_estimators=10;, score=(train=1.000, test=1.000) total time=   2.3s\n",
            "[CV 4/5] END criterion=gini, max_depth=14, min_samples_leaf=5, n_estimators=10;, score=(train=1.000, test=1.000) total time=   2.4s\n",
            "[CV 5/5] END criterion=gini, max_depth=14, min_samples_leaf=5, n_estimators=10;, score=(train=1.000, test=0.999) total time=   3.3s\n",
            "[CV 1/5] END criterion=gini, max_depth=14, min_samples_leaf=5, n_estimators=15;, score=(train=1.000, test=1.000) total time=   4.2s\n",
            "[CV 2/5] END criterion=gini, max_depth=14, min_samples_leaf=5, n_estimators=15;, score=(train=1.000, test=1.000) total time=   3.2s\n",
            "[CV 3/5] END criterion=gini, max_depth=14, min_samples_leaf=5, n_estimators=15;, score=(train=1.000, test=1.000) total time=   3.4s\n",
            "[CV 4/5] END criterion=gini, max_depth=14, min_samples_leaf=5, n_estimators=15;, score=(train=1.000, test=1.000) total time=   4.8s\n",
            "[CV 5/5] END criterion=gini, max_depth=14, min_samples_leaf=5, n_estimators=15;, score=(train=1.000, test=1.000) total time=   4.9s\n",
            "[CV 1/5] END criterion=gini, max_depth=14, min_samples_leaf=5, n_estimators=20;, score=(train=1.000, test=1.000) total time=   6.3s\n",
            "[CV 2/5] END criterion=gini, max_depth=14, min_samples_leaf=5, n_estimators=20;, score=(train=1.000, test=1.000) total time=   4.4s\n",
            "[CV 3/5] END criterion=gini, max_depth=14, min_samples_leaf=5, n_estimators=20;, score=(train=1.000, test=1.000) total time=   4.3s\n",
            "[CV 4/5] END criterion=gini, max_depth=14, min_samples_leaf=5, n_estimators=20;, score=(train=1.000, test=1.000) total time=   5.9s\n",
            "[CV 5/5] END criterion=gini, max_depth=14, min_samples_leaf=5, n_estimators=20;, score=(train=1.000, test=1.000) total time=   4.8s\n",
            "[CV 1/5] END criterion=gini, max_depth=14, min_samples_leaf=10, n_estimators=5;, score=(train=0.999, test=0.998) total time=   1.3s\n",
            "[CV 2/5] END criterion=gini, max_depth=14, min_samples_leaf=10, n_estimators=5;, score=(train=0.999, test=0.999) total time=   1.2s\n",
            "[CV 3/5] END criterion=gini, max_depth=14, min_samples_leaf=10, n_estimators=5;, score=(train=0.999, test=0.999) total time=   1.2s\n",
            "[CV 4/5] END criterion=gini, max_depth=14, min_samples_leaf=10, n_estimators=5;, score=(train=0.999, test=0.999) total time=   1.8s\n",
            "[CV 5/5] END criterion=gini, max_depth=14, min_samples_leaf=10, n_estimators=5;, score=(train=1.000, test=0.999) total time=   2.0s\n",
            "[CV 1/5] END criterion=gini, max_depth=14, min_samples_leaf=10, n_estimators=10;, score=(train=1.000, test=0.999) total time=   2.4s\n",
            "[CV 2/5] END criterion=gini, max_depth=14, min_samples_leaf=10, n_estimators=10;, score=(train=1.000, test=1.000) total time=   2.3s\n",
            "[CV 3/5] END criterion=gini, max_depth=14, min_samples_leaf=10, n_estimators=10;, score=(train=1.000, test=1.000) total time=   2.3s\n",
            "[CV 4/5] END criterion=gini, max_depth=14, min_samples_leaf=10, n_estimators=10;, score=(train=1.000, test=1.000) total time=   2.4s\n",
            "[CV 5/5] END criterion=gini, max_depth=14, min_samples_leaf=10, n_estimators=10;, score=(train=1.000, test=1.000) total time=   3.4s\n",
            "[CV 1/5] END criterion=gini, max_depth=14, min_samples_leaf=10, n_estimators=15;, score=(train=1.000, test=0.999) total time=   3.7s\n",
            "[CV 2/5] END criterion=gini, max_depth=14, min_samples_leaf=10, n_estimators=15;, score=(train=1.000, test=1.000) total time=   3.6s\n",
            "[CV 3/5] END criterion=gini, max_depth=14, min_samples_leaf=10, n_estimators=15;, score=(train=1.000, test=1.000) total time=   3.9s\n",
            "[CV 4/5] END criterion=gini, max_depth=14, min_samples_leaf=10, n_estimators=15;, score=(train=1.000, test=1.000) total time=   4.4s\n",
            "[CV 5/5] END criterion=gini, max_depth=14, min_samples_leaf=10, n_estimators=15;, score=(train=1.000, test=1.000) total time=   3.7s\n",
            "[CV 1/5] END criterion=gini, max_depth=14, min_samples_leaf=10, n_estimators=20;, score=(train=1.000, test=0.999) total time=   5.0s\n",
            "[CV 2/5] END criterion=gini, max_depth=14, min_samples_leaf=10, n_estimators=20;, score=(train=1.000, test=1.000) total time=   5.3s\n",
            "[CV 3/5] END criterion=gini, max_depth=14, min_samples_leaf=10, n_estimators=20;, score=(train=1.000, test=1.000) total time=   4.4s\n",
            "[CV 4/5] END criterion=gini, max_depth=14, min_samples_leaf=10, n_estimators=20;, score=(train=1.000, test=1.000) total time=   5.9s\n",
            "[CV 5/5] END criterion=gini, max_depth=14, min_samples_leaf=10, n_estimators=20;, score=(train=1.000, test=1.000) total time=   4.7s\n",
            "[CV 1/5] END criterion=gini, max_depth=14, min_samples_leaf=15, n_estimators=5;, score=(train=0.999, test=0.999) total time=   1.3s\n",
            "[CV 2/5] END criterion=gini, max_depth=14, min_samples_leaf=15, n_estimators=5;, score=(train=0.999, test=0.999) total time=   1.1s\n",
            "[CV 3/5] END criterion=gini, max_depth=14, min_samples_leaf=15, n_estimators=5;, score=(train=0.999, test=0.999) total time=   0.9s\n",
            "[CV 4/5] END criterion=gini, max_depth=14, min_samples_leaf=15, n_estimators=5;, score=(train=0.999, test=0.998) total time=   1.3s\n",
            "[CV 5/5] END criterion=gini, max_depth=14, min_samples_leaf=15, n_estimators=5;, score=(train=0.999, test=0.998) total time=   2.0s\n",
            "[CV 1/5] END criterion=gini, max_depth=14, min_samples_leaf=15, n_estimators=10;, score=(train=1.000, test=0.999) total time=   3.0s\n",
            "[CV 2/5] END criterion=gini, max_depth=14, min_samples_leaf=15, n_estimators=10;, score=(train=1.000, test=1.000) total time=   2.2s\n",
            "[CV 3/5] END criterion=gini, max_depth=14, min_samples_leaf=15, n_estimators=10;, score=(train=1.000, test=1.000) total time=   2.0s\n",
            "[CV 4/5] END criterion=gini, max_depth=14, min_samples_leaf=15, n_estimators=10;, score=(train=0.999, test=0.999) total time=   2.3s\n",
            "[CV 5/5] END criterion=gini, max_depth=14, min_samples_leaf=15, n_estimators=10;, score=(train=1.000, test=0.999) total time=   2.8s\n",
            "[CV 1/5] END criterion=gini, max_depth=14, min_samples_leaf=15, n_estimators=15;, score=(train=0.999, test=0.999) total time=   4.5s\n",
            "[CV 2/5] END criterion=gini, max_depth=14, min_samples_leaf=15, n_estimators=15;, score=(train=1.000, test=1.000) total time=   3.3s\n",
            "[CV 3/5] END criterion=gini, max_depth=14, min_samples_leaf=15, n_estimators=15;, score=(train=1.000, test=1.000) total time=   3.1s\n",
            "[CV 4/5] END criterion=gini, max_depth=14, min_samples_leaf=15, n_estimators=15;, score=(train=1.000, test=1.000) total time=   4.4s\n",
            "[CV 5/5] END criterion=gini, max_depth=14, min_samples_leaf=15, n_estimators=15;, score=(train=1.000, test=0.999) total time=   3.6s\n",
            "[CV 1/5] END criterion=gini, max_depth=14, min_samples_leaf=15, n_estimators=20;, score=(train=1.000, test=0.999) total time=   4.8s\n",
            "[CV 2/5] END criterion=gini, max_depth=14, min_samples_leaf=15, n_estimators=20;, score=(train=1.000, test=1.000) total time=   5.5s\n",
            "[CV 3/5] END criterion=gini, max_depth=14, min_samples_leaf=15, n_estimators=20;, score=(train=1.000, test=1.000) total time=   4.1s\n",
            "[CV 4/5] END criterion=gini, max_depth=14, min_samples_leaf=15, n_estimators=20;, score=(train=1.000, test=1.000) total time=   4.4s\n",
            "[CV 5/5] END criterion=gini, max_depth=14, min_samples_leaf=15, n_estimators=20;, score=(train=1.000, test=1.000) total time=   5.7s\n",
            "[CV 1/5] END criterion=entropy, max_depth=6, min_samples_leaf=5, n_estimators=5;, score=(train=0.986, test=0.987) total time=   1.0s\n",
            "[CV 2/5] END criterion=entropy, max_depth=6, min_samples_leaf=5, n_estimators=5;, score=(train=0.987, test=0.987) total time=   1.0s\n",
            "[CV 3/5] END criterion=entropy, max_depth=6, min_samples_leaf=5, n_estimators=5;, score=(train=0.990, test=0.990) total time=   1.1s\n",
            "[CV 4/5] END criterion=entropy, max_depth=6, min_samples_leaf=5, n_estimators=5;, score=(train=0.990, test=0.990) total time=   1.1s\n",
            "[CV 5/5] END criterion=entropy, max_depth=6, min_samples_leaf=5, n_estimators=5;, score=(train=0.986, test=0.987) total time=   1.1s\n",
            "[CV 1/5] END criterion=entropy, max_depth=6, min_samples_leaf=5, n_estimators=10;, score=(train=0.989, test=0.989) total time=   2.0s\n",
            "[CV 2/5] END criterion=entropy, max_depth=6, min_samples_leaf=5, n_estimators=10;, score=(train=0.990, test=0.990) total time=   2.5s\n",
            "[CV 3/5] END criterion=entropy, max_depth=6, min_samples_leaf=5, n_estimators=10;, score=(train=0.993, test=0.993) total time=   2.7s\n",
            "[CV 4/5] END criterion=entropy, max_depth=6, min_samples_leaf=5, n_estimators=10;, score=(train=0.992, test=0.992) total time=   2.2s\n",
            "[CV 5/5] END criterion=entropy, max_depth=6, min_samples_leaf=5, n_estimators=10;, score=(train=0.988, test=0.988) total time=   2.1s\n",
            "[CV 1/5] END criterion=entropy, max_depth=6, min_samples_leaf=5, n_estimators=15;, score=(train=0.992, test=0.991) total time=   3.0s\n",
            "[CV 2/5] END criterion=entropy, max_depth=6, min_samples_leaf=5, n_estimators=15;, score=(train=0.990, test=0.990) total time=   3.8s\n",
            "[CV 3/5] END criterion=entropy, max_depth=6, min_samples_leaf=5, n_estimators=15;, score=(train=0.995, test=0.995) total time=   3.5s\n",
            "[CV 4/5] END criterion=entropy, max_depth=6, min_samples_leaf=5, n_estimators=15;, score=(train=0.990, test=0.990) total time=   3.2s\n",
            "[CV 5/5] END criterion=entropy, max_depth=6, min_samples_leaf=5, n_estimators=15;, score=(train=0.990, test=0.990) total time=   3.1s\n",
            "[CV 1/5] END criterion=entropy, max_depth=6, min_samples_leaf=5, n_estimators=20;, score=(train=0.993, test=0.993) total time=   5.1s\n",
            "[CV 2/5] END criterion=entropy, max_depth=6, min_samples_leaf=5, n_estimators=20;, score=(train=0.992, test=0.992) total time=   4.0s\n",
            "[CV 3/5] END criterion=entropy, max_depth=6, min_samples_leaf=5, n_estimators=20;, score=(train=0.997, test=0.997) total time=   4.0s\n",
            "[CV 4/5] END criterion=entropy, max_depth=6, min_samples_leaf=5, n_estimators=20;, score=(train=0.996, test=0.995) total time=   5.5s\n",
            "[CV 5/5] END criterion=entropy, max_depth=6, min_samples_leaf=5, n_estimators=20;, score=(train=0.993, test=0.993) total time=   4.0s\n",
            "[CV 1/5] END criterion=entropy, max_depth=6, min_samples_leaf=10, n_estimators=5;, score=(train=0.985, test=0.986) total time=   1.0s\n",
            "[CV 2/5] END criterion=entropy, max_depth=6, min_samples_leaf=10, n_estimators=5;, score=(train=0.983, test=0.983) total time=   1.1s\n",
            "[CV 3/5] END criterion=entropy, max_depth=6, min_samples_leaf=10, n_estimators=5;, score=(train=0.988, test=0.989) total time=   1.1s\n",
            "[CV 4/5] END criterion=entropy, max_depth=6, min_samples_leaf=10, n_estimators=5;, score=(train=0.985, test=0.984) total time=   1.1s\n",
            "[CV 5/5] END criterion=entropy, max_depth=6, min_samples_leaf=10, n_estimators=5;, score=(train=0.983, test=0.983) total time=   1.6s\n",
            "[CV 1/5] END criterion=entropy, max_depth=6, min_samples_leaf=10, n_estimators=10;, score=(train=0.989, test=0.989) total time=   2.8s\n",
            "[CV 2/5] END criterion=entropy, max_depth=6, min_samples_leaf=10, n_estimators=10;, score=(train=0.990, test=0.989) total time=   2.0s\n",
            "[CV 3/5] END criterion=entropy, max_depth=6, min_samples_leaf=10, n_estimators=10;, score=(train=0.993, test=0.993) total time=   2.1s\n",
            "[CV 4/5] END criterion=entropy, max_depth=6, min_samples_leaf=10, n_estimators=10;, score=(train=0.992, test=0.991) total time=   2.1s\n",
            "[CV 5/5] END criterion=entropy, max_depth=6, min_samples_leaf=10, n_estimators=10;, score=(train=0.993, test=0.992) total time=   2.1s\n",
            "[CV 1/5] END criterion=entropy, max_depth=6, min_samples_leaf=10, n_estimators=15;, score=(train=0.990, test=0.990) total time=   4.4s\n",
            "[CV 2/5] END criterion=entropy, max_depth=6, min_samples_leaf=10, n_estimators=15;, score=(train=0.990, test=0.989) total time=   3.1s\n",
            "[CV 3/5] END criterion=entropy, max_depth=6, min_samples_leaf=10, n_estimators=15;, score=(train=0.997, test=0.997) total time=   3.2s\n",
            "[CV 4/5] END criterion=entropy, max_depth=6, min_samples_leaf=10, n_estimators=15;, score=(train=0.993, test=0.992) total time=   3.1s\n",
            "[CV 5/5] END criterion=entropy, max_depth=6, min_samples_leaf=10, n_estimators=15;, score=(train=0.992, test=0.991) total time=   4.4s\n",
            "[CV 1/5] END criterion=entropy, max_depth=6, min_samples_leaf=10, n_estimators=20;, score=(train=0.994, test=0.994) total time=   4.0s\n",
            "[CV 2/5] END criterion=entropy, max_depth=6, min_samples_leaf=10, n_estimators=20;, score=(train=0.991, test=0.991) total time=   4.0s\n",
            "[CV 3/5] END criterion=entropy, max_depth=6, min_samples_leaf=10, n_estimators=20;, score=(train=0.997, test=0.997) total time=   5.3s\n",
            "[CV 4/5] END criterion=entropy, max_depth=6, min_samples_leaf=10, n_estimators=20;, score=(train=0.996, test=0.996) total time=   4.0s\n",
            "[CV 5/5] END criterion=entropy, max_depth=6, min_samples_leaf=10, n_estimators=20;, score=(train=0.994, test=0.994) total time=   4.1s\n",
            "[CV 1/5] END criterion=entropy, max_depth=6, min_samples_leaf=15, n_estimators=5;, score=(train=0.987, test=0.987) total time=   1.3s\n",
            "[CV 2/5] END criterion=entropy, max_depth=6, min_samples_leaf=15, n_estimators=5;, score=(train=0.983, test=0.983) total time=   1.6s\n",
            "[CV 3/5] END criterion=entropy, max_depth=6, min_samples_leaf=15, n_estimators=5;, score=(train=0.990, test=0.990) total time=   1.5s\n",
            "[CV 4/5] END criterion=entropy, max_depth=6, min_samples_leaf=15, n_estimators=5;, score=(train=0.980, test=0.979) total time=   1.1s\n",
            "[CV 5/5] END criterion=entropy, max_depth=6, min_samples_leaf=15, n_estimators=5;, score=(train=0.980, test=0.981) total time=   1.2s\n",
            "[CV 1/5] END criterion=entropy, max_depth=6, min_samples_leaf=15, n_estimators=10;, score=(train=0.991, test=0.991) total time=   2.0s\n",
            "[CV 2/5] END criterion=entropy, max_depth=6, min_samples_leaf=15, n_estimators=10;, score=(train=0.990, test=0.990) total time=   2.0s\n",
            "[CV 3/5] END criterion=entropy, max_depth=6, min_samples_leaf=15, n_estimators=10;, score=(train=0.994, test=0.994) total time=   2.0s\n",
            "[CV 4/5] END criterion=entropy, max_depth=6, min_samples_leaf=15, n_estimators=10;, score=(train=0.990, test=0.989) total time=   2.6s\n",
            "[CV 5/5] END criterion=entropy, max_depth=6, min_samples_leaf=15, n_estimators=10;, score=(train=0.989, test=0.989) total time=   2.8s\n",
            "[CV 1/5] END criterion=entropy, max_depth=6, min_samples_leaf=15, n_estimators=15;, score=(train=0.990, test=0.990) total time=   3.1s\n",
            "[CV 2/5] END criterion=entropy, max_depth=6, min_samples_leaf=15, n_estimators=15;, score=(train=0.990, test=0.990) total time=   3.1s\n",
            "[CV 3/5] END criterion=entropy, max_depth=6, min_samples_leaf=15, n_estimators=15;, score=(train=0.995, test=0.996) total time=   3.3s\n",
            "[CV 4/5] END criterion=entropy, max_depth=6, min_samples_leaf=15, n_estimators=15;, score=(train=0.992, test=0.993) total time=   4.0s\n",
            "[CV 5/5] END criterion=entropy, max_depth=6, min_samples_leaf=15, n_estimators=15;, score=(train=0.990, test=0.989) total time=   3.1s\n",
            "[CV 1/5] END criterion=entropy, max_depth=6, min_samples_leaf=15, n_estimators=20;, score=(train=0.991, test=0.991) total time=   4.1s\n",
            "[CV 2/5] END criterion=entropy, max_depth=6, min_samples_leaf=15, n_estimators=20;, score=(train=0.992, test=0.992) total time=   5.4s\n",
            "[CV 3/5] END criterion=entropy, max_depth=6, min_samples_leaf=15, n_estimators=20;, score=(train=0.998, test=0.998) total time=   3.9s\n",
            "[CV 4/5] END criterion=entropy, max_depth=6, min_samples_leaf=15, n_estimators=20;, score=(train=0.996, test=0.996) total time=   3.9s\n",
            "[CV 5/5] END criterion=entropy, max_depth=6, min_samples_leaf=15, n_estimators=20;, score=(train=0.993, test=0.992) total time=   5.4s\n",
            "[CV 1/5] END criterion=entropy, max_depth=8, min_samples_leaf=5, n_estimators=5;, score=(train=0.995, test=0.995) total time=   1.1s\n",
            "[CV 2/5] END criterion=entropy, max_depth=8, min_samples_leaf=5, n_estimators=5;, score=(train=0.993, test=0.993) total time=   1.1s\n",
            "[CV 3/5] END criterion=entropy, max_depth=8, min_samples_leaf=5, n_estimators=5;, score=(train=0.989, test=0.990) total time=   1.1s\n",
            "[CV 4/5] END criterion=entropy, max_depth=8, min_samples_leaf=5, n_estimators=5;, score=(train=0.995, test=0.995) total time=   1.1s\n",
            "[CV 5/5] END criterion=entropy, max_depth=8, min_samples_leaf=5, n_estimators=5;, score=(train=0.988, test=0.988) total time=   1.3s\n",
            "[CV 1/5] END criterion=entropy, max_depth=8, min_samples_leaf=5, n_estimators=10;, score=(train=0.999, test=0.998) total time=   2.1s\n",
            "[CV 2/5] END criterion=entropy, max_depth=8, min_samples_leaf=5, n_estimators=10;, score=(train=0.998, test=0.998) total time=   3.1s\n",
            "[CV 3/5] END criterion=entropy, max_depth=8, min_samples_leaf=5, n_estimators=10;, score=(train=0.997, test=0.998) total time=   2.8s\n",
            "[CV 4/5] END criterion=entropy, max_depth=8, min_samples_leaf=5, n_estimators=10;, score=(train=0.999, test=0.999) total time=   2.3s\n",
            "[CV 5/5] END criterion=entropy, max_depth=8, min_samples_leaf=5, n_estimators=10;, score=(train=0.995, test=0.995) total time=   2.4s\n",
            "[CV 1/5] END criterion=entropy, max_depth=8, min_samples_leaf=5, n_estimators=15;, score=(train=0.999, test=0.998) total time=   3.3s\n",
            "[CV 2/5] END criterion=entropy, max_depth=8, min_samples_leaf=5, n_estimators=15;, score=(train=0.998, test=0.999) total time=   4.8s\n",
            "[CV 3/5] END criterion=entropy, max_depth=8, min_samples_leaf=5, n_estimators=15;, score=(train=0.998, test=0.998) total time=   3.3s\n",
            "[CV 4/5] END criterion=entropy, max_depth=8, min_samples_leaf=5, n_estimators=15;, score=(train=0.998, test=0.998) total time=   5.4s\n",
            "[CV 5/5] END criterion=entropy, max_depth=8, min_samples_leaf=5, n_estimators=15;, score=(train=0.995, test=0.995) total time=   4.9s\n",
            "[CV 1/5] END criterion=entropy, max_depth=8, min_samples_leaf=5, n_estimators=20;, score=(train=0.999, test=0.999) total time=   4.3s\n",
            "[CV 2/5] END criterion=entropy, max_depth=8, min_samples_leaf=5, n_estimators=20;, score=(train=0.999, test=0.999) total time=   4.4s\n",
            "[CV 3/5] END criterion=entropy, max_depth=8, min_samples_leaf=5, n_estimators=20;, score=(train=0.999, test=0.999) total time=   5.4s\n",
            "[CV 4/5] END criterion=entropy, max_depth=8, min_samples_leaf=5, n_estimators=20;, score=(train=0.999, test=0.999) total time=   4.4s\n",
            "[CV 5/5] END criterion=entropy, max_depth=8, min_samples_leaf=5, n_estimators=20;, score=(train=0.998, test=0.998) total time=   5.3s\n",
            "[CV 1/5] END criterion=entropy, max_depth=8, min_samples_leaf=10, n_estimators=5;, score=(train=0.998, test=0.997) total time=   1.5s\n",
            "[CV 2/5] END criterion=entropy, max_depth=8, min_samples_leaf=10, n_estimators=5;, score=(train=0.993, test=0.992) total time=   1.3s\n",
            "[CV 3/5] END criterion=entropy, max_depth=8, min_samples_leaf=10, n_estimators=5;, score=(train=0.996, test=0.997) total time=   1.2s\n",
            "[CV 4/5] END criterion=entropy, max_depth=8, min_samples_leaf=10, n_estimators=5;, score=(train=0.996, test=0.996) total time=   1.1s\n",
            "[CV 5/5] END criterion=entropy, max_depth=8, min_samples_leaf=10, n_estimators=5;, score=(train=0.998, test=0.998) total time=   1.1s\n",
            "[CV 1/5] END criterion=entropy, max_depth=8, min_samples_leaf=10, n_estimators=10;, score=(train=0.998, test=0.998) total time=   2.2s\n",
            "[CV 2/5] END criterion=entropy, max_depth=8, min_samples_leaf=10, n_estimators=10;, score=(train=0.995, test=0.994) total time=   2.5s\n",
            "[CV 3/5] END criterion=entropy, max_depth=8, min_samples_leaf=10, n_estimators=10;, score=(train=0.997, test=0.997) total time=   3.5s\n",
            "[CV 4/5] END criterion=entropy, max_depth=8, min_samples_leaf=10, n_estimators=10;, score=(train=0.999, test=0.998) total time=   2.4s\n",
            "[CV 5/5] END criterion=entropy, max_depth=8, min_samples_leaf=10, n_estimators=10;, score=(train=0.997, test=0.997) total time=   2.3s\n",
            "[CV 1/5] END criterion=entropy, max_depth=8, min_samples_leaf=10, n_estimators=15;, score=(train=0.999, test=0.999) total time=   3.2s\n",
            "[CV 2/5] END criterion=entropy, max_depth=8, min_samples_leaf=10, n_estimators=15;, score=(train=0.998, test=0.997) total time=   4.4s\n",
            "[CV 3/5] END criterion=entropy, max_depth=8, min_samples_leaf=10, n_estimators=15;, score=(train=0.996, test=0.996) total time=   4.0s\n",
            "[CV 4/5] END criterion=entropy, max_depth=8, min_samples_leaf=10, n_estimators=15;, score=(train=0.999, test=0.999) total time=   3.4s\n",
            "[CV 5/5] END criterion=entropy, max_depth=8, min_samples_leaf=10, n_estimators=15;, score=(train=0.997, test=0.997) total time=   7.5s\n",
            "[CV 1/5] END criterion=entropy, max_depth=8, min_samples_leaf=10, n_estimators=20;, score=(train=1.000, test=1.000) total time=   6.2s\n",
            "[CV 2/5] END criterion=entropy, max_depth=8, min_samples_leaf=10, n_estimators=20;, score=(train=0.999, test=0.999) total time=   4.8s\n",
            "[CV 3/5] END criterion=entropy, max_depth=8, min_samples_leaf=10, n_estimators=20;, score=(train=0.998, test=0.998) total time=   5.4s\n",
            "[CV 4/5] END criterion=entropy, max_depth=8, min_samples_leaf=10, n_estimators=20;, score=(train=0.999, test=0.999) total time=   4.4s\n",
            "[CV 5/5] END criterion=entropy, max_depth=8, min_samples_leaf=10, n_estimators=20;, score=(train=0.998, test=0.997) total time=   5.8s\n",
            "[CV 1/5] END criterion=entropy, max_depth=8, min_samples_leaf=15, n_estimators=5;, score=(train=0.996, test=0.996) total time=   1.1s\n",
            "[CV 2/5] END criterion=entropy, max_depth=8, min_samples_leaf=15, n_estimators=5;, score=(train=0.998, test=0.997) total time=   1.1s\n",
            "[CV 3/5] END criterion=entropy, max_depth=8, min_samples_leaf=15, n_estimators=5;, score=(train=0.994, test=0.995) total time=   1.2s\n",
            "[CV 4/5] END criterion=entropy, max_depth=8, min_samples_leaf=15, n_estimators=5;, score=(train=0.996, test=0.995) total time=   1.2s\n",
            "[CV 5/5] END criterion=entropy, max_depth=8, min_samples_leaf=15, n_estimators=5;, score=(train=0.997, test=0.997) total time=   1.1s\n",
            "[CV 1/5] END criterion=entropy, max_depth=8, min_samples_leaf=15, n_estimators=10;, score=(train=0.997, test=0.998) total time=   2.1s\n",
            "[CV 2/5] END criterion=entropy, max_depth=8, min_samples_leaf=15, n_estimators=10;, score=(train=0.999, test=0.998) total time=   2.6s\n",
            "[CV 3/5] END criterion=entropy, max_depth=8, min_samples_leaf=15, n_estimators=10;, score=(train=0.998, test=0.998) total time=   3.2s\n",
            "[CV 4/5] END criterion=entropy, max_depth=8, min_samples_leaf=15, n_estimators=10;, score=(train=0.998, test=0.997) total time=   2.3s\n",
            "[CV 5/5] END criterion=entropy, max_depth=8, min_samples_leaf=15, n_estimators=10;, score=(train=0.997, test=0.997) total time=   2.3s\n",
            "[CV 1/5] END criterion=entropy, max_depth=8, min_samples_leaf=15, n_estimators=15;, score=(train=0.999, test=0.999) total time=   3.0s\n",
            "[CV 2/5] END criterion=entropy, max_depth=8, min_samples_leaf=15, n_estimators=15;, score=(train=0.999, test=0.999) total time=   4.5s\n",
            "[CV 3/5] END criterion=entropy, max_depth=8, min_samples_leaf=15, n_estimators=15;, score=(train=0.999, test=0.999) total time=   3.6s\n",
            "[CV 4/5] END criterion=entropy, max_depth=8, min_samples_leaf=15, n_estimators=15;, score=(train=0.998, test=0.998) total time=   3.3s\n",
            "[CV 5/5] END criterion=entropy, max_depth=8, min_samples_leaf=15, n_estimators=15;, score=(train=0.997, test=0.997) total time=   3.7s\n",
            "[CV 1/5] END criterion=entropy, max_depth=8, min_samples_leaf=15, n_estimators=20;, score=(train=0.999, test=0.999) total time=   4.9s\n",
            "[CV 2/5] END criterion=entropy, max_depth=8, min_samples_leaf=15, n_estimators=20;, score=(train=0.999, test=0.999) total time=   4.5s\n",
            "[CV 3/5] END criterion=entropy, max_depth=8, min_samples_leaf=15, n_estimators=20;, score=(train=0.999, test=0.999) total time=   5.1s\n",
            "[CV 4/5] END criterion=entropy, max_depth=8, min_samples_leaf=15, n_estimators=20;, score=(train=0.999, test=0.999) total time=   4.8s\n",
            "[CV 5/5] END criterion=entropy, max_depth=8, min_samples_leaf=15, n_estimators=20;, score=(train=0.997, test=0.997) total time=   4.5s\n",
            "[CV 1/5] END criterion=entropy, max_depth=10, min_samples_leaf=5, n_estimators=5;, score=(train=0.999, test=0.999) total time=   1.2s\n",
            "[CV 2/5] END criterion=entropy, max_depth=10, min_samples_leaf=5, n_estimators=5;, score=(train=0.997, test=0.997) total time=   1.7s\n",
            "[CV 3/5] END criterion=entropy, max_depth=10, min_samples_leaf=5, n_estimators=5;, score=(train=0.997, test=0.997) total time=   1.9s\n",
            "[CV 4/5] END criterion=entropy, max_depth=10, min_samples_leaf=5, n_estimators=5;, score=(train=0.998, test=0.998) total time=   1.4s\n",
            "[CV 5/5] END criterion=entropy, max_depth=10, min_samples_leaf=5, n_estimators=5;, score=(train=0.998, test=0.998) total time=   1.3s\n",
            "[CV 1/5] END criterion=entropy, max_depth=10, min_samples_leaf=5, n_estimators=10;, score=(train=0.999, test=0.999) total time=   2.4s\n",
            "[CV 2/5] END criterion=entropy, max_depth=10, min_samples_leaf=5, n_estimators=10;, score=(train=0.998, test=0.998) total time=   2.4s\n",
            "[CV 3/5] END criterion=entropy, max_depth=10, min_samples_leaf=5, n_estimators=10;, score=(train=0.999, test=0.999) total time=   2.4s\n",
            "[CV 4/5] END criterion=entropy, max_depth=10, min_samples_leaf=5, n_estimators=10;, score=(train=0.999, test=0.998) total time=   3.5s\n",
            "[CV 5/5] END criterion=entropy, max_depth=10, min_samples_leaf=5, n_estimators=10;, score=(train=1.000, test=0.999) total time=   2.6s\n",
            "[CV 1/5] END criterion=entropy, max_depth=10, min_samples_leaf=5, n_estimators=15;, score=(train=0.999, test=0.999) total time=   3.6s\n",
            "[CV 2/5] END criterion=entropy, max_depth=10, min_samples_leaf=5, n_estimators=15;, score=(train=0.999, test=0.999) total time=   3.5s\n",
            "[CV 3/5] END criterion=entropy, max_depth=10, min_samples_leaf=5, n_estimators=15;, score=(train=0.999, test=0.999) total time=   5.1s\n",
            "[CV 4/5] END criterion=entropy, max_depth=10, min_samples_leaf=5, n_estimators=15;, score=(train=0.999, test=0.999) total time=   3.7s\n",
            "[CV 5/5] END criterion=entropy, max_depth=10, min_samples_leaf=5, n_estimators=15;, score=(train=1.000, test=1.000) total time=   3.6s\n",
            "[CV 1/5] END criterion=entropy, max_depth=10, min_samples_leaf=5, n_estimators=20;, score=(train=0.999, test=0.999) total time=   5.9s\n",
            "[CV 2/5] END criterion=entropy, max_depth=10, min_samples_leaf=5, n_estimators=20;, score=(train=1.000, test=0.999) total time=   4.4s\n",
            "[CV 3/5] END criterion=entropy, max_depth=10, min_samples_leaf=5, n_estimators=20;, score=(train=0.999, test=0.999) total time=   5.0s\n",
            "[CV 4/5] END criterion=entropy, max_depth=10, min_samples_leaf=5, n_estimators=20;, score=(train=1.000, test=0.999) total time=   5.7s\n",
            "[CV 5/5] END criterion=entropy, max_depth=10, min_samples_leaf=5, n_estimators=20;, score=(train=1.000, test=1.000) total time=   4.7s\n",
            "[CV 1/5] END criterion=entropy, max_depth=10, min_samples_leaf=10, n_estimators=5;, score=(train=0.999, test=0.999) total time=   1.1s\n",
            "[CV 2/5] END criterion=entropy, max_depth=10, min_samples_leaf=10, n_estimators=5;, score=(train=0.998, test=0.998) total time=   1.2s\n",
            "[CV 3/5] END criterion=entropy, max_depth=10, min_samples_leaf=10, n_estimators=5;, score=(train=0.997, test=0.998) total time=   1.9s\n",
            "[CV 4/5] END criterion=entropy, max_depth=10, min_samples_leaf=10, n_estimators=5;, score=(train=0.998, test=0.998) total time=   1.6s\n",
            "[CV 5/5] END criterion=entropy, max_depth=10, min_samples_leaf=10, n_estimators=5;, score=(train=1.000, test=0.999) total time=   1.1s\n",
            "[CV 1/5] END criterion=entropy, max_depth=10, min_samples_leaf=10, n_estimators=10;, score=(train=1.000, test=1.000) total time=   2.3s\n",
            "[CV 2/5] END criterion=entropy, max_depth=10, min_samples_leaf=10, n_estimators=10;, score=(train=0.999, test=0.999) total time=   2.4s\n",
            "[CV 3/5] END criterion=entropy, max_depth=10, min_samples_leaf=10, n_estimators=10;, score=(train=0.998, test=0.998) total time=   2.5s\n",
            "[CV 4/5] END criterion=entropy, max_depth=10, min_samples_leaf=10, n_estimators=10;, score=(train=0.999, test=0.999) total time=   3.0s\n",
            "[CV 5/5] END criterion=entropy, max_depth=10, min_samples_leaf=10, n_estimators=10;, score=(train=1.000, test=1.000) total time=   3.0s\n",
            "[CV 1/5] END criterion=entropy, max_depth=10, min_samples_leaf=10, n_estimators=15;, score=(train=1.000, test=1.000) total time=   3.4s\n",
            "[CV 2/5] END criterion=entropy, max_depth=10, min_samples_leaf=10, n_estimators=15;, score=(train=0.999, test=0.999) total time=   3.4s\n",
            "[CV 3/5] END criterion=entropy, max_depth=10, min_samples_leaf=10, n_estimators=15;, score=(train=0.998, test=0.998) total time=   5.1s\n",
            "[CV 4/5] END criterion=entropy, max_depth=10, min_samples_leaf=10, n_estimators=15;, score=(train=0.999, test=0.998) total time=   3.7s\n",
            "[CV 5/5] END criterion=entropy, max_depth=10, min_samples_leaf=10, n_estimators=15;, score=(train=1.000, test=0.999) total time=   3.6s\n",
            "[CV 1/5] END criterion=entropy, max_depth=10, min_samples_leaf=10, n_estimators=20;, score=(train=1.000, test=1.000) total time=   5.6s\n",
            "[CV 2/5] END criterion=entropy, max_depth=10, min_samples_leaf=10, n_estimators=20;, score=(train=1.000, test=1.000) total time=   4.6s\n",
            "[CV 3/5] END criterion=entropy, max_depth=10, min_samples_leaf=10, n_estimators=20;, score=(train=0.999, test=0.999) total time=   5.0s\n",
            "[CV 4/5] END criterion=entropy, max_depth=10, min_samples_leaf=10, n_estimators=20;, score=(train=0.999, test=0.999) total time=   5.9s\n",
            "[CV 5/5] END criterion=entropy, max_depth=10, min_samples_leaf=10, n_estimators=20;, score=(train=1.000, test=0.999) total time=   4.7s\n",
            "[CV 1/5] END criterion=entropy, max_depth=10, min_samples_leaf=15, n_estimators=5;, score=(train=0.998, test=0.998) total time=   1.2s\n",
            "[CV 2/5] END criterion=entropy, max_depth=10, min_samples_leaf=15, n_estimators=5;, score=(train=0.999, test=0.999) total time=   1.1s\n",
            "[CV 3/5] END criterion=entropy, max_depth=10, min_samples_leaf=15, n_estimators=5;, score=(train=0.996, test=0.996) total time=   1.7s\n",
            "[CV 4/5] END criterion=entropy, max_depth=10, min_samples_leaf=15, n_estimators=5;, score=(train=0.998, test=0.997) total time=   1.6s\n",
            "[CV 5/5] END criterion=entropy, max_depth=10, min_samples_leaf=15, n_estimators=5;, score=(train=0.999, test=0.999) total time=   1.4s\n",
            "[CV 1/5] END criterion=entropy, max_depth=10, min_samples_leaf=15, n_estimators=10;, score=(train=0.999, test=0.999) total time=   2.4s\n",
            "[CV 2/5] END criterion=entropy, max_depth=10, min_samples_leaf=15, n_estimators=10;, score=(train=0.999, test=0.999) total time=   2.3s\n",
            "[CV 3/5] END criterion=entropy, max_depth=10, min_samples_leaf=15, n_estimators=10;, score=(train=0.998, test=0.999) total time=   2.6s\n",
            "[CV 4/5] END criterion=entropy, max_depth=10, min_samples_leaf=15, n_estimators=10;, score=(train=1.000, test=0.999) total time=   2.2s\n",
            "[CV 5/5] END criterion=entropy, max_depth=10, min_samples_leaf=15, n_estimators=10;, score=(train=0.999, test=0.999) total time=   3.4s\n",
            "[CV 1/5] END criterion=entropy, max_depth=10, min_samples_leaf=15, n_estimators=15;, score=(train=0.999, test=0.999) total time=   3.6s\n",
            "[CV 2/5] END criterion=entropy, max_depth=10, min_samples_leaf=15, n_estimators=15;, score=(train=0.999, test=0.999) total time=   3.5s\n",
            "[CV 3/5] END criterion=entropy, max_depth=10, min_samples_leaf=15, n_estimators=15;, score=(train=0.999, test=0.999) total time=   4.5s\n",
            "[CV 4/5] END criterion=entropy, max_depth=10, min_samples_leaf=15, n_estimators=15;, score=(train=1.000, test=1.000) total time=   3.8s\n",
            "[CV 5/5] END criterion=entropy, max_depth=10, min_samples_leaf=15, n_estimators=15;, score=(train=0.999, test=0.999) total time=   3.7s\n",
            "[CV 1/5] END criterion=entropy, max_depth=10, min_samples_leaf=15, n_estimators=20;, score=(train=0.999, test=0.999) total time=   4.8s\n",
            "[CV 2/5] END criterion=entropy, max_depth=10, min_samples_leaf=15, n_estimators=20;, score=(train=0.999, test=0.999) total time=   5.4s\n",
            "[CV 3/5] END criterion=entropy, max_depth=10, min_samples_leaf=15, n_estimators=20;, score=(train=0.999, test=1.000) total time=   4.9s\n",
            "[CV 4/5] END criterion=entropy, max_depth=10, min_samples_leaf=15, n_estimators=20;, score=(train=1.000, test=1.000) total time=   5.3s\n",
            "[CV 5/5] END criterion=entropy, max_depth=10, min_samples_leaf=15, n_estimators=20;, score=(train=0.999, test=0.999) total time=   4.9s\n",
            "[CV 1/5] END criterion=entropy, max_depth=12, min_samples_leaf=5, n_estimators=5;, score=(train=0.999, test=0.998) total time=   1.3s\n",
            "[CV 2/5] END criterion=entropy, max_depth=12, min_samples_leaf=5, n_estimators=5;, score=(train=1.000, test=0.999) total time=   1.3s\n",
            "[CV 3/5] END criterion=entropy, max_depth=12, min_samples_leaf=5, n_estimators=5;, score=(train=0.999, test=0.999) total time=   1.2s\n",
            "[CV 4/5] END criterion=entropy, max_depth=12, min_samples_leaf=5, n_estimators=5;, score=(train=0.999, test=0.999) total time=   1.5s\n",
            "[CV 5/5] END criterion=entropy, max_depth=12, min_samples_leaf=5, n_estimators=5;, score=(train=0.999, test=0.998) total time=   2.1s\n",
            "[CV 1/5] END criterion=entropy, max_depth=12, min_samples_leaf=5, n_estimators=10;, score=(train=1.000, test=0.999) total time=   2.8s\n",
            "[CV 2/5] END criterion=entropy, max_depth=12, min_samples_leaf=5, n_estimators=10;, score=(train=1.000, test=1.000) total time=   2.4s\n",
            "[CV 3/5] END criterion=entropy, max_depth=12, min_samples_leaf=5, n_estimators=10;, score=(train=1.000, test=1.000) total time=   2.4s\n",
            "[CV 4/5] END criterion=entropy, max_depth=12, min_samples_leaf=5, n_estimators=10;, score=(train=1.000, test=1.000) total time=   2.4s\n",
            "[CV 5/5] END criterion=entropy, max_depth=12, min_samples_leaf=5, n_estimators=10;, score=(train=1.000, test=1.000) total time=   3.8s\n",
            "[CV 1/5] END criterion=entropy, max_depth=12, min_samples_leaf=5, n_estimators=15;, score=(train=1.000, test=0.999) total time=   3.9s\n",
            "[CV 2/5] END criterion=entropy, max_depth=12, min_samples_leaf=5, n_estimators=15;, score=(train=1.000, test=1.000) total time=   3.6s\n",
            "[CV 3/5] END criterion=entropy, max_depth=12, min_samples_leaf=5, n_estimators=15;, score=(train=1.000, test=1.000) total time=   4.4s\n",
            "[CV 4/5] END criterion=entropy, max_depth=12, min_samples_leaf=5, n_estimators=15;, score=(train=1.000, test=0.999) total time=   4.5s\n",
            "[CV 5/5] END criterion=entropy, max_depth=12, min_samples_leaf=5, n_estimators=15;, score=(train=1.000, test=1.000) total time=   4.2s\n",
            "[CV 1/5] END criterion=entropy, max_depth=12, min_samples_leaf=5, n_estimators=20;, score=(train=1.000, test=0.999) total time=   5.8s\n",
            "[CV 2/5] END criterion=entropy, max_depth=12, min_samples_leaf=5, n_estimators=20;, score=(train=1.000, test=1.000) total time=   4.8s\n",
            "[CV 3/5] END criterion=entropy, max_depth=12, min_samples_leaf=5, n_estimators=20;, score=(train=1.000, test=1.000) total time=   4.6s\n",
            "[CV 4/5] END criterion=entropy, max_depth=12, min_samples_leaf=5, n_estimators=20;, score=(train=1.000, test=1.000) total time=   6.3s\n",
            "[CV 5/5] END criterion=entropy, max_depth=12, min_samples_leaf=5, n_estimators=20;, score=(train=1.000, test=1.000) total time=   5.0s\n",
            "[CV 1/5] END criterion=entropy, max_depth=12, min_samples_leaf=10, n_estimators=5;, score=(train=1.000, test=1.000) total time=   1.1s\n",
            "[CV 2/5] END criterion=entropy, max_depth=12, min_samples_leaf=10, n_estimators=5;, score=(train=0.999, test=0.998) total time=   1.2s\n",
            "[CV 3/5] END criterion=entropy, max_depth=12, min_samples_leaf=10, n_estimators=5;, score=(train=0.999, test=0.999) total time=   1.8s\n",
            "[CV 4/5] END criterion=entropy, max_depth=12, min_samples_leaf=10, n_estimators=5;, score=(train=0.998, test=0.997) total time=   1.8s\n",
            "[CV 5/5] END criterion=entropy, max_depth=12, min_samples_leaf=10, n_estimators=5;, score=(train=1.000, test=0.999) total time=   1.2s\n",
            "[CV 1/5] END criterion=entropy, max_depth=12, min_samples_leaf=10, n_estimators=10;, score=(train=1.000, test=1.000) total time=   2.5s\n",
            "[CV 2/5] END criterion=entropy, max_depth=12, min_samples_leaf=10, n_estimators=10;, score=(train=0.999, test=0.999) total time=   2.5s\n",
            "[CV 3/5] END criterion=entropy, max_depth=12, min_samples_leaf=10, n_estimators=10;, score=(train=1.000, test=1.000) total time=   2.6s\n",
            "[CV 4/5] END criterion=entropy, max_depth=12, min_samples_leaf=10, n_estimators=10;, score=(train=0.999, test=0.999) total time=   3.2s\n",
            "[CV 5/5] END criterion=entropy, max_depth=12, min_samples_leaf=10, n_estimators=10;, score=(train=1.000, test=1.000) total time=   2.9s\n",
            "[CV 1/5] END criterion=entropy, max_depth=12, min_samples_leaf=10, n_estimators=15;, score=(train=1.000, test=1.000) total time=   3.8s\n",
            "[CV 2/5] END criterion=entropy, max_depth=12, min_samples_leaf=10, n_estimators=15;, score=(train=0.999, test=0.999) total time=   4.3s\n",
            "[CV 3/5] END criterion=entropy, max_depth=12, min_samples_leaf=10, n_estimators=15;, score=(train=1.000, test=1.000) total time=   6.0s\n",
            "[CV 4/5] END criterion=entropy, max_depth=12, min_samples_leaf=10, n_estimators=15;, score=(train=0.999, test=0.999) total time=   4.0s\n",
            "[CV 5/5] END criterion=entropy, max_depth=12, min_samples_leaf=10, n_estimators=15;, score=(train=1.000, test=1.000) total time=   3.8s\n",
            "[CV 1/5] END criterion=entropy, max_depth=12, min_samples_leaf=10, n_estimators=20;, score=(train=1.000, test=1.000) total time=   6.4s\n",
            "[CV 2/5] END criterion=entropy, max_depth=12, min_samples_leaf=10, n_estimators=20;, score=(train=1.000, test=1.000) total time=   5.2s\n",
            "[CV 3/5] END criterion=entropy, max_depth=12, min_samples_leaf=10, n_estimators=20;, score=(train=1.000, test=1.000) total time=   6.2s\n",
            "[CV 4/5] END criterion=entropy, max_depth=12, min_samples_leaf=10, n_estimators=20;, score=(train=1.000, test=0.999) total time=   4.9s\n",
            "[CV 5/5] END criterion=entropy, max_depth=12, min_samples_leaf=10, n_estimators=20;, score=(train=1.000, test=1.000) total time=   4.6s\n",
            "[CV 1/5] END criterion=entropy, max_depth=12, min_samples_leaf=15, n_estimators=5;, score=(train=0.999, test=0.999) total time=   1.7s\n",
            "[CV 2/5] END criterion=entropy, max_depth=12, min_samples_leaf=15, n_estimators=5;, score=(train=0.999, test=0.999) total time=   1.7s\n",
            "[CV 3/5] END criterion=entropy, max_depth=12, min_samples_leaf=15, n_estimators=5;, score=(train=0.999, test=0.999) total time=   1.2s\n",
            "[CV 4/5] END criterion=entropy, max_depth=12, min_samples_leaf=15, n_estimators=5;, score=(train=0.999, test=0.999) total time=   1.1s\n",
            "[CV 5/5] END criterion=entropy, max_depth=12, min_samples_leaf=15, n_estimators=5;, score=(train=1.000, test=1.000) total time=   1.1s\n",
            "[CV 1/5] END criterion=entropy, max_depth=12, min_samples_leaf=15, n_estimators=10;, score=(train=1.000, test=1.000) total time=   2.3s\n",
            "[CV 2/5] END criterion=entropy, max_depth=12, min_samples_leaf=15, n_estimators=10;, score=(train=1.000, test=1.000) total time=   2.5s\n",
            "[CV 3/5] END criterion=entropy, max_depth=12, min_samples_leaf=15, n_estimators=10;, score=(train=0.999, test=0.999) total time=   3.2s\n",
            "[CV 4/5] END criterion=entropy, max_depth=12, min_samples_leaf=15, n_estimators=10;, score=(train=1.000, test=1.000) total time=   2.8s\n",
            "[CV 5/5] END criterion=entropy, max_depth=12, min_samples_leaf=15, n_estimators=10;, score=(train=1.000, test=1.000) total time=   2.2s\n",
            "[CV 1/5] END criterion=entropy, max_depth=12, min_samples_leaf=15, n_estimators=15;, score=(train=1.000, test=1.000) total time=   3.5s\n",
            "[CV 2/5] END criterion=entropy, max_depth=12, min_samples_leaf=15, n_estimators=15;, score=(train=0.999, test=0.999) total time=   4.5s\n",
            "[CV 3/5] END criterion=entropy, max_depth=12, min_samples_leaf=15, n_estimators=15;, score=(train=0.999, test=0.999) total time=   4.4s\n",
            "[CV 4/5] END criterion=entropy, max_depth=12, min_samples_leaf=15, n_estimators=15;, score=(train=1.000, test=1.000) total time=   3.6s\n",
            "[CV 5/5] END criterion=entropy, max_depth=12, min_samples_leaf=15, n_estimators=15;, score=(train=1.000, test=1.000) total time=   4.0s\n",
            "[CV 1/5] END criterion=entropy, max_depth=12, min_samples_leaf=15, n_estimators=20;, score=(train=1.000, test=1.000) total time=   5.5s\n",
            "[CV 2/5] END criterion=entropy, max_depth=12, min_samples_leaf=15, n_estimators=20;, score=(train=1.000, test=1.000) total time=   4.9s\n",
            "[CV 3/5] END criterion=entropy, max_depth=12, min_samples_leaf=15, n_estimators=20;, score=(train=1.000, test=1.000) total time=   6.1s\n",
            "[CV 4/5] END criterion=entropy, max_depth=12, min_samples_leaf=15, n_estimators=20;, score=(train=1.000, test=1.000) total time=   4.7s\n",
            "[CV 5/5] END criterion=entropy, max_depth=12, min_samples_leaf=15, n_estimators=20;, score=(train=1.000, test=1.000) total time=   5.1s\n",
            "[CV 1/5] END criterion=entropy, max_depth=14, min_samples_leaf=5, n_estimators=5;, score=(train=1.000, test=0.999) total time=   2.1s\n",
            "[CV 2/5] END criterion=entropy, max_depth=14, min_samples_leaf=5, n_estimators=5;, score=(train=1.000, test=0.999) total time=   1.5s\n",
            "[CV 3/5] END criterion=entropy, max_depth=14, min_samples_leaf=5, n_estimators=5;, score=(train=0.999, test=0.999) total time=   1.3s\n",
            "[CV 4/5] END criterion=entropy, max_depth=14, min_samples_leaf=5, n_estimators=5;, score=(train=0.999, test=0.999) total time=   1.3s\n",
            "[CV 5/5] END criterion=entropy, max_depth=14, min_samples_leaf=5, n_estimators=5;, score=(train=0.999, test=0.999) total time=   1.4s\n",
            "[CV 1/5] END criterion=entropy, max_depth=14, min_samples_leaf=5, n_estimators=10;, score=(train=1.000, test=0.999) total time=   2.5s\n",
            "[CV 2/5] END criterion=entropy, max_depth=14, min_samples_leaf=5, n_estimators=10;, score=(train=1.000, test=1.000) total time=   2.5s\n",
            "[CV 3/5] END criterion=entropy, max_depth=14, min_samples_leaf=5, n_estimators=10;, score=(train=1.000, test=1.000) total time=   3.6s\n",
            "[CV 4/5] END criterion=entropy, max_depth=14, min_samples_leaf=5, n_estimators=10;, score=(train=1.000, test=0.999) total time=   2.6s\n",
            "[CV 5/5] END criterion=entropy, max_depth=14, min_samples_leaf=5, n_estimators=10;, score=(train=0.999, test=0.999) total time=   2.8s\n",
            "[CV 1/5] END criterion=entropy, max_depth=14, min_samples_leaf=5, n_estimators=15;, score=(train=1.000, test=1.000) total time=   4.0s\n",
            "[CV 2/5] END criterion=entropy, max_depth=14, min_samples_leaf=5, n_estimators=15;, score=(train=1.000, test=1.000) total time=   5.0s\n",
            "[CV 3/5] END criterion=entropy, max_depth=14, min_samples_leaf=5, n_estimators=15;, score=(train=1.000, test=1.000) total time=   3.9s\n",
            "[CV 4/5] END criterion=entropy, max_depth=14, min_samples_leaf=5, n_estimators=15;, score=(train=1.000, test=0.999) total time=   4.0s\n",
            "[CV 5/5] END criterion=entropy, max_depth=14, min_samples_leaf=5, n_estimators=15;, score=(train=1.000, test=0.999) total time=   5.6s\n",
            "[CV 1/5] END criterion=entropy, max_depth=14, min_samples_leaf=5, n_estimators=20;, score=(train=1.000, test=1.000) total time=   5.2s\n",
            "[CV 2/5] END criterion=entropy, max_depth=14, min_samples_leaf=5, n_estimators=20;, score=(train=1.000, test=1.000) total time=   5.7s\n",
            "[CV 3/5] END criterion=entropy, max_depth=14, min_samples_leaf=5, n_estimators=20;, score=(train=1.000, test=1.000) total time=   5.2s\n",
            "[CV 4/5] END criterion=entropy, max_depth=14, min_samples_leaf=5, n_estimators=20;, score=(train=1.000, test=1.000) total time=   5.1s\n",
            "[CV 5/5] END criterion=entropy, max_depth=14, min_samples_leaf=5, n_estimators=20;, score=(train=1.000, test=1.000) total time=   6.6s\n",
            "[CV 1/5] END criterion=entropy, max_depth=14, min_samples_leaf=10, n_estimators=5;, score=(train=0.999, test=0.999) total time=   1.2s\n",
            "[CV 2/5] END criterion=entropy, max_depth=14, min_samples_leaf=10, n_estimators=5;, score=(train=0.999, test=0.998) total time=   1.3s\n",
            "[CV 3/5] END criterion=entropy, max_depth=14, min_samples_leaf=10, n_estimators=5;, score=(train=0.999, test=0.999) total time=   1.3s\n",
            "[CV 4/5] END criterion=entropy, max_depth=14, min_samples_leaf=10, n_estimators=5;, score=(train=1.000, test=0.999) total time=   1.2s\n",
            "[CV 5/5] END criterion=entropy, max_depth=14, min_samples_leaf=10, n_estimators=5;, score=(train=1.000, test=0.999) total time=   1.2s\n",
            "[CV 1/5] END criterion=entropy, max_depth=14, min_samples_leaf=10, n_estimators=10;, score=(train=1.000, test=1.000) total time=   3.1s\n",
            "[CV 2/5] END criterion=entropy, max_depth=14, min_samples_leaf=10, n_estimators=10;, score=(train=1.000, test=0.999) total time=   3.1s\n",
            "[CV 3/5] END criterion=entropy, max_depth=14, min_samples_leaf=10, n_estimators=10;, score=(train=1.000, test=1.000) total time=   2.6s\n",
            "[CV 4/5] END criterion=entropy, max_depth=14, min_samples_leaf=10, n_estimators=10;, score=(train=1.000, test=1.000) total time=   2.5s\n",
            "[CV 5/5] END criterion=entropy, max_depth=14, min_samples_leaf=10, n_estimators=10;, score=(train=1.000, test=0.999) total time=   2.5s\n",
            "[CV 1/5] END criterion=entropy, max_depth=14, min_samples_leaf=10, n_estimators=15;, score=(train=1.000, test=1.000) total time=   4.9s\n",
            "[CV 2/5] END criterion=entropy, max_depth=14, min_samples_leaf=10, n_estimators=15;, score=(train=1.000, test=0.999) total time=   3.9s\n",
            "[CV 3/5] END criterion=entropy, max_depth=14, min_samples_leaf=10, n_estimators=15;, score=(train=1.000, test=0.999) total time=   4.0s\n",
            "[CV 4/5] END criterion=entropy, max_depth=14, min_samples_leaf=10, n_estimators=15;, score=(train=1.000, test=1.000) total time=   5.2s\n",
            "[CV 5/5] END criterion=entropy, max_depth=14, min_samples_leaf=10, n_estimators=15;, score=(train=1.000, test=1.000) total time=   3.9s\n",
            "[CV 1/5] END criterion=entropy, max_depth=14, min_samples_leaf=10, n_estimators=20;, score=(train=1.000, test=1.000) total time=   4.7s\n",
            "[CV 2/5] END criterion=entropy, max_depth=14, min_samples_leaf=10, n_estimators=20;, score=(train=1.000, test=1.000) total time=   7.1s\n",
            "[CV 3/5] END criterion=entropy, max_depth=14, min_samples_leaf=10, n_estimators=20;, score=(train=1.000, test=1.000) total time=   5.2s\n",
            "[CV 4/5] END criterion=entropy, max_depth=14, min_samples_leaf=10, n_estimators=20;, score=(train=1.000, test=1.000) total time=   6.2s\n",
            "[CV 5/5] END criterion=entropy, max_depth=14, min_samples_leaf=10, n_estimators=20;, score=(train=1.000, test=1.000) total time=   5.0s\n",
            "[CV 1/5] END criterion=entropy, max_depth=14, min_samples_leaf=15, n_estimators=5;, score=(train=1.000, test=0.999) total time=   1.2s\n",
            "[CV 2/5] END criterion=entropy, max_depth=14, min_samples_leaf=15, n_estimators=5;, score=(train=0.999, test=0.999) total time=   1.1s\n",
            "[CV 3/5] END criterion=entropy, max_depth=14, min_samples_leaf=15, n_estimators=5;, score=(train=0.999, test=0.998) total time=   1.5s\n",
            "[CV 4/5] END criterion=entropy, max_depth=14, min_samples_leaf=15, n_estimators=5;, score=(train=1.000, test=0.999) total time=   1.6s\n",
            "[CV 5/5] END criterion=entropy, max_depth=14, min_samples_leaf=15, n_estimators=5;, score=(train=1.000, test=1.000) total time=   1.6s\n",
            "[CV 1/5] END criterion=entropy, max_depth=14, min_samples_leaf=15, n_estimators=10;, score=(train=1.000, test=1.000) total time=   2.4s\n",
            "[CV 2/5] END criterion=entropy, max_depth=14, min_samples_leaf=15, n_estimators=10;, score=(train=1.000, test=0.999) total time=   2.4s\n",
            "[CV 3/5] END criterion=entropy, max_depth=14, min_samples_leaf=15, n_estimators=10;, score=(train=0.999, test=0.999) total time=   2.7s\n",
            "[CV 4/5] END criterion=entropy, max_depth=14, min_samples_leaf=15, n_estimators=10;, score=(train=1.000, test=1.000) total time=   2.4s\n",
            "[CV 5/5] END criterion=entropy, max_depth=14, min_samples_leaf=15, n_estimators=10;, score=(train=1.000, test=1.000) total time=   3.4s\n",
            "[CV 1/5] END criterion=entropy, max_depth=14, min_samples_leaf=15, n_estimators=15;, score=(train=1.000, test=1.000) total time=   3.6s\n",
            "[CV 2/5] END criterion=entropy, max_depth=14, min_samples_leaf=15, n_estimators=15;, score=(train=1.000, test=1.000) total time=   3.6s\n",
            "[CV 3/5] END criterion=entropy, max_depth=14, min_samples_leaf=15, n_estimators=15;, score=(train=1.000, test=0.999) total time=   4.9s\n",
            "[CV 4/5] END criterion=entropy, max_depth=14, min_samples_leaf=15, n_estimators=15;, score=(train=1.000, test=1.000) total time=   3.9s\n",
            "[CV 5/5] END criterion=entropy, max_depth=14, min_samples_leaf=15, n_estimators=15;, score=(train=1.000, test=1.000) total time=   3.6s\n",
            "[CV 1/5] END criterion=entropy, max_depth=14, min_samples_leaf=15, n_estimators=20;, score=(train=1.000, test=1.000) total time=   5.2s\n",
            "[CV 2/5] END criterion=entropy, max_depth=14, min_samples_leaf=15, n_estimators=20;, score=(train=1.000, test=1.000) total time=   5.1s\n",
            "[CV 3/5] END criterion=entropy, max_depth=14, min_samples_leaf=15, n_estimators=20;, score=(train=1.000, test=1.000) total time=   5.1s\n",
            "[CV 4/5] END criterion=entropy, max_depth=14, min_samples_leaf=15, n_estimators=20;, score=(train=1.000, test=1.000) total time=   5.9s\n",
            "[CV 5/5] END criterion=entropy, max_depth=14, min_samples_leaf=15, n_estimators=20;, score=(train=1.000, test=1.000) total time=   4.6s\n",
            "GridSearchCV took 2062.11 seconds for 120 candidate parameter settings.\n"
          ]
        }
      ]
    },
    {
      "cell_type": "code",
      "source": [
        "from sklearn.metrics import accuracy_score, confusion_matrix, ConfusionMatrixDisplay, RocCurveDisplay, auc\n",
        "from sklearn.metrics import precision_score, recall_score, f1_score, roc_curve, classification_report\n",
        "from sklearn.metrics import precision_recall_curve, PrecisionRecallDisplay, roc_auc_score\n",
        "from sklearn.metrics import matthews_corrcoef\n",
        "import pickle"
      ],
      "metadata": {
        "id": "t9L1qvD8q75L"
      },
      "execution_count": 13,
      "outputs": []
    },
    {
      "cell_type": "code",
      "source": [
        "y_pred_grid_bestModel = rf_gs.best_estimator_.predict(scaled_X_test)\n",
        "print(\"The model with parameters: \", rf_gs.best_estimator_, \" \\ngives the following accuracy: \", accuracy_score(y_test, y_pred_grid_bestModel))\n",
        "accuracy_grid = accuracy_score(y_test, y_pred_grid_bestModel)\n",
        "print(accuracy_grid)"
      ],
      "metadata": {
        "id": "K2GuBrzlrdOO"
      },
      "execution_count": null,
      "outputs": []
    },
    {
      "cell_type": "code",
      "source": [
        "# making a dumpfile where the model parameters are being saved\n",
        "# this is usually done with pickle, hence the .pkl extension\n",
        "pickle.dump(rf_gs.best_estimator_, open('/content/drive/MyDrive/UNSWNB15/RF_model_std.pkl', 'wb'))"
      ],
      "metadata": {
        "id": "ycJlDNLctwS7"
      },
      "execution_count": 166,
      "outputs": []
    },
    {
      "cell_type": "code",
      "source": [
        "rf_gs.best_estimator_.criterion"
      ],
      "metadata": {
        "colab": {
          "base_uri": "https://localhost:8080/",
          "height": 36
        },
        "id": "s5eZ2kl2twEr",
        "outputId": "64f14f0d-89eb-4ad4-d13e-25bcb465200f"
      },
      "execution_count": 162,
      "outputs": [
        {
          "output_type": "execute_result",
          "data": {
            "text/plain": [
              "'gini'"
            ],
            "application/vnd.google.colaboratory.intrinsic+json": {
              "type": "string"
            }
          },
          "metadata": {},
          "execution_count": 162
        }
      ]
    },
    {
      "cell_type": "code",
      "source": [
        "# see: https://towardsdatascience.com/hyperparameter-tuning-with-grid-search-and-random-search-6e1b5e175144#:~:text=The%20key%20difference%20from%20grid,sample%2050%20values%20to%20test."
      ],
      "metadata": {
        "id": "F4KMrQYDoqyl"
      },
      "execution_count": null,
      "outputs": []
    },
    {
      "cell_type": "code",
      "source": [
        "cols_numeric_without_label = cols_numeric.drop('label')\n",
        "label_values = data.label.unique()"
      ],
      "metadata": {
        "id": "Xhf8m5bFwe48"
      },
      "execution_count": 37,
      "outputs": []
    },
    {
      "cell_type": "code",
      "source": [
        "# loading in the saved model\n",
        "loaded_model = pickle.load(open('/content/drive/MyDrive/UNSWNB15/RF_model_std.pkl', 'rb')) #the original model = RF_model.pkl\n",
        "result = loaded_model.score(scaled_X_test, y_test)\n",
        "print(result)"
      ],
      "metadata": {
        "id": "rJ_myVB5-Oa_"
      },
      "execution_count": null,
      "outputs": []
    },
    {
      "cell_type": "code",
      "source": [
        "RF_class_report = classification_report(y_test, loaded_model.predict(scaled_X_test), target_names=['0', '1'])\n",
        "print(RF_class_report)"
      ],
      "metadata": {
        "colab": {
          "base_uri": "https://localhost:8080/"
        },
        "id": "uuu5uAC2-4r3",
        "outputId": "1d46dbf1-e1c7-426d-ba2b-731777764ad5"
      },
      "execution_count": 168,
      "outputs": [
        {
          "output_type": "stream",
          "name": "stdout",
          "text": [
            "              precision    recall  f1-score   support\n",
            "\n",
            "           0       1.00      1.00      1.00     18536\n",
            "           1       1.00      1.00      1.00     32999\n",
            "\n",
            "    accuracy                           1.00     51535\n",
            "   macro avg       1.00      1.00      1.00     51535\n",
            "weighted avg       1.00      1.00      1.00     51535\n",
            "\n"
          ]
        }
      ]
    },
    {
      "cell_type": "code",
      "source": [
        "from sklearn import metrics\n",
        "fpr, tpr, tresholds = metrics.roc_curve(y_test, loaded_model.predict(scaled_X_test), pos_label=1)\n",
        "print(\"FPR = \", fpr)\n",
        "print(\"TPR = \", tpr)\n",
        "roc_auc = metrics.auc(fpr, tpr)"
      ],
      "metadata": {
        "id": "d5Vj4qicAHuK"
      },
      "execution_count": null,
      "outputs": []
    },
    {
      "cell_type": "code",
      "source": [
        "# plotting the ROC curve (Receiver Operating Characteristic)\n",
        "RF_disp = RocCurveDisplay(fpr=fpr, tpr=tpr, roc_auc=roc_auc, estimator_name='Random Forest')\n",
        "RF_disp.plot()\n",
        "plt.show()"
      ],
      "metadata": {
        "colab": {
          "base_uri": "https://localhost:8080/",
          "height": 449
        },
        "id": "gvMF81veAdFn",
        "outputId": "e4d483b8-c1ca-43c4-9160-3cf45ecd6d16"
      },
      "execution_count": 170,
      "outputs": [
        {
          "output_type": "display_data",
          "data": {
            "text/plain": [
              "<Figure size 640x480 with 1 Axes>"
            ],
            "image/png": "[encoded data removed]"
          },
          "metadata": {}
        }
      ]
    },
    {
      "cell_type": "code",
      "source": [
        "y_pred = loaded_model.predict(scaled_X_test)\n",
        "y_true = y_test\n",
        "cf_matrix = confusion_matrix(y_true, y_pred)\n",
        "cf_matrix = cf_matrix / cf_matrix.astype(np.float).sum(axis=1)\n",
        "print(\"\\nTest confusion matrix\")\n",
        "sns.set(font_scale=1.4)\n",
        "sns.heatmap(cf_matrix, annot=True, cmap='Blues', fmt='.4g')\n",
        "plt.xlabel('Predicted', fontsize=12)\n",
        "plt.ylabel('True', fontsize=12)"
      ],
      "metadata": {
        "id": "elnbOlSdBQN1",
        "colab": {
          "base_uri": "https://localhost:8080/",
          "height": 518
        },
        "outputId": "8eff7762-f3e1-4dc3-f80d-1fb7a0d364c9"
      },
      "execution_count": 175,
      "outputs": [
        {
          "output_type": "stream",
          "name": "stdout",
          "text": [
            "\n",
            "Test confusion matrix\n"
          ]
        },
        {
          "output_type": "execute_result",
          "data": {
            "text/plain": [
              "Text(41.25, 0.5, 'True')"
            ]
          },
          "metadata": {},
          "execution_count": 175
        },
        {
          "output_type": "display_data",
          "data": {
            "text/plain": [
              "<Figure size 640x480 with 2 Axes>"
            ],
            "image/png": "[encoded data removed]"
          },
          "metadata": {}
        }
      ]
    },
    {
      "cell_type": "code",
      "source": [
        "print(cf_matrix) \n",
        "#    TP   FP\n",
        "#    FN   TN\n",
        "#"
      ],
      "metadata": {
        "colab": {
          "base_uri": "https://localhost:8080/"
        },
        "id": "sn9Zn6-bBFlR",
        "outputId": "8e1d8cfe-23ca-4ce2-d4f6-0e8e7a556451"
      },
      "execution_count": 176,
      "outputs": [
        {
          "output_type": "stream",
          "name": "stdout",
          "text": [
            "[[9.99892102e-01 6.06078972e-05]\n",
            " [1.07898144e-04 9.99939392e-01]]\n"
          ]
        }
      ]
    },
    {
      "cell_type": "code",
      "source": [
        "# attempt to a multiclass prediction --> attack_type\n",
        "import pandas as pd\n",
        "data['attack_cat_nr'] = pd.Categorical(data.attack_cat).codes\n",
        "attack_cat_nr = data.attack_cat_nr.unique()\n",
        "attack_cat_nr #numerical counterpart of the attack_cat"
      ],
      "metadata": {
        "colab": {
          "base_uri": "https://localhost:8080/"
        },
        "id": "xAdszOQzBIcW",
        "outputId": "a98a076e-a972-4302-cad7-207384254912"
      },
      "execution_count": 38,
      "outputs": [
        {
          "output_type": "execute_result",
          "data": {
            "text/plain": [
              "array([6, 7, 1, 2, 3, 0, 4, 9, 8, 5], dtype=int8)"
            ]
          },
          "metadata": {},
          "execution_count": 38
        }
      ]
    },
    {
      "cell_type": "code",
      "source": [
        "data_cleaned2 = data.drop(cols_cat, axis=1)\n",
        "data_cleaned2.dtypes"
      ],
      "metadata": {
        "id": "PZ4TpCOFlCjb"
      },
      "execution_count": null,
      "outputs": []
    },
    {
      "cell_type": "code",
      "source": [
        "data_cleaned2 = data_cleaned2.drop('label', axis=1)"
      ],
      "metadata": {
        "id": "XDkH032ulZ_7"
      },
      "execution_count": 40,
      "outputs": []
    },
    {
      "cell_type": "code",
      "source": [
        "X_train, X_test, y_train, y_test = train_test_split(data_cleaned2.drop('attack_cat_nr', axis=1), data_cleaned2['attack_cat_nr'], test_size=0.20, random_state=37)"
      ],
      "metadata": {
        "id": "eLFKH1ValfNr"
      },
      "execution_count": 22,
      "outputs": []
    },
    {
      "cell_type": "code",
      "source": [
        "train_scaler2 = StandardScaler()\n",
        "\n",
        "scaled2_X_train = train_scaler2.fit_transform(X_train)\n",
        "scaled2_X_test = train_scaler2.transform(X_test)"
      ],
      "metadata": {
        "id": "GHif74SZmCHr"
      },
      "execution_count": 41,
      "outputs": []
    },
    {
      "cell_type": "code",
      "source": [
        "clf_multi = RandomForestClassifier(n_estimators=20, criterion=\"entropy\", max_depth=12, random_state=41)\n",
        "# n_estimators = the amount of classification trees used in the forest\n",
        "# criterion = splitting criterion used (standard = Gini, but I prefer entropy)\n",
        "# max_depth = the maximum depth of the trees\n",
        "# random_state = randomizer\n",
        "\n",
        "clf_multi.fit(scaled2_X_train, y_train)"
      ],
      "metadata": {
        "colab": {
          "base_uri": "https://localhost:8080/",
          "height": 92
        },
        "id": "iwE6e5ZTmSNM",
        "outputId": "ea785735-31ff-414e-9729-907f25c547f7"
      },
      "execution_count": 24,
      "outputs": [
        {
          "output_type": "execute_result",
          "data": {
            "text/plain": [
              "RandomForestClassifier(criterion='entropy', max_depth=12, n_estimators=20,\n",
              "                       random_state=41)"
            ],
            "text/html": [
              "<style>#sk-container-id-2 {color: black;background-color: white;}#sk-container-id-2 pre{padding: 0;}#sk-container-id-2 div.sk-toggleable {background-color: white;}#sk-container-id-2 label.sk-toggleable__label {cursor: pointer;display: block;width: 100%;margin-bottom: 0;padding: 0.3em;box-sizing: border-box;text-align: center;}#sk-container-id-2 label.sk-toggleable__label-arrow:before {content: \"▸\";float: left;margin-right: 0.25em;color: #696969;}#sk-container-id-2 label.sk-toggleable__label-arrow:hover:before {color: black;}#sk-container-id-2 div.sk-estimator:hover label.sk-toggleable__label-arrow:before {color: black;}#sk-container-id-2 div.sk-toggleable__content {max-height: 0;max-width: 0;overflow: hidden;text-align: left;background-color: #f0f8ff;}#sk-container-id-2 div.sk-toggleable__content pre {margin: 0.2em;color: black;border-radius: 0.25em;background-color: #f0f8ff;}#sk-container-id-2 input.sk-toggleable__control:checked~div.sk-toggleable__content {max-height: 200px;max-width: 100%;overflow: auto;}#sk-container-id-2 input.sk-toggleable__control:checked~label.sk-toggleable__label-arrow:before {content: \"▾\";}#sk-container-id-2 div.sk-estimator input.sk-toggleable__control:checked~label.sk-toggleable__label {background-color: #d4ebff;}#sk-container-id-2 div.sk-label input.sk-toggleable__control:checked~label.sk-toggleable__label {background-color: #d4ebff;}#sk-container-id-2 input.sk-hidden--visually {border: 0;clip: rect(1px 1px 1px 1px);clip: rect(1px, 1px, 1px, 1px);height: 1px;margin: -1px;overflow: hidden;padding: 0;position: absolute;width: 1px;}#sk-container-id-2 div.sk-estimator {font-family: monospace;background-color: #f0f8ff;border: 1px dotted black;border-radius: 0.25em;box-sizing: border-box;margin-bottom: 0.5em;}#sk-container-id-2 div.sk-estimator:hover {background-color: #d4ebff;}#sk-container-id-2 div.sk-parallel-item::after {content: \"\";width: 100%;border-bottom: 1px solid gray;flex-grow: 1;}#sk-container-id-2 div.sk-label:hover label.sk-toggleable__label {background-color: #d4ebff;}#sk-container-id-2 div.sk-serial::before {content: \"\";position: absolute;border-left: 1px solid gray;box-sizing: border-box;top: 0;bottom: 0;left: 50%;z-index: 0;}#sk-container-id-2 div.sk-serial {display: flex;flex-direction: column;align-items: center;background-color: white;padding-right: 0.2em;padding-left: 0.2em;position: relative;}#sk-container-id-2 div.sk-item {position: relative;z-index: 1;}#sk-container-id-2 div.sk-parallel {display: flex;align-items: stretch;justify-content: center;background-color: white;position: relative;}#sk-container-id-2 div.sk-item::before, #sk-container-id-2 div.sk-parallel-item::before {content: \"\";position: absolute;border-left: 1px solid gray;box-sizing: border-box;top: 0;bottom: 0;left: 50%;z-index: -1;}#sk-container-id-2 div.sk-parallel-item {display: flex;flex-direction: column;z-index: 1;position: relative;background-color: white;}#sk-container-id-2 div.sk-parallel-item:first-child::after {align-self: flex-end;width: 50%;}#sk-container-id-2 div.sk-parallel-item:last-child::after {align-self: flex-start;width: 50%;}#sk-container-id-2 div.sk-parallel-item:only-child::after {width: 0;}#sk-container-id-2 div.sk-dashed-wrapped {border: 1px dashed gray;margin: 0 0.4em 0.5em 0.4em;box-sizing: border-box;padding-bottom: 0.4em;background-color: white;}#sk-container-id-2 div.sk-label label {font-family: monospace;font-weight: bold;display: inline-block;line-height: 1.2em;}#sk-container-id-2 div.sk-label-container {text-align: center;}#sk-container-id-2 div.sk-container {/* jupyter's `normalize.less` sets `[hidden] { display: none; }` but bootstrap.min.css set `[hidden] { display: none !important; }` so we also need the `!important` here to be able to override the default hidden behavior on the sphinx rendered scikit-learn.org. See: https://github.com/scikit-learn/scikit-learn/issues/21755 */display: inline-block !important;position: relative;}#sk-container-id-2 div.sk-text-repr-fallback {display: none;}</style><div id=\"sk-container-id-2\" class=\"sk-top-container\"><div class=\"sk-text-repr-fallback\"><pre>RandomForestClassifier(criterion=&#x27;entropy&#x27;, max_depth=12, n_estimators=20,\n",
              "                       random_state=41)</pre><b>In a Jupyter environment, please rerun this cell to show the HTML representation or trust the notebook. <br />On GitHub, the HTML representation is unable to render, please try loading this page with nbviewer.org.</b></div><div class=\"sk-container\" hidden><div class=\"sk-item\"><div class=\"sk-estimator sk-toggleable\"><input class=\"sk-toggleable__control sk-hidden--visually\" id=\"sk-estimator-id-2\" type=\"checkbox\" checked><label for=\"sk-estimator-id-2\" class=\"sk-toggleable__label sk-toggleable__label-arrow\">RandomForestClassifier</label><div class=\"sk-toggleable__content\"><pre>RandomForestClassifier(criterion=&#x27;entropy&#x27;, max_depth=12, n_estimators=20,\n",
              "                       random_state=41)</pre></div></div></div></div></div>"
            ]
          },
          "metadata": {},
          "execution_count": 24
        }
      ]
    },
    {
      "cell_type": "code",
      "source": [
        "clf_multi.score(scaled2_X_train, y_train)"
      ],
      "metadata": {
        "colab": {
          "base_uri": "https://localhost:8080/"
        },
        "id": "BmddwF9omxBt",
        "outputId": "6263995d-2e34-48c9-c9c0-022dbf844232"
      },
      "execution_count": 25,
      "outputs": [
        {
          "output_type": "execute_result",
          "data": {
            "text/plain": [
              "0.8493824525317991"
            ]
          },
          "metadata": {},
          "execution_count": 25
        }
      ]
    },
    {
      "cell_type": "code",
      "source": [
        "y_pred = clf_multi.predict(scaled2_X_test)\n",
        "y_true = y_test"
      ],
      "metadata": {
        "id": "apEw1byam-59"
      },
      "execution_count": 26,
      "outputs": []
    },
    {
      "cell_type": "code",
      "source": [
        "print(attack_types)"
      ],
      "metadata": {
        "colab": {
          "base_uri": "https://localhost:8080/"
        },
        "id": "Ud_TmYSYnJk0",
        "outputId": "6b2a0dd7-477c-4503-d0b5-e2943e0bcff1"
      },
      "execution_count": 27,
      "outputs": [
        {
          "output_type": "stream",
          "name": "stdout",
          "text": [
            "['Normal' 'Reconnaissance' 'Backdoor' 'DoS' 'Exploits' 'Analysis'\n",
            " 'Fuzzers' 'Worms' 'Shellcode' 'Generic']\n"
          ]
        }
      ]
    },
    {
      "cell_type": "code",
      "source": [
        "cf_matrix = confusion_matrix(y_true, y_pred)\n",
        "cf_matrix = cf_matrix / cf_matrix.astype(np.float).sum(axis=1)\n",
        "print(\"\\nTest confusion matrix\")\n",
        "sns.set(font_scale=0.8)\n",
        "plt.figure(figsize=(9,8))\n",
        "sns.heatmap(cf_matrix, annot=True, cmap='Reds', fmt='.2g')\n",
        "plt.xlabel('Predicted', fontsize=12)\n",
        "plt.ylabel('True', fontsize=12)\n",
        "plt.show()\n"
      ],
      "metadata": {
        "id": "h5lJqjaXnFTF"
      },
      "execution_count": null,
      "outputs": []
    },
    {
      "cell_type": "code",
      "source": [
        "print(attack_cat_nr)"
      ],
      "metadata": {
        "colab": {
          "base_uri": "https://localhost:8080/"
        },
        "id": "F8jEzhwdoI-0",
        "outputId": "e347c76b-58d6-4c32-af75-d14b6cf4a66d"
      },
      "execution_count": 28,
      "outputs": [
        {
          "output_type": "stream",
          "name": "stdout",
          "text": [
            "[6 7 1 2 3 0 4 9 8 5]\n"
          ]
        }
      ]
    },
    {
      "cell_type": "code",
      "source": [
        "attack_types_sorted = ['Analysis', 'Backdoor', 'DoS', 'Exploits', 'Fuzzers', 'Generic', 'Normal', 'Reconnaissance', 'Shellcode', 'Worms']"
      ],
      "metadata": {
        "id": "bGB8jyB33yKf"
      },
      "execution_count": 29,
      "outputs": []
    },
    {
      "cell_type": "code",
      "source": [
        "cf_matrix = confusion_matrix(y_true, y_pred)\n",
        "cf_matrix = cf_matrix / cf_matrix.astype(np.float).sum(axis=1)\n",
        "sns.set(font_scale=0.8)\n",
        "plt.figure(figsize=(9,8))\n",
        "ax = sns.heatmap(cf_matrix, annot=True, cmap='Reds', fmt='.2g') # gmt='g' to disable scientific notation\n",
        "ax.set_xlabel('Predicted', fontsize=12)\n",
        "ax.set_ylabel('True', fontsize=12)\n",
        "ax.set_title('Confusion matrix')\n",
        "ax.xaxis.set_ticklabels(attack_types_sorted, rotation=90)\n",
        "ax.yaxis.set_ticklabels(attack_types_sorted, rotation=0)\n",
        "plt.show()"
      ],
      "metadata": {
        "id": "rbTJ70POol8a"
      },
      "execution_count": null,
      "outputs": []
    },
    {
      "cell_type": "code",
      "source": [
        "from sklearn.model_selection import GridSearchCV\n",
        "from time import time\n",
        "# Random search\n",
        "#--------------\n",
        "# record the starting time\n",
        "\n",
        "start = time()\n",
        "\n",
        "# creating a grid of parameters\n",
        "param_grid = {\n",
        "  'bootstrap': [True, False],\n",
        "  'n_estimators': [15, 20],\n",
        "  'max_depth': [15, 20],\n",
        "  'criterion': ['gini', 'entropy']\n",
        "}"
      ],
      "metadata": {
        "id": "SjluatQp1uEw"
      },
      "execution_count": 42,
      "outputs": []
    },
    {
      "cell_type": "code",
      "source": [
        "# instantiate the grid search cross validation\n",
        "rf_gs = GridSearchCV(\n",
        "  estimator=clf_multi,\n",
        "  param_grid=param_grid,\n",
        "  scoring='accuracy',\n",
        "  cv=5,\n",
        "  refit=True,\n",
        "  return_train_score=True, \n",
        "  verbose=5\n",
        ")"
      ],
      "metadata": {
        "id": "iib6fUEKyODX"
      },
      "execution_count": 43,
      "outputs": []
    },
    {
      "cell_type": "code",
      "source": [
        "# Record the current time \n",
        "start = time()\n",
        "# Fit the selected model\n",
        "rf_gs.fit(scaled2_X_train, y_train)\n",
        "# Print the time spend and number of models ran\n",
        "print(\"GridSearchCV took %.2f seconds for %d candidate parameter settings.\" % ((time() - start), len(rf_gs.cv_results_['params'])))"
      ],
      "metadata": {
        "colab": {
          "base_uri": "https://localhost:8080/"
        },
        "id": "UYvkFjQMybXn",
        "outputId": "54d741ee-41b5-40b2-b5e3-c2807a59a7e7"
      },
      "execution_count": 44,
      "outputs": [
        {
          "output_type": "stream",
          "name": "stdout",
          "text": [
            "Fitting 5 folds for each of 16 candidates, totalling 80 fits\n",
            "[CV 1/5] END bootstrap=True, criterion=gini, max_depth=15, n_estimators=15;, score=(train=0.876, test=0.845) total time=   5.3s\n",
            "[CV 2/5] END bootstrap=True, criterion=gini, max_depth=15, n_estimators=15;, score=(train=0.879, test=0.848) total time=   4.2s\n",
            "[CV 3/5] END bootstrap=True, criterion=gini, max_depth=15, n_estimators=15;, score=(train=0.877, test=0.845) total time=   4.1s\n",
            "[CV 4/5] END bootstrap=True, criterion=gini, max_depth=15, n_estimators=15;, score=(train=0.879, test=0.849) total time=   5.4s\n",
            "[CV 5/5] END bootstrap=True, criterion=gini, max_depth=15, n_estimators=15;, score=(train=0.875, test=0.846) total time=   4.4s\n",
            "[CV 1/5] END bootstrap=True, criterion=gini, max_depth=15, n_estimators=20;, score=(train=0.877, test=0.848) total time=   6.1s\n",
            "[CV 2/5] END bootstrap=True, criterion=gini, max_depth=15, n_estimators=20;, score=(train=0.879, test=0.848) total time=   5.7s\n",
            "[CV 3/5] END bootstrap=True, criterion=gini, max_depth=15, n_estimators=20;, score=(train=0.877, test=0.847) total time=   6.0s\n",
            "[CV 4/5] END bootstrap=True, criterion=gini, max_depth=15, n_estimators=20;, score=(train=0.880, test=0.850) total time=   6.3s\n",
            "[CV 5/5] END bootstrap=True, criterion=gini, max_depth=15, n_estimators=20;, score=(train=0.876, test=0.847) total time=   6.0s\n",
            "[CV 1/5] END bootstrap=True, criterion=gini, max_depth=20, n_estimators=15;, score=(train=0.928, test=0.853) total time=   5.5s\n",
            "[CV 2/5] END bootstrap=True, criterion=gini, max_depth=20, n_estimators=15;, score=(train=0.928, test=0.852) total time=   4.8s\n",
            "[CV 3/5] END bootstrap=True, criterion=gini, max_depth=20, n_estimators=15;, score=(train=0.929, test=0.853) total time=   6.0s\n",
            "[CV 4/5] END bootstrap=True, criterion=gini, max_depth=20, n_estimators=15;, score=(train=0.928, test=0.857) total time=   4.7s\n",
            "[CV 5/5] END bootstrap=True, criterion=gini, max_depth=20, n_estimators=15;, score=(train=0.931, test=0.858) total time=   5.7s\n",
            "[CV 1/5] END bootstrap=True, criterion=gini, max_depth=20, n_estimators=20;, score=(train=0.929, test=0.854) total time=   6.5s\n",
            "[CV 2/5] END bootstrap=True, criterion=gini, max_depth=20, n_estimators=20;, score=(train=0.929, test=0.853) total time=   7.5s\n",
            "[CV 3/5] END bootstrap=True, criterion=gini, max_depth=20, n_estimators=20;, score=(train=0.930, test=0.854) total time=   6.4s\n",
            "[CV 4/5] END bootstrap=True, criterion=gini, max_depth=20, n_estimators=20;, score=(train=0.930, test=0.858) total time=   7.9s\n",
            "[CV 5/5] END bootstrap=True, criterion=gini, max_depth=20, n_estimators=20;, score=(train=0.930, test=0.858) total time=   6.4s\n",
            "[CV 1/5] END bootstrap=True, criterion=entropy, max_depth=15, n_estimators=15;, score=(train=0.882, test=0.847) total time=   7.9s\n",
            "[CV 2/5] END bootstrap=True, criterion=entropy, max_depth=15, n_estimators=15;, score=(train=0.883, test=0.845) total time=   7.4s\n",
            "[CV 3/5] END bootstrap=True, criterion=entropy, max_depth=15, n_estimators=15;, score=(train=0.882, test=0.846) total time=   7.1s\n",
            "[CV 4/5] END bootstrap=True, criterion=entropy, max_depth=15, n_estimators=15;, score=(train=0.883, test=0.848) total time=   8.1s\n",
            "[CV 5/5] END bootstrap=True, criterion=entropy, max_depth=15, n_estimators=15;, score=(train=0.881, test=0.848) total time=   6.8s\n",
            "[CV 1/5] END bootstrap=True, criterion=entropy, max_depth=15, n_estimators=20;, score=(train=0.882, test=0.848) total time=  10.2s\n",
            "[CV 2/5] END bootstrap=True, criterion=entropy, max_depth=15, n_estimators=20;, score=(train=0.884, test=0.847) total time=  10.1s\n",
            "[CV 3/5] END bootstrap=True, criterion=entropy, max_depth=15, n_estimators=20;, score=(train=0.883, test=0.846) total time=   9.9s\n",
            "[CV 4/5] END bootstrap=True, criterion=entropy, max_depth=15, n_estimators=20;, score=(train=0.885, test=0.850) total time=   9.0s\n",
            "[CV 5/5] END bootstrap=True, criterion=entropy, max_depth=15, n_estimators=20;, score=(train=0.881, test=0.847) total time=  10.3s\n",
            "[CV 1/5] END bootstrap=True, criterion=entropy, max_depth=20, n_estimators=15;, score=(train=0.941, test=0.855) total time=   8.8s\n",
            "[CV 2/5] END bootstrap=True, criterion=entropy, max_depth=20, n_estimators=15;, score=(train=0.937, test=0.852) total time=   7.8s\n",
            "[CV 3/5] END bootstrap=True, criterion=entropy, max_depth=20, n_estimators=15;, score=(train=0.938, test=0.855) total time=   8.5s\n",
            "[CV 4/5] END bootstrap=True, criterion=entropy, max_depth=20, n_estimators=15;, score=(train=0.939, test=0.855) total time=   8.7s\n",
            "[CV 5/5] END bootstrap=True, criterion=entropy, max_depth=20, n_estimators=15;, score=(train=0.938, test=0.852) total time=   7.3s\n",
            "[CV 1/5] END bootstrap=True, criterion=entropy, max_depth=20, n_estimators=20;, score=(train=0.942, test=0.856) total time=  11.2s\n",
            "[CV 2/5] END bootstrap=True, criterion=entropy, max_depth=20, n_estimators=20;, score=(train=0.939, test=0.853) total time=  11.1s\n",
            "[CV 3/5] END bootstrap=True, criterion=entropy, max_depth=20, n_estimators=20;, score=(train=0.940, test=0.857) total time=  11.1s\n",
            "[CV 4/5] END bootstrap=True, criterion=entropy, max_depth=20, n_estimators=20;, score=(train=0.940, test=0.855) total time=  11.4s\n",
            "[CV 5/5] END bootstrap=True, criterion=entropy, max_depth=20, n_estimators=20;, score=(train=0.939, test=0.853) total time=  11.1s\n",
            "[CV 1/5] END bootstrap=False, criterion=gini, max_depth=15, n_estimators=15;, score=(train=0.882, test=0.851) total time=   6.0s\n",
            "[CV 2/5] END bootstrap=False, criterion=gini, max_depth=15, n_estimators=15;, score=(train=0.885, test=0.852) total time=   7.5s\n",
            "[CV 3/5] END bootstrap=False, criterion=gini, max_depth=15, n_estimators=15;, score=(train=0.882, test=0.847) total time=   6.1s\n",
            "[CV 4/5] END bootstrap=False, criterion=gini, max_depth=15, n_estimators=15;, score=(train=0.880, test=0.848) total time=   7.5s\n",
            "[CV 5/5] END bootstrap=False, criterion=gini, max_depth=15, n_estimators=15;, score=(train=0.881, test=0.851) total time=   6.0s\n",
            "[CV 1/5] END bootstrap=False, criterion=gini, max_depth=15, n_estimators=20;, score=(train=0.882, test=0.852) total time=   9.3s\n",
            "[CV 2/5] END bootstrap=False, criterion=gini, max_depth=15, n_estimators=20;, score=(train=0.886, test=0.854) total time=   9.3s\n",
            "[CV 3/5] END bootstrap=False, criterion=gini, max_depth=15, n_estimators=20;, score=(train=0.882, test=0.849) total time=   8.2s\n",
            "[CV 4/5] END bootstrap=False, criterion=gini, max_depth=15, n_estimators=20;, score=(train=0.882, test=0.850) total time=   9.5s\n",
            "[CV 5/5] END bootstrap=False, criterion=gini, max_depth=15, n_estimators=20;, score=(train=0.881, test=0.850) total time=   9.2s\n",
            "[CV 1/5] END bootstrap=False, criterion=gini, max_depth=20, n_estimators=15;, score=(train=0.940, test=0.857) total time=   7.1s\n",
            "[CV 2/5] END bootstrap=False, criterion=gini, max_depth=20, n_estimators=15;, score=(train=0.937, test=0.857) total time=   8.3s\n",
            "[CV 3/5] END bootstrap=False, criterion=gini, max_depth=20, n_estimators=15;, score=(train=0.936, test=0.859) total time=   7.8s\n",
            "[CV 4/5] END bootstrap=False, criterion=gini, max_depth=20, n_estimators=15;, score=(train=0.938, test=0.860) total time=   7.3s\n",
            "[CV 5/5] END bootstrap=False, criterion=gini, max_depth=20, n_estimators=15;, score=(train=0.937, test=0.856) total time=   8.2s\n",
            "[CV 1/5] END bootstrap=False, criterion=gini, max_depth=20, n_estimators=20;, score=(train=0.940, test=0.858) total time=  10.0s\n",
            "[CV 2/5] END bootstrap=False, criterion=gini, max_depth=20, n_estimators=20;, score=(train=0.937, test=0.858) total time=   9.8s\n",
            "[CV 3/5] END bootstrap=False, criterion=gini, max_depth=20, n_estimators=20;, score=(train=0.937, test=0.861) total time=  10.7s\n",
            "[CV 4/5] END bootstrap=False, criterion=gini, max_depth=20, n_estimators=20;, score=(train=0.939, test=0.861) total time=  10.4s\n",
            "[CV 5/5] END bootstrap=False, criterion=gini, max_depth=20, n_estimators=20;, score=(train=0.938, test=0.858) total time=  10.3s\n",
            "[CV 1/5] END bootstrap=False, criterion=entropy, max_depth=15, n_estimators=15;, score=(train=0.888, test=0.850) total time=  10.6s\n",
            "[CV 2/5] END bootstrap=False, criterion=entropy, max_depth=15, n_estimators=15;, score=(train=0.888, test=0.848) total time=  10.6s\n",
            "[CV 3/5] END bootstrap=False, criterion=entropy, max_depth=15, n_estimators=15;, score=(train=0.886, test=0.849) total time=  11.4s\n",
            "[CV 4/5] END bootstrap=False, criterion=entropy, max_depth=15, n_estimators=15;, score=(train=0.887, test=0.851) total time=  11.1s\n",
            "[CV 5/5] END bootstrap=False, criterion=entropy, max_depth=15, n_estimators=15;, score=(train=0.887, test=0.849) total time=  11.3s\n",
            "[CV 1/5] END bootstrap=False, criterion=entropy, max_depth=15, n_estimators=20;, score=(train=0.888, test=0.850) total time=  14.7s\n",
            "[CV 2/5] END bootstrap=False, criterion=entropy, max_depth=15, n_estimators=20;, score=(train=0.888, test=0.849) total time=  14.4s\n",
            "[CV 3/5] END bootstrap=False, criterion=entropy, max_depth=15, n_estimators=20;, score=(train=0.886, test=0.849) total time=  15.2s\n",
            "[CV 4/5] END bootstrap=False, criterion=entropy, max_depth=15, n_estimators=20;, score=(train=0.888, test=0.851) total time=  14.9s\n",
            "[CV 5/5] END bootstrap=False, criterion=entropy, max_depth=15, n_estimators=20;, score=(train=0.885, test=0.848) total time=  15.2s\n",
            "[CV 1/5] END bootstrap=False, criterion=entropy, max_depth=20, n_estimators=15;, score=(train=0.947, test=0.857) total time=  12.2s\n",
            "[CV 2/5] END bootstrap=False, criterion=entropy, max_depth=20, n_estimators=15;, score=(train=0.949, test=0.854) total time=  11.8s\n",
            "[CV 3/5] END bootstrap=False, criterion=entropy, max_depth=20, n_estimators=15;, score=(train=0.948, test=0.855) total time=  12.1s\n",
            "[CV 4/5] END bootstrap=False, criterion=entropy, max_depth=20, n_estimators=15;, score=(train=0.947, test=0.857) total time=  12.0s\n",
            "[CV 5/5] END bootstrap=False, criterion=entropy, max_depth=20, n_estimators=15;, score=(train=0.948, test=0.857) total time=  12.4s\n",
            "[CV 1/5] END bootstrap=False, criterion=entropy, max_depth=20, n_estimators=20;, score=(train=0.948, test=0.858) total time=  17.1s\n",
            "[CV 2/5] END bootstrap=False, criterion=entropy, max_depth=20, n_estimators=20;, score=(train=0.950, test=0.854) total time=  16.4s\n",
            "[CV 3/5] END bootstrap=False, criterion=entropy, max_depth=20, n_estimators=20;, score=(train=0.950, test=0.855) total time=  16.3s\n",
            "[CV 4/5] END bootstrap=False, criterion=entropy, max_depth=20, n_estimators=20;, score=(train=0.947, test=0.859) total time=  16.2s\n",
            "[CV 5/5] END bootstrap=False, criterion=entropy, max_depth=20, n_estimators=20;, score=(train=0.950, test=0.859) total time=  17.4s\n",
            "GridSearchCV took 793.47 seconds for 16 candidate parameter settings.\n"
          ]
        }
      ]
    },
    {
      "cell_type": "code",
      "source": [
        "from sklearn.metrics import accuracy_score\n",
        "y_pred2_grid = rf_gs.predict(scaled2_X_test)\n",
        "accuracy_grid = accuracy_score(y_test, y_pred2_grid)\n",
        "print(accuracy_grid)"
      ],
      "metadata": {
        "colab": {
          "base_uri": "https://localhost:8080/"
        },
        "id": "FH3hW_JiyjNd",
        "outputId": "ade45e31-371e-45e8-f13a-94929928d4c4"
      },
      "execution_count": 49,
      "outputs": [
        {
          "output_type": "stream",
          "name": "stdout",
          "text": [
            "0.8622489570195013\n"
          ]
        }
      ]
    },
    {
      "cell_type": "code",
      "source": [
        "y_pred_grid_bestModel = rf_gs.best_estimator_.predict(scaled2_X_test)\n",
        "print(\"The model with parameters: \", rf_gs.best_estimator_, \" \\ngives the following accuracy: \", accuracy_score(y_test, y_pred_grid_bestModel))"
      ],
      "metadata": {
        "colab": {
          "base_uri": "https://localhost:8080/"
        },
        "id": "2BxW8qFW_f5p",
        "outputId": "b628691c-538c-4290-fb4a-3ab0cb4aa9d8"
      },
      "execution_count": 50,
      "outputs": [
        {
          "output_type": "stream",
          "name": "stdout",
          "text": [
            "The model with parameters:  RandomForestClassifier(bootstrap=False, max_depth=20, n_estimators=20,\n",
            "                       random_state=41)  \n",
            "gives the following accuracy:  0.8622489570195013\n"
          ]
        }
      ]
    },
    {
      "cell_type": "code",
      "source": [
        "import pickle\n",
        "pickle.dump(rf_gs.best_estimator_, open('/content/drive/MyDrive/UNSWNB15/RF_model_MULTI.pkl', 'wb'))"
      ],
      "metadata": {
        "id": "mKvCbzgUAOZG"
      },
      "execution_count": 51,
      "outputs": []
    },
    {
      "cell_type": "code",
      "source": [
        "import pickle\n",
        "loaded_model = pickle.load(open('/content/drive/MyDrive/UNSWNB15/RF_model_MULTI.pkl', 'rb'))\n",
        "y_pred_grid_bestModel = loaded_model.predict(scaled2_X_test)"
      ],
      "metadata": {
        "id": "CrO8NzlohhdB"
      },
      "execution_count": 52,
      "outputs": []
    },
    {
      "cell_type": "code",
      "source": [
        "import numpy as np\n",
        "cf_matrix = confusion_matrix(y_true, y_pred_grid_bestModel)\n",
        "cf_matrix = np.around(cf_matrix / cf_matrix.astype(np.float).sum(axis=1), decimals=3)\n",
        "sns.set(font_scale=0.8)\n",
        "ax = sns.heatmap(cf_matrix, annot=True, cmap='Reds', fmt='.2g') # fmt='g' to disable scientific notation\n",
        "ax.set_xlabel('Predicted', fontsize=12)\n",
        "ax.set_ylabel('True', fontsize=12)\n",
        "ax.set_title('Confusion matrix')\n",
        "ax.xaxis.set_ticklabels(attack_types_sorted, rotation=90)\n",
        "ax.yaxis.set_ticklabels(attack_types_sorted, rotation=0)\n",
        "plt.show()"
      ],
      "metadata": {
        "colab": {
          "base_uri": "https://localhost:8080/",
          "height": 635
        },
        "id": "tBOPdcy4BQ0K",
        "outputId": "4637f0b3-54d6-4d48-e138-a7935cc00c4b"
      },
      "execution_count": 57,
      "outputs": [
        {
          "output_type": "stream",
          "name": "stderr",
          "text": [
            "<ipython-input-57-f832a3e0f1d6>:3: DeprecationWarning: `np.float` is a deprecated alias for the builtin `float`. To silence this warning, use `float` by itself. Doing this will not modify any behavior and is safe. If you specifically wanted the numpy scalar type, use `np.float64` here.\n",
            "Deprecated in NumPy 1.20; for more details and guidance: https://numpy.org/devdocs/release/1.20.0-notes.html#deprecations\n",
            "  cf_matrix = np.around(cf_matrix / cf_matrix.astype(np.float).sum(axis=1), decimals=3)\n"
          ]
        },
        {
          "output_type": "display_data",
          "data": {
            "text/plain": [
              "<Figure size 640x480 with 2 Axes>"
            ],
            "image/png": "[encoded data removed]"
          },
          "metadata": {}
        }
      ]
    },
    {
      "cell_type": "code",
      "source": [
        "matthews_corrcoef(y_true, y_pred_grid_bestModel)"
      ],
      "metadata": {
        "colab": {
          "base_uri": "https://localhost:8080/"
        },
        "id": "s2jxIH6I30RF",
        "outputId": "d43c6876-1d16-42f0-a4d7-e046d6c79616"
      },
      "execution_count": 62,
      "outputs": [
        {
          "output_type": "execute_result",
          "data": {
            "text/plain": [
              "0.8220676622908767"
            ]
          },
          "metadata": {},
          "execution_count": 62
        }
      ]
    },
    {
      "cell_type": "code",
      "source": [
        "CR = classification_report(y_true, y_pred_grid_bestModel, target_names=attack_types_sorted, output_dict=True)\n",
        "print(CR)"
      ],
      "metadata": {
        "colab": {
          "base_uri": "https://localhost:8080/"
        },
        "id": "Tyr4UKh_4PBF",
        "outputId": "0527ad6d-f29c-4ade-d065-7065f98bd4ce"
      },
      "execution_count": 79,
      "outputs": [
        {
          "output_type": "stream",
          "name": "stdout",
          "text": [
            "{'Analysis': {'precision': 0.4342105263157895, 'recall': 0.12, 'f1-score': 0.18803418803418803, 'support': 550}, 'Backdoor': {'precision': 0.33482142857142855, 'recall': 0.15889830508474576, 'f1-score': 0.21551724137931033, 'support': 472}, 'DoS': {'precision': 0.4065372829417773, 'recall': 0.24275693809088136, 'f1-score': 0.3039908344472026, 'support': 3279}, 'Exploits': {'precision': 0.6564924545997102, 'recall': 0.8630351939027124, 'f1-score': 0.745726599196165, 'support': 8922}, 'Fuzzers': {'precision': 0.8701721731037692, 'recall': 0.7706573253657532, 'f1-score': 0.8173970057917168, 'support': 4853}, 'Generic': {'precision': 0.9970539814574128, 'recall': 0.9828322514519986, 'f1-score': 0.9898920383672416, 'support': 11708}, 'Normal': {'precision': 0.9617804091557858, 'recall': 0.9815494173500215, 'f1-score': 0.9715643606653673, 'support': 18536}, 'Reconnaissance': {'precision': 0.9047224523612262, 'recall': 0.7531034482758621, 'f1-score': 0.8219796763266841, 'support': 2900}, 'Shellcode': {'precision': 0.5743243243243243, 'recall': 0.604982206405694, 'f1-score': 0.5892547660311959, 'support': 281}, 'Worms': {'precision': 0.6666666666666666, 'recall': 0.11764705882352941, 'f1-score': 0.2, 'support': 34}, 'accuracy': 0.8622489570195013, 'macro avg': {'precision': 0.680678169949789, 'recall': 0.5595462144751198, 'f1-score': 0.5843356710239072, 'support': 51535}, 'weighted avg': {'precision': 0.8560953736916869, 'recall': 0.8622489570195013, 'f1-score': 0.8533389715676079, 'support': 51535}}\n"
          ]
        }
      ]
    },
    {
      "cell_type": "code",
      "source": [
        "precision_scores = precision_score(y_true, y_pred_grid_bestModel, average=None)\n",
        "recall_scores = recall_score(y_true, y_pred_grid_bestModel, average=None)"
      ],
      "metadata": {
        "id": "e_e33OME8tug"
      },
      "execution_count": 89,
      "outputs": []
    },
    {
      "cell_type": "code",
      "source": [
        "import imblearn\n",
        "print(imblearn.__version__)\n",
        "print(\"Shape of X train before smote:\", scaled2_X_train.shape)\n",
        "print(\"Shape of y train before smote:\", y_train.shape)\n"
      ],
      "metadata": {
        "id": "jVl2_AFbBYBk",
        "colab": {
          "base_uri": "https://localhost:8080/"
        },
        "outputId": "49f249c6-cc87-4466-8d9e-0b5657ce7feb"
      },
      "execution_count": 111,
      "outputs": [
        {
          "output_type": "stream",
          "name": "stdout",
          "text": [
            "0.10.1\n",
            "Shape of X train before smote: (206138, 40)\n",
            "Shape of y train before smote: (206138,)\n"
          ]
        }
      ]
    },
    {
      "cell_type": "code",
      "source": [
        "from imblearn.under_sampling import ClusterCentroids\n",
        "cc = ClusterCentroids(random_state=0)\n",
        "X_resampled, y_resampled = cc.fit_resample(scaled2_X_train, y_train.ravel())\n",
        "print(\"After oversampling, the shape of X_train: {}\", X_resampled.shape)\n",
        "print(\"After oversampling, the shape of y_train: {}\", y_resampled.shape)"
      ],
      "metadata": {
        "id": "lZRtHG568MKl"
      },
      "execution_count": null,
      "outputs": []
    },
    {
      "cell_type": "code",
      "source": [
        "# transform to pandas series so we can use it in our grid search\n",
        "y_resampled = pd.Series(y_resampled)"
      ],
      "metadata": {
        "id": "Q57aD_c2AJkL"
      },
      "execution_count": 116,
      "outputs": []
    },
    {
      "cell_type": "code",
      "source": [
        "y_resampled.rename(\"attack_cat_nr\", inplace=True)\n",
        "y_resampled.rename_axis(\"attack_cat_nr\")\n",
        "y_resampled.reindex()\n",
        "y_resampled.describe()"
      ],
      "metadata": {
        "colab": {
          "base_uri": "https://localhost:8080/"
        },
        "id": "qlxUdi3pBJnN",
        "outputId": "e6993d6b-5999-45db-b0a4-b3308151f40f"
      },
      "execution_count": 117,
      "outputs": [
        {
          "output_type": "execute_result",
          "data": {
            "text/plain": [
              "count    1400.000000\n",
              "mean        4.500000\n",
              "std         2.873308\n",
              "min         0.000000\n",
              "25%         2.000000\n",
              "50%         4.500000\n",
              "75%         7.000000\n",
              "max         9.000000\n",
              "Name: attack_cat_nr, dtype: float64"
            ]
          },
          "metadata": {},
          "execution_count": 117
        }
      ]
    },
    {
      "cell_type": "code",
      "source": [
        "clf_multi = RandomForestClassifier(n_estimators=10, criterion=\"entropy\", max_depth=4, random_state=41)\n",
        "from sklearn.model_selection import GridSearchCV\n",
        "from time import time\n",
        "# Random search\n",
        "#--------------\n",
        "# record the starting time\n",
        "\n",
        "start = time()\n",
        "\n",
        "# creating a grid of parameters\n",
        "param_grid = {\n",
        "  'bootstrap': [True, False],\n",
        "  'min_samples_leaf': [2, 4, 6, 8],\n",
        "  'n_estimators': [12,14,16,18,20],\n",
        "  'max_depth': [10,15,20,25],\n",
        "  'max_features': ['Auto', 'sqrt'],\n",
        "  'criterion': ['gini', 'entropy']\n",
        "}\n",
        "# instantiate the grid search cross validation\n",
        "rf_gs = GridSearchCV(\n",
        "  estimator=clf_multi,\n",
        "  param_grid=param_grid,\n",
        "  scoring='accuracy',\n",
        "  cv=5,\n",
        "  refit=True,\n",
        "  return_train_score=True, \n",
        "  verbose=5\n",
        ")"
      ],
      "metadata": {
        "id": "rRXxokCoBl9u"
      },
      "execution_count": 120,
      "outputs": []
    },
    {
      "cell_type": "code",
      "source": [
        "# Record the current time \n",
        "start = time()\n",
        "# Fit the selected model\n",
        "rf_gs.fit(X_resampled, y_resampled)\n",
        "# Print the time spend and number of models ran\n",
        "print(\"GridSearchCV took %.2f seconds for %d candidate parameter settings.\" % ((time() - start), len(rf_gs.cv_results_['params'])))"
      ],
      "metadata": {
        "id": "EkNGvNqZGwVA"
      },
      "execution_count": null,
      "outputs": []
    },
    {
      "cell_type": "code",
      "source": [
        "from sklearn.metrics import accuracy_score\n",
        "y_pred2_grid = rf_gs.predict(scaled2_X_test)\n",
        "accuracy_grid = accuracy_score(y_test, y_pred2_grid)\n",
        "print(accuracy_grid)"
      ],
      "metadata": {
        "colab": {
          "base_uri": "https://localhost:8080/"
        },
        "id": "ThK-ePpLGzYp",
        "outputId": "eeb102de-2c14-4a27-a655-5adbedfd9b2c"
      },
      "execution_count": 122,
      "outputs": [
        {
          "output_type": "stream",
          "name": "stdout",
          "text": [
            "0.5019501309789464\n"
          ]
        }
      ]
    },
    {
      "cell_type": "code",
      "source": [
        "y_pred_grid_bestModel_UNDERSAMPLE = rf_gs.best_estimator_.predict(scaled2_X_test)\n",
        "print(\"The model with parameters: \", rf_gs.best_estimator_, \" \\ngives the following accuracy: \", accuracy_score(y_test, y_pred_grid_bestModel_UNDERSAMPLE))"
      ],
      "metadata": {
        "colab": {
          "base_uri": "https://localhost:8080/"
        },
        "id": "l2mbEF1TfRf4",
        "outputId": "826805f6-57e8-4bfb-d845-68131e521869"
      },
      "execution_count": 124,
      "outputs": [
        {
          "output_type": "stream",
          "name": "stdout",
          "text": [
            "The model with parameters:  RandomForestClassifier(bootstrap=False, criterion='entropy', max_depth=15,\n",
            "                       min_samples_leaf=4, n_estimators=12, random_state=41)  \n",
            "gives the following accuracy:  0.5019501309789464\n"
          ]
        }
      ]
    },
    {
      "cell_type": "code",
      "source": [
        "#!pip install smote-variants\n",
        "import smote_variants as sv\n",
        "oversample = sv.MulticlassOversampling(oversampler='polynom_fit_SMOTE_poly', oversampler_params={'random_state':0})"
      ],
      "metadata": {
        "id": "xnSFip6AZiBc"
      },
      "execution_count": 132,
      "outputs": []
    },
    {
      "cell_type": "code",
      "source": [
        "X_resampled, y_resampled = oversample.sample(scaled2_X_train, y_train.ravel())\n",
        "print(\"After oversampling, the shape of X_train: {}\", X_resampled.shape)\n",
        "print(\"After oversampling, the shape of y_train: {}\", y_resampled.shape)"
      ],
      "metadata": {
        "id": "KhncQTMsbHil"
      },
      "execution_count": null,
      "outputs": []
    },
    {
      "cell_type": "code",
      "source": [
        "# transform to pandas series so we can use it in our grid search\n",
        "y_resampled = pd.Series(y_resampled)\n",
        "y_resampled.rename(\"attack_cat_nr\", inplace=True)\n",
        "y_resampled.rename_axis(\"attack_cat_nr\")\n",
        "y_resampled.reindex()\n",
        "y_resampled.describe()"
      ],
      "metadata": {
        "colab": {
          "base_uri": "https://localhost:8080/"
        },
        "id": "p6SJKK0OcS_1",
        "outputId": "b4aa8d37-99dd-46ba-f141-74fb0f051355"
      },
      "execution_count": 137,
      "outputs": [
        {
          "output_type": "execute_result",
          "data": {
            "text/plain": [
              "count    744633.000000\n",
              "mean          4.500001\n",
              "std           2.872279\n",
              "min           0.000000\n",
              "25%           2.000000\n",
              "50%           5.000000\n",
              "75%           7.000000\n",
              "max           9.000000\n",
              "Name: attack_cat_nr, dtype: float64"
            ]
          },
          "metadata": {},
          "execution_count": 137
        }
      ]
    },
    {
      "cell_type": "code",
      "source": [
        "clf_multi = RandomForestClassifier(n_estimators=10, criterion=\"entropy\", max_depth=4, random_state=41)\n",
        "from sklearn.model_selection import GridSearchCV\n",
        "from time import time\n",
        "# Random search\n",
        "#--------------\n",
        "# record the starting time\n",
        "\n",
        "start = time()\n",
        "\n",
        "# creating a grid of parameters\n",
        "param_grid = {\n",
        "  'bootstrap': [True],\n",
        "  'n_estimators': [18, 20],\n",
        "  'max_depth': [15, 20],\n",
        "  'criterion': ['gini', 'entropy']\n",
        "}\n",
        "# instantiate the grid search cross validation\n",
        "rf_gs = GridSearchCV(\n",
        "  estimator=clf_multi,\n",
        "  param_grid=param_grid,\n",
        "  scoring='accuracy',\n",
        "  cv=5,\n",
        "  refit=True,\n",
        "  return_train_score=True, \n",
        "  verbose=5\n",
        ")"
      ],
      "metadata": {
        "id": "osT6cRPyhRR_"
      },
      "execution_count": 139,
      "outputs": []
    },
    {
      "cell_type": "code",
      "source": [
        "# Record the current time \n",
        "start = time()\n",
        "# Fit the selected model\n",
        "rf_gs.fit(X_resampled, y_resampled)\n",
        "# Print the time spend and number of models ran\n",
        "print(\"GridSearchCV took %.2f seconds for %d candidate parameter settings.\" % ((time() - start), len(rf_gs.cv_results_['params'])))"
      ],
      "metadata": {
        "colab": {
          "base_uri": "https://localhost:8080/"
        },
        "id": "G1Sa8H7wc-yn",
        "outputId": "cfb7856a-348e-4813-abed-a7c72485c1cb"
      },
      "execution_count": 140,
      "outputs": [
        {
          "output_type": "stream",
          "name": "stdout",
          "text": [
            "Fitting 5 folds for each of 8 candidates, totalling 40 fits\n",
            "[CV 1/5] END bootstrap=True, criterion=gini, max_depth=15, n_estimators=18;, score=(train=0.994, test=0.731) total time= 1.3min\n",
            "[CV 2/5] END bootstrap=True, criterion=gini, max_depth=15, n_estimators=18;, score=(train=0.960, test=0.941) total time= 1.2min\n",
            "[CV 3/5] END bootstrap=True, criterion=gini, max_depth=15, n_estimators=18;, score=(train=0.955, test=0.986) total time= 1.2min\n",
            "[CV 4/5] END bootstrap=True, criterion=gini, max_depth=15, n_estimators=18;, score=(train=0.953, test=0.995) total time= 1.2min\n",
            "[CV 5/5] END bootstrap=True, criterion=gini, max_depth=15, n_estimators=18;, score=(train=0.952, test=0.995) total time= 1.1min\n",
            "[CV 1/5] END bootstrap=True, criterion=gini, max_depth=15, n_estimators=20;, score=(train=0.994, test=0.730) total time= 1.4min\n",
            "[CV 2/5] END bootstrap=True, criterion=gini, max_depth=15, n_estimators=20;, score=(train=0.960, test=0.941) total time= 1.4min\n",
            "[CV 3/5] END bootstrap=True, criterion=gini, max_depth=15, n_estimators=20;, score=(train=0.955, test=0.986) total time= 1.3min\n",
            "[CV 4/5] END bootstrap=True, criterion=gini, max_depth=15, n_estimators=20;, score=(train=0.952, test=0.994) total time= 1.3min\n",
            "[CV 5/5] END bootstrap=True, criterion=gini, max_depth=15, n_estimators=20;, score=(train=0.952, test=0.995) total time= 1.3min\n",
            "[CV 1/5] END bootstrap=True, criterion=gini, max_depth=20, n_estimators=18;, score=(train=0.997, test=0.740) total time= 1.4min\n",
            "[CV 2/5] END bootstrap=True, criterion=gini, max_depth=20, n_estimators=18;, score=(train=0.975, test=0.948) total time= 1.4min\n",
            "[CV 3/5] END bootstrap=True, criterion=gini, max_depth=20, n_estimators=18;, score=(train=0.970, test=0.987) total time= 1.3min\n",
            "[CV 4/5] END bootstrap=True, criterion=gini, max_depth=20, n_estimators=18;, score=(train=0.967, test=0.996) total time= 1.3min\n",
            "[CV 5/5] END bootstrap=True, criterion=gini, max_depth=20, n_estimators=18;, score=(train=0.968, test=0.996) total time= 1.3min\n",
            "[CV 1/5] END bootstrap=True, criterion=gini, max_depth=20, n_estimators=20;, score=(train=0.997, test=0.740) total time= 1.6min\n",
            "[CV 2/5] END bootstrap=True, criterion=gini, max_depth=20, n_estimators=20;, score=(train=0.975, test=0.948) total time= 1.5min\n",
            "[CV 3/5] END bootstrap=True, criterion=gini, max_depth=20, n_estimators=20;, score=(train=0.971, test=0.987) total time= 1.5min\n",
            "[CV 4/5] END bootstrap=True, criterion=gini, max_depth=20, n_estimators=20;, score=(train=0.968, test=0.996) total time= 1.5min\n",
            "[CV 5/5] END bootstrap=True, criterion=gini, max_depth=20, n_estimators=20;, score=(train=0.968, test=0.996) total time= 1.5min\n",
            "[CV 1/5] END bootstrap=True, criterion=entropy, max_depth=15, n_estimators=18;, score=(train=0.994, test=0.731) total time= 2.1min\n",
            "[CV 2/5] END bootstrap=True, criterion=entropy, max_depth=15, n_estimators=18;, score=(train=0.964, test=0.942) total time= 2.1min\n",
            "[CV 3/5] END bootstrap=True, criterion=entropy, max_depth=15, n_estimators=18;, score=(train=0.957, test=0.987) total time= 2.0min\n",
            "[CV 4/5] END bootstrap=True, criterion=entropy, max_depth=15, n_estimators=18;, score=(train=0.955, test=0.995) total time= 1.9min\n",
            "[CV 5/5] END bootstrap=True, criterion=entropy, max_depth=15, n_estimators=18;, score=(train=0.955, test=0.996) total time= 1.9min\n",
            "[CV 1/5] END bootstrap=True, criterion=entropy, max_depth=15, n_estimators=20;, score=(train=0.994, test=0.732) total time= 2.2min\n",
            "[CV 2/5] END bootstrap=True, criterion=entropy, max_depth=15, n_estimators=20;, score=(train=0.964, test=0.942) total time= 2.3min\n",
            "[CV 3/5] END bootstrap=True, criterion=entropy, max_depth=15, n_estimators=20;, score=(train=0.958, test=0.987) total time= 2.2min\n",
            "[CV 4/5] END bootstrap=True, criterion=entropy, max_depth=15, n_estimators=20;, score=(train=0.955, test=0.995) total time= 2.1min\n",
            "[CV 5/5] END bootstrap=True, criterion=entropy, max_depth=15, n_estimators=20;, score=(train=0.955, test=0.996) total time= 2.2min\n",
            "[CV 1/5] END bootstrap=True, criterion=entropy, max_depth=20, n_estimators=18;, score=(train=0.998, test=0.745) total time= 2.1min\n",
            "[CV 2/5] END bootstrap=True, criterion=entropy, max_depth=20, n_estimators=18;, score=(train=0.980, test=0.949) total time= 2.1min\n",
            "[CV 3/5] END bootstrap=True, criterion=entropy, max_depth=20, n_estimators=18;, score=(train=0.976, test=0.987) total time= 2.0min\n",
            "[CV 4/5] END bootstrap=True, criterion=entropy, max_depth=20, n_estimators=18;, score=(train=0.974, test=0.996) total time= 2.0min\n",
            "[CV 5/5] END bootstrap=True, criterion=entropy, max_depth=20, n_estimators=18;, score=(train=0.974, test=0.997) total time= 2.0min\n",
            "[CV 1/5] END bootstrap=True, criterion=entropy, max_depth=20, n_estimators=20;, score=(train=0.998, test=0.745) total time= 2.6min\n",
            "[CV 2/5] END bootstrap=True, criterion=entropy, max_depth=20, n_estimators=20;, score=(train=0.980, test=0.949) total time= 2.5min\n",
            "[CV 3/5] END bootstrap=True, criterion=entropy, max_depth=20, n_estimators=20;, score=(train=0.976, test=0.986) total time= 2.8min\n",
            "[CV 4/5] END bootstrap=True, criterion=entropy, max_depth=20, n_estimators=20;, score=(train=0.974, test=0.996) total time= 2.3min\n",
            "[CV 5/5] END bootstrap=True, criterion=entropy, max_depth=20, n_estimators=20;, score=(train=0.974, test=0.997) total time= 2.2min\n",
            "GridSearchCV took 4493.35 seconds for 8 candidate parameter settings.\n"
          ]
        }
      ]
    },
    {
      "cell_type": "code",
      "source": [
        "y_pred2_grid_OS = rf_gs.predict(scaled2_X_test)\n",
        "accuracy_grid_OS = accuracy_score(y_test, y_pred2_grid_OS)\n",
        "print(accuracy_grid_OS)\n",
        "\n",
        "y_pred_grid_bestModel_OS = rf_gs.best_estimator_.predict(scaled2_X_test)\n",
        "print(\"The model with parameters: \", rf_gs.best_estimator_, \" \\ngives the following accuracy: \", accuracy_score(y_test, y_pred_grid_bestModel_OS))"
      ],
      "metadata": {
        "colab": {
          "base_uri": "https://localhost:8080/"
        },
        "id": "6QEAf0kPrLGc",
        "outputId": "6dbcdaab-1c69-46bf-e3d2-b6871e6c1846"
      },
      "execution_count": 141,
      "outputs": [
        {
          "output_type": "stream",
          "name": "stdout",
          "text": [
            "0.855923159018143\n",
            "The model with parameters:  RandomForestClassifier(criterion='entropy', max_depth=20, n_estimators=20,\n",
            "                       random_state=41)  \n",
            "gives the following accuracy:  0.855923159018143\n"
          ]
        }
      ]
    },
    {
      "cell_type": "code",
      "source": [
        "pickle.dump(rf_gs.best_estimator_, open('/content/drive/MyDrive/UNSWNB15/RF_model_oversample_multiclass.pkl', 'wb'))"
      ],
      "metadata": {
        "id": "cNFxrIaVrFau"
      },
      "execution_count": 142,
      "outputs": []
    },
    {
      "cell_type": "code",
      "source": [
        "matthews_corrcoef(y_true, y_pred_grid_bestModel_OS)"
      ],
      "metadata": {
        "colab": {
          "base_uri": "https://localhost:8080/"
        },
        "id": "jK9EobuGr_Ir",
        "outputId": "1ffa4bfb-f460-41cd-8fec-b2d33d1927be"
      },
      "execution_count": 143,
      "outputs": [
        {
          "output_type": "execute_result",
          "data": {
            "text/plain": [
              "0.8136561131991593"
            ]
          },
          "metadata": {},
          "execution_count": 143
        }
      ]
    },
    {
      "cell_type": "code",
      "source": [
        "cf_matrix_OS = confusion_matrix(y_true, y_pred_grid_bestModel_OS)\n",
        "cf_matrix_OS = np.around(cf_matrix_OS / cf_matrix_OS.astype(np.float).sum(axis=1), decimals=3)\n",
        "sns.set(font_scale=0.8)\n",
        "ax = sns.heatmap(cf_matrix_OS, annot=True, cmap='Reds', fmt='.2g') # fmt='g' to disable scientific notation\n",
        "ax.set_xlabel('Predicted', fontsize=12)\n",
        "ax.set_ylabel('True', fontsize=12)\n",
        "ax.set_title('Confusion matrix')\n",
        "ax.xaxis.set_ticklabels(attack_types_sorted, rotation=90)\n",
        "ax.yaxis.set_ticklabels(attack_types_sorted, rotation=0)\n",
        "plt.show()"
      ],
      "metadata": {
        "colab": {
          "base_uri": "https://localhost:8080/",
          "height": 560
        },
        "id": "rApEMm0TsPgL",
        "outputId": "85e172fc-aded-48eb-91ef-9ca468575665"
      },
      "execution_count": 145,
      "outputs": [
        {
          "output_type": "display_data",
          "data": {
            "text/plain": [
              "<Figure size 640x480 with 2 Axes>"
            ],
            "image/png": "[encoded data removed]"
          },
          "metadata": {}
        }
      ]
    },
    {
      "cell_type": "code",
      "source": [
        "print(classification_report(y_true, y_pred_grid_bestModel_OS, target_names=attack_types_sorted))"
      ],
      "metadata": {
        "colab": {
          "base_uri": "https://localhost:8080/"
        },
        "id": "kobmGWIlvGbF",
        "outputId": "19385d24-1527-4f7c-a9cc-768a45d58619"
      },
      "execution_count": 147,
      "outputs": [
        {
          "output_type": "stream",
          "name": "stdout",
          "text": [
            "                precision    recall  f1-score   support\n",
            "\n",
            "      Analysis       0.58      0.13      0.21       550\n",
            "      Backdoor       0.35      0.12      0.18       472\n",
            "           DoS       0.39      0.25      0.30      3279\n",
            "      Exploits       0.65      0.86      0.74      8922\n",
            "       Fuzzers       0.85      0.73      0.79      4853\n",
            "       Generic       1.00      0.98      0.99     11708\n",
            "        Normal       0.95      0.98      0.96     18536\n",
            "Reconnaissance       0.91      0.76      0.83      2900\n",
            "     Shellcode       0.60      0.62      0.61       281\n",
            "         Worms       0.71      0.15      0.24        34\n",
            "\n",
            "      accuracy                           0.86     51535\n",
            "     macro avg       0.70      0.56      0.59     51535\n",
            "  weighted avg       0.85      0.86      0.85     51535\n",
            "\n"
          ]
        }
      ]
    },
    {
      "cell_type": "code",
      "source": [],
      "metadata": {
        "id": "pCqsTDHrvjS4"
      },
      "execution_count": null,
      "outputs": []
    }
  ]
}